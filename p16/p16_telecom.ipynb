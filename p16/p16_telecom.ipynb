{
 "cells": [
  {
   "cell_type": "markdown",
   "metadata": {
    "id": "4JidxtxhmCkp"
   },
   "source": [
    "Прогнозирование оттока клиентов для оператора связи \"Ниединогоразрыва.ком\"."
   ]
  },
  {
   "cell_type": "markdown",
   "metadata": {
    "id": "KWKtYrPzmCkq"
   },
   "source": [
    "Описание проекта: Оператор связи \"Ниединогоразрыва.ком\" хочет предотвратить уход клиентов и увеличить лояльность своих пользователей. Для достижения этих целей необходимо научиться прогнозировать отток клиентов на основе имеющихся данных о договорах, персональных данных клиентов и информации об услугах."
   ]
  },
  {
   "cell_type": "code",
   "execution_count": null,
   "metadata": {
    "colab": {
     "base_uri": "https://localhost:8080/"
    },
    "id": "sa9eV34-Ll6t",
    "outputId": "68e7f151-f70d-40af-c617-1ced045507b3"
   },
   "outputs": [
    {
     "name": "stdout",
     "output_type": "stream",
     "text": [
      "Requirement already satisfied: phik in /usr/local/lib/python3.10/dist-packages (0.12.3)\n",
      "Requirement already satisfied: numpy>=1.18.0 in /usr/local/lib/python3.10/dist-packages (from phik) (1.22.4)\n",
      "Requirement already satisfied: scipy>=1.5.2 in /usr/local/lib/python3.10/dist-packages (from phik) (1.10.1)\n",
      "Requirement already satisfied: pandas>=0.25.1 in /usr/local/lib/python3.10/dist-packages (from phik) (1.5.3)\n",
      "Requirement already satisfied: matplotlib>=2.2.3 in /usr/local/lib/python3.10/dist-packages (from phik) (3.7.1)\n",
      "Requirement already satisfied: joblib>=0.14.1 in /usr/local/lib/python3.10/dist-packages (from phik) (1.2.0)\n",
      "Requirement already satisfied: contourpy>=1.0.1 in /usr/local/lib/python3.10/dist-packages (from matplotlib>=2.2.3->phik) (1.1.0)\n",
      "Requirement already satisfied: cycler>=0.10 in /usr/local/lib/python3.10/dist-packages (from matplotlib>=2.2.3->phik) (0.11.0)\n",
      "Requirement already satisfied: fonttools>=4.22.0 in /usr/local/lib/python3.10/dist-packages (from matplotlib>=2.2.3->phik) (4.40.0)\n",
      "Requirement already satisfied: kiwisolver>=1.0.1 in /usr/local/lib/python3.10/dist-packages (from matplotlib>=2.2.3->phik) (1.4.4)\n",
      "Requirement already satisfied: packaging>=20.0 in /usr/local/lib/python3.10/dist-packages (from matplotlib>=2.2.3->phik) (23.1)\n",
      "Requirement already satisfied: pillow>=6.2.0 in /usr/local/lib/python3.10/dist-packages (from matplotlib>=2.2.3->phik) (8.4.0)\n",
      "Requirement already satisfied: pyparsing>=2.3.1 in /usr/local/lib/python3.10/dist-packages (from matplotlib>=2.2.3->phik) (3.1.0)\n",
      "Requirement already satisfied: python-dateutil>=2.7 in /usr/local/lib/python3.10/dist-packages (from matplotlib>=2.2.3->phik) (2.8.2)\n",
      "Requirement already satisfied: pytz>=2020.1 in /usr/local/lib/python3.10/dist-packages (from pandas>=0.25.1->phik) (2022.7.1)\n",
      "Requirement already satisfied: six>=1.5 in /usr/local/lib/python3.10/dist-packages (from python-dateutil>=2.7->matplotlib>=2.2.3->phik) (1.16.0)\n",
      "Requirement already satisfied: scikit-learn==1.1.3 in /usr/local/lib/python3.10/dist-packages (1.1.3)\n",
      "Requirement already satisfied: numpy>=1.17.3 in /usr/local/lib/python3.10/dist-packages (from scikit-learn==1.1.3) (1.22.4)\n",
      "Requirement already satisfied: scipy>=1.3.2 in /usr/local/lib/python3.10/dist-packages (from scikit-learn==1.1.3) (1.10.1)\n",
      "Requirement already satisfied: joblib>=1.0.0 in /usr/local/lib/python3.10/dist-packages (from scikit-learn==1.1.3) (1.2.0)\n",
      "Requirement already satisfied: threadpoolctl>=2.0.0 in /usr/local/lib/python3.10/dist-packages (from scikit-learn==1.1.3) (3.1.0)\n"
     ]
    }
   ],
   "source": [
    "!pip install phik\n",
    "!pip install scikit-learn==1.1.3"
   ]
  },
  {
   "cell_type": "code",
   "execution_count": null,
   "metadata": {
    "id": "pMSWnbcrmCkt"
   },
   "outputs": [],
   "source": [
    "import pandas as pd\n",
    "import numpy as np\n",
    "import matplotlib.pyplot as plt\n",
    "import re\n",
    "import seaborn as sns\n",
    "import lightgbm as lgb\n",
    "import phik\n",
    "from sklearn.metrics import confusion_matrix\n",
    "from sklearn.pipeline import Pipeline\n",
    "from sklearn.compose import ColumnTransformer\n",
    "from sklearn.preprocessing import OneHotEncoder, StandardScaler\n",
    "from sklearn.linear_model import LogisticRegression\n",
    "from sklearn.metrics import roc_auc_score, roc_curve, auc\n",
    "from scipy.stats import chi2_contingency\n",
    "from datetime import datetime\n",
    "from phik import phik_matrix\n",
    "from sklearn.model_selection import train_test_split, GridSearchCV\n",
    "RANDOM_STATE = 190623\n",
    "CURRENT_DATE = datetime(2020, 2, 1)"
   ]
  },
  {
   "cell_type": "code",
   "execution_count": null,
   "metadata": {
    "id": "vO3Bjm8YmCkv"
   },
   "outputs": [],
   "source": [
    "# Загрузка данных\n",
    "contracts = \n",
    "personal = \n",
    "internet = \n",
    "phone = "
   ]
  },
  {
   "cell_type": "code",
   "execution_count": null,
   "metadata": {
    "colab": {
     "base_uri": "https://localhost:8080/",
     "height": 206
    },
    "id": "ZljT2x6_mCkw",
    "outputId": "cb607503-2135-4143-d311-a236e0d2a6c0"
   },
   "outputs": [
    {
     "data": {
      "text/html": [
       "\n",
       "  <div id=\"df-0ae0890e-3960-4c2b-b373-fc8672aa6b77\">\n",
       "    <div class=\"colab-df-container\">\n",
       "      <div>\n",
       "<style scoped>\n",
       "    .dataframe tbody tr th:only-of-type {\n",
       "        vertical-align: middle;\n",
       "    }\n",
       "\n",
       "    .dataframe tbody tr th {\n",
       "        vertical-align: top;\n",
       "    }\n",
       "\n",
       "    .dataframe thead th {\n",
       "        text-align: right;\n",
       "    }\n",
       "</style>\n",
       "<table border=\"1\" class=\"dataframe\">\n",
       "  <thead>\n",
       "    <tr style=\"text-align: right;\">\n",
       "      <th></th>\n",
       "      <th>customerID</th>\n",
       "      <th>BeginDate</th>\n",
       "      <th>EndDate</th>\n",
       "      <th>Type</th>\n",
       "      <th>PaperlessBilling</th>\n",
       "      <th>PaymentMethod</th>\n",
       "      <th>MonthlyCharges</th>\n",
       "      <th>TotalCharges</th>\n",
       "    </tr>\n",
       "  </thead>\n",
       "  <tbody>\n",
       "    <tr>\n",
       "      <th>0</th>\n",
       "      <td>7590-VHVEG</td>\n",
       "      <td>2020-01-01</td>\n",
       "      <td>No</td>\n",
       "      <td>Month-to-month</td>\n",
       "      <td>Yes</td>\n",
       "      <td>Electronic check</td>\n",
       "      <td>29.85</td>\n",
       "      <td>31.04</td>\n",
       "    </tr>\n",
       "    <tr>\n",
       "      <th>1</th>\n",
       "      <td>5575-GNVDE</td>\n",
       "      <td>2017-04-01</td>\n",
       "      <td>No</td>\n",
       "      <td>One year</td>\n",
       "      <td>No</td>\n",
       "      <td>Mailed check</td>\n",
       "      <td>56.95</td>\n",
       "      <td>2071.84</td>\n",
       "    </tr>\n",
       "    <tr>\n",
       "      <th>2</th>\n",
       "      <td>3668-QPYBK</td>\n",
       "      <td>2019-10-01</td>\n",
       "      <td>No</td>\n",
       "      <td>Month-to-month</td>\n",
       "      <td>Yes</td>\n",
       "      <td>Mailed check</td>\n",
       "      <td>53.85</td>\n",
       "      <td>226.17</td>\n",
       "    </tr>\n",
       "    <tr>\n",
       "      <th>3</th>\n",
       "      <td>7795-CFOCW</td>\n",
       "      <td>2016-05-01</td>\n",
       "      <td>No</td>\n",
       "      <td>One year</td>\n",
       "      <td>No</td>\n",
       "      <td>Bank transfer (automatic)</td>\n",
       "      <td>42.30</td>\n",
       "      <td>1960.6</td>\n",
       "    </tr>\n",
       "    <tr>\n",
       "      <th>4</th>\n",
       "      <td>9237-HQITU</td>\n",
       "      <td>2019-09-01</td>\n",
       "      <td>No</td>\n",
       "      <td>Month-to-month</td>\n",
       "      <td>Yes</td>\n",
       "      <td>Electronic check</td>\n",
       "      <td>70.70</td>\n",
       "      <td>353.5</td>\n",
       "    </tr>\n",
       "  </tbody>\n",
       "</table>\n",
       "</div>\n",
       "      <button class=\"colab-df-convert\" onclick=\"convertToInteractive('df-0ae0890e-3960-4c2b-b373-fc8672aa6b77')\"\n",
       "              title=\"Convert this dataframe to an interactive table.\"\n",
       "              style=\"display:none;\">\n",
       "        \n",
       "  <svg xmlns=\"http://www.w3.org/2000/svg\" height=\"24px\"viewBox=\"0 0 24 24\"\n",
       "       width=\"24px\">\n",
       "    <path d=\"M0 0h24v24H0V0z\" fill=\"none\"/>\n",
       "    <path d=\"M18.56 5.44l.94 2.06.94-2.06 2.06-.94-2.06-.94-.94-2.06-.94 2.06-2.06.94zm-11 1L8.5 8.5l.94-2.06 2.06-.94-2.06-.94L8.5 2.5l-.94 2.06-2.06.94zm10 10l.94 2.06.94-2.06 2.06-.94-2.06-.94-.94-2.06-.94 2.06-2.06.94z\"/><path d=\"M17.41 7.96l-1.37-1.37c-.4-.4-.92-.59-1.43-.59-.52 0-1.04.2-1.43.59L10.3 9.45l-7.72 7.72c-.78.78-.78 2.05 0 2.83L4 21.41c.39.39.9.59 1.41.59.51 0 1.02-.2 1.41-.59l7.78-7.78 2.81-2.81c.8-.78.8-2.07 0-2.86zM5.41 20L4 18.59l7.72-7.72 1.47 1.35L5.41 20z\"/>\n",
       "  </svg>\n",
       "      </button>\n",
       "      \n",
       "  <style>\n",
       "    .colab-df-container {\n",
       "      display:flex;\n",
       "      flex-wrap:wrap;\n",
       "      gap: 12px;\n",
       "    }\n",
       "\n",
       "    .colab-df-convert {\n",
       "      background-color: #E8F0FE;\n",
       "      border: none;\n",
       "      border-radius: 50%;\n",
       "      cursor: pointer;\n",
       "      display: none;\n",
       "      fill: #1967D2;\n",
       "      height: 32px;\n",
       "      padding: 0 0 0 0;\n",
       "      width: 32px;\n",
       "    }\n",
       "\n",
       "    .colab-df-convert:hover {\n",
       "      background-color: #E2EBFA;\n",
       "      box-shadow: 0px 1px 2px rgba(60, 64, 67, 0.3), 0px 1px 3px 1px rgba(60, 64, 67, 0.15);\n",
       "      fill: #174EA6;\n",
       "    }\n",
       "\n",
       "    [theme=dark] .colab-df-convert {\n",
       "      background-color: #3B4455;\n",
       "      fill: #D2E3FC;\n",
       "    }\n",
       "\n",
       "    [theme=dark] .colab-df-convert:hover {\n",
       "      background-color: #434B5C;\n",
       "      box-shadow: 0px 1px 3px 1px rgba(0, 0, 0, 0.15);\n",
       "      filter: drop-shadow(0px 1px 2px rgba(0, 0, 0, 0.3));\n",
       "      fill: #FFFFFF;\n",
       "    }\n",
       "  </style>\n",
       "\n",
       "      <script>\n",
       "        const buttonEl =\n",
       "          document.querySelector('#df-0ae0890e-3960-4c2b-b373-fc8672aa6b77 button.colab-df-convert');\n",
       "        buttonEl.style.display =\n",
       "          google.colab.kernel.accessAllowed ? 'block' : 'none';\n",
       "\n",
       "        async function convertToInteractive(key) {\n",
       "          const element = document.querySelector('#df-0ae0890e-3960-4c2b-b373-fc8672aa6b77');\n",
       "          const dataTable =\n",
       "            await google.colab.kernel.invokeFunction('convertToInteractive',\n",
       "                                                     [key], {});\n",
       "          if (!dataTable) return;\n",
       "\n",
       "          const docLinkHtml = 'Like what you see? Visit the ' +\n",
       "            '<a target=\"_blank\" href=https://colab.research.google.com/notebooks/data_table.ipynb>data table notebook</a>'\n",
       "            + ' to learn more about interactive tables.';\n",
       "          element.innerHTML = '';\n",
       "          dataTable['output_type'] = 'display_data';\n",
       "          await google.colab.output.renderOutput(dataTable, element);\n",
       "          const docLink = document.createElement('div');\n",
       "          docLink.innerHTML = docLinkHtml;\n",
       "          element.appendChild(docLink);\n",
       "        }\n",
       "      </script>\n",
       "    </div>\n",
       "  </div>\n",
       "  "
      ],
      "text/plain": [
       "   customerID   BeginDate EndDate            Type PaperlessBilling  \\\n",
       "0  7590-VHVEG  2020-01-01      No  Month-to-month              Yes   \n",
       "1  5575-GNVDE  2017-04-01      No        One year               No   \n",
       "2  3668-QPYBK  2019-10-01      No  Month-to-month              Yes   \n",
       "3  7795-CFOCW  2016-05-01      No        One year               No   \n",
       "4  9237-HQITU  2019-09-01      No  Month-to-month              Yes   \n",
       "\n",
       "               PaymentMethod  MonthlyCharges TotalCharges  \n",
       "0           Electronic check           29.85        31.04  \n",
       "1               Mailed check           56.95      2071.84  \n",
       "2               Mailed check           53.85       226.17  \n",
       "3  Bank transfer (automatic)           42.30       1960.6  \n",
       "4           Electronic check           70.70        353.5  "
      ]
     },
     "execution_count": 381,
     "metadata": {},
     "output_type": "execute_result"
    }
   ],
   "source": [
    "contracts.head()"
   ]
  },
  {
   "cell_type": "code",
   "execution_count": null,
   "metadata": {
    "colab": {
     "base_uri": "https://localhost:8080/"
    },
    "id": "idPRg4l9mCkx",
    "outputId": "82da2915-1f9b-4743-a595-364cc1071363"
   },
   "outputs": [
    {
     "name": "stdout",
     "output_type": "stream",
     "text": [
      "<class 'pandas.core.frame.DataFrame'>\n",
      "RangeIndex: 7043 entries, 0 to 7042\n",
      "Data columns (total 8 columns):\n",
      " #   Column            Non-Null Count  Dtype  \n",
      "---  ------            --------------  -----  \n",
      " 0   customerID        7043 non-null   object \n",
      " 1   BeginDate         7043 non-null   object \n",
      " 2   EndDate           7043 non-null   object \n",
      " 3   Type              7043 non-null   object \n",
      " 4   PaperlessBilling  7043 non-null   object \n",
      " 5   PaymentMethod     7043 non-null   object \n",
      " 6   MonthlyCharges    7043 non-null   float64\n",
      " 7   TotalCharges      7043 non-null   object \n",
      "dtypes: float64(1), object(7)\n",
      "memory usage: 440.3+ KB\n"
     ]
    }
   ],
   "source": [
    "contracts.info()"
   ]
  },
  {
   "cell_type": "code",
   "execution_count": null,
   "metadata": {
    "colab": {
     "base_uri": "https://localhost:8080/",
     "height": 300
    },
    "id": "OCY6FyofmCky",
    "outputId": "c4d7bcbe-ba77-4016-8f0d-317c970f2cd4"
   },
   "outputs": [
    {
     "data": {
      "text/html": [
       "\n",
       "  <div id=\"df-3affbda7-1b9b-4c03-9aaa-be50faf57878\">\n",
       "    <div class=\"colab-df-container\">\n",
       "      <div>\n",
       "<style scoped>\n",
       "    .dataframe tbody tr th:only-of-type {\n",
       "        vertical-align: middle;\n",
       "    }\n",
       "\n",
       "    .dataframe tbody tr th {\n",
       "        vertical-align: top;\n",
       "    }\n",
       "\n",
       "    .dataframe thead th {\n",
       "        text-align: right;\n",
       "    }\n",
       "</style>\n",
       "<table border=\"1\" class=\"dataframe\">\n",
       "  <thead>\n",
       "    <tr style=\"text-align: right;\">\n",
       "      <th></th>\n",
       "      <th>MonthlyCharges</th>\n",
       "    </tr>\n",
       "  </thead>\n",
       "  <tbody>\n",
       "    <tr>\n",
       "      <th>count</th>\n",
       "      <td>7043.000000</td>\n",
       "    </tr>\n",
       "    <tr>\n",
       "      <th>mean</th>\n",
       "      <td>64.761692</td>\n",
       "    </tr>\n",
       "    <tr>\n",
       "      <th>std</th>\n",
       "      <td>30.090047</td>\n",
       "    </tr>\n",
       "    <tr>\n",
       "      <th>min</th>\n",
       "      <td>18.250000</td>\n",
       "    </tr>\n",
       "    <tr>\n",
       "      <th>25%</th>\n",
       "      <td>35.500000</td>\n",
       "    </tr>\n",
       "    <tr>\n",
       "      <th>50%</th>\n",
       "      <td>70.350000</td>\n",
       "    </tr>\n",
       "    <tr>\n",
       "      <th>75%</th>\n",
       "      <td>89.850000</td>\n",
       "    </tr>\n",
       "    <tr>\n",
       "      <th>max</th>\n",
       "      <td>118.750000</td>\n",
       "    </tr>\n",
       "  </tbody>\n",
       "</table>\n",
       "</div>\n",
       "      <button class=\"colab-df-convert\" onclick=\"convertToInteractive('df-3affbda7-1b9b-4c03-9aaa-be50faf57878')\"\n",
       "              title=\"Convert this dataframe to an interactive table.\"\n",
       "              style=\"display:none;\">\n",
       "        \n",
       "  <svg xmlns=\"http://www.w3.org/2000/svg\" height=\"24px\"viewBox=\"0 0 24 24\"\n",
       "       width=\"24px\">\n",
       "    <path d=\"M0 0h24v24H0V0z\" fill=\"none\"/>\n",
       "    <path d=\"M18.56 5.44l.94 2.06.94-2.06 2.06-.94-2.06-.94-.94-2.06-.94 2.06-2.06.94zm-11 1L8.5 8.5l.94-2.06 2.06-.94-2.06-.94L8.5 2.5l-.94 2.06-2.06.94zm10 10l.94 2.06.94-2.06 2.06-.94-2.06-.94-.94-2.06-.94 2.06-2.06.94z\"/><path d=\"M17.41 7.96l-1.37-1.37c-.4-.4-.92-.59-1.43-.59-.52 0-1.04.2-1.43.59L10.3 9.45l-7.72 7.72c-.78.78-.78 2.05 0 2.83L4 21.41c.39.39.9.59 1.41.59.51 0 1.02-.2 1.41-.59l7.78-7.78 2.81-2.81c.8-.78.8-2.07 0-2.86zM5.41 20L4 18.59l7.72-7.72 1.47 1.35L5.41 20z\"/>\n",
       "  </svg>\n",
       "      </button>\n",
       "      \n",
       "  <style>\n",
       "    .colab-df-container {\n",
       "      display:flex;\n",
       "      flex-wrap:wrap;\n",
       "      gap: 12px;\n",
       "    }\n",
       "\n",
       "    .colab-df-convert {\n",
       "      background-color: #E8F0FE;\n",
       "      border: none;\n",
       "      border-radius: 50%;\n",
       "      cursor: pointer;\n",
       "      display: none;\n",
       "      fill: #1967D2;\n",
       "      height: 32px;\n",
       "      padding: 0 0 0 0;\n",
       "      width: 32px;\n",
       "    }\n",
       "\n",
       "    .colab-df-convert:hover {\n",
       "      background-color: #E2EBFA;\n",
       "      box-shadow: 0px 1px 2px rgba(60, 64, 67, 0.3), 0px 1px 3px 1px rgba(60, 64, 67, 0.15);\n",
       "      fill: #174EA6;\n",
       "    }\n",
       "\n",
       "    [theme=dark] .colab-df-convert {\n",
       "      background-color: #3B4455;\n",
       "      fill: #D2E3FC;\n",
       "    }\n",
       "\n",
       "    [theme=dark] .colab-df-convert:hover {\n",
       "      background-color: #434B5C;\n",
       "      box-shadow: 0px 1px 3px 1px rgba(0, 0, 0, 0.15);\n",
       "      filter: drop-shadow(0px 1px 2px rgba(0, 0, 0, 0.3));\n",
       "      fill: #FFFFFF;\n",
       "    }\n",
       "  </style>\n",
       "\n",
       "      <script>\n",
       "        const buttonEl =\n",
       "          document.querySelector('#df-3affbda7-1b9b-4c03-9aaa-be50faf57878 button.colab-df-convert');\n",
       "        buttonEl.style.display =\n",
       "          google.colab.kernel.accessAllowed ? 'block' : 'none';\n",
       "\n",
       "        async function convertToInteractive(key) {\n",
       "          const element = document.querySelector('#df-3affbda7-1b9b-4c03-9aaa-be50faf57878');\n",
       "          const dataTable =\n",
       "            await google.colab.kernel.invokeFunction('convertToInteractive',\n",
       "                                                     [key], {});\n",
       "          if (!dataTable) return;\n",
       "\n",
       "          const docLinkHtml = 'Like what you see? Visit the ' +\n",
       "            '<a target=\"_blank\" href=https://colab.research.google.com/notebooks/data_table.ipynb>data table notebook</a>'\n",
       "            + ' to learn more about interactive tables.';\n",
       "          element.innerHTML = '';\n",
       "          dataTable['output_type'] = 'display_data';\n",
       "          await google.colab.output.renderOutput(dataTable, element);\n",
       "          const docLink = document.createElement('div');\n",
       "          docLink.innerHTML = docLinkHtml;\n",
       "          element.appendChild(docLink);\n",
       "        }\n",
       "      </script>\n",
       "    </div>\n",
       "  </div>\n",
       "  "
      ],
      "text/plain": [
       "       MonthlyCharges\n",
       "count     7043.000000\n",
       "mean        64.761692\n",
       "std         30.090047\n",
       "min         18.250000\n",
       "25%         35.500000\n",
       "50%         70.350000\n",
       "75%         89.850000\n",
       "max        118.750000"
      ]
     },
     "execution_count": 383,
     "metadata": {},
     "output_type": "execute_result"
    }
   ],
   "source": [
    "contracts.describe()"
   ]
  },
  {
   "cell_type": "code",
   "execution_count": null,
   "metadata": {
    "colab": {
     "base_uri": "https://localhost:8080/"
    },
    "id": "GQDXt7sMmCk1",
    "outputId": "88917b11-910e-4c49-ad38-a70f596b2b7f"
   },
   "outputs": [
    {
     "name": "stdout",
     "output_type": "stream",
     "text": [
      "\n",
      "Contracts дубликаты:\n",
      "0\n",
      "\n",
      "Contracts пропуски:\n"
     ]
    },
    {
     "data": {
      "text/plain": [
       "customerID          0\n",
       "BeginDate           0\n",
       "EndDate             0\n",
       "Type                0\n",
       "PaperlessBilling    0\n",
       "PaymentMethod       0\n",
       "MonthlyCharges      0\n",
       "TotalCharges        0\n",
       "dtype: int64"
      ]
     },
     "execution_count": 384,
     "metadata": {},
     "output_type": "execute_result"
    }
   ],
   "source": [
    "# Проверка дубликатов\n",
    "print('\\nContracts дубликаты:')\n",
    "print(contracts.duplicated().sum())\n",
    "# Проверка пропусков\n",
    "print('\\nContracts пропуски:')\n",
    "contracts.isna().sum()"
   ]
  },
  {
   "cell_type": "markdown",
   "metadata": {
    "id": "0e9QB64amCk1"
   },
   "source": [
    "contract_new.csv содержит информацию о договоре клиента: номер договора, дата заключения, тип оплаты.   \n",
    "Датафрейм содержит 7043 записей и 8 признаков.  \n",
    "Все признаки представлены в числовом или бинарном формате, пропущенные значения отсутствуют.    "
   ]
  },
  {
   "cell_type": "markdown",
   "metadata": {
    "id": "ZGT-I-1tmCk2"
   },
   "source": []
  },
  {
   "cell_type": "code",
   "execution_count": null,
   "metadata": {
    "colab": {
     "base_uri": "https://localhost:8080/",
     "height": 206
    },
    "id": "nTtPLfhbmCk2",
    "outputId": "8a7ff41f-226b-4405-a5ee-1bfa8992e56d"
   },
   "outputs": [
    {
     "data": {
      "text/html": [
       "\n",
       "  <div id=\"df-a22ba6ac-b465-4fae-8150-86a4538db5a8\">\n",
       "    <div class=\"colab-df-container\">\n",
       "      <div>\n",
       "<style scoped>\n",
       "    .dataframe tbody tr th:only-of-type {\n",
       "        vertical-align: middle;\n",
       "    }\n",
       "\n",
       "    .dataframe tbody tr th {\n",
       "        vertical-align: top;\n",
       "    }\n",
       "\n",
       "    .dataframe thead th {\n",
       "        text-align: right;\n",
       "    }\n",
       "</style>\n",
       "<table border=\"1\" class=\"dataframe\">\n",
       "  <thead>\n",
       "    <tr style=\"text-align: right;\">\n",
       "      <th></th>\n",
       "      <th>customerID</th>\n",
       "      <th>gender</th>\n",
       "      <th>SeniorCitizen</th>\n",
       "      <th>Partner</th>\n",
       "      <th>Dependents</th>\n",
       "    </tr>\n",
       "  </thead>\n",
       "  <tbody>\n",
       "    <tr>\n",
       "      <th>0</th>\n",
       "      <td>7590-VHVEG</td>\n",
       "      <td>Female</td>\n",
       "      <td>0</td>\n",
       "      <td>Yes</td>\n",
       "      <td>No</td>\n",
       "    </tr>\n",
       "    <tr>\n",
       "      <th>1</th>\n",
       "      <td>5575-GNVDE</td>\n",
       "      <td>Male</td>\n",
       "      <td>0</td>\n",
       "      <td>No</td>\n",
       "      <td>No</td>\n",
       "    </tr>\n",
       "    <tr>\n",
       "      <th>2</th>\n",
       "      <td>3668-QPYBK</td>\n",
       "      <td>Male</td>\n",
       "      <td>0</td>\n",
       "      <td>No</td>\n",
       "      <td>No</td>\n",
       "    </tr>\n",
       "    <tr>\n",
       "      <th>3</th>\n",
       "      <td>7795-CFOCW</td>\n",
       "      <td>Male</td>\n",
       "      <td>0</td>\n",
       "      <td>No</td>\n",
       "      <td>No</td>\n",
       "    </tr>\n",
       "    <tr>\n",
       "      <th>4</th>\n",
       "      <td>9237-HQITU</td>\n",
       "      <td>Female</td>\n",
       "      <td>0</td>\n",
       "      <td>No</td>\n",
       "      <td>No</td>\n",
       "    </tr>\n",
       "  </tbody>\n",
       "</table>\n",
       "</div>\n",
       "      <button class=\"colab-df-convert\" onclick=\"convertToInteractive('df-a22ba6ac-b465-4fae-8150-86a4538db5a8')\"\n",
       "              title=\"Convert this dataframe to an interactive table.\"\n",
       "              style=\"display:none;\">\n",
       "        \n",
       "  <svg xmlns=\"http://www.w3.org/2000/svg\" height=\"24px\"viewBox=\"0 0 24 24\"\n",
       "       width=\"24px\">\n",
       "    <path d=\"M0 0h24v24H0V0z\" fill=\"none\"/>\n",
       "    <path d=\"M18.56 5.44l.94 2.06.94-2.06 2.06-.94-2.06-.94-.94-2.06-.94 2.06-2.06.94zm-11 1L8.5 8.5l.94-2.06 2.06-.94-2.06-.94L8.5 2.5l-.94 2.06-2.06.94zm10 10l.94 2.06.94-2.06 2.06-.94-2.06-.94-.94-2.06-.94 2.06-2.06.94z\"/><path d=\"M17.41 7.96l-1.37-1.37c-.4-.4-.92-.59-1.43-.59-.52 0-1.04.2-1.43.59L10.3 9.45l-7.72 7.72c-.78.78-.78 2.05 0 2.83L4 21.41c.39.39.9.59 1.41.59.51 0 1.02-.2 1.41-.59l7.78-7.78 2.81-2.81c.8-.78.8-2.07 0-2.86zM5.41 20L4 18.59l7.72-7.72 1.47 1.35L5.41 20z\"/>\n",
       "  </svg>\n",
       "      </button>\n",
       "      \n",
       "  <style>\n",
       "    .colab-df-container {\n",
       "      display:flex;\n",
       "      flex-wrap:wrap;\n",
       "      gap: 12px;\n",
       "    }\n",
       "\n",
       "    .colab-df-convert {\n",
       "      background-color: #E8F0FE;\n",
       "      border: none;\n",
       "      border-radius: 50%;\n",
       "      cursor: pointer;\n",
       "      display: none;\n",
       "      fill: #1967D2;\n",
       "      height: 32px;\n",
       "      padding: 0 0 0 0;\n",
       "      width: 32px;\n",
       "    }\n",
       "\n",
       "    .colab-df-convert:hover {\n",
       "      background-color: #E2EBFA;\n",
       "      box-shadow: 0px 1px 2px rgba(60, 64, 67, 0.3), 0px 1px 3px 1px rgba(60, 64, 67, 0.15);\n",
       "      fill: #174EA6;\n",
       "    }\n",
       "\n",
       "    [theme=dark] .colab-df-convert {\n",
       "      background-color: #3B4455;\n",
       "      fill: #D2E3FC;\n",
       "    }\n",
       "\n",
       "    [theme=dark] .colab-df-convert:hover {\n",
       "      background-color: #434B5C;\n",
       "      box-shadow: 0px 1px 3px 1px rgba(0, 0, 0, 0.15);\n",
       "      filter: drop-shadow(0px 1px 2px rgba(0, 0, 0, 0.3));\n",
       "      fill: #FFFFFF;\n",
       "    }\n",
       "  </style>\n",
       "\n",
       "      <script>\n",
       "        const buttonEl =\n",
       "          document.querySelector('#df-a22ba6ac-b465-4fae-8150-86a4538db5a8 button.colab-df-convert');\n",
       "        buttonEl.style.display =\n",
       "          google.colab.kernel.accessAllowed ? 'block' : 'none';\n",
       "\n",
       "        async function convertToInteractive(key) {\n",
       "          const element = document.querySelector('#df-a22ba6ac-b465-4fae-8150-86a4538db5a8');\n",
       "          const dataTable =\n",
       "            await google.colab.kernel.invokeFunction('convertToInteractive',\n",
       "                                                     [key], {});\n",
       "          if (!dataTable) return;\n",
       "\n",
       "          const docLinkHtml = 'Like what you see? Visit the ' +\n",
       "            '<a target=\"_blank\" href=https://colab.research.google.com/notebooks/data_table.ipynb>data table notebook</a>'\n",
       "            + ' to learn more about interactive tables.';\n",
       "          element.innerHTML = '';\n",
       "          dataTable['output_type'] = 'display_data';\n",
       "          await google.colab.output.renderOutput(dataTable, element);\n",
       "          const docLink = document.createElement('div');\n",
       "          docLink.innerHTML = docLinkHtml;\n",
       "          element.appendChild(docLink);\n",
       "        }\n",
       "      </script>\n",
       "    </div>\n",
       "  </div>\n",
       "  "
      ],
      "text/plain": [
       "   customerID  gender  SeniorCitizen Partner Dependents\n",
       "0  7590-VHVEG  Female              0     Yes         No\n",
       "1  5575-GNVDE    Male              0      No         No\n",
       "2  3668-QPYBK    Male              0      No         No\n",
       "3  7795-CFOCW    Male              0      No         No\n",
       "4  9237-HQITU  Female              0      No         No"
      ]
     },
     "execution_count": 385,
     "metadata": {},
     "output_type": "execute_result"
    }
   ],
   "source": [
    "personal.head()"
   ]
  },
  {
   "cell_type": "code",
   "execution_count": null,
   "metadata": {
    "colab": {
     "base_uri": "https://localhost:8080/"
    },
    "id": "Rq8EX1KsmCk2",
    "outputId": "f2f38532-1b1b-49e3-a78f-5f270009538c"
   },
   "outputs": [
    {
     "name": "stdout",
     "output_type": "stream",
     "text": [
      "<class 'pandas.core.frame.DataFrame'>\n",
      "RangeIndex: 7043 entries, 0 to 7042\n",
      "Data columns (total 5 columns):\n",
      " #   Column         Non-Null Count  Dtype \n",
      "---  ------         --------------  ----- \n",
      " 0   customerID     7043 non-null   object\n",
      " 1   gender         7043 non-null   object\n",
      " 2   SeniorCitizen  7043 non-null   int64 \n",
      " 3   Partner        7043 non-null   object\n",
      " 4   Dependents     7043 non-null   object\n",
      "dtypes: int64(1), object(4)\n",
      "memory usage: 275.2+ KB\n"
     ]
    }
   ],
   "source": [
    "personal.info()"
   ]
  },
  {
   "cell_type": "code",
   "execution_count": null,
   "metadata": {
    "colab": {
     "base_uri": "https://localhost:8080/",
     "height": 300
    },
    "id": "jSe5ZP5JmCk3",
    "outputId": "c12d37db-5b81-4775-8bea-edbebdebb123"
   },
   "outputs": [
    {
     "data": {
      "text/html": [
       "\n",
       "  <div id=\"df-a8334de2-9190-4e8c-b57b-d78d708d5df8\">\n",
       "    <div class=\"colab-df-container\">\n",
       "      <div>\n",
       "<style scoped>\n",
       "    .dataframe tbody tr th:only-of-type {\n",
       "        vertical-align: middle;\n",
       "    }\n",
       "\n",
       "    .dataframe tbody tr th {\n",
       "        vertical-align: top;\n",
       "    }\n",
       "\n",
       "    .dataframe thead th {\n",
       "        text-align: right;\n",
       "    }\n",
       "</style>\n",
       "<table border=\"1\" class=\"dataframe\">\n",
       "  <thead>\n",
       "    <tr style=\"text-align: right;\">\n",
       "      <th></th>\n",
       "      <th>SeniorCitizen</th>\n",
       "    </tr>\n",
       "  </thead>\n",
       "  <tbody>\n",
       "    <tr>\n",
       "      <th>count</th>\n",
       "      <td>7043.000000</td>\n",
       "    </tr>\n",
       "    <tr>\n",
       "      <th>mean</th>\n",
       "      <td>0.162147</td>\n",
       "    </tr>\n",
       "    <tr>\n",
       "      <th>std</th>\n",
       "      <td>0.368612</td>\n",
       "    </tr>\n",
       "    <tr>\n",
       "      <th>min</th>\n",
       "      <td>0.000000</td>\n",
       "    </tr>\n",
       "    <tr>\n",
       "      <th>25%</th>\n",
       "      <td>0.000000</td>\n",
       "    </tr>\n",
       "    <tr>\n",
       "      <th>50%</th>\n",
       "      <td>0.000000</td>\n",
       "    </tr>\n",
       "    <tr>\n",
       "      <th>75%</th>\n",
       "      <td>0.000000</td>\n",
       "    </tr>\n",
       "    <tr>\n",
       "      <th>max</th>\n",
       "      <td>1.000000</td>\n",
       "    </tr>\n",
       "  </tbody>\n",
       "</table>\n",
       "</div>\n",
       "      <button class=\"colab-df-convert\" onclick=\"convertToInteractive('df-a8334de2-9190-4e8c-b57b-d78d708d5df8')\"\n",
       "              title=\"Convert this dataframe to an interactive table.\"\n",
       "              style=\"display:none;\">\n",
       "        \n",
       "  <svg xmlns=\"http://www.w3.org/2000/svg\" height=\"24px\"viewBox=\"0 0 24 24\"\n",
       "       width=\"24px\">\n",
       "    <path d=\"M0 0h24v24H0V0z\" fill=\"none\"/>\n",
       "    <path d=\"M18.56 5.44l.94 2.06.94-2.06 2.06-.94-2.06-.94-.94-2.06-.94 2.06-2.06.94zm-11 1L8.5 8.5l.94-2.06 2.06-.94-2.06-.94L8.5 2.5l-.94 2.06-2.06.94zm10 10l.94 2.06.94-2.06 2.06-.94-2.06-.94-.94-2.06-.94 2.06-2.06.94z\"/><path d=\"M17.41 7.96l-1.37-1.37c-.4-.4-.92-.59-1.43-.59-.52 0-1.04.2-1.43.59L10.3 9.45l-7.72 7.72c-.78.78-.78 2.05 0 2.83L4 21.41c.39.39.9.59 1.41.59.51 0 1.02-.2 1.41-.59l7.78-7.78 2.81-2.81c.8-.78.8-2.07 0-2.86zM5.41 20L4 18.59l7.72-7.72 1.47 1.35L5.41 20z\"/>\n",
       "  </svg>\n",
       "      </button>\n",
       "      \n",
       "  <style>\n",
       "    .colab-df-container {\n",
       "      display:flex;\n",
       "      flex-wrap:wrap;\n",
       "      gap: 12px;\n",
       "    }\n",
       "\n",
       "    .colab-df-convert {\n",
       "      background-color: #E8F0FE;\n",
       "      border: none;\n",
       "      border-radius: 50%;\n",
       "      cursor: pointer;\n",
       "      display: none;\n",
       "      fill: #1967D2;\n",
       "      height: 32px;\n",
       "      padding: 0 0 0 0;\n",
       "      width: 32px;\n",
       "    }\n",
       "\n",
       "    .colab-df-convert:hover {\n",
       "      background-color: #E2EBFA;\n",
       "      box-shadow: 0px 1px 2px rgba(60, 64, 67, 0.3), 0px 1px 3px 1px rgba(60, 64, 67, 0.15);\n",
       "      fill: #174EA6;\n",
       "    }\n",
       "\n",
       "    [theme=dark] .colab-df-convert {\n",
       "      background-color: #3B4455;\n",
       "      fill: #D2E3FC;\n",
       "    }\n",
       "\n",
       "    [theme=dark] .colab-df-convert:hover {\n",
       "      background-color: #434B5C;\n",
       "      box-shadow: 0px 1px 3px 1px rgba(0, 0, 0, 0.15);\n",
       "      filter: drop-shadow(0px 1px 2px rgba(0, 0, 0, 0.3));\n",
       "      fill: #FFFFFF;\n",
       "    }\n",
       "  </style>\n",
       "\n",
       "      <script>\n",
       "        const buttonEl =\n",
       "          document.querySelector('#df-a8334de2-9190-4e8c-b57b-d78d708d5df8 button.colab-df-convert');\n",
       "        buttonEl.style.display =\n",
       "          google.colab.kernel.accessAllowed ? 'block' : 'none';\n",
       "\n",
       "        async function convertToInteractive(key) {\n",
       "          const element = document.querySelector('#df-a8334de2-9190-4e8c-b57b-d78d708d5df8');\n",
       "          const dataTable =\n",
       "            await google.colab.kernel.invokeFunction('convertToInteractive',\n",
       "                                                     [key], {});\n",
       "          if (!dataTable) return;\n",
       "\n",
       "          const docLinkHtml = 'Like what you see? Visit the ' +\n",
       "            '<a target=\"_blank\" href=https://colab.research.google.com/notebooks/data_table.ipynb>data table notebook</a>'\n",
       "            + ' to learn more about interactive tables.';\n",
       "          element.innerHTML = '';\n",
       "          dataTable['output_type'] = 'display_data';\n",
       "          await google.colab.output.renderOutput(dataTable, element);\n",
       "          const docLink = document.createElement('div');\n",
       "          docLink.innerHTML = docLinkHtml;\n",
       "          element.appendChild(docLink);\n",
       "        }\n",
       "      </script>\n",
       "    </div>\n",
       "  </div>\n",
       "  "
      ],
      "text/plain": [
       "       SeniorCitizen\n",
       "count    7043.000000\n",
       "mean        0.162147\n",
       "std         0.368612\n",
       "min         0.000000\n",
       "25%         0.000000\n",
       "50%         0.000000\n",
       "75%         0.000000\n",
       "max         1.000000"
      ]
     },
     "execution_count": 387,
     "metadata": {},
     "output_type": "execute_result"
    }
   ],
   "source": [
    "personal.describe()"
   ]
  },
  {
   "cell_type": "code",
   "execution_count": null,
   "metadata": {
    "colab": {
     "base_uri": "https://localhost:8080/"
    },
    "id": "DT4LFdxemCk4",
    "outputId": "8f747e10-c8b9-411b-ae2d-6ab19e7d16ec"
   },
   "outputs": [
    {
     "name": "stdout",
     "output_type": "stream",
     "text": [
      "\n",
      "personal дубликаты:\n",
      "0\n",
      "\n",
      "personal пропуски:\n"
     ]
    },
    {
     "data": {
      "text/plain": [
       "customerID       0\n",
       "gender           0\n",
       "SeniorCitizen    0\n",
       "Partner          0\n",
       "Dependents       0\n",
       "dtype: int64"
      ]
     },
     "execution_count": 388,
     "metadata": {},
     "output_type": "execute_result"
    }
   ],
   "source": [
    "# Проверка дубликатов\n",
    "print('\\npersonal дубликаты:')\n",
    "print(personal.duplicated().sum())\n",
    "# Проверка пропусков\n",
    "print('\\npersonal пропуски:')\n",
    "personal.isna().sum()"
   ]
  },
  {
   "cell_type": "markdown",
   "metadata": {
    "id": "8JcQRRdHmCk4"
   },
   "source": [
    "personal содержит персональную информацию о клиентах: имя, фамилию, пол, дату рождения, контактные данные.   \n",
    "Датафрейм содержит 7043 записей и 5 признаков.  \n",
    "Признак customerID является уникальным идентификатором клиента для объединения с другими датафреймами.  \n",
    "В столбцах TotalCharges и MonthlyCharges заполнены строки, которые могут быть приведены к числовому формату.    "
   ]
  },
  {
   "cell_type": "code",
   "execution_count": null,
   "metadata": {
    "colab": {
     "base_uri": "https://localhost:8080/",
     "height": 206
    },
    "id": "X0EXkeRAmCk5",
    "outputId": "6a2ea672-47c1-4de8-c94e-9b1fde7d9f9f"
   },
   "outputs": [
    {
     "data": {
      "text/html": [
       "\n",
       "  <div id=\"df-57bea68c-d699-4f22-b2e0-699bbba2bc56\">\n",
       "    <div class=\"colab-df-container\">\n",
       "      <div>\n",
       "<style scoped>\n",
       "    .dataframe tbody tr th:only-of-type {\n",
       "        vertical-align: middle;\n",
       "    }\n",
       "\n",
       "    .dataframe tbody tr th {\n",
       "        vertical-align: top;\n",
       "    }\n",
       "\n",
       "    .dataframe thead th {\n",
       "        text-align: right;\n",
       "    }\n",
       "</style>\n",
       "<table border=\"1\" class=\"dataframe\">\n",
       "  <thead>\n",
       "    <tr style=\"text-align: right;\">\n",
       "      <th></th>\n",
       "      <th>customerID</th>\n",
       "      <th>InternetService</th>\n",
       "      <th>OnlineSecurity</th>\n",
       "      <th>OnlineBackup</th>\n",
       "      <th>DeviceProtection</th>\n",
       "      <th>TechSupport</th>\n",
       "      <th>StreamingTV</th>\n",
       "      <th>StreamingMovies</th>\n",
       "    </tr>\n",
       "  </thead>\n",
       "  <tbody>\n",
       "    <tr>\n",
       "      <th>0</th>\n",
       "      <td>7590-VHVEG</td>\n",
       "      <td>DSL</td>\n",
       "      <td>No</td>\n",
       "      <td>Yes</td>\n",
       "      <td>No</td>\n",
       "      <td>No</td>\n",
       "      <td>No</td>\n",
       "      <td>No</td>\n",
       "    </tr>\n",
       "    <tr>\n",
       "      <th>1</th>\n",
       "      <td>5575-GNVDE</td>\n",
       "      <td>DSL</td>\n",
       "      <td>Yes</td>\n",
       "      <td>No</td>\n",
       "      <td>Yes</td>\n",
       "      <td>No</td>\n",
       "      <td>No</td>\n",
       "      <td>No</td>\n",
       "    </tr>\n",
       "    <tr>\n",
       "      <th>2</th>\n",
       "      <td>3668-QPYBK</td>\n",
       "      <td>DSL</td>\n",
       "      <td>Yes</td>\n",
       "      <td>Yes</td>\n",
       "      <td>No</td>\n",
       "      <td>No</td>\n",
       "      <td>No</td>\n",
       "      <td>No</td>\n",
       "    </tr>\n",
       "    <tr>\n",
       "      <th>3</th>\n",
       "      <td>7795-CFOCW</td>\n",
       "      <td>DSL</td>\n",
       "      <td>Yes</td>\n",
       "      <td>No</td>\n",
       "      <td>Yes</td>\n",
       "      <td>Yes</td>\n",
       "      <td>No</td>\n",
       "      <td>No</td>\n",
       "    </tr>\n",
       "    <tr>\n",
       "      <th>4</th>\n",
       "      <td>9237-HQITU</td>\n",
       "      <td>Fiber optic</td>\n",
       "      <td>No</td>\n",
       "      <td>No</td>\n",
       "      <td>No</td>\n",
       "      <td>No</td>\n",
       "      <td>No</td>\n",
       "      <td>No</td>\n",
       "    </tr>\n",
       "  </tbody>\n",
       "</table>\n",
       "</div>\n",
       "      <button class=\"colab-df-convert\" onclick=\"convertToInteractive('df-57bea68c-d699-4f22-b2e0-699bbba2bc56')\"\n",
       "              title=\"Convert this dataframe to an interactive table.\"\n",
       "              style=\"display:none;\">\n",
       "        \n",
       "  <svg xmlns=\"http://www.w3.org/2000/svg\" height=\"24px\"viewBox=\"0 0 24 24\"\n",
       "       width=\"24px\">\n",
       "    <path d=\"M0 0h24v24H0V0z\" fill=\"none\"/>\n",
       "    <path d=\"M18.56 5.44l.94 2.06.94-2.06 2.06-.94-2.06-.94-.94-2.06-.94 2.06-2.06.94zm-11 1L8.5 8.5l.94-2.06 2.06-.94-2.06-.94L8.5 2.5l-.94 2.06-2.06.94zm10 10l.94 2.06.94-2.06 2.06-.94-2.06-.94-.94-2.06-.94 2.06-2.06.94z\"/><path d=\"M17.41 7.96l-1.37-1.37c-.4-.4-.92-.59-1.43-.59-.52 0-1.04.2-1.43.59L10.3 9.45l-7.72 7.72c-.78.78-.78 2.05 0 2.83L4 21.41c.39.39.9.59 1.41.59.51 0 1.02-.2 1.41-.59l7.78-7.78 2.81-2.81c.8-.78.8-2.07 0-2.86zM5.41 20L4 18.59l7.72-7.72 1.47 1.35L5.41 20z\"/>\n",
       "  </svg>\n",
       "      </button>\n",
       "      \n",
       "  <style>\n",
       "    .colab-df-container {\n",
       "      display:flex;\n",
       "      flex-wrap:wrap;\n",
       "      gap: 12px;\n",
       "    }\n",
       "\n",
       "    .colab-df-convert {\n",
       "      background-color: #E8F0FE;\n",
       "      border: none;\n",
       "      border-radius: 50%;\n",
       "      cursor: pointer;\n",
       "      display: none;\n",
       "      fill: #1967D2;\n",
       "      height: 32px;\n",
       "      padding: 0 0 0 0;\n",
       "      width: 32px;\n",
       "    }\n",
       "\n",
       "    .colab-df-convert:hover {\n",
       "      background-color: #E2EBFA;\n",
       "      box-shadow: 0px 1px 2px rgba(60, 64, 67, 0.3), 0px 1px 3px 1px rgba(60, 64, 67, 0.15);\n",
       "      fill: #174EA6;\n",
       "    }\n",
       "\n",
       "    [theme=dark] .colab-df-convert {\n",
       "      background-color: #3B4455;\n",
       "      fill: #D2E3FC;\n",
       "    }\n",
       "\n",
       "    [theme=dark] .colab-df-convert:hover {\n",
       "      background-color: #434B5C;\n",
       "      box-shadow: 0px 1px 3px 1px rgba(0, 0, 0, 0.15);\n",
       "      filter: drop-shadow(0px 1px 2px rgba(0, 0, 0, 0.3));\n",
       "      fill: #FFFFFF;\n",
       "    }\n",
       "  </style>\n",
       "\n",
       "      <script>\n",
       "        const buttonEl =\n",
       "          document.querySelector('#df-57bea68c-d699-4f22-b2e0-699bbba2bc56 button.colab-df-convert');\n",
       "        buttonEl.style.display =\n",
       "          google.colab.kernel.accessAllowed ? 'block' : 'none';\n",
       "\n",
       "        async function convertToInteractive(key) {\n",
       "          const element = document.querySelector('#df-57bea68c-d699-4f22-b2e0-699bbba2bc56');\n",
       "          const dataTable =\n",
       "            await google.colab.kernel.invokeFunction('convertToInteractive',\n",
       "                                                     [key], {});\n",
       "          if (!dataTable) return;\n",
       "\n",
       "          const docLinkHtml = 'Like what you see? Visit the ' +\n",
       "            '<a target=\"_blank\" href=https://colab.research.google.com/notebooks/data_table.ipynb>data table notebook</a>'\n",
       "            + ' to learn more about interactive tables.';\n",
       "          element.innerHTML = '';\n",
       "          dataTable['output_type'] = 'display_data';\n",
       "          await google.colab.output.renderOutput(dataTable, element);\n",
       "          const docLink = document.createElement('div');\n",
       "          docLink.innerHTML = docLinkHtml;\n",
       "          element.appendChild(docLink);\n",
       "        }\n",
       "      </script>\n",
       "    </div>\n",
       "  </div>\n",
       "  "
      ],
      "text/plain": [
       "   customerID InternetService OnlineSecurity OnlineBackup DeviceProtection  \\\n",
       "0  7590-VHVEG             DSL             No          Yes               No   \n",
       "1  5575-GNVDE             DSL            Yes           No              Yes   \n",
       "2  3668-QPYBK             DSL            Yes          Yes               No   \n",
       "3  7795-CFOCW             DSL            Yes           No              Yes   \n",
       "4  9237-HQITU     Fiber optic             No           No               No   \n",
       "\n",
       "  TechSupport StreamingTV StreamingMovies  \n",
       "0          No          No              No  \n",
       "1          No          No              No  \n",
       "2          No          No              No  \n",
       "3         Yes          No              No  \n",
       "4          No          No              No  "
      ]
     },
     "execution_count": 389,
     "metadata": {},
     "output_type": "execute_result"
    }
   ],
   "source": [
    "internet.head()"
   ]
  },
  {
   "cell_type": "code",
   "execution_count": null,
   "metadata": {
    "colab": {
     "base_uri": "https://localhost:8080/"
    },
    "id": "HTeeYFJ0mCk5",
    "outputId": "9338c86d-0048-47a2-ea04-76707bb858b2"
   },
   "outputs": [
    {
     "name": "stdout",
     "output_type": "stream",
     "text": [
      "<class 'pandas.core.frame.DataFrame'>\n",
      "RangeIndex: 5517 entries, 0 to 5516\n",
      "Data columns (total 8 columns):\n",
      " #   Column            Non-Null Count  Dtype \n",
      "---  ------            --------------  ----- \n",
      " 0   customerID        5517 non-null   object\n",
      " 1   InternetService   5517 non-null   object\n",
      " 2   OnlineSecurity    5517 non-null   object\n",
      " 3   OnlineBackup      5517 non-null   object\n",
      " 4   DeviceProtection  5517 non-null   object\n",
      " 5   TechSupport       5517 non-null   object\n",
      " 6   StreamingTV       5517 non-null   object\n",
      " 7   StreamingMovies   5517 non-null   object\n",
      "dtypes: object(8)\n",
      "memory usage: 344.9+ KB\n"
     ]
    }
   ],
   "source": [
    "internet.info()"
   ]
  },
  {
   "cell_type": "code",
   "execution_count": null,
   "metadata": {
    "colab": {
     "base_uri": "https://localhost:8080/",
     "height": 175
    },
    "id": "tsG_jny7mCk6",
    "outputId": "099db9b1-487f-4f8b-d3a1-b3723dffcb69"
   },
   "outputs": [
    {
     "data": {
      "text/html": [
       "\n",
       "  <div id=\"df-39771bf5-30b6-4be2-a08e-128f51cfd3ee\">\n",
       "    <div class=\"colab-df-container\">\n",
       "      <div>\n",
       "<style scoped>\n",
       "    .dataframe tbody tr th:only-of-type {\n",
       "        vertical-align: middle;\n",
       "    }\n",
       "\n",
       "    .dataframe tbody tr th {\n",
       "        vertical-align: top;\n",
       "    }\n",
       "\n",
       "    .dataframe thead th {\n",
       "        text-align: right;\n",
       "    }\n",
       "</style>\n",
       "<table border=\"1\" class=\"dataframe\">\n",
       "  <thead>\n",
       "    <tr style=\"text-align: right;\">\n",
       "      <th></th>\n",
       "      <th>customerID</th>\n",
       "      <th>InternetService</th>\n",
       "      <th>OnlineSecurity</th>\n",
       "      <th>OnlineBackup</th>\n",
       "      <th>DeviceProtection</th>\n",
       "      <th>TechSupport</th>\n",
       "      <th>StreamingTV</th>\n",
       "      <th>StreamingMovies</th>\n",
       "    </tr>\n",
       "  </thead>\n",
       "  <tbody>\n",
       "    <tr>\n",
       "      <th>count</th>\n",
       "      <td>5517</td>\n",
       "      <td>5517</td>\n",
       "      <td>5517</td>\n",
       "      <td>5517</td>\n",
       "      <td>5517</td>\n",
       "      <td>5517</td>\n",
       "      <td>5517</td>\n",
       "      <td>5517</td>\n",
       "    </tr>\n",
       "    <tr>\n",
       "      <th>unique</th>\n",
       "      <td>5517</td>\n",
       "      <td>2</td>\n",
       "      <td>2</td>\n",
       "      <td>2</td>\n",
       "      <td>2</td>\n",
       "      <td>2</td>\n",
       "      <td>2</td>\n",
       "      <td>2</td>\n",
       "    </tr>\n",
       "    <tr>\n",
       "      <th>top</th>\n",
       "      <td>7590-VHVEG</td>\n",
       "      <td>Fiber optic</td>\n",
       "      <td>No</td>\n",
       "      <td>No</td>\n",
       "      <td>No</td>\n",
       "      <td>No</td>\n",
       "      <td>No</td>\n",
       "      <td>No</td>\n",
       "    </tr>\n",
       "    <tr>\n",
       "      <th>freq</th>\n",
       "      <td>1</td>\n",
       "      <td>3096</td>\n",
       "      <td>3498</td>\n",
       "      <td>3088</td>\n",
       "      <td>3095</td>\n",
       "      <td>3473</td>\n",
       "      <td>2810</td>\n",
       "      <td>2785</td>\n",
       "    </tr>\n",
       "  </tbody>\n",
       "</table>\n",
       "</div>\n",
       "      <button class=\"colab-df-convert\" onclick=\"convertToInteractive('df-39771bf5-30b6-4be2-a08e-128f51cfd3ee')\"\n",
       "              title=\"Convert this dataframe to an interactive table.\"\n",
       "              style=\"display:none;\">\n",
       "        \n",
       "  <svg xmlns=\"http://www.w3.org/2000/svg\" height=\"24px\"viewBox=\"0 0 24 24\"\n",
       "       width=\"24px\">\n",
       "    <path d=\"M0 0h24v24H0V0z\" fill=\"none\"/>\n",
       "    <path d=\"M18.56 5.44l.94 2.06.94-2.06 2.06-.94-2.06-.94-.94-2.06-.94 2.06-2.06.94zm-11 1L8.5 8.5l.94-2.06 2.06-.94-2.06-.94L8.5 2.5l-.94 2.06-2.06.94zm10 10l.94 2.06.94-2.06 2.06-.94-2.06-.94-.94-2.06-.94 2.06-2.06.94z\"/><path d=\"M17.41 7.96l-1.37-1.37c-.4-.4-.92-.59-1.43-.59-.52 0-1.04.2-1.43.59L10.3 9.45l-7.72 7.72c-.78.78-.78 2.05 0 2.83L4 21.41c.39.39.9.59 1.41.59.51 0 1.02-.2 1.41-.59l7.78-7.78 2.81-2.81c.8-.78.8-2.07 0-2.86zM5.41 20L4 18.59l7.72-7.72 1.47 1.35L5.41 20z\"/>\n",
       "  </svg>\n",
       "      </button>\n",
       "      \n",
       "  <style>\n",
       "    .colab-df-container {\n",
       "      display:flex;\n",
       "      flex-wrap:wrap;\n",
       "      gap: 12px;\n",
       "    }\n",
       "\n",
       "    .colab-df-convert {\n",
       "      background-color: #E8F0FE;\n",
       "      border: none;\n",
       "      border-radius: 50%;\n",
       "      cursor: pointer;\n",
       "      display: none;\n",
       "      fill: #1967D2;\n",
       "      height: 32px;\n",
       "      padding: 0 0 0 0;\n",
       "      width: 32px;\n",
       "    }\n",
       "\n",
       "    .colab-df-convert:hover {\n",
       "      background-color: #E2EBFA;\n",
       "      box-shadow: 0px 1px 2px rgba(60, 64, 67, 0.3), 0px 1px 3px 1px rgba(60, 64, 67, 0.15);\n",
       "      fill: #174EA6;\n",
       "    }\n",
       "\n",
       "    [theme=dark] .colab-df-convert {\n",
       "      background-color: #3B4455;\n",
       "      fill: #D2E3FC;\n",
       "    }\n",
       "\n",
       "    [theme=dark] .colab-df-convert:hover {\n",
       "      background-color: #434B5C;\n",
       "      box-shadow: 0px 1px 3px 1px rgba(0, 0, 0, 0.15);\n",
       "      filter: drop-shadow(0px 1px 2px rgba(0, 0, 0, 0.3));\n",
       "      fill: #FFFFFF;\n",
       "    }\n",
       "  </style>\n",
       "\n",
       "      <script>\n",
       "        const buttonEl =\n",
       "          document.querySelector('#df-39771bf5-30b6-4be2-a08e-128f51cfd3ee button.colab-df-convert');\n",
       "        buttonEl.style.display =\n",
       "          google.colab.kernel.accessAllowed ? 'block' : 'none';\n",
       "\n",
       "        async function convertToInteractive(key) {\n",
       "          const element = document.querySelector('#df-39771bf5-30b6-4be2-a08e-128f51cfd3ee');\n",
       "          const dataTable =\n",
       "            await google.colab.kernel.invokeFunction('convertToInteractive',\n",
       "                                                     [key], {});\n",
       "          if (!dataTable) return;\n",
       "\n",
       "          const docLinkHtml = 'Like what you see? Visit the ' +\n",
       "            '<a target=\"_blank\" href=https://colab.research.google.com/notebooks/data_table.ipynb>data table notebook</a>'\n",
       "            + ' to learn more about interactive tables.';\n",
       "          element.innerHTML = '';\n",
       "          dataTable['output_type'] = 'display_data';\n",
       "          await google.colab.output.renderOutput(dataTable, element);\n",
       "          const docLink = document.createElement('div');\n",
       "          docLink.innerHTML = docLinkHtml;\n",
       "          element.appendChild(docLink);\n",
       "        }\n",
       "      </script>\n",
       "    </div>\n",
       "  </div>\n",
       "  "
      ],
      "text/plain": [
       "        customerID InternetService OnlineSecurity OnlineBackup  \\\n",
       "count         5517            5517           5517         5517   \n",
       "unique        5517               2              2            2   \n",
       "top     7590-VHVEG     Fiber optic             No           No   \n",
       "freq             1            3096           3498         3088   \n",
       "\n",
       "       DeviceProtection TechSupport StreamingTV StreamingMovies  \n",
       "count              5517        5517        5517            5517  \n",
       "unique                2           2           2               2  \n",
       "top                  No          No          No              No  \n",
       "freq               3095        3473        2810            2785  "
      ]
     },
     "execution_count": 391,
     "metadata": {},
     "output_type": "execute_result"
    }
   ],
   "source": [
    "internet.describe()"
   ]
  },
  {
   "cell_type": "code",
   "execution_count": null,
   "metadata": {
    "colab": {
     "base_uri": "https://localhost:8080/"
    },
    "id": "s5Lfwgu7mCk7",
    "outputId": "e4e88d01-ec74-4e13-b664-c681d4924b65"
   },
   "outputs": [
    {
     "name": "stdout",
     "output_type": "stream",
     "text": [
      "\n",
      "internet дубликаты:\n",
      "0\n",
      "\n",
      "internet пропуски:\n"
     ]
    },
    {
     "data": {
      "text/plain": [
       "customerID          0\n",
       "InternetService     0\n",
       "OnlineSecurity      0\n",
       "OnlineBackup        0\n",
       "DeviceProtection    0\n",
       "TechSupport         0\n",
       "StreamingTV         0\n",
       "StreamingMovies     0\n",
       "dtype: int64"
      ]
     },
     "execution_count": 392,
     "metadata": {},
     "output_type": "execute_result"
    }
   ],
   "source": [
    "# Проверка дубликатов\n",
    "print('\\ninternet дубликаты:')\n",
    "print(internet.duplicated().sum())\n",
    "# Проверка пропусков\n",
    "print('\\ninternet пропуски:')\n",
    "internet.isna().sum()"
   ]
  },
  {
   "cell_type": "markdown",
   "metadata": {
    "id": "ronHhvq3mCk8"
   },
   "source": [
    "internet содержит информацию об интернет-услугах: тип подключения, наличие дополнительных опций.    \n",
    "Датафрейм содержит 5517 записей и 8 признаков.  \n",
    "Признак customerID является уникальным идентификатором клиента для объединения с другими датафреймами.  \n",
    "В столбце TotalCharges заполнены строки, которые могут быть приведены к числовому формату.  "
   ]
  },
  {
   "cell_type": "code",
   "execution_count": null,
   "metadata": {
    "colab": {
     "base_uri": "https://localhost:8080/",
     "height": 206
    },
    "id": "14w_lThamCk9",
    "outputId": "eb38dbb1-be3f-436e-8269-0c3d2f152fac"
   },
   "outputs": [
    {
     "data": {
      "text/html": [
       "\n",
       "  <div id=\"df-7724ec9c-0cd4-426a-a070-1b05385fef15\">\n",
       "    <div class=\"colab-df-container\">\n",
       "      <div>\n",
       "<style scoped>\n",
       "    .dataframe tbody tr th:only-of-type {\n",
       "        vertical-align: middle;\n",
       "    }\n",
       "\n",
       "    .dataframe tbody tr th {\n",
       "        vertical-align: top;\n",
       "    }\n",
       "\n",
       "    .dataframe thead th {\n",
       "        text-align: right;\n",
       "    }\n",
       "</style>\n",
       "<table border=\"1\" class=\"dataframe\">\n",
       "  <thead>\n",
       "    <tr style=\"text-align: right;\">\n",
       "      <th></th>\n",
       "      <th>customerID</th>\n",
       "      <th>MultipleLines</th>\n",
       "    </tr>\n",
       "  </thead>\n",
       "  <tbody>\n",
       "    <tr>\n",
       "      <th>0</th>\n",
       "      <td>5575-GNVDE</td>\n",
       "      <td>No</td>\n",
       "    </tr>\n",
       "    <tr>\n",
       "      <th>1</th>\n",
       "      <td>3668-QPYBK</td>\n",
       "      <td>No</td>\n",
       "    </tr>\n",
       "    <tr>\n",
       "      <th>2</th>\n",
       "      <td>9237-HQITU</td>\n",
       "      <td>No</td>\n",
       "    </tr>\n",
       "    <tr>\n",
       "      <th>3</th>\n",
       "      <td>9305-CDSKC</td>\n",
       "      <td>Yes</td>\n",
       "    </tr>\n",
       "    <tr>\n",
       "      <th>4</th>\n",
       "      <td>1452-KIOVK</td>\n",
       "      <td>Yes</td>\n",
       "    </tr>\n",
       "  </tbody>\n",
       "</table>\n",
       "</div>\n",
       "      <button class=\"colab-df-convert\" onclick=\"convertToInteractive('df-7724ec9c-0cd4-426a-a070-1b05385fef15')\"\n",
       "              title=\"Convert this dataframe to an interactive table.\"\n",
       "              style=\"display:none;\">\n",
       "        \n",
       "  <svg xmlns=\"http://www.w3.org/2000/svg\" height=\"24px\"viewBox=\"0 0 24 24\"\n",
       "       width=\"24px\">\n",
       "    <path d=\"M0 0h24v24H0V0z\" fill=\"none\"/>\n",
       "    <path d=\"M18.56 5.44l.94 2.06.94-2.06 2.06-.94-2.06-.94-.94-2.06-.94 2.06-2.06.94zm-11 1L8.5 8.5l.94-2.06 2.06-.94-2.06-.94L8.5 2.5l-.94 2.06-2.06.94zm10 10l.94 2.06.94-2.06 2.06-.94-2.06-.94-.94-2.06-.94 2.06-2.06.94z\"/><path d=\"M17.41 7.96l-1.37-1.37c-.4-.4-.92-.59-1.43-.59-.52 0-1.04.2-1.43.59L10.3 9.45l-7.72 7.72c-.78.78-.78 2.05 0 2.83L4 21.41c.39.39.9.59 1.41.59.51 0 1.02-.2 1.41-.59l7.78-7.78 2.81-2.81c.8-.78.8-2.07 0-2.86zM5.41 20L4 18.59l7.72-7.72 1.47 1.35L5.41 20z\"/>\n",
       "  </svg>\n",
       "      </button>\n",
       "      \n",
       "  <style>\n",
       "    .colab-df-container {\n",
       "      display:flex;\n",
       "      flex-wrap:wrap;\n",
       "      gap: 12px;\n",
       "    }\n",
       "\n",
       "    .colab-df-convert {\n",
       "      background-color: #E8F0FE;\n",
       "      border: none;\n",
       "      border-radius: 50%;\n",
       "      cursor: pointer;\n",
       "      display: none;\n",
       "      fill: #1967D2;\n",
       "      height: 32px;\n",
       "      padding: 0 0 0 0;\n",
       "      width: 32px;\n",
       "    }\n",
       "\n",
       "    .colab-df-convert:hover {\n",
       "      background-color: #E2EBFA;\n",
       "      box-shadow: 0px 1px 2px rgba(60, 64, 67, 0.3), 0px 1px 3px 1px rgba(60, 64, 67, 0.15);\n",
       "      fill: #174EA6;\n",
       "    }\n",
       "\n",
       "    [theme=dark] .colab-df-convert {\n",
       "      background-color: #3B4455;\n",
       "      fill: #D2E3FC;\n",
       "    }\n",
       "\n",
       "    [theme=dark] .colab-df-convert:hover {\n",
       "      background-color: #434B5C;\n",
       "      box-shadow: 0px 1px 3px 1px rgba(0, 0, 0, 0.15);\n",
       "      filter: drop-shadow(0px 1px 2px rgba(0, 0, 0, 0.3));\n",
       "      fill: #FFFFFF;\n",
       "    }\n",
       "  </style>\n",
       "\n",
       "      <script>\n",
       "        const buttonEl =\n",
       "          document.querySelector('#df-7724ec9c-0cd4-426a-a070-1b05385fef15 button.colab-df-convert');\n",
       "        buttonEl.style.display =\n",
       "          google.colab.kernel.accessAllowed ? 'block' : 'none';\n",
       "\n",
       "        async function convertToInteractive(key) {\n",
       "          const element = document.querySelector('#df-7724ec9c-0cd4-426a-a070-1b05385fef15');\n",
       "          const dataTable =\n",
       "            await google.colab.kernel.invokeFunction('convertToInteractive',\n",
       "                                                     [key], {});\n",
       "          if (!dataTable) return;\n",
       "\n",
       "          const docLinkHtml = 'Like what you see? Visit the ' +\n",
       "            '<a target=\"_blank\" href=https://colab.research.google.com/notebooks/data_table.ipynb>data table notebook</a>'\n",
       "            + ' to learn more about interactive tables.';\n",
       "          element.innerHTML = '';\n",
       "          dataTable['output_type'] = 'display_data';\n",
       "          await google.colab.output.renderOutput(dataTable, element);\n",
       "          const docLink = document.createElement('div');\n",
       "          docLink.innerHTML = docLinkHtml;\n",
       "          element.appendChild(docLink);\n",
       "        }\n",
       "      </script>\n",
       "    </div>\n",
       "  </div>\n",
       "  "
      ],
      "text/plain": [
       "   customerID MultipleLines\n",
       "0  5575-GNVDE            No\n",
       "1  3668-QPYBK            No\n",
       "2  9237-HQITU            No\n",
       "3  9305-CDSKC           Yes\n",
       "4  1452-KIOVK           Yes"
      ]
     },
     "execution_count": 393,
     "metadata": {},
     "output_type": "execute_result"
    }
   ],
   "source": [
    "phone.head()"
   ]
  },
  {
   "cell_type": "code",
   "execution_count": null,
   "metadata": {
    "colab": {
     "base_uri": "https://localhost:8080/"
    },
    "id": "4qz7Xj5-mCk9",
    "outputId": "66be4834-5a68-4fb6-a186-3469de3ec95c"
   },
   "outputs": [
    {
     "name": "stdout",
     "output_type": "stream",
     "text": [
      "<class 'pandas.core.frame.DataFrame'>\n",
      "RangeIndex: 6361 entries, 0 to 6360\n",
      "Data columns (total 2 columns):\n",
      " #   Column         Non-Null Count  Dtype \n",
      "---  ------         --------------  ----- \n",
      " 0   customerID     6361 non-null   object\n",
      " 1   MultipleLines  6361 non-null   object\n",
      "dtypes: object(2)\n",
      "memory usage: 99.5+ KB\n"
     ]
    }
   ],
   "source": [
    "phone.info()"
   ]
  },
  {
   "cell_type": "code",
   "execution_count": null,
   "metadata": {
    "colab": {
     "base_uri": "https://localhost:8080/",
     "height": 175
    },
    "id": "iM7oKg1kmCk-",
    "outputId": "a6bcb24e-b279-45db-a00a-9506d6590fd1"
   },
   "outputs": [
    {
     "data": {
      "text/html": [
       "\n",
       "  <div id=\"df-e55e6eaa-1f4c-456d-8520-32928513fcb1\">\n",
       "    <div class=\"colab-df-container\">\n",
       "      <div>\n",
       "<style scoped>\n",
       "    .dataframe tbody tr th:only-of-type {\n",
       "        vertical-align: middle;\n",
       "    }\n",
       "\n",
       "    .dataframe tbody tr th {\n",
       "        vertical-align: top;\n",
       "    }\n",
       "\n",
       "    .dataframe thead th {\n",
       "        text-align: right;\n",
       "    }\n",
       "</style>\n",
       "<table border=\"1\" class=\"dataframe\">\n",
       "  <thead>\n",
       "    <tr style=\"text-align: right;\">\n",
       "      <th></th>\n",
       "      <th>customerID</th>\n",
       "      <th>MultipleLines</th>\n",
       "    </tr>\n",
       "  </thead>\n",
       "  <tbody>\n",
       "    <tr>\n",
       "      <th>count</th>\n",
       "      <td>6361</td>\n",
       "      <td>6361</td>\n",
       "    </tr>\n",
       "    <tr>\n",
       "      <th>unique</th>\n",
       "      <td>6361</td>\n",
       "      <td>2</td>\n",
       "    </tr>\n",
       "    <tr>\n",
       "      <th>top</th>\n",
       "      <td>5575-GNVDE</td>\n",
       "      <td>No</td>\n",
       "    </tr>\n",
       "    <tr>\n",
       "      <th>freq</th>\n",
       "      <td>1</td>\n",
       "      <td>3390</td>\n",
       "    </tr>\n",
       "  </tbody>\n",
       "</table>\n",
       "</div>\n",
       "      <button class=\"colab-df-convert\" onclick=\"convertToInteractive('df-e55e6eaa-1f4c-456d-8520-32928513fcb1')\"\n",
       "              title=\"Convert this dataframe to an interactive table.\"\n",
       "              style=\"display:none;\">\n",
       "        \n",
       "  <svg xmlns=\"http://www.w3.org/2000/svg\" height=\"24px\"viewBox=\"0 0 24 24\"\n",
       "       width=\"24px\">\n",
       "    <path d=\"M0 0h24v24H0V0z\" fill=\"none\"/>\n",
       "    <path d=\"M18.56 5.44l.94 2.06.94-2.06 2.06-.94-2.06-.94-.94-2.06-.94 2.06-2.06.94zm-11 1L8.5 8.5l.94-2.06 2.06-.94-2.06-.94L8.5 2.5l-.94 2.06-2.06.94zm10 10l.94 2.06.94-2.06 2.06-.94-2.06-.94-.94-2.06-.94 2.06-2.06.94z\"/><path d=\"M17.41 7.96l-1.37-1.37c-.4-.4-.92-.59-1.43-.59-.52 0-1.04.2-1.43.59L10.3 9.45l-7.72 7.72c-.78.78-.78 2.05 0 2.83L4 21.41c.39.39.9.59 1.41.59.51 0 1.02-.2 1.41-.59l7.78-7.78 2.81-2.81c.8-.78.8-2.07 0-2.86zM5.41 20L4 18.59l7.72-7.72 1.47 1.35L5.41 20z\"/>\n",
       "  </svg>\n",
       "      </button>\n",
       "      \n",
       "  <style>\n",
       "    .colab-df-container {\n",
       "      display:flex;\n",
       "      flex-wrap:wrap;\n",
       "      gap: 12px;\n",
       "    }\n",
       "\n",
       "    .colab-df-convert {\n",
       "      background-color: #E8F0FE;\n",
       "      border: none;\n",
       "      border-radius: 50%;\n",
       "      cursor: pointer;\n",
       "      display: none;\n",
       "      fill: #1967D2;\n",
       "      height: 32px;\n",
       "      padding: 0 0 0 0;\n",
       "      width: 32px;\n",
       "    }\n",
       "\n",
       "    .colab-df-convert:hover {\n",
       "      background-color: #E2EBFA;\n",
       "      box-shadow: 0px 1px 2px rgba(60, 64, 67, 0.3), 0px 1px 3px 1px rgba(60, 64, 67, 0.15);\n",
       "      fill: #174EA6;\n",
       "    }\n",
       "\n",
       "    [theme=dark] .colab-df-convert {\n",
       "      background-color: #3B4455;\n",
       "      fill: #D2E3FC;\n",
       "    }\n",
       "\n",
       "    [theme=dark] .colab-df-convert:hover {\n",
       "      background-color: #434B5C;\n",
       "      box-shadow: 0px 1px 3px 1px rgba(0, 0, 0, 0.15);\n",
       "      filter: drop-shadow(0px 1px 2px rgba(0, 0, 0, 0.3));\n",
       "      fill: #FFFFFF;\n",
       "    }\n",
       "  </style>\n",
       "\n",
       "      <script>\n",
       "        const buttonEl =\n",
       "          document.querySelector('#df-e55e6eaa-1f4c-456d-8520-32928513fcb1 button.colab-df-convert');\n",
       "        buttonEl.style.display =\n",
       "          google.colab.kernel.accessAllowed ? 'block' : 'none';\n",
       "\n",
       "        async function convertToInteractive(key) {\n",
       "          const element = document.querySelector('#df-e55e6eaa-1f4c-456d-8520-32928513fcb1');\n",
       "          const dataTable =\n",
       "            await google.colab.kernel.invokeFunction('convertToInteractive',\n",
       "                                                     [key], {});\n",
       "          if (!dataTable) return;\n",
       "\n",
       "          const docLinkHtml = 'Like what you see? Visit the ' +\n",
       "            '<a target=\"_blank\" href=https://colab.research.google.com/notebooks/data_table.ipynb>data table notebook</a>'\n",
       "            + ' to learn more about interactive tables.';\n",
       "          element.innerHTML = '';\n",
       "          dataTable['output_type'] = 'display_data';\n",
       "          await google.colab.output.renderOutput(dataTable, element);\n",
       "          const docLink = document.createElement('div');\n",
       "          docLink.innerHTML = docLinkHtml;\n",
       "          element.appendChild(docLink);\n",
       "        }\n",
       "      </script>\n",
       "    </div>\n",
       "  </div>\n",
       "  "
      ],
      "text/plain": [
       "        customerID MultipleLines\n",
       "count         6361          6361\n",
       "unique        6361             2\n",
       "top     5575-GNVDE            No\n",
       "freq             1          3390"
      ]
     },
     "execution_count": 395,
     "metadata": {},
     "output_type": "execute_result"
    }
   ],
   "source": [
    "phone.describe()"
   ]
  },
  {
   "cell_type": "code",
   "execution_count": null,
   "metadata": {
    "colab": {
     "base_uri": "https://localhost:8080/"
    },
    "id": "UMTGv7SymCk-",
    "outputId": "dbfd4a13-d467-45a2-b9f1-c4d0fc4036c1"
   },
   "outputs": [
    {
     "name": "stdout",
     "output_type": "stream",
     "text": [
      "\n",
      "phone дубликаты:\n",
      "0\n",
      "\n",
      "phone пропуски:\n"
     ]
    },
    {
     "data": {
      "text/plain": [
       "customerID       0\n",
       "MultipleLines    0\n",
       "dtype: int64"
      ]
     },
     "execution_count": 396,
     "metadata": {},
     "output_type": "execute_result"
    }
   ],
   "source": [
    "# Проверка дубликатов\n",
    "print('\\nphone дубликаты:')\n",
    "print(phone.duplicated().sum())\n",
    "# Проверка пропусков\n",
    "print('\\nphone пропуски:')\n",
    "phone.isna().sum()"
   ]
  },
  {
   "cell_type": "markdown",
   "metadata": {
    "id": "SSF-RA-imCk_"
   },
   "source": [
    "phone содержит информацию об услугах телефонии: тип подключения, наличие дополнительных опций.  \n",
    "Датафрейм содержит 6361 записей и 8 признаков.  \n",
    "Признак customerID является уникальным идентификатором клиента для объединения с другими датафреймами.  \n",
    "В столбце TotalCharges заполнены строки, которые могут быть приведены к числовому формату.  "
   ]
  },
  {
   "cell_type": "markdown",
   "metadata": {
    "id": "dHtB5WnHmCk_"
   },
   "source": [
    "### Предварительные выводы:\n",
    "\n",
    "Все датасеты не содержат пропущенных значений в признаках.      \n",
    "Необходимо привести записи в столбцах TotalCharges к числовому формату для датасетов personal, internet и phone."
   ]
  },
  {
   "cell_type": "markdown",
   "metadata": {
    "id": "VZbkMwirmClA"
   },
   "source": [
    "### План работы:\n",
    "\n",
    "Загрузить данные из четырёх источников и объединить их в один датафрейм.    \n",
    "Провести предварительный анализ данных: оценить количество записей и признаков, проверить наличие пропущенных значений и выбросов, изучить статистические характеристики каждого признака.  \n",
    "Провести исследовательский анализ данных: построить графики распределения признаков, изучить зависимости между признаками, оценить корреляцию между признаками.     \n",
    "Выбрать целевую переменную и признаки для модели прогнозирования оттока клиентов. Разделить данные на обучающую и тестовую выборки.     \n",
    "Обучить модель на обучающей выборке. Оценить качество модели на тестовой выборке.       \n",
    "Применить обученную модель для прогнозирования оттока клиентов на новых данных.     "
   ]
  },
  {
   "cell_type": "code",
   "execution_count": null,
   "metadata": {
    "id": "0Zc8ZufFo3vo"
   },
   "outputs": [],
   "source": [
    "# Объединение данных\n",
    "data = contracts.merge(personal, on='customerID', how='outer')\n",
    "data = data.merge(internet, on='customerID', how='outer')\n",
    "data = data.merge(phone, on='customerID', how='outer')"
   ]
  },
  {
   "cell_type": "code",
   "execution_count": null,
   "metadata": {
    "id": "ACpOgZrf8q9P"
   },
   "outputs": [],
   "source": [
    "# Удалим столбец 'customerID'\n",
    "data = data.drop('customerID', axis=1)"
   ]
  },
  {
   "cell_type": "code",
   "execution_count": null,
   "metadata": {
    "colab": {
     "base_uri": "https://localhost:8080/"
    },
    "id": "BWHczfz9xbQ_",
    "outputId": "e2c0b8e5-02ff-43a5-adbf-6159da76cd3f"
   },
   "outputs": [
    {
     "name": "stdout",
     "output_type": "stream",
     "text": [
      "<class 'pandas.core.frame.DataFrame'>\n",
      "Int64Index: 7043 entries, 0 to 7042\n",
      "Data columns (total 19 columns):\n",
      " #   Column            Non-Null Count  Dtype  \n",
      "---  ------            --------------  -----  \n",
      " 0   BeginDate         7043 non-null   object \n",
      " 1   EndDate           7043 non-null   object \n",
      " 2   Type              7043 non-null   object \n",
      " 3   PaperlessBilling  7043 non-null   object \n",
      " 4   PaymentMethod     7043 non-null   object \n",
      " 5   MonthlyCharges    7043 non-null   float64\n",
      " 6   TotalCharges      7043 non-null   object \n",
      " 7   gender            7043 non-null   object \n",
      " 8   SeniorCitizen     7043 non-null   int64  \n",
      " 9   Partner           7043 non-null   object \n",
      " 10  Dependents        7043 non-null   object \n",
      " 11  InternetService   5517 non-null   object \n",
      " 12  OnlineSecurity    5517 non-null   object \n",
      " 13  OnlineBackup      5517 non-null   object \n",
      " 14  DeviceProtection  5517 non-null   object \n",
      " 15  TechSupport       5517 non-null   object \n",
      " 16  StreamingTV       5517 non-null   object \n",
      " 17  StreamingMovies   5517 non-null   object \n",
      " 18  MultipleLines     6361 non-null   object \n",
      "dtypes: float64(1), int64(1), object(17)\n",
      "memory usage: 1.1+ MB\n"
     ]
    }
   ],
   "source": [
    "#Код ревьюера\n",
    "data.info()"
   ]
  },
  {
   "cell_type": "code",
   "execution_count": null,
   "metadata": {
    "colab": {
     "base_uri": "https://localhost:8080/"
    },
    "id": "C8JLdeNdriI-",
    "outputId": "ab5bd25f-160b-4bbb-9bfe-402303c98a5c"
   },
   "outputs": [
    {
     "name": "stdout",
     "output_type": "stream",
     "text": [
      "       BeginDate EndDate            Type PaperlessBilling  \\\n",
      "0     2020-01-01      No  Month-to-month              Yes   \n",
      "1     2017-04-01      No        One year               No   \n",
      "2     2019-10-01      No  Month-to-month              Yes   \n",
      "3     2016-05-01      No        One year               No   \n",
      "4     2019-09-01      No  Month-to-month              Yes   \n",
      "...          ...     ...             ...              ...   \n",
      "7038  2018-02-01      No        One year              Yes   \n",
      "7039  2014-02-01      No        One year              Yes   \n",
      "7040  2019-03-01      No  Month-to-month              Yes   \n",
      "7041  2019-07-01      No  Month-to-month              Yes   \n",
      "7042  2014-08-01      No        Two year              Yes   \n",
      "\n",
      "                  PaymentMethod  MonthlyCharges  TotalCharges  gender  \\\n",
      "0              Electronic check           29.85         31.04  Female   \n",
      "1                  Mailed check           56.95       2071.84    Male   \n",
      "2                  Mailed check           53.85        226.17    Male   \n",
      "3     Bank transfer (automatic)           42.30       1960.60    Male   \n",
      "4              Electronic check           70.70        353.50  Female   \n",
      "...                         ...             ...           ...     ...   \n",
      "7038               Mailed check           84.80       2035.20    Male   \n",
      "7039    Credit card (automatic)          103.20       7430.40  Female   \n",
      "7040           Electronic check           29.60        325.60  Female   \n",
      "7041               Mailed check           74.40        520.80    Male   \n",
      "7042  Bank transfer (automatic)          105.65       7251.82    Male   \n",
      "\n",
      "      SeniorCitizen Partner Dependents InternetService OnlineSecurity  \\\n",
      "0                 0     Yes         No             DSL             No   \n",
      "1                 0      No         No             DSL            Yes   \n",
      "2                 0      No         No             DSL            Yes   \n",
      "3                 0      No         No             DSL            Yes   \n",
      "4                 0      No         No     Fiber optic             No   \n",
      "...             ...     ...        ...             ...            ...   \n",
      "7038              0     Yes        Yes             DSL            Yes   \n",
      "7039              0     Yes        Yes     Fiber optic             No   \n",
      "7040              0     Yes        Yes             DSL            Yes   \n",
      "7041              1     Yes         No     Fiber optic             No   \n",
      "7042              0      No         No     Fiber optic            Yes   \n",
      "\n",
      "     OnlineBackup DeviceProtection TechSupport StreamingTV StreamingMovies  \\\n",
      "0             Yes               No          No          No              No   \n",
      "1              No              Yes          No          No              No   \n",
      "2             Yes               No          No          No              No   \n",
      "3              No              Yes         Yes          No              No   \n",
      "4              No               No          No          No              No   \n",
      "...           ...              ...         ...         ...             ...   \n",
      "7038           No              Yes         Yes         Yes             Yes   \n",
      "7039          Yes              Yes          No         Yes             Yes   \n",
      "7040           No               No          No          No              No   \n",
      "7041           No               No          No          No              No   \n",
      "7042           No              Yes         Yes         Yes             Yes   \n",
      "\n",
      "     MultipleLines  \n",
      "0              NaN  \n",
      "1               No  \n",
      "2               No  \n",
      "3              NaN  \n",
      "4               No  \n",
      "...            ...  \n",
      "7038           Yes  \n",
      "7039           Yes  \n",
      "7040           NaN  \n",
      "7041           Yes  \n",
      "7042            No  \n",
      "\n",
      "[7043 rows x 19 columns]\n"
     ]
    }
   ],
   "source": [
    "# заменяем пустые строки на пропуски\n",
    "data = data.replace(r'^\\s*$', np.nan, regex=True)\n",
    "\n",
    "# приводим столбцы TotalCharges и MonthlyCharges к числовому формату\n",
    "data['TotalCharges'] = pd.to_numeric(data['TotalCharges'])\n",
    "data['MonthlyCharges'] = pd.to_numeric(data['MonthlyCharges'])\n",
    "\n",
    "print(data)"
   ]
  },
  {
   "cell_type": "code",
   "execution_count": null,
   "metadata": {
    "colab": {
     "base_uri": "https://localhost:8080/"
    },
    "id": "NPUvk8katFfQ",
    "outputId": "a25543e7-0f0f-4abd-fc4c-87d3563e9c18"
   },
   "outputs": [
    {
     "name": "stdout",
     "output_type": "stream",
     "text": [
      "   begin_date end_date            type paperless_billing  \\\n",
      "0  2020-01-01       No  Month-to-month               Yes   \n",
      "1  2017-04-01       No        One year                No   \n",
      "2  2019-10-01       No  Month-to-month               Yes   \n",
      "3  2016-05-01       No        One year                No   \n",
      "4  2019-09-01       No  Month-to-month               Yes   \n",
      "\n",
      "              payment_method  monthly_charges  total_charges  gender  \\\n",
      "0           Electronic check            29.85          31.04  Female   \n",
      "1               Mailed check            56.95        2071.84    Male   \n",
      "2               Mailed check            53.85         226.17    Male   \n",
      "3  Bank transfer (automatic)            42.30        1960.60    Male   \n",
      "4           Electronic check            70.70         353.50  Female   \n",
      "\n",
      "   senior_citizen partner dependents internet_service online_security  \\\n",
      "0               0     Yes         No              DSL              No   \n",
      "1               0      No         No              DSL             Yes   \n",
      "2               0      No         No              DSL             Yes   \n",
      "3               0      No         No              DSL             Yes   \n",
      "4               0      No         No      Fiber optic              No   \n",
      "\n",
      "  online_backup device_protection tech_support streaming_tv streaming_movies  \\\n",
      "0           Yes                No           No           No               No   \n",
      "1            No               Yes           No           No               No   \n",
      "2           Yes                No           No           No               No   \n",
      "3            No               Yes          Yes           No               No   \n",
      "4            No                No           No           No               No   \n",
      "\n",
      "  multiple_lines  \n",
      "0            NaN  \n",
      "1             No  \n",
      "2             No  \n",
      "3            NaN  \n",
      "4             No  \n"
     ]
    }
   ],
   "source": [
    "data.columns = [re.sub(r'(?<!^)(?<![A-Z])(?=[A-Z])', '_', i).lower() for i in data.columns]\n",
    "\n",
    "# Просмотр первых 5 строк DataFrame\n",
    "print(data.head())"
   ]
  },
  {
   "cell_type": "code",
   "execution_count": null,
   "metadata": {
    "colab": {
     "base_uri": "https://localhost:8080/"
    },
    "id": "bH_jschbp8_s",
    "outputId": "0055d312-f165-43d8-9a32-b125a3366ef4"
   },
   "outputs": [
    {
     "name": "stdout",
     "output_type": "stream",
     "text": [
      "Количество записей: 7043\n",
      "Количество признаков: 19\n",
      "\n",
      "Сумма пропущенных значений в каждом столбце:\n",
      " begin_date              0\n",
      "end_date                0\n",
      "type                    0\n",
      "paperless_billing       0\n",
      "payment_method          0\n",
      "monthly_charges         0\n",
      "total_charges          11\n",
      "gender                  0\n",
      "senior_citizen          0\n",
      "partner                 0\n",
      "dependents              0\n",
      "internet_service     1526\n",
      "online_security      1526\n",
      "online_backup        1526\n",
      "device_protection    1526\n",
      "tech_support         1526\n",
      "streaming_tv         1526\n",
      "streaming_movies     1526\n",
      "multiple_lines        682\n",
      "dtype: int64\n",
      "\n",
      "Статистические характеристики числовых признаков:\n",
      "        monthly_charges  total_charges  senior_citizen\n",
      "count      7043.000000    7032.000000     7043.000000\n",
      "mean         64.761692    2118.621822        0.162147\n",
      "std          30.090047    2112.736199        0.368612\n",
      "min          18.250000      19.050000        0.000000\n",
      "25%          35.500000     439.745000        0.000000\n",
      "50%          70.350000    1345.275000        0.000000\n",
      "75%          89.850000    3239.317500        0.000000\n",
      "max         118.750000    9221.380000        1.000000\n"
     ]
    }
   ],
   "source": [
    "# Оценка количества записей и признаков\n",
    "print(f'Количество записей: {data.shape[0]}')\n",
    "print(f'Количество признаков: {data.shape[1]}')\n",
    "\n",
    "# Проверка наличия пропущенных значений\n",
    "print('\\nСумма пропущенных значений в каждом столбце:\\n', data.isnull().sum())\n",
    "\n",
    "# Изучение статистических характеристик каждого признака\n",
    "print('\\nСтатистические характеристики числовых признаков:\\n', data.describe())"
   ]
  },
  {
   "cell_type": "code",
   "execution_count": null,
   "metadata": {
    "id": "EwdEan502gqc"
   },
   "outputs": [],
   "source": [
    "# Удаление пропущенных значений в столбце TotalCharges\n",
    "data.dropna(subset=['total_charges'], inplace=True)\n",
    "\n",
    "# Список столбцов, которые требуют замены на значения, означающие отсутствие услуги\n",
    "replace_columns = ['online_security', 'online_backup', 'device_protection', 'internet_service',\n",
    "                   'tech_support', 'streaming_tv', 'streaming_movies', 'multiple_lines']\n",
    "\n",
    "# Проходим по каждому столбцу и заменяем пропущенные значения на значение \"No\"\n",
    "for col in replace_columns:\n",
    "    data[col].fillna(\"No\", inplace=True)"
   ]
  },
  {
   "cell_type": "code",
   "execution_count": null,
   "metadata": {
    "colab": {
     "base_uri": "https://localhost:8080/"
    },
    "id": "W7YZvJXN6HN0",
    "outputId": "2994d786-d656-4b56-b7af-2917c6c61633"
   },
   "outputs": [
    {
     "name": "stdout",
     "output_type": "stream",
     "text": [
      "\n",
      "Сумма пропущенных значений в каждом столбце:\n",
      " begin_date           0\n",
      "end_date             0\n",
      "type                 0\n",
      "paperless_billing    0\n",
      "payment_method       0\n",
      "monthly_charges      0\n",
      "total_charges        0\n",
      "gender               0\n",
      "senior_citizen       0\n",
      "partner              0\n",
      "dependents           0\n",
      "internet_service     0\n",
      "online_security      0\n",
      "online_backup        0\n",
      "device_protection    0\n",
      "tech_support         0\n",
      "streaming_tv         0\n",
      "streaming_movies     0\n",
      "multiple_lines       0\n",
      "dtype: int64\n"
     ]
    }
   ],
   "source": [
    "# Проверка наличия пропущенных значений\n",
    "print('\\nСумма пропущенных значений в каждом столбце:\\n', data.isnull().sum())"
   ]
  },
  {
   "cell_type": "code",
   "execution_count": null,
   "metadata": {
    "colab": {
     "base_uri": "https://localhost:8080/",
     "height": 472
    },
    "id": "dKtLgGiZB-g_",
    "outputId": "dde5cf79-795d-4b64-fdf3-3b41b28ac67d"
   },
   "outputs": [
    {
     "data": {
      "image/png": "[encoded data removed]",
      "text/plain": [
       "<Figure size 1000x500 with 2 Axes>"
      ]
     },
     "metadata": {},
     "output_type": "display_data"
    }
   ],
   "source": [
    "# Выбираем только числовые признаки\n",
    "numeric_features = ['total_charges', 'monthly_charges']\n",
    "\n",
    "# Создаем поле для всех графиков\n",
    "fig, axs = plt.subplots(1, len(numeric_features), figsize=(10, 5))\n",
    "\n",
    "# Строим boxplot для всех числовых признаков\n",
    "for i, col in enumerate(numeric_features):\n",
    "    axs[i].boxplot(data[col])\n",
    "    axs[i].set_title(col)\n",
    "\n",
    "plt.show()"
   ]
  },
  {
   "cell_type": "markdown",
   "metadata": {
    "id": "A_AF_QPGExUZ"
   },
   "source": [
    " На графике для столбца 'monthly_charges' явных выбросов со значениями более 120 нет, при этом можно отметить, что медианное значение находится около 70, скошенность распределения незначительна. Также можно увидеть, что основная часть значений лежит в диапазоне от 40 до 90.\n",
    "\n",
    "А по графику для столбца 'total_charges' мы можем заметить несколько значений, которые выходят за пределы \"усов\" графика и могут быть выбросами. Например, есть несколько значений примерно равных 8000, а также одно значение более 13000. Эти выбросы могут быть вызваны какими-то особыми условиями или ошибками в данных."
   ]
  },
  {
   "cell_type": "markdown",
   "metadata": {
    "id": "vzzwH1A8rlR1"
   },
   "source": [
    "Создадим новый столбец churn и заполним его значениями 1 (отток произошел) или 0 (оттока не было), основываясь на значении столбца EndDate. Если значение столбца равно No, то в новом столбце churn будет записано значение 0. Если значение столбца end_date не No, то это означает, что клиент покинул оператора связи, поэтому в новом столбце churn будет записано значение 1."
   ]
  },
  {
   "cell_type": "code",
   "execution_count": null,
   "metadata": {
    "id": "4ymUI3Tgow7F"
   },
   "outputs": [],
   "source": [
    "data['churn'] = np.where(data.end_date == 'No', 0, 1)"
   ]
  },
  {
   "cell_type": "markdown",
   "metadata": {
    "id": "z8zpchWTr6s8"
   },
   "source": [
    "Таким образом, столбец churn будет содержать бинарный целевой признак, который можно использовать для обучения модели прогнозирования оттока клиентов."
   ]
  },
  {
   "cell_type": "markdown",
   "metadata": {
    "id": "c5cyC98tDCzd"
   },
   "source": [
    "Чтобы добавить столбец \"tenure\" (продолжительность работы с компанией), расчитаем, сколько месяцев прошло с даты подключения каждого клиента. Для этого используем текущую дату (1 февраля 2020 года) и столбец \"begin_date\""
   ]
  },
  {
   "cell_type": "code",
   "execution_count": null,
   "metadata": {
    "id": "n3cV-t9ytvsn"
   },
   "outputs": [],
   "source": [
    "# Замена 'No' на текущую дату\n",
    "data['end_date'] = data['end_date'].replace('No', pd.to_datetime(CURRENT_DATE))\n",
    "\n",
    "# Преобразование столбцов в тип даты\n",
    "data['begin_date'] = pd.to_datetime(data['begin_date'], format='%Y-%m-%d')\n",
    "data['end_date'] = pd.to_datetime(data['end_date'], format='%Y-%m-%d')\n",
    "\n",
    "# Расчет длительности контракта\n",
    "data['tenure'] = (data['end_date'] - data['begin_date']).dt.days\n",
    "\n",
    "# Добавление признака tenure в numeric_features\n",
    "numeric_features = ['total_charges', 'monthly_charges', 'tenure']\n",
    "\n",
    "# Удаление столбцов 'begin_date' и 'end_date'\n",
    "data = data.drop(['begin_date', 'end_date'], axis=1)"
   ]
  },
  {
   "cell_type": "code",
   "execution_count": null,
   "metadata": {
    "colab": {
     "base_uri": "https://localhost:8080/",
     "height": 739
    },
    "id": "h6beePUqsYhv",
    "outputId": "70dcd0cd-edba-4f71-dd5b-1a4251f2301f"
   },
   "outputs": [
    {
     "name": "stderr",
     "output_type": "stream",
     "text": [
      "<ipython-input-409-3daf8dd47207>:2: FutureWarning: The default value of numeric_only in DataFrame.corr is deprecated. In a future version, it will default to False. Select only valid columns or specify the value of numeric_only to silence this warning.\n",
      "  corr_matrix = data.drop(['senior_citizen', 'churn'], axis=1).corr().round(2)\n"
     ]
    },
    {
     "data": {
      "image/png": "[encoded data removed]",
      "text/plain": [
       "<Figure size 1200x800 with 1 Axes>"
      ]
     },
     "metadata": {},
     "output_type": "display_data"
    }
   ],
   "source": [
    "# Корреляция между признаками\n",
    "corr_matrix = data.drop(['senior_citizen', 'churn'], axis=1).corr().round(2)\n",
    "\n",
    "# Отсекаем верхний треугольник\n",
    "mask = np.triu(np.ones_like(corr_matrix, dtype=bool))\n",
    "corr_matrix = corr_matrix.mask(mask)\n",
    "\n",
    "# Создаем график\n",
    "sns.set(style='white')\n",
    "plt.figure(figsize=(12, 8))\n",
    "sns.heatmap(corr_matrix, cmap='coolwarm', annot=True, fmt='.2f',\n",
    "            square=True, linewidths=.5, center=0, cbar=False)\n",
    "\n",
    "# Добавление заголовка\n",
    "plt.title('Correlation Matrix')\n",
    "\n",
    "\n",
    "plt.show()"
   ]
  },
  {
   "cell_type": "code",
   "execution_count": null,
   "metadata": {
    "colab": {
     "base_uri": "https://localhost:8080/",
     "height": 1000
    },
    "id": "TMZnzfOJIczo",
    "outputId": "5bd9b5a5-dab9-4199-d9c5-baca931dac92"
   },
   "outputs": [
    {
     "data": {
      "text/plain": [
       "<seaborn.axisgrid.FacetGrid at 0x7f575ca8be50>"
      ]
     },
     "execution_count": 410,
     "metadata": {},
     "output_type": "execute_result"
    },
    {
     "data": {
      "image/png": "[encoded data removed]",
      "text/plain": [
       "<Figure size 500x500 with 1 Axes>"
      ]
     },
     "metadata": {},
     "output_type": "display_data"
    },
    {
     "data": {
      "image/png": "[encoded data removed]",
      "text/plain": [
       "<Figure size 500x500 with 1 Axes>"
      ]
     },
     "metadata": {},
     "output_type": "display_data"
    },
    {
     "data": {
      "image/png": "[encoded data removed]",
      "text/plain": [
       "<Figure size 500x500 with 1 Axes>"
      ]
     },
     "metadata": {},
     "output_type": "display_data"
    },
    {
     "data": {
      "image/png": "[encoded data removed]",
      "text/plain": [
       "<Figure size 500x500 with 1 Axes>"
      ]
     },
     "metadata": {},
     "output_type": "display_data"
    },
    {
     "data": {
      "image/png": "[encoded data removed]",
      "text/plain": [
       "<Figure size 500x500 with 1 Axes>"
      ]
     },
     "metadata": {},
     "output_type": "display_data"
    }
   ],
   "source": [
    "# Построение распределения каждого числового признака\n",
    "sns.displot(data=data, x=\"monthly_charges\")  # Распределение ежемесячной платы\n",
    "sns.displot(data=data, x=\"tenure\")  # Распределение срока пользования услугами\n",
    "\n",
    "# График оттока по категориальным признакам\n",
    "sns.catplot(data=data, x=\"gender\", y=\"churn\", kind=\"bar\")  # Отток в зависимости от пола\n",
    "sns.catplot(data=data, x=\"internet_service\", y=\"churn\", kind=\"bar\")  # Отток в зависимости от типа интернет-услуги\n",
    "sns.catplot(data=data, x=\"type\", y=\"churn\", kind=\"bar\")  # Отток в зависимости от типа подписки"
   ]
  },
  {
   "cell_type": "markdown",
   "metadata": {
    "id": "QY00_aEZJ0mm"
   },
   "source": [
    "Первый график - это корреляционная матрица, которая показывает связь между всеми числовыми признаками в данных.\n",
    "\n",
    "Гистограммы распределения числовых признаков позволяют увидеть, как распределены значения каждого из числовых признаков.\n",
    "\n",
    "Барплоты оттока по категориальным признакам показывают долю клиентов, которые ушли (отток) в зависимости от различных категориальных признаков.\n",
    "\n",
    "Используя эти графики, можно сделать следующие выводы:\n",
    "\n",
    "Корреляционная матрица показывает, что признаки \"total_charges\" и \"monthly_charges\" имеют высокую корреляцию. Это может указывать на то, что чем больше клиент платит в месяц, тем больше он заплатит за все время.\n",
    "Доли оттока по категориальным признакам различаются: женщины уходят чаще, чем мужчины; клиенты с опцией интернет-сервиса DSL уходят реже, чем с опцией Fiber optic или без интернета; клиенты без опции \"online security\" и \"tech support\" уходят чаще, чем с этими опциями; клиенты с контрактом типа month-to-month уходят чаще, чем с долгосрочными контрактами.\n",
    "Эти выводы могут помочь бизнесу определить, какие признаки влияют на отток клиентов и какие действия необходимо предпринять для уменьшения оттока. Например, компания может предложить скидки на длительные контракты, расширить опции интернет-сервиса DSL или улучшить услуги поддержки для клиентов."
   ]
  },
  {
   "cell_type": "code",
   "execution_count": null,
   "metadata": {
    "colab": {
     "base_uri": "https://localhost:8080/"
    },
    "id": "TLm26ctTLe8i",
    "outputId": "d18786ba-0a6d-48ba-babb-792ccecdde58"
   },
   "outputs": [
    {
     "name": "stdout",
     "output_type": "stream",
     "text": [
      "churn              1.000000\n",
      "monthly_charges    0.153927\n",
      "senior_citizen     0.056444\n",
      "total_charges      0.051548\n",
      "tenure             0.015716\n",
      "Name: churn, dtype: float64\n"
     ]
    },
    {
     "name": "stderr",
     "output_type": "stream",
     "text": [
      "<ipython-input-411-c9c555a9f264>:2: FutureWarning: The default value of numeric_only in DataFrame.corr is deprecated. In a future version, it will default to False. Select only valid columns or specify the value of numeric_only to silence this warning.\n",
      "  correlation_matrix = data.corr()\n"
     ]
    }
   ],
   "source": [
    "# Исходная матрица корреляции\n",
    "correlation_matrix = data.corr()\n",
    "\n",
    "# Удаление столбца senior_citizen из матрицы корреляции\n",
    "updated_correlation_matrix = correlation_matrix.drop(['senior_citizen'], axis=1)\n",
    "updated_correlation_with_target = updated_correlation_matrix['churn'].sort_values(ascending=False)\n",
    "\n",
    "print(updated_correlation_with_target)"
   ]
  },
  {
   "cell_type": "code",
   "execution_count": null,
   "metadata": {
    "colab": {
     "base_uri": "https://localhost:8080/",
     "height": 1000
    },
    "id": "R9OMv0tfKy5Q",
    "outputId": "2c7f247e-b184-46cc-ffe2-fd69160db3ad"
   },
   "outputs": [
    {
     "data": {
      "image/png": "[encoded data removed]",
      "text/plain": [
       "<Figure size 1400x1400 with 2 Axes>"
      ]
     },
     "metadata": {},
     "output_type": "display_data"
    }
   ],
   "source": [
    "categorical_features = ['gender', 'partner', 'dependents', 'multiple_lines', 'internet_service',\n",
    "                       'online_security', 'online_backup', 'device_protection', 'tech_support', 'streaming_tv',\n",
    "                       'streaming_movies', 'type', 'paperless_billing', 'payment_method']\n",
    "\n",
    "numeric_features = ['total_charges', 'monthly_charges', 'tenure']\n",
    "\n",
    "# Создание матрицы корреляции Фай-Фи\n",
    "phi_k_matrix = phik.phik_matrix(data, interval_cols=numeric_features)\n",
    "\n",
    "# Отсекаем верхний треугольник\n",
    "mask = np.triu(np.ones_like(phi_k_matrix, dtype=bool))\n",
    "phi_k_matrix = phi_k_matrix.mask(mask)\n",
    "\n",
    "# Установка размера графика\n",
    "plt.figure(figsize=(14, 14))\n",
    "\n",
    "# Визуализация матрицы\n",
    "sns.heatmap(phi_k_matrix, annot=True, cmap='coolwarm')\n",
    "plt.title('Phik Matrix')\n",
    "plt.show()"
   ]
  },
  {
   "cell_type": "markdown",
   "metadata": {
    "id": "w783SHIbh6EZ"
   },
   "source": [
    "Анализ данных с использованием phi_k_matrix может предоставить следующие выводы:\n",
    "\n",
    "Существует положительная корреляция между типом подключения к интернету (internet_service) и такими услугами, как онлайн-безопасность (online_security), резервное копирование онлайн (online_backup), защита устройства (device_protection), техническая поддержка (tech_support), потоковое телевидение (streaming_tv) и потоковое видео (streaming_movies). Это означает, что клиенты, использующие определенный тип подключения к интернету, склонны подписываться на соответствующие услуги.\n",
    "\n",
    "Наблюдается отрицательная корреляция между факторами \"пол\" (gender) и \"наличие партнера\" (partner). Это может указывать на то, что мужчины и женщины имеют разные предпочтения при выборе услуг связи, а также что наличие партнера может влиять на эти предпочтения.\n",
    "\n",
    "Присутствует некоторая корреляция между типом оплаты (payment_method) и такими признаками, как бумажный счет (paperless_billing) и тип услуги (type). Например, определенные методы оплаты могут быть связаны с предпочтением электронного счета и определенного типа услуги."
   ]
  },
  {
   "cell_type": "code",
   "execution_count": null,
   "metadata": {
    "colab": {
     "base_uri": "https://localhost:8080/",
     "height": 852
    },
    "id": "B84Q1BrShYN8",
    "outputId": "92e0f676-9d15-473c-e51c-85ce59054754"
   },
   "outputs": [
    {
     "data": {
      "image/png": "[encoded data removed]",
      "text/plain": [
       "<Figure size 1000x800 with 1 Axes>"
      ]
     },
     "metadata": {},
     "output_type": "display_data"
    }
   ],
   "source": [
    "# Создание функции для вычисления коэффициента V Крамера\n",
    "def cramers_v(x, y):\n",
    "    confusion_matrix = pd.crosstab(x, y)\n",
    "    chi2, _, _, _ = chi2_contingency(confusion_matrix)\n",
    "    n = confusion_matrix.sum().sum()\n",
    "    phi2 = chi2 / n\n",
    "    r, k = confusion_matrix.shape\n",
    "    phi2corr = max(0, phi2 - ((k - 1) * (r - 1)) / (n - 1))\n",
    "    rcorr = r - ((r - 1) ** 2) / (n - 1)\n",
    "    kcorr = k - ((k - 1) ** 2) / (n - 1)\n",
    "    return np.sqrt(phi2corr / min((kcorr - 1), (rcorr - 1)))\n",
    "\n",
    "# Список категориальных признаков, которые нужно проверить на корреляцию с целевым признаком\n",
    "categorical_columns_to_check = ['gender', 'partner', 'dependents', 'multiple_lines', 'internet_service',\n",
    "                                'online_security', 'online_backup', 'device_protection', 'tech_support',\n",
    "                                'streaming_tv', 'streaming_movies', 'type', 'paperless_billing', 'payment_method']\n",
    "\n",
    "# Вычисление коэффициента V Крамера для каждой пары признаков и визуализация результата\n",
    "correlation_matrix = pd.DataFrame(index=categorical_columns_to_check, columns=['churn'])\n",
    "for column in categorical_columns_to_check:\n",
    "    correlation_matrix.loc[column, 'churn'] = cramers_v(data[column], data['churn'])\n",
    "\n",
    "plt.figure(figsize=(10, 8))\n",
    "sns.barplot(x=correlation_matrix.index, y='churn', data=correlation_matrix, color='skyblue')\n",
    "plt.title('Корреляция признаков с целевым признаком')\n",
    "plt.xlabel('Признаки')\n",
    "plt.ylabel('Корреляция (V Cramer)')\n",
    "plt.xticks(rotation=90)\n",
    "plt.show()"
   ]
  },
  {
   "cell_type": "markdown",
   "metadata": {
    "id": "XBlK6ClokXCb"
   },
   "source": [
    "Анализ коэффициента V Крамера и визуализаций его результатов позволяет сделать следующие выводы:\n",
    "\n",
    "Значение коэффициента V Крамера измеряет степень связи между категориальными признаками и целевым признаком \"churn\" (отток клиентов). Чем ближе значение к 1, тем сильнее связь между признаками.\n",
    "\n",
    "Исходя из визуализации матрицы корреляции Фай-Фи, можно заметить, что некоторые признаки имеют высокую корреляцию с целевым признаком \"churn\". Например, признаки \"type\" (тип контракта), \"internet_service\" (вид интернет-сервиса), \"online_security\" (наличие онлайн-безопасности) и \"tech_support\" (техническая поддержка) имеют значительную связь с оттоком клиентов.\n",
    "\n",
    "Визуализация графика показывает значения коэффициента V Крамера для каждого категориального признака относительно целевого признака \"churn\". Чем выше столбец на графике, тем сильнее связь между признаком и оттоком клиентов.\n",
    "\n",
    "На основе коэффициента V Крамера можно сделать выводы о важности различных категориальных признаков для прогнозирования оттока клиентов. Признаки с высокими значениями коэффициента V Крамера оказывают большее влияние на отток и могут использоваться для разработки стратегий удержания клиентов.\n",
    "\n",
    "Важно учесть, что коэффициент V Крамера измеряет только связь между категориальными признаками и целевым признаком, но не указывает на причинно-следственную связь. Дополнительный анализ и экспертное мнение могут помочь интерпретировать результаты и принять соответствующие решения."
   ]
  },
  {
   "cell_type": "code",
   "execution_count": null,
   "metadata": {
    "colab": {
     "base_uri": "https://localhost:8080/",
     "height": 317
    },
    "id": "iZWSUzezi6RK",
    "outputId": "d1e1b714-1440-4a1e-9377-f86b9ed13fd5"
   },
   "outputs": [
    {
     "data": {
      "image/png": "[encoded data removed]",
      "text/plain": [
       "<Figure size 300x200 with 1 Axes>"
      ]
     },
     "metadata": {},
     "output_type": "display_data"
    },
    {
     "name": "stdout",
     "output_type": "stream",
     "text": [
      "0    5931\n",
      "1    1101\n",
      "Name: churn, dtype: int64\n"
     ]
    }
   ],
   "source": [
    "# Подсчет количества записей каждого класса\n",
    "churn_counts = data['churn'].value_counts()\n",
    "\n",
    "\n",
    "\n",
    "# Визуализация распределения классов\n",
    "plt.figure(figsize=(3, 2))\n",
    "sns.countplot(data=data, x='churn')\n",
    "plt.xlabel('Churn')\n",
    "plt.ylabel('Count')\n",
    "plt.title('Распределение целевого признака')\n",
    "plt.show()\n",
    "\n",
    "print(churn_counts)"
   ]
  },
  {
   "cell_type": "code",
   "execution_count": null,
   "metadata": {
    "colab": {
     "base_uri": "https://localhost:8080/"
    },
    "id": "KADoRc0fr6XK",
    "outputId": "07f1a384-0cd3-452f-fcfc-01f5c293b680"
   },
   "outputs": [
    {
     "name": "stdout",
     "output_type": "stream",
     "text": [
      "Размер обучающей выборки: 5274\n",
      "Размер тестовой выборки: 1758\n"
     ]
    }
   ],
   "source": [
    "# Разделение набора данных на обучающую и тестовую выборки\n",
    "train, test = train_test_split(data, test_size=0.25, random_state=RANDOM_STATE, stratify=data['churn'])\n",
    "\n",
    "# Проверка размеров полученных выборок\n",
    "print(f'Размер обучающей выборки: {train.shape[0]}')\n",
    "print(f'Размер тестовой выборки: {test.shape[0]}')"
   ]
  },
  {
   "cell_type": "code",
   "execution_count": null,
   "metadata": {
    "id": "YrxH-U8ZQNaj"
   },
   "outputs": [],
   "source": [
    "# Создаем трансформеры для кодирования категориальных признаков и масштабирования числовых признаков:\n",
    "categorical_transformer = Pipeline(steps=[\n",
    "    ('onehot', OneHotEncoder(handle_unknown='ignore'))\n",
    "])\n",
    "\n",
    "numeric_transformer = Pipeline(steps=[\n",
    "    ('scaler', StandardScaler())\n",
    "])"
   ]
  },
  {
   "cell_type": "code",
   "execution_count": null,
   "metadata": {
    "colab": {
     "base_uri": "https://localhost:8080/"
    },
    "id": "pe7wDn81kNpm",
    "outputId": "9a48c970-2ba4-4abf-9789-49d0cf491304"
   },
   "outputs": [
    {
     "data": {
      "text/plain": [
       "['total_charges', 'monthly_charges', 'tenure']"
      ]
     },
     "execution_count": 417,
     "metadata": {},
     "output_type": "execute_result"
    }
   ],
   "source": [
    "#Код ревьюера\n",
    "numeric_features"
   ]
  },
  {
   "cell_type": "code",
   "execution_count": null,
   "metadata": {
    "id": "acVoQCChQbSX"
   },
   "outputs": [],
   "source": [
    "# Создаем итоговый преобразователь столбцов с помощью ColumnTransformer, комбинирующего кодирование категориальных и масштабирование числовых признаков:\n",
    "preprocessor = ColumnTransformer(\n",
    "    transformers=[\n",
    "        ('cat', categorical_transformer, categorical_features),\n",
    "        ('num', numeric_transformer, numeric_features)\n",
    "    ])"
   ]
  },
  {
   "cell_type": "code",
   "execution_count": null,
   "metadata": {
    "colab": {
     "base_uri": "https://localhost:8080/"
    },
    "id": "7Pd1oBhtkNpm",
    "outputId": "97e142e1-76c8-4091-de49-31493909ce87"
   },
   "outputs": [
    {
     "data": {
      "text/plain": [
       "['gender',\n",
       " 'partner',\n",
       " 'dependents',\n",
       " 'multiple_lines',\n",
       " 'internet_service',\n",
       " 'online_security',\n",
       " 'online_backup',\n",
       " 'device_protection',\n",
       " 'tech_support',\n",
       " 'streaming_tv',\n",
       " 'streaming_movies',\n",
       " 'type',\n",
       " 'paperless_billing',\n",
       " 'payment_method']"
      ]
     },
     "execution_count": 419,
     "metadata": {},
     "output_type": "execute_result"
    }
   ],
   "source": [
    "categorical_features"
   ]
  },
  {
   "cell_type": "code",
   "execution_count": null,
   "metadata": {
    "id": "WwIkel4vQmqu"
   },
   "outputs": [],
   "source": [
    "# Создаем пайплайн для линейной модели:\n",
    "linear_pipeline = Pipeline(steps=[\n",
    "    ('preprocessor', preprocessor),\n",
    "    ('classifier', LogisticRegression(random_state=RANDOM_STATE))\n",
    "])"
   ]
  },
  {
   "cell_type": "code",
   "execution_count": null,
   "metadata": {
    "id": "sXLP1irpQuzp"
   },
   "outputs": [],
   "source": [
    "# Создаем пайплайн для модели LightGBM:\n",
    "lgb_pipeline = Pipeline(steps=[\n",
    "    ('preprocessor', preprocessor),\n",
    "    ('classifier', lgb.LGBMClassifier(random_state=RANDOM_STATE))\n",
    "])"
   ]
  },
  {
   "cell_type": "code",
   "execution_count": null,
   "metadata": {
    "id": "_1EYS5KWQ3GI"
   },
   "outputs": [],
   "source": [
    "# Разделиим данные на обучающую и тестовую выборки:\n",
    "X_train, X_test, y_train, y_test = train_test_split(data.drop('churn', axis=1), data['churn'],\n",
    "                                                    test_size=0.25, random_state=RANDOM_STATE, stratify=data['churn'])"
   ]
  },
  {
   "cell_type": "code",
   "execution_count": null,
   "metadata": {
    "id": "Dou43apgQ_J9"
   },
   "outputs": [],
   "source": [
    "# Подбор параметров с помощью GridSearchCV для линейной модели\n",
    "linear_params = {'classifier__C': [0.1, 1, 10]}\n",
    "linear_grid_search = GridSearchCV(linear_pipeline, param_grid=linear_params, cv=5, scoring='roc_auc')\n",
    "linear_grid_search.fit(X_train, y_train)\n",
    "\n",
    "best_linear_model = linear_grid_search.best_estimator_"
   ]
  },
  {
   "cell_type": "code",
   "execution_count": null,
   "metadata": {
    "colab": {
     "base_uri": "https://localhost:8080/"
    },
    "id": "73x7V0SDRoQh",
    "outputId": "44c2d0e8-3760-43d9-c44f-c8fda46b202a"
   },
   "outputs": [
    {
     "name": "stdout",
     "output_type": "stream",
     "text": [
      "[LightGBM] [Warning] num_threads is set=1, n_jobs=-1 will be ignored. Current value: num_threads=1\n",
      "[LightGBM] [Warning] num_threads is set=1, n_jobs=-1 will be ignored. Current value: num_threads=1\n",
      "[LightGBM] [Warning] num_threads is set=1, n_jobs=-1 will be ignored. Current value: num_threads=1\n",
      "[LightGBM] [Warning] num_threads is set=1, n_jobs=-1 will be ignored. Current value: num_threads=1\n",
      "[LightGBM] [Warning] num_threads is set=1, n_jobs=-1 will be ignored. Current value: num_threads=1\n",
      "[LightGBM] [Warning] num_threads is set=1, n_jobs=-1 will be ignored. Current value: num_threads=1\n",
      "[LightGBM] [Warning] num_threads is set=1, n_jobs=-1 will be ignored. Current value: num_threads=1\n",
      "[LightGBM] [Warning] num_threads is set=1, n_jobs=-1 will be ignored. Current value: num_threads=1\n",
      "[LightGBM] [Warning] num_threads is set=1, n_jobs=-1 will be ignored. Current value: num_threads=1\n",
      "[LightGBM] [Warning] num_threads is set=1, n_jobs=-1 will be ignored. Current value: num_threads=1\n",
      "[LightGBM] [Warning] num_threads is set=1, n_jobs=-1 will be ignored. Current value: num_threads=1\n",
      "[LightGBM] [Warning] num_threads is set=1, n_jobs=-1 will be ignored. Current value: num_threads=1\n",
      "[LightGBM] [Warning] num_threads is set=1, n_jobs=-1 will be ignored. Current value: num_threads=1\n",
      "[LightGBM] [Warning] num_threads is set=1, n_jobs=-1 will be ignored. Current value: num_threads=1\n",
      "[LightGBM] [Warning] num_threads is set=1, n_jobs=-1 will be ignored. Current value: num_threads=1\n",
      "[LightGBM] [Warning] num_threads is set=1, n_jobs=-1 will be ignored. Current value: num_threads=1\n",
      "[LightGBM] [Warning] num_threads is set=1, n_jobs=-1 will be ignored. Current value: num_threads=1\n",
      "[LightGBM] [Warning] num_threads is set=1, n_jobs=-1 will be ignored. Current value: num_threads=1\n",
      "[LightGBM] [Warning] num_threads is set=1, n_jobs=-1 will be ignored. Current value: num_threads=1\n",
      "[LightGBM] [Warning] num_threads is set=1, n_jobs=-1 will be ignored. Current value: num_threads=1\n",
      "[LightGBM] [Warning] num_threads is set=1, n_jobs=-1 will be ignored. Current value: num_threads=1\n",
      "[LightGBM] [Warning] num_threads is set=1, n_jobs=-1 will be ignored. Current value: num_threads=1\n",
      "[LightGBM] [Warning] num_threads is set=1, n_jobs=-1 will be ignored. Current value: num_threads=1\n",
      "[LightGBM] [Warning] num_threads is set=1, n_jobs=-1 will be ignored. Current value: num_threads=1\n",
      "[LightGBM] [Warning] num_threads is set=1, n_jobs=-1 will be ignored. Current value: num_threads=1\n",
      "[LightGBM] [Warning] num_threads is set=1, n_jobs=-1 will be ignored. Current value: num_threads=1\n",
      "[LightGBM] [Warning] num_threads is set=1, n_jobs=-1 will be ignored. Current value: num_threads=1\n",
      "[LightGBM] [Warning] num_threads is set=1, n_jobs=-1 will be ignored. Current value: num_threads=1\n",
      "[LightGBM] [Warning] num_threads is set=1, n_jobs=-1 will be ignored. Current value: num_threads=1\n",
      "[LightGBM] [Warning] num_threads is set=1, n_jobs=-1 will be ignored. Current value: num_threads=1\n",
      "[LightGBM] [Warning] num_threads is set=1, n_jobs=-1 will be ignored. Current value: num_threads=1\n"
     ]
    }
   ],
   "source": [
    "# Подбор параметров с помощью GridSearchCV для LightGBM\n",
    "lgbm_params = {\n",
    "    'classifier__learning_rate': [0.01, 0.1],\n",
    "    'classifier__max_depth': [3, 5, 7],\n",
    "    'classifier__num_threads': [1]\n",
    "}\n",
    "\n",
    "lgbm_grid_search = GridSearchCV(lgb_pipeline, param_grid=lgbm_params, cv=5, scoring='roc_auc')\n",
    "lgbm_grid_search.fit(X_train, y_train)\n",
    "\n",
    "best_lgbm_model = lgbm_grid_search.best_estimator_"
   ]
  },
  {
   "cell_type": "code",
   "execution_count": null,
   "metadata": {
    "colab": {
     "base_uri": "https://localhost:8080/"
    },
    "id": "WT_g1IlKVT-J",
    "outputId": "a982dec3-7e7a-4275-f20c-bf9a34d1bd05"
   },
   "outputs": [
    {
     "name": "stdout",
     "output_type": "stream",
     "text": [
      "Лучшая модель: Pipeline(steps=[('preprocessor',\n",
      "                 ColumnTransformer(transformers=[('cat',\n",
      "                                                  Pipeline(steps=[('onehot',\n",
      "                                                                   OneHotEncoder(handle_unknown='ignore'))]),\n",
      "                                                  ['gender', 'partner',\n",
      "                                                   'dependents',\n",
      "                                                   'multiple_lines',\n",
      "                                                   'internet_service',\n",
      "                                                   'online_security',\n",
      "                                                   'online_backup',\n",
      "                                                   'device_protection',\n",
      "                                                   'tech_support',\n",
      "                                                   'streaming_tv',\n",
      "                                                   'streaming_movies', 'type',\n",
      "                                                   'paperless_billing',\n",
      "                                                   'payment_method']),\n",
      "                                                 ('num',\n",
      "                                                  Pipeline(steps=[('scaler',\n",
      "                                                                   StandardScaler())]),\n",
      "                                                  ['total_charges',\n",
      "                                                   'monthly_charges',\n",
      "                                                   'tenure'])])),\n",
      "                ('classifier',\n",
      "                 LGBMClassifier(max_depth=7, num_threads=1,\n",
      "                                random_state=190623))])\n",
      "Лучшая метрика кросс-валидации: 0.8509178272888921\n"
     ]
    }
   ],
   "source": [
    "if linear_grid_search.best_score_ > lgbm_grid_search.best_score_:\n",
    "    best_model = best_linear_model\n",
    "    best_score = linear_grid_search.best_score_\n",
    "else:\n",
    "    best_model = best_lgbm_model\n",
    "    best_score = lgbm_grid_search.best_score_\n",
    "\n",
    "print(\"Лучшая модель:\", best_model)\n",
    "print(\"Лучшая метрика кросс-валидации:\", best_score)"
   ]
  },
  {
   "cell_type": "code",
   "execution_count": null,
   "metadata": {
    "colab": {
     "base_uri": "https://localhost:8080/"
    },
    "id": "DR3C1OQCUb7E",
    "outputId": "0ad2b205-14b8-4201-b28e-37ffc568e983"
   },
   "outputs": [
    {
     "name": "stdout",
     "output_type": "stream",
     "text": [
      "Лучшая модель LightGBM: Pipeline(steps=[('preprocessor',\n",
      "                 ColumnTransformer(transformers=[('cat',\n",
      "                                                  Pipeline(steps=[('onehot',\n",
      "                                                                   OneHotEncoder(handle_unknown='ignore'))]),\n",
      "                                                  ['gender', 'partner',\n",
      "                                                   'dependents',\n",
      "                                                   'multiple_lines',\n",
      "                                                   'internet_service',\n",
      "                                                   'online_security',\n",
      "                                                   'online_backup',\n",
      "                                                   'device_protection',\n",
      "                                                   'tech_support',\n",
      "                                                   'streaming_tv',\n",
      "                                                   'streaming_movies', 'type',\n",
      "                                                   'paperless_billing',\n",
      "                                                   'payment_method']),\n",
      "                                                 ('num',\n",
      "                                                  Pipeline(steps=[('scaler',\n",
      "                                                                   StandardScaler())]),\n",
      "                                                  ['total_charges',\n",
      "                                                   'monthly_charges',\n",
      "                                                   'tenure'])])),\n",
      "                ('classifier',\n",
      "                 LGBMClassifier(max_depth=7, num_threads=1,\n",
      "                                random_state=190623))])\n",
      "ROC AUC для лучшей модели LightGBM: 0.8776938637896157\n"
     ]
    }
   ],
   "source": [
    "# Тестирование модели\n",
    "\n",
    "lgbm_auc = roc_auc_score(y_test, best_lgbm_model.predict_proba(X_test)[:, 1])\n",
    "\n",
    "print(\"Лучшая модель LightGBM:\", best_lgbm_model)\n",
    "print(\"ROC AUC для лучшей модели LightGBM:\", lgbm_auc)"
   ]
  },
  {
   "cell_type": "code",
   "execution_count": null,
   "metadata": {
    "id": "wN7gm18dL9aM"
   },
   "outputs": [],
   "source": [
    "# Получим прогнозы модели LightGBM на тестовой выборке:\n",
    "y_pred_lgbm = best_lgbm_model.predict(X_test)"
   ]
  },
  {
   "cell_type": "code",
   "execution_count": null,
   "metadata": {
    "id": "cVQqi-liMSZW"
   },
   "outputs": [],
   "source": [
    "# Создадим матрицу ошибок для модели LightGBM с помощью функции confusion_matrix:\n",
    "cm_lgbm = confusion_matrix(y_test, y_pred_lgbm)"
   ]
  },
  {
   "cell_type": "code",
   "execution_count": null,
   "metadata": {
    "colab": {
     "base_uri": "https://localhost:8080/",
     "height": 480
    },
    "id": "zZK4O8qIMV5W",
    "outputId": "c206b560-fdab-4843-99af-53a2d2b20dd1"
   },
   "outputs": [
    {
     "data": {
      "image/png": "[encoded data removed]",
      "text/plain": [
       "<Figure size 640x480 with 2 Axes>"
      ]
     },
     "metadata": {},
     "output_type": "display_data"
    }
   ],
   "source": [
    "# Отобразим матрицу ошибок модели LightGBM в графическом виде\n",
    "sns.heatmap(cm_lgbm, annot=True, cmap='Blues', fmt='d')\n",
    "plt.xlabel('Predicted')\n",
    "plt.ylabel('True')\n",
    "plt.title('Confusion Matrix - LightGBM')\n",
    "plt.show()"
   ]
  },
  {
   "cell_type": "code",
   "execution_count": null,
   "metadata": {
    "colab": {
     "base_uri": "https://localhost:8080/",
     "height": 480
    },
    "id": "ppqD5ApX1VO-",
    "outputId": "62b76b85-8db7-4d2d-acee-2653727a83d0"
   },
   "outputs": [
    {
     "data": {
      "image/png": "[encoded data removed]",
      "text/plain": [
       "<Figure size 640x480 with 1 Axes>"
      ]
     },
     "metadata": {},
     "output_type": "display_data"
    }
   ],
   "source": [
    "# Получим вероятности принадлежности к положительному классу\n",
    "y_pred_prob_lgbm = best_lgbm_model.predict_proba(X_test)[:, 1]\n",
    "\n",
    "# Рассчитаем значения false positive rate и true positive rate\n",
    "fpr, tpr, _ = roc_curve(y_test, y_pred_prob_lgbm)\n",
    "\n",
    "# Рассчитаем значение площади под кривой (AUC)\n",
    "roc_auc = auc(fpr, tpr)\n",
    "\n",
    "# Построим ROC-кривую\n",
    "sns.lineplot(x=fpr, y=tpr, color='darkorange', lw=2, label='ROC-кривая (площадь = %0.2f)' % roc_auc)\n",
    "plt.plot([0, 1], [0, 1], color='navy', lw=2, linestyle='--')\n",
    "plt.xlim([0.0, 1.0])\n",
    "plt.ylim([0.0, 1.05])\n",
    "plt.xlabel('Ложноположительное решение')\n",
    "plt.ylabel('Истинноположительное решение')\n",
    "plt.title('ROC-кривая - LightGBM')\n",
    "plt.legend(loc=\"lower right\")\n",
    "plt.show()"
   ]
  },
  {
   "cell_type": "code",
   "execution_count": null,
   "metadata": {
    "id": "A-iJ9XahMYfG"
   },
   "outputs": [],
   "source": [
    "# Посчитаем важность признаков модели LightGBM\n",
    "preprocessor = best_lgbm_model.named_steps['preprocessor']\n",
    "numeric_transformer = preprocessor.transformers_[1][1]\n",
    "\n",
    "feature_names = list(preprocessor.transformers_[0][1].get_feature_names_out()) + numeric_features\n",
    "feature_importance_lgbm = pd.DataFrame(best_lgbm_model.named_steps['classifier'].feature_importances_, index=feature_names, columns=['Importance'])\n",
    "feature_importance_lgbm = feature_importance_lgbm.sort_values(by='Importance', ascending=False)"
   ]
  },
  {
   "cell_type": "code",
   "execution_count": null,
   "metadata": {
    "id": "g85agxQMkNpo"
   },
   "outputs": [],
   "source": []
  },
  {
   "cell_type": "code",
   "execution_count": null,
   "metadata": {
    "colab": {
     "base_uri": "https://localhost:8080/",
     "height": 898
    },
    "id": "jJTkOAe8M5kZ",
    "outputId": "c1ad56a6-ab4d-40a5-914e-12091680bddd"
   },
   "outputs": [
    {
     "data": {
      "image/png": "[encoded data removed]",
      "text/plain": [
       "<Figure size 1000x600 with 1 Axes>"
      ]
     },
     "metadata": {},
     "output_type": "display_data"
    }
   ],
   "source": [
    "# Выведем результаты анализа важности признаков модели LightGBM и отобразить их в графическом виде:\n",
    "plt.figure(figsize=(10, 6))\n",
    "sns.barplot(x=feature_importance_lgbm.index, y=feature_importance_lgbm['Importance'])\n",
    "plt.xticks(rotation=90)\n",
    "plt.xlabel('Признак')\n",
    "plt.ylabel('Важность признака')\n",
    "plt.title('Важность признаков для лучшей модели LightGBM')\n",
    "plt.show()"
   ]
  },
  {
   "cell_type": "markdown",
   "metadata": {
    "id": "r6JQxhLaeZct"
   },
   "source": [
    "### Отчет по решению задачи:\n",
    "\n",
    "В ходе выполнения проекта были выполнены следующие пункты плана:\n",
    "\n",
    "**Загрузка данных:** Данные были успешно загружены из четырех источников и объединены в один датафрейм.\n",
    "\n",
    "**Предварительный анализ данных:** Был проведен предварительный анализ данных, который включал оценку количества записей и признаков, проверку наличия пропущенных значений и выбросов, а также изучение статистических характеристик каждого признака. Этот шаг помог нам получить общее представление о данных и их качестве.\n",
    "\n",
    "**Исследовательский анализ данных:** Мы построили графики распределения признаков, изучили зависимости между признаками и оценили корреляцию между ними. Это позволило нам получить дополнительное понимание данных и их взаимосвязей.\n",
    "\n",
    "**Выбор целевой переменной и признаков:** Мы определили целевую переменную (отток клиентов) и выбрали соответствующие признаки для модели прогнозирования. Далее данные были разделены на обучающую и тестовую выборки.\n",
    "\n",
    "**Обучение и оценка модели:** Мы обучили две модели Linerar и LightGBM на обучающей выборке с  категориальными признаками 'gender', 'partner',\n",
    "                                                   'dependents',\n",
    "                                                   'multiple_lines',\n",
    "                                                   'internet_service',\n",
    "                                                   'online_security',\n",
    "                                                   'online_backup',\n",
    "                                                   'device_protection',\n",
    "                                                   'tech_support',\n",
    "                                                   'streaming_tv',\n",
    "                                                   'streaming_movies', 'type',\n",
    "                                                   'paperless_billing',\n",
    "                                                   'payment_method'\n",
    "                                                 и числовыми признаками\n",
    "                                                  'total_charges',\n",
    "                                                   'monthly_charges',\n",
    "                                                   'tenure' и подобрали оптимальные гиперпараметры модели через кросс-валидацию. Затем мы оценили качество моделей на кросс-валидации, используя метрику оценки ROC AUC. Выбрали лучшую модель - LightGBM с метрикой, равной 0.8509178272888921\n",
    "\n",
    "**Применение модели на новых данных:** Наконец, мы применили обученную модель LightGBM с гиперпараметрами max_depth=7, num_threads=1,\n",
    "                                random_state=190623 для прогнозирования оттока клиентов на новых данных, которые не участвовали в обучении модели. Это позволило оценить работоспособность модели в реальных условиях и проверить её способность делать предсказания на новых наблюдениях. Метрика ROC AUC на тестовой выборке составила 0.8776938637896157\n",
    "\n",
    "**Трудности, возникшие в процессе работы:** Пропущенные значения, выбросы, Feature engineering, сложности в настройке моделей. Для преодоления этих трудностей мы использовали различные подходы, такие как Feature engineering - создали два новых признака из существующих, такие, как длительность обслучивания - tenure и целевой признак churn - определяющий отток клиентов, методы заполнения пропущенных значений и методы обработки выбросов. Также мы проводили итерационный анализ результатов и корректировали параметры моделей для достижения лучшего качества."
   ]
  }
 ],
 "metadata": {
  "ExecuteTimeLog": [
   {
    "duration": 9940,
    "start_time": "2023-06-30T10:43:17.206Z"
   },
   {
    "duration": 4708,
    "start_time": "2023-06-30T10:43:27.151Z"
   },
   {
    "duration": 475,
    "start_time": "2023-06-30T10:43:31.862Z"
   },
   {
    "duration": 42,
    "start_time": "2023-06-30T10:43:32.340Z"
   },
   {
    "duration": 132,
    "start_time": "2023-06-30T10:43:32.384Z"
   },
   {
    "duration": 44,
    "start_time": "2023-06-30T10:43:32.519Z"
   },
   {
    "duration": 79,
    "start_time": "2023-06-30T10:43:32.566Z"
   },
   {
    "duration": 63,
    "start_time": "2023-06-30T10:43:32.648Z"
   },
   {
    "duration": 61,
    "start_time": "2023-06-30T10:43:32.714Z"
   },
   {
    "duration": 65,
    "start_time": "2023-06-30T10:43:32.783Z"
   },
   {
    "duration": 127,
    "start_time": "2023-06-30T10:43:32.851Z"
   },
   {
    "duration": 131,
    "start_time": "2023-06-30T10:43:32.981Z"
   },
   {
    "duration": 57,
    "start_time": "2023-06-30T10:43:33.116Z"
   },
   {
    "duration": 84,
    "start_time": "2023-06-30T10:43:33.186Z"
   },
   {
    "duration": 46,
    "start_time": "2023-06-30T10:43:33.272Z"
   },
   {
    "duration": 15,
    "start_time": "2023-06-30T10:43:33.321Z"
   },
   {
    "duration": 24,
    "start_time": "2023-06-30T10:43:33.339Z"
   },
   {
    "duration": 116,
    "start_time": "2023-06-30T10:43:33.365Z"
   },
   {
    "duration": 42,
    "start_time": "2023-06-30T10:43:33.487Z"
   },
   {
    "duration": 95,
    "start_time": "2023-06-30T10:43:33.533Z"
   },
   {
    "duration": 272,
    "start_time": "2023-06-30T10:43:33.630Z"
   },
   {
    "duration": 20,
    "start_time": "2023-06-30T10:43:33.905Z"
   },
   {
    "duration": 84,
    "start_time": "2023-06-30T10:43:33.928Z"
   },
   {
    "duration": 18,
    "start_time": "2023-06-30T10:43:34.014Z"
   },
   {
    "duration": 11,
    "start_time": "2023-06-30T10:43:34.034Z"
   },
   {
    "duration": 326,
    "start_time": "2023-06-30T10:43:34.047Z"
   },
   {
    "duration": 7,
    "start_time": "2023-06-30T10:43:34.375Z"
   },
   {
    "duration": 57,
    "start_time": "2023-06-30T10:43:34.388Z"
   },
   {
    "duration": 62,
    "start_time": "2023-06-30T10:43:34.448Z"
   },
   {
    "duration": 587,
    "start_time": "2023-06-30T10:43:34.514Z"
   },
   {
    "duration": 3782,
    "start_time": "2023-06-30T10:43:35.111Z"
   },
   {
    "duration": 19,
    "start_time": "2023-06-30T10:43:38.906Z"
   },
   {
    "duration": 2408,
    "start_time": "2023-06-30T10:43:38.927Z"
   },
   {
    "duration": 651,
    "start_time": "2023-06-30T10:43:41.338Z"
   },
   {
    "duration": 147,
    "start_time": "2023-06-30T10:43:41.991Z"
   },
   {
    "duration": 28,
    "start_time": "2023-06-30T10:43:42.141Z"
   },
   {
    "duration": 41,
    "start_time": "2023-06-30T10:43:42.171Z"
   },
   {
    "duration": 9,
    "start_time": "2023-06-30T10:43:42.215Z"
   },
   {
    "duration": 18,
    "start_time": "2023-06-30T10:43:42.226Z"
   },
   {
    "duration": 23,
    "start_time": "2023-06-30T10:43:42.247Z"
   },
   {
    "duration": 64,
    "start_time": "2023-06-30T10:43:42.278Z"
   },
   {
    "duration": 21737,
    "start_time": "2023-06-30T10:43:42.344Z"
   },
   {
    "duration": 5650,
    "start_time": "2023-06-30T10:44:04.113Z"
   },
   {
    "duration": 43,
    "start_time": "2023-06-30T10:44:09.769Z"
   },
   {
    "duration": 47,
    "start_time": "2023-06-30T10:44:09.814Z"
   },
   {
    "duration": 32,
    "start_time": "2023-06-30T10:44:09.863Z"
   },
   {
    "duration": 22,
    "start_time": "2023-06-30T10:44:09.902Z"
   },
   {
    "duration": 406,
    "start_time": "2023-06-30T10:44:09.928Z"
   },
   {
    "duration": 208,
    "start_time": "2023-06-30T10:44:10.336Z"
   },
   {
    "duration": 0,
    "start_time": "2023-06-30T10:44:10.546Z"
   },
   {
    "duration": 3089,
    "start_time": "2023-06-30T10:44:32.880Z"
   },
   {
    "duration": 3009,
    "start_time": "2023-06-30T10:44:35.973Z"
   },
   {
    "duration": 314,
    "start_time": "2023-06-30T10:44:38.991Z"
   },
   {
    "duration": 25,
    "start_time": "2023-06-30T10:44:39.308Z"
   },
   {
    "duration": 42,
    "start_time": "2023-06-30T10:44:39.337Z"
   },
   {
    "duration": 43,
    "start_time": "2023-06-30T10:44:39.383Z"
   },
   {
    "duration": 53,
    "start_time": "2023-06-30T10:44:39.428Z"
   },
   {
    "duration": 23,
    "start_time": "2023-06-30T10:44:39.494Z"
   },
   {
    "duration": 35,
    "start_time": "2023-06-30T10:44:39.519Z"
   },
   {
    "duration": 52,
    "start_time": "2023-06-30T10:44:39.561Z"
   },
   {
    "duration": 19,
    "start_time": "2023-06-30T10:44:39.615Z"
   },
   {
    "duration": 23,
    "start_time": "2023-06-30T10:44:39.637Z"
   },
   {
    "duration": 50,
    "start_time": "2023-06-30T10:44:39.663Z"
   },
   {
    "duration": 42,
    "start_time": "2023-06-30T10:44:39.718Z"
   },
   {
    "duration": 27,
    "start_time": "2023-06-30T10:44:39.762Z"
   },
   {
    "duration": 17,
    "start_time": "2023-06-30T10:44:39.793Z"
   },
   {
    "duration": 17,
    "start_time": "2023-06-30T10:44:39.813Z"
   },
   {
    "duration": 89,
    "start_time": "2023-06-30T10:44:39.833Z"
   },
   {
    "duration": 43,
    "start_time": "2023-06-30T10:44:39.925Z"
   },
   {
    "duration": 54,
    "start_time": "2023-06-30T10:44:39.970Z"
   },
   {
    "duration": 20,
    "start_time": "2023-06-30T10:44:40.027Z"
   },
   {
    "duration": 265,
    "start_time": "2023-06-30T10:44:40.049Z"
   },
   {
    "duration": 19,
    "start_time": "2023-06-30T10:44:40.317Z"
   },
   {
    "duration": 55,
    "start_time": "2023-06-30T10:44:40.338Z"
   },
   {
    "duration": 40,
    "start_time": "2023-06-30T10:44:40.396Z"
   },
   {
    "duration": 22,
    "start_time": "2023-06-30T10:44:40.443Z"
   },
   {
    "duration": 345,
    "start_time": "2023-06-30T10:44:40.467Z"
   },
   {
    "duration": 6,
    "start_time": "2023-06-30T10:44:40.815Z"
   },
   {
    "duration": 25,
    "start_time": "2023-06-30T10:44:40.823Z"
   },
   {
    "duration": 39,
    "start_time": "2023-06-30T10:44:40.851Z"
   },
   {
    "duration": 421,
    "start_time": "2023-06-30T10:44:40.893Z"
   },
   {
    "duration": 3098,
    "start_time": "2023-06-30T10:44:41.317Z"
   },
   {
    "duration": 9,
    "start_time": "2023-06-30T10:44:44.418Z"
   },
   {
    "duration": 2268,
    "start_time": "2023-06-30T10:44:44.431Z"
   },
   {
    "duration": 688,
    "start_time": "2023-06-30T10:44:46.702Z"
   },
   {
    "duration": 127,
    "start_time": "2023-06-30T10:44:47.397Z"
   },
   {
    "duration": 13,
    "start_time": "2023-06-30T10:44:47.526Z"
   },
   {
    "duration": 5,
    "start_time": "2023-06-30T10:44:47.551Z"
   },
   {
    "duration": 39,
    "start_time": "2023-06-30T10:44:47.558Z"
   },
   {
    "duration": 6,
    "start_time": "2023-06-30T10:44:47.600Z"
   },
   {
    "duration": 7,
    "start_time": "2023-06-30T10:44:47.613Z"
   },
   {
    "duration": 28,
    "start_time": "2023-06-30T10:44:47.622Z"
   },
   {
    "duration": 22505,
    "start_time": "2023-06-30T10:44:47.664Z"
   },
   {
    "duration": 5615,
    "start_time": "2023-06-30T10:45:10.187Z"
   },
   {
    "duration": 27,
    "start_time": "2023-06-30T10:45:15.805Z"
   },
   {
    "duration": 77,
    "start_time": "2023-06-30T10:45:15.834Z"
   },
   {
    "duration": 28,
    "start_time": "2023-06-30T10:45:15.913Z"
   },
   {
    "duration": 21,
    "start_time": "2023-06-30T10:45:15.943Z"
   },
   {
    "duration": 397,
    "start_time": "2023-06-30T10:45:15.966Z"
   },
   {
    "duration": 162,
    "start_time": "2023-06-30T10:45:16.365Z"
   },
   {
    "duration": 0,
    "start_time": "2023-06-30T10:45:16.529Z"
   },
   {
    "duration": 3272,
    "start_time": "2023-06-30T10:47:20.927Z"
   },
   {
    "duration": 3475,
    "start_time": "2023-06-30T10:47:24.202Z"
   },
   {
    "duration": 415,
    "start_time": "2023-06-30T10:47:27.692Z"
   },
   {
    "duration": 24,
    "start_time": "2023-06-30T10:47:28.110Z"
   },
   {
    "duration": 65,
    "start_time": "2023-06-30T10:47:28.138Z"
   },
   {
    "duration": 27,
    "start_time": "2023-06-30T10:47:28.206Z"
   },
   {
    "duration": 41,
    "start_time": "2023-06-30T10:47:28.236Z"
   },
   {
    "duration": 13,
    "start_time": "2023-06-30T10:47:28.279Z"
   },
   {
    "duration": 21,
    "start_time": "2023-06-30T10:47:28.295Z"
   },
   {
    "duration": 48,
    "start_time": "2023-06-30T10:47:28.318Z"
   },
   {
    "duration": 59,
    "start_time": "2023-06-30T10:47:28.369Z"
   },
   {
    "duration": 50,
    "start_time": "2023-06-30T10:47:28.431Z"
   },
   {
    "duration": 30,
    "start_time": "2023-06-30T10:47:28.488Z"
   },
   {
    "duration": 107,
    "start_time": "2023-06-30T10:47:28.526Z"
   },
   {
    "duration": 45,
    "start_time": "2023-06-30T10:47:28.637Z"
   },
   {
    "duration": 43,
    "start_time": "2023-06-30T10:47:28.687Z"
   },
   {
    "duration": 37,
    "start_time": "2023-06-30T10:47:28.732Z"
   },
   {
    "duration": 63,
    "start_time": "2023-06-30T10:47:28.772Z"
   },
   {
    "duration": 22,
    "start_time": "2023-06-30T10:47:28.839Z"
   },
   {
    "duration": 78,
    "start_time": "2023-06-30T10:47:28.865Z"
   },
   {
    "duration": 60,
    "start_time": "2023-06-30T10:47:28.946Z"
   },
   {
    "duration": 206,
    "start_time": "2023-06-30T10:47:29.012Z"
   },
   {
    "duration": 18,
    "start_time": "2023-06-30T10:47:29.221Z"
   },
   {
    "duration": 70,
    "start_time": "2023-06-30T10:47:29.251Z"
   },
   {
    "duration": 16,
    "start_time": "2023-06-30T10:47:29.323Z"
   },
   {
    "duration": 19,
    "start_time": "2023-06-30T10:47:29.341Z"
   },
   {
    "duration": 345,
    "start_time": "2023-06-30T10:47:29.363Z"
   },
   {
    "duration": 6,
    "start_time": "2023-06-30T10:47:29.711Z"
   },
   {
    "duration": 14,
    "start_time": "2023-06-30T10:47:29.719Z"
   },
   {
    "duration": 69,
    "start_time": "2023-06-30T10:47:29.735Z"
   },
   {
    "duration": 5,
    "start_time": "2023-06-30T10:47:29.806Z"
   },
   {
    "duration": 448,
    "start_time": "2023-06-30T10:47:29.813Z"
   },
   {
    "duration": 3625,
    "start_time": "2023-06-30T10:47:30.267Z"
   },
   {
    "duration": 8,
    "start_time": "2023-06-30T10:47:33.895Z"
   },
   {
    "duration": 2313,
    "start_time": "2023-06-30T10:47:33.905Z"
   },
   {
    "duration": 608,
    "start_time": "2023-06-30T10:47:36.221Z"
   },
   {
    "duration": 123,
    "start_time": "2023-06-30T10:47:36.832Z"
   },
   {
    "duration": 24,
    "start_time": "2023-06-30T10:47:36.958Z"
   },
   {
    "duration": 10,
    "start_time": "2023-06-30T10:47:36.985Z"
   },
   {
    "duration": 14,
    "start_time": "2023-06-30T10:47:36.998Z"
   },
   {
    "duration": 12,
    "start_time": "2023-06-30T10:47:37.018Z"
   },
   {
    "duration": 10,
    "start_time": "2023-06-30T10:47:37.033Z"
   },
   {
    "duration": 46,
    "start_time": "2023-06-30T10:47:37.052Z"
   },
   {
    "duration": 24604,
    "start_time": "2023-06-30T10:47:37.101Z"
   },
   {
    "duration": 3417,
    "start_time": "2023-06-30T10:48:07.344Z"
   },
   {
    "duration": 2473,
    "start_time": "2023-06-30T10:48:10.769Z"
   },
   {
    "duration": 377,
    "start_time": "2023-06-30T10:48:13.245Z"
   },
   {
    "duration": 36,
    "start_time": "2023-06-30T10:48:13.625Z"
   },
   {
    "duration": 32,
    "start_time": "2023-06-30T10:48:13.672Z"
   },
   {
    "duration": 19,
    "start_time": "2023-06-30T10:48:13.706Z"
   },
   {
    "duration": 27,
    "start_time": "2023-06-30T10:48:13.728Z"
   },
   {
    "duration": 22,
    "start_time": "2023-06-30T10:48:13.758Z"
   },
   {
    "duration": 38,
    "start_time": "2023-06-30T10:48:13.783Z"
   },
   {
    "duration": 24,
    "start_time": "2023-06-30T10:48:13.824Z"
   },
   {
    "duration": 30,
    "start_time": "2023-06-30T10:48:13.859Z"
   },
   {
    "duration": 22,
    "start_time": "2023-06-30T10:48:13.891Z"
   },
   {
    "duration": 25,
    "start_time": "2023-06-30T10:48:13.915Z"
   },
   {
    "duration": 67,
    "start_time": "2023-06-30T10:48:13.962Z"
   },
   {
    "duration": 29,
    "start_time": "2023-06-30T10:48:14.031Z"
   },
   {
    "duration": 43,
    "start_time": "2023-06-30T10:48:14.062Z"
   },
   {
    "duration": 32,
    "start_time": "2023-06-30T10:48:14.107Z"
   },
   {
    "duration": 41,
    "start_time": "2023-06-30T10:48:14.141Z"
   },
   {
    "duration": 23,
    "start_time": "2023-06-30T10:48:14.185Z"
   },
   {
    "duration": 54,
    "start_time": "2023-06-30T10:48:14.211Z"
   },
   {
    "duration": 33,
    "start_time": "2023-06-30T10:48:14.268Z"
   },
   {
    "duration": 277,
    "start_time": "2023-06-30T10:48:14.303Z"
   },
   {
    "duration": 20,
    "start_time": "2023-06-30T10:48:14.583Z"
   },
   {
    "duration": 60,
    "start_time": "2023-06-30T10:48:14.606Z"
   },
   {
    "duration": 20,
    "start_time": "2023-06-30T10:48:14.668Z"
   },
   {
    "duration": 23,
    "start_time": "2023-06-30T10:48:14.692Z"
   },
   {
    "duration": 331,
    "start_time": "2023-06-30T10:48:14.717Z"
   },
   {
    "duration": 5,
    "start_time": "2023-06-30T10:48:15.053Z"
   },
   {
    "duration": 26,
    "start_time": "2023-06-30T10:48:15.071Z"
   },
   {
    "duration": 73,
    "start_time": "2023-06-30T10:48:15.103Z"
   },
   {
    "duration": 6,
    "start_time": "2023-06-30T10:48:15.179Z"
   },
   {
    "duration": 428,
    "start_time": "2023-06-30T10:48:15.187Z"
   },
   {
    "duration": 3691,
    "start_time": "2023-06-30T10:48:15.617Z"
   },
   {
    "duration": 12,
    "start_time": "2023-06-30T10:48:19.311Z"
   },
   {
    "duration": 2240,
    "start_time": "2023-06-30T10:48:19.325Z"
   },
   {
    "duration": 614,
    "start_time": "2023-06-30T10:48:21.576Z"
   },
   {
    "duration": 128,
    "start_time": "2023-06-30T10:48:22.192Z"
   },
   {
    "duration": 38,
    "start_time": "2023-06-30T10:48:22.323Z"
   },
   {
    "duration": 23,
    "start_time": "2023-06-30T10:48:22.365Z"
   },
   {
    "duration": 17,
    "start_time": "2023-06-30T10:48:22.391Z"
   },
   {
    "duration": 7,
    "start_time": "2023-06-30T10:48:22.415Z"
   },
   {
    "duration": 57,
    "start_time": "2023-06-30T10:48:22.425Z"
   },
   {
    "duration": 37,
    "start_time": "2023-06-30T10:48:22.485Z"
   },
   {
    "duration": 26451,
    "start_time": "2023-06-30T10:48:22.525Z"
   },
   {
    "duration": 6174,
    "start_time": "2023-06-30T10:48:49.012Z"
   },
   {
    "duration": 20,
    "start_time": "2023-06-30T10:48:55.188Z"
   },
   {
    "duration": 80,
    "start_time": "2023-06-30T10:48:55.212Z"
   },
   {
    "duration": 35,
    "start_time": "2023-06-30T10:48:55.296Z"
   },
   {
    "duration": 65,
    "start_time": "2023-06-30T10:48:55.335Z"
   },
   {
    "duration": 445,
    "start_time": "2023-06-30T10:48:55.403Z"
   },
   {
    "duration": 201,
    "start_time": "2023-06-30T10:48:55.853Z"
   },
   {
    "duration": 0,
    "start_time": "2023-06-30T10:48:56.071Z"
   },
   {
    "duration": 3688,
    "start_time": "2023-06-30T10:50:40.719Z"
   },
   {
    "duration": 3812,
    "start_time": "2023-06-30T10:50:44.410Z"
   },
   {
    "duration": 412,
    "start_time": "2023-06-30T10:50:48.224Z"
   },
   {
    "duration": 64,
    "start_time": "2023-06-30T10:50:48.642Z"
   },
   {
    "duration": 63,
    "start_time": "2023-06-30T10:50:48.710Z"
   },
   {
    "duration": 36,
    "start_time": "2023-06-30T10:50:48.781Z"
   },
   {
    "duration": 53,
    "start_time": "2023-06-30T10:50:48.820Z"
   },
   {
    "duration": 34,
    "start_time": "2023-06-30T10:50:48.876Z"
   },
   {
    "duration": 60,
    "start_time": "2023-06-30T10:50:48.913Z"
   },
   {
    "duration": 67,
    "start_time": "2023-06-30T10:50:48.976Z"
   },
   {
    "duration": 51,
    "start_time": "2023-06-30T10:50:49.045Z"
   },
   {
    "duration": 82,
    "start_time": "2023-06-30T10:50:49.101Z"
   },
   {
    "duration": 32,
    "start_time": "2023-06-30T10:50:49.186Z"
   },
   {
    "duration": 65,
    "start_time": "2023-06-30T10:50:49.223Z"
   },
   {
    "duration": 20,
    "start_time": "2023-06-30T10:50:49.290Z"
   },
   {
    "duration": 13,
    "start_time": "2023-06-30T10:50:49.313Z"
   },
   {
    "duration": 49,
    "start_time": "2023-06-30T10:50:49.329Z"
   },
   {
    "duration": 49,
    "start_time": "2023-06-30T10:50:49.380Z"
   },
   {
    "duration": 38,
    "start_time": "2023-06-30T10:50:49.431Z"
   },
   {
    "duration": 41,
    "start_time": "2023-06-30T10:50:49.479Z"
   },
   {
    "duration": 26,
    "start_time": "2023-06-30T10:50:49.522Z"
   },
   {
    "duration": 229,
    "start_time": "2023-06-30T10:50:49.551Z"
   },
   {
    "duration": 22,
    "start_time": "2023-06-30T10:50:49.783Z"
   },
   {
    "duration": 117,
    "start_time": "2023-06-30T10:50:49.807Z"
   },
   {
    "duration": 70,
    "start_time": "2023-06-30T10:50:49.929Z"
   },
   {
    "duration": 210,
    "start_time": "2023-06-30T10:50:50.002Z"
   },
   {
    "duration": 333,
    "start_time": "2023-06-30T10:50:50.215Z"
   },
   {
    "duration": 12,
    "start_time": "2023-06-30T10:50:50.551Z"
   },
   {
    "duration": 41,
    "start_time": "2023-06-30T10:50:50.572Z"
   },
   {
    "duration": 55,
    "start_time": "2023-06-30T10:50:50.615Z"
   },
   {
    "duration": 17,
    "start_time": "2023-06-30T10:50:50.673Z"
   },
   {
    "duration": 520,
    "start_time": "2023-06-30T10:50:50.693Z"
   },
   {
    "duration": 3383,
    "start_time": "2023-06-30T10:50:51.215Z"
   },
   {
    "duration": 10,
    "start_time": "2023-06-30T10:50:54.600Z"
   },
   {
    "duration": 2503,
    "start_time": "2023-06-30T10:50:54.612Z"
   },
   {
    "duration": 636,
    "start_time": "2023-06-30T10:50:57.118Z"
   },
   {
    "duration": 163,
    "start_time": "2023-06-30T10:50:57.756Z"
   },
   {
    "duration": 45,
    "start_time": "2023-06-30T10:50:57.922Z"
   },
   {
    "duration": 26,
    "start_time": "2023-06-30T10:50:57.973Z"
   },
   {
    "duration": 9,
    "start_time": "2023-06-30T10:50:58.002Z"
   },
   {
    "duration": 5,
    "start_time": "2023-06-30T10:50:58.020Z"
   },
   {
    "duration": 11,
    "start_time": "2023-06-30T10:50:58.028Z"
   },
   {
    "duration": 52,
    "start_time": "2023-06-30T10:50:58.041Z"
   },
   {
    "duration": 33998,
    "start_time": "2023-06-30T10:50:58.096Z"
   },
   {
    "duration": 5756,
    "start_time": "2023-06-30T10:51:32.101Z"
   },
   {
    "duration": 41,
    "start_time": "2023-06-30T10:51:37.860Z"
   },
   {
    "duration": 57,
    "start_time": "2023-06-30T10:51:37.904Z"
   },
   {
    "duration": 32,
    "start_time": "2023-06-30T10:51:37.979Z"
   },
   {
    "duration": 26,
    "start_time": "2023-06-30T10:51:38.013Z"
   },
   {
    "duration": 460,
    "start_time": "2023-06-30T10:51:38.041Z"
   },
   {
    "duration": 220,
    "start_time": "2023-06-30T10:51:38.508Z"
   },
   {
    "duration": 0,
    "start_time": "2023-06-30T10:51:38.735Z"
   },
   {
    "duration": 8,
    "start_time": "2023-06-30T10:55:54.095Z"
   },
   {
    "duration": 8,
    "start_time": "2023-06-30T10:56:08.171Z"
   },
   {
    "duration": 7,
    "start_time": "2023-06-30T10:57:52.834Z"
   },
   {
    "duration": 42542,
    "start_time": "2023-06-30T11:01:56.240Z"
   },
   {
    "duration": 7852,
    "start_time": "2023-06-30T11:02:38.786Z"
   },
   {
    "duration": 597,
    "start_time": "2023-06-30T11:02:46.641Z"
   },
   {
    "duration": 73,
    "start_time": "2023-06-30T11:02:47.241Z"
   },
   {
    "duration": 25,
    "start_time": "2023-06-30T11:02:47.318Z"
   },
   {
    "duration": 93,
    "start_time": "2023-06-30T11:02:47.346Z"
   },
   {
    "duration": 58,
    "start_time": "2023-06-30T11:02:47.442Z"
   },
   {
    "duration": 17,
    "start_time": "2023-06-30T11:02:47.509Z"
   },
   {
    "duration": 43,
    "start_time": "2023-06-30T11:02:47.529Z"
   },
   {
    "duration": 40,
    "start_time": "2023-06-30T11:02:47.575Z"
   },
   {
    "duration": 27,
    "start_time": "2023-06-30T11:02:47.618Z"
   },
   {
    "duration": 83,
    "start_time": "2023-06-30T11:02:47.647Z"
   },
   {
    "duration": 43,
    "start_time": "2023-06-30T11:02:47.734Z"
   },
   {
    "duration": 71,
    "start_time": "2023-06-30T11:02:47.802Z"
   },
   {
    "duration": 39,
    "start_time": "2023-06-30T11:02:47.884Z"
   },
   {
    "duration": 13,
    "start_time": "2023-06-30T11:02:47.926Z"
   },
   {
    "duration": 40,
    "start_time": "2023-06-30T11:02:47.942Z"
   },
   {
    "duration": 36,
    "start_time": "2023-06-30T11:02:47.986Z"
   },
   {
    "duration": 19,
    "start_time": "2023-06-30T11:02:48.024Z"
   },
   {
    "duration": 89,
    "start_time": "2023-06-30T11:02:48.046Z"
   },
   {
    "duration": 50,
    "start_time": "2023-06-30T11:02:48.138Z"
   },
   {
    "duration": 317,
    "start_time": "2023-06-30T11:02:48.193Z"
   },
   {
    "duration": 24,
    "start_time": "2023-06-30T11:02:48.518Z"
   },
   {
    "duration": 54,
    "start_time": "2023-06-30T11:02:48.545Z"
   },
   {
    "duration": 46,
    "start_time": "2023-06-30T11:02:48.604Z"
   },
   {
    "duration": 72,
    "start_time": "2023-06-30T11:02:48.662Z"
   },
   {
    "duration": 450,
    "start_time": "2023-06-30T11:02:48.736Z"
   },
   {
    "duration": 8,
    "start_time": "2023-06-30T11:02:49.188Z"
   },
   {
    "duration": 41,
    "start_time": "2023-06-30T11:02:49.200Z"
   },
   {
    "duration": 144,
    "start_time": "2023-06-30T11:02:49.244Z"
   },
   {
    "duration": 121,
    "start_time": "2023-06-30T11:02:49.391Z"
   },
   {
    "duration": 516,
    "start_time": "2023-06-30T11:02:49.515Z"
   },
   {
    "duration": 3594,
    "start_time": "2023-06-30T11:02:50.034Z"
   },
   {
    "duration": 9,
    "start_time": "2023-06-30T11:02:53.631Z"
   },
   {
    "duration": 2520,
    "start_time": "2023-06-30T11:02:53.657Z"
   },
   {
    "duration": 738,
    "start_time": "2023-06-30T11:02:56.179Z"
   },
   {
    "duration": 170,
    "start_time": "2023-06-30T11:02:56.919Z"
   },
   {
    "duration": 19,
    "start_time": "2023-06-30T11:02:57.092Z"
   },
   {
    "duration": 9,
    "start_time": "2023-06-30T11:02:57.114Z"
   },
   {
    "duration": 20,
    "start_time": "2023-06-30T11:02:57.126Z"
   },
   {
    "duration": 24,
    "start_time": "2023-06-30T11:02:57.183Z"
   },
   {
    "duration": 17,
    "start_time": "2023-06-30T11:02:57.209Z"
   },
   {
    "duration": 13,
    "start_time": "2023-06-30T11:02:57.229Z"
   },
   {
    "duration": 40,
    "start_time": "2023-06-30T11:02:57.245Z"
   },
   {
    "duration": 24,
    "start_time": "2023-06-30T11:02:57.290Z"
   },
   {
    "duration": 22893,
    "start_time": "2023-06-30T11:02:57.320Z"
   },
   {
    "duration": 6747,
    "start_time": "2023-06-30T11:03:20.281Z"
   },
   {
    "duration": 44,
    "start_time": "2023-06-30T11:03:27.030Z"
   },
   {
    "duration": 87,
    "start_time": "2023-06-30T11:03:27.082Z"
   },
   {
    "duration": 48,
    "start_time": "2023-06-30T11:03:27.183Z"
   },
   {
    "duration": 6,
    "start_time": "2023-06-30T11:03:27.237Z"
   },
   {
    "duration": 388,
    "start_time": "2023-06-30T11:03:27.246Z"
   },
   {
    "duration": 9,
    "start_time": "2023-06-30T11:03:27.638Z"
   },
   {
    "duration": 858,
    "start_time": "2023-06-30T11:03:27.652Z"
   },
   {
    "duration": 47,
    "start_time": "2023-06-30T13:48:27.139Z"
   }
  ],
  "colab": {
   "provenance": []
  },
  "kernelspec": {
   "display_name": "Python 3 (ipykernel)",
   "language": "python",
   "name": "python3"
  },
  "language_info": {
   "codemirror_mode": {
    "name": "ipython",
    "version": 3
   },
   "file_extension": ".py",
   "mimetype": "text/x-python",
   "name": "python",
   "nbconvert_exporter": "python",
   "pygments_lexer": "ipython3",
   "version": "3.9.5"
  },
  "toc": {
   "base_numbering": 1,
   "nav_menu": {},
   "number_sections": true,
   "sideBar": true,
   "skip_h1_title": true,
   "title_cell": "Table of Contents",
   "title_sidebar": "Contents",
   "toc_cell": false,
   "toc_position": {},
   "toc_section_display": true,
   "toc_window_display": false
  }
 },
 "nbformat": 4,
 "nbformat_minor": 1
}
