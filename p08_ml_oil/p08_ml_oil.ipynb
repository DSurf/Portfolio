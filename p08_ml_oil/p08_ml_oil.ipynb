{
 "cells": [
  {
   "cell_type": "markdown",
   "metadata": {},
   "source": [
    "# Выбор локации для скважины"
   ]
  },
  {
   "cell_type": "markdown",
   "metadata": {},
   "source": [
    "Для добывающей компаниии нужно определить наиболее прибыльный регион для разведки и добычи нефти. Предоставлены данные о пробах нефти в трех регионах, где измерены качество нефти и объем ее запасов. Цель - построить модель машинного обучения, которая поможет принять решение о выборе региона с наибольшей ожидаемой прибылью. В анализе используется техника Bootstrap для оценки возможной прибыли и рисков.\n",
    "\n",
    "Шаги для выбора локации:\n",
    "\n",
    "- В избранном регионе ищут месторождения, для каждого определяют значения признаков;\n",
    "- Строят модель и оценивают объём запасов;\n",
    "- Выбирают месторождения с самым высокими оценками значений. Количество месторождений зависит от бюджета компании и стоимости разработки одной скважины;\n",
    "- Прибыль равна суммарной прибыли отобранных месторождений."
   ]
  },
  {
   "cell_type": "markdown",
   "metadata": {},
   "source": [
    "## Загрузка и подготовка данных"
   ]
  },
  {
   "cell_type": "code",
   "execution_count": 1,
   "metadata": {},
   "outputs": [],
   "source": [
    "import pandas as pd\n",
    "import numpy as np\n",
    "import seaborn as sns\n",
    "import matplotlib.pyplot as plt\n",
    "import scipy.stats as st\n",
    "import warnings\n",
    "\n",
    "from sklearn.model_selection import train_test_split\n",
    "from sklearn.metrics import mean_squared_error\n",
    "from sklearn.preprocessing import StandardScaler, MinMaxScaler\n",
    "from sklearn.linear_model import LinearRegression\n",
    "\n",
    "warnings.filterwarnings(\"ignore\")"
   ]
  },
  {
   "cell_type": "code",
   "execution_count": 2,
   "metadata": {},
   "outputs": [],
   "source": [
    "BUDGET = 10e9\n",
    "PRISE = 45e4\n",
    "NUMBER_OF_OIL_RIGS = 200\n",
    "NUMBER_OF_OIL_RIGS_SELECT = 500"
   ]
  },
  {
   "cell_type": "code",
   "execution_count": 3,
   "metadata": {},
   "outputs": [],
   "source": [
    "try:\n",
    "    geo_data_0 = pd.read_csv()\n",
    "\n",
    "except:\n",
    "    geo_data_0 = pd.read_csv()\n",
    "    \n",
    "try:\n",
    "    geo_data_1 = pd.read_csv()\n",
    "\n",
    "except:\n",
    "    geo_data_1 = pd.read_csv()\n",
    "    \n",
    "try:\n",
    "    geo_data_2 = pd.read_csv()\n",
    "\n",
    "except:\n",
    "    geo_data_2 = pd.read_csv()"
   ]
  },
  {
   "cell_type": "code",
   "execution_count": 4,
   "metadata": {},
   "outputs": [
    {
     "name": "stdout",
     "output_type": "stream",
     "text": [
      "<class 'pandas.core.frame.DataFrame'>\n",
      "RangeIndex: 100000 entries, 0 to 99999\n",
      "Data columns (total 5 columns):\n",
      " #   Column   Non-Null Count   Dtype  \n",
      "---  ------   --------------   -----  \n",
      " 0   id       100000 non-null  object \n",
      " 1   f0       100000 non-null  float64\n",
      " 2   f1       100000 non-null  float64\n",
      " 3   f2       100000 non-null  float64\n",
      " 4   product  100000 non-null  float64\n",
      "dtypes: float64(4), object(1)\n",
      "memory usage: 3.8+ MB\n"
     ]
    },
    {
     "data": {
      "text/plain": [
       "None"
      ]
     },
     "metadata": {},
     "output_type": "display_data"
    },
    {
     "name": "stdout",
     "output_type": "stream",
     "text": [
      "<class 'pandas.core.frame.DataFrame'>\n",
      "RangeIndex: 100000 entries, 0 to 99999\n",
      "Data columns (total 5 columns):\n",
      " #   Column   Non-Null Count   Dtype  \n",
      "---  ------   --------------   -----  \n",
      " 0   id       100000 non-null  object \n",
      " 1   f0       100000 non-null  float64\n",
      " 2   f1       100000 non-null  float64\n",
      " 3   f2       100000 non-null  float64\n",
      " 4   product  100000 non-null  float64\n",
      "dtypes: float64(4), object(1)\n",
      "memory usage: 3.8+ MB\n"
     ]
    },
    {
     "data": {
      "text/plain": [
       "None"
      ]
     },
     "metadata": {},
     "output_type": "display_data"
    },
    {
     "name": "stdout",
     "output_type": "stream",
     "text": [
      "<class 'pandas.core.frame.DataFrame'>\n",
      "RangeIndex: 100000 entries, 0 to 99999\n",
      "Data columns (total 5 columns):\n",
      " #   Column   Non-Null Count   Dtype  \n",
      "---  ------   --------------   -----  \n",
      " 0   id       100000 non-null  object \n",
      " 1   f0       100000 non-null  float64\n",
      " 2   f1       100000 non-null  float64\n",
      " 3   f2       100000 non-null  float64\n",
      " 4   product  100000 non-null  float64\n",
      "dtypes: float64(4), object(1)\n",
      "memory usage: 3.8+ MB\n"
     ]
    },
    {
     "data": {
      "text/plain": [
       "None"
      ]
     },
     "metadata": {},
     "output_type": "display_data"
    }
   ],
   "source": [
    "display(geo_data_0.info())\n",
    "display(geo_data_1.info())\n",
    "display(geo_data_2.info())"
   ]
  },
  {
   "cell_type": "code",
   "execution_count": 5,
   "metadata": {},
   "outputs": [
    {
     "data": {
      "text/html": [
       "<div>\n",
       "<style scoped>\n",
       "    .dataframe tbody tr th:only-of-type {\n",
       "        vertical-align: middle;\n",
       "    }\n",
       "\n",
       "    .dataframe tbody tr th {\n",
       "        vertical-align: top;\n",
       "    }\n",
       "\n",
       "    .dataframe thead th {\n",
       "        text-align: right;\n",
       "    }\n",
       "</style>\n",
       "<table border=\"1\" class=\"dataframe\">\n",
       "  <thead>\n",
       "    <tr style=\"text-align: right;\">\n",
       "      <th></th>\n",
       "      <th>id</th>\n",
       "      <th>f0</th>\n",
       "      <th>f1</th>\n",
       "      <th>f2</th>\n",
       "      <th>product</th>\n",
       "    </tr>\n",
       "  </thead>\n",
       "  <tbody>\n",
       "    <tr>\n",
       "      <th>0</th>\n",
       "      <td>txEyH</td>\n",
       "      <td>0.705745</td>\n",
       "      <td>-0.497823</td>\n",
       "      <td>1.221170</td>\n",
       "      <td>105.280062</td>\n",
       "    </tr>\n",
       "    <tr>\n",
       "      <th>1</th>\n",
       "      <td>2acmU</td>\n",
       "      <td>1.334711</td>\n",
       "      <td>-0.340164</td>\n",
       "      <td>4.365080</td>\n",
       "      <td>73.037750</td>\n",
       "    </tr>\n",
       "    <tr>\n",
       "      <th>2</th>\n",
       "      <td>409Wp</td>\n",
       "      <td>1.022732</td>\n",
       "      <td>0.151990</td>\n",
       "      <td>1.419926</td>\n",
       "      <td>85.265647</td>\n",
       "    </tr>\n",
       "  </tbody>\n",
       "</table>\n",
       "</div>"
      ],
      "text/plain": [
       "      id        f0        f1        f2     product\n",
       "0  txEyH  0.705745 -0.497823  1.221170  105.280062\n",
       "1  2acmU  1.334711 -0.340164  4.365080   73.037750\n",
       "2  409Wp  1.022732  0.151990  1.419926   85.265647"
      ]
     },
     "metadata": {},
     "output_type": "display_data"
    },
    {
     "data": {
      "text/html": [
       "<div>\n",
       "<style scoped>\n",
       "    .dataframe tbody tr th:only-of-type {\n",
       "        vertical-align: middle;\n",
       "    }\n",
       "\n",
       "    .dataframe tbody tr th {\n",
       "        vertical-align: top;\n",
       "    }\n",
       "\n",
       "    .dataframe thead th {\n",
       "        text-align: right;\n",
       "    }\n",
       "</style>\n",
       "<table border=\"1\" class=\"dataframe\">\n",
       "  <thead>\n",
       "    <tr style=\"text-align: right;\">\n",
       "      <th></th>\n",
       "      <th>id</th>\n",
       "      <th>f0</th>\n",
       "      <th>f1</th>\n",
       "      <th>f2</th>\n",
       "      <th>product</th>\n",
       "    </tr>\n",
       "  </thead>\n",
       "  <tbody>\n",
       "    <tr>\n",
       "      <th>0</th>\n",
       "      <td>kBEdx</td>\n",
       "      <td>-15.001348</td>\n",
       "      <td>-8.276000</td>\n",
       "      <td>-0.005876</td>\n",
       "      <td>3.179103</td>\n",
       "    </tr>\n",
       "    <tr>\n",
       "      <th>1</th>\n",
       "      <td>62mP7</td>\n",
       "      <td>14.272088</td>\n",
       "      <td>-3.475083</td>\n",
       "      <td>0.999183</td>\n",
       "      <td>26.953261</td>\n",
       "    </tr>\n",
       "    <tr>\n",
       "      <th>2</th>\n",
       "      <td>vyE1P</td>\n",
       "      <td>6.263187</td>\n",
       "      <td>-5.948386</td>\n",
       "      <td>5.001160</td>\n",
       "      <td>134.766305</td>\n",
       "    </tr>\n",
       "  </tbody>\n",
       "</table>\n",
       "</div>"
      ],
      "text/plain": [
       "      id         f0        f1        f2     product\n",
       "0  kBEdx -15.001348 -8.276000 -0.005876    3.179103\n",
       "1  62mP7  14.272088 -3.475083  0.999183   26.953261\n",
       "2  vyE1P   6.263187 -5.948386  5.001160  134.766305"
      ]
     },
     "metadata": {},
     "output_type": "display_data"
    },
    {
     "data": {
      "text/html": [
       "<div>\n",
       "<style scoped>\n",
       "    .dataframe tbody tr th:only-of-type {\n",
       "        vertical-align: middle;\n",
       "    }\n",
       "\n",
       "    .dataframe tbody tr th {\n",
       "        vertical-align: top;\n",
       "    }\n",
       "\n",
       "    .dataframe thead th {\n",
       "        text-align: right;\n",
       "    }\n",
       "</style>\n",
       "<table border=\"1\" class=\"dataframe\">\n",
       "  <thead>\n",
       "    <tr style=\"text-align: right;\">\n",
       "      <th></th>\n",
       "      <th>id</th>\n",
       "      <th>f0</th>\n",
       "      <th>f1</th>\n",
       "      <th>f2</th>\n",
       "      <th>product</th>\n",
       "    </tr>\n",
       "  </thead>\n",
       "  <tbody>\n",
       "    <tr>\n",
       "      <th>0</th>\n",
       "      <td>fwXo0</td>\n",
       "      <td>-1.146987</td>\n",
       "      <td>0.963328</td>\n",
       "      <td>-0.828965</td>\n",
       "      <td>27.758673</td>\n",
       "    </tr>\n",
       "    <tr>\n",
       "      <th>1</th>\n",
       "      <td>WJtFt</td>\n",
       "      <td>0.262778</td>\n",
       "      <td>0.269839</td>\n",
       "      <td>-2.530187</td>\n",
       "      <td>56.069697</td>\n",
       "    </tr>\n",
       "    <tr>\n",
       "      <th>2</th>\n",
       "      <td>ovLUW</td>\n",
       "      <td>0.194587</td>\n",
       "      <td>0.289035</td>\n",
       "      <td>-5.586433</td>\n",
       "      <td>62.871910</td>\n",
       "    </tr>\n",
       "  </tbody>\n",
       "</table>\n",
       "</div>"
      ],
      "text/plain": [
       "      id        f0        f1        f2    product\n",
       "0  fwXo0 -1.146987  0.963328 -0.828965  27.758673\n",
       "1  WJtFt  0.262778  0.269839 -2.530187  56.069697\n",
       "2  ovLUW  0.194587  0.289035 -5.586433  62.871910"
      ]
     },
     "metadata": {},
     "output_type": "display_data"
    }
   ],
   "source": [
    "display(geo_data_0.head(3))\n",
    "display(geo_data_1.head(3))\n",
    "display(geo_data_2.head(3))"
   ]
  },
  {
   "cell_type": "code",
   "execution_count": 6,
   "metadata": {},
   "outputs": [
    {
     "data": {
      "text/plain": [
       "id         0\n",
       "f0         0\n",
       "f1         0\n",
       "f2         0\n",
       "product    0\n",
       "dtype: int64"
      ]
     },
     "metadata": {},
     "output_type": "display_data"
    },
    {
     "data": {
      "text/plain": [
       "id         0\n",
       "f0         0\n",
       "f1         0\n",
       "f2         0\n",
       "product    0\n",
       "dtype: int64"
      ]
     },
     "metadata": {},
     "output_type": "display_data"
    },
    {
     "data": {
      "text/plain": [
       "id         0\n",
       "f0         0\n",
       "f1         0\n",
       "f2         0\n",
       "product    0\n",
       "dtype: int64"
      ]
     },
     "metadata": {},
     "output_type": "display_data"
    }
   ],
   "source": [
    "display(geo_data_0.isna().sum())\n",
    "display(geo_data_1.isna().sum())\n",
    "display(geo_data_2.isna().sum())"
   ]
  },
  {
   "cell_type": "code",
   "execution_count": 7,
   "metadata": {},
   "outputs": [
    {
     "data": {
      "text/plain": [
       "0"
      ]
     },
     "metadata": {},
     "output_type": "display_data"
    },
    {
     "data": {
      "text/plain": [
       "0"
      ]
     },
     "metadata": {},
     "output_type": "display_data"
    },
    {
     "data": {
      "text/plain": [
       "0"
      ]
     },
     "metadata": {},
     "output_type": "display_data"
    }
   ],
   "source": [
    "display(geo_data_0.duplicated().sum())\n",
    "display(geo_data_1.duplicated().sum())\n",
    "display(geo_data_2.duplicated().sum())"
   ]
  },
  {
   "cell_type": "code",
   "execution_count": 8,
   "metadata": {},
   "outputs": [
    {
     "data": {
      "text/html": [
       "<div>\n",
       "<style scoped>\n",
       "    .dataframe tbody tr th:only-of-type {\n",
       "        vertical-align: middle;\n",
       "    }\n",
       "\n",
       "    .dataframe tbody tr th {\n",
       "        vertical-align: top;\n",
       "    }\n",
       "\n",
       "    .dataframe thead th {\n",
       "        text-align: right;\n",
       "    }\n",
       "</style>\n",
       "<table border=\"1\" class=\"dataframe\">\n",
       "  <thead>\n",
       "    <tr style=\"text-align: right;\">\n",
       "      <th></th>\n",
       "      <th>id</th>\n",
       "      <th>f0</th>\n",
       "      <th>f1</th>\n",
       "      <th>f2</th>\n",
       "      <th>product</th>\n",
       "    </tr>\n",
       "  </thead>\n",
       "  <tbody>\n",
       "    <tr>\n",
       "      <th>count</th>\n",
       "      <td>100000</td>\n",
       "      <td>100000.000000</td>\n",
       "      <td>100000.000000</td>\n",
       "      <td>100000.000000</td>\n",
       "      <td>100000.000000</td>\n",
       "    </tr>\n",
       "    <tr>\n",
       "      <th>unique</th>\n",
       "      <td>99990</td>\n",
       "      <td>NaN</td>\n",
       "      <td>NaN</td>\n",
       "      <td>NaN</td>\n",
       "      <td>NaN</td>\n",
       "    </tr>\n",
       "    <tr>\n",
       "      <th>top</th>\n",
       "      <td>74z30</td>\n",
       "      <td>NaN</td>\n",
       "      <td>NaN</td>\n",
       "      <td>NaN</td>\n",
       "      <td>NaN</td>\n",
       "    </tr>\n",
       "    <tr>\n",
       "      <th>freq</th>\n",
       "      <td>2</td>\n",
       "      <td>NaN</td>\n",
       "      <td>NaN</td>\n",
       "      <td>NaN</td>\n",
       "      <td>NaN</td>\n",
       "    </tr>\n",
       "    <tr>\n",
       "      <th>mean</th>\n",
       "      <td>NaN</td>\n",
       "      <td>0.500419</td>\n",
       "      <td>0.250143</td>\n",
       "      <td>2.502647</td>\n",
       "      <td>92.500000</td>\n",
       "    </tr>\n",
       "    <tr>\n",
       "      <th>std</th>\n",
       "      <td>NaN</td>\n",
       "      <td>0.871832</td>\n",
       "      <td>0.504433</td>\n",
       "      <td>3.248248</td>\n",
       "      <td>44.288691</td>\n",
       "    </tr>\n",
       "    <tr>\n",
       "      <th>min</th>\n",
       "      <td>NaN</td>\n",
       "      <td>-1.408605</td>\n",
       "      <td>-0.848218</td>\n",
       "      <td>-12.088328</td>\n",
       "      <td>0.000000</td>\n",
       "    </tr>\n",
       "    <tr>\n",
       "      <th>25%</th>\n",
       "      <td>NaN</td>\n",
       "      <td>-0.072580</td>\n",
       "      <td>-0.200881</td>\n",
       "      <td>0.287748</td>\n",
       "      <td>56.497507</td>\n",
       "    </tr>\n",
       "    <tr>\n",
       "      <th>50%</th>\n",
       "      <td>NaN</td>\n",
       "      <td>0.502360</td>\n",
       "      <td>0.250252</td>\n",
       "      <td>2.515969</td>\n",
       "      <td>91.849972</td>\n",
       "    </tr>\n",
       "    <tr>\n",
       "      <th>75%</th>\n",
       "      <td>NaN</td>\n",
       "      <td>1.073581</td>\n",
       "      <td>0.700646</td>\n",
       "      <td>4.715088</td>\n",
       "      <td>128.564089</td>\n",
       "    </tr>\n",
       "    <tr>\n",
       "      <th>max</th>\n",
       "      <td>NaN</td>\n",
       "      <td>2.362331</td>\n",
       "      <td>1.343769</td>\n",
       "      <td>16.003790</td>\n",
       "      <td>185.364347</td>\n",
       "    </tr>\n",
       "  </tbody>\n",
       "</table>\n",
       "</div>"
      ],
      "text/plain": [
       "            id             f0             f1             f2        product\n",
       "count   100000  100000.000000  100000.000000  100000.000000  100000.000000\n",
       "unique   99990            NaN            NaN            NaN            NaN\n",
       "top      74z30            NaN            NaN            NaN            NaN\n",
       "freq         2            NaN            NaN            NaN            NaN\n",
       "mean       NaN       0.500419       0.250143       2.502647      92.500000\n",
       "std        NaN       0.871832       0.504433       3.248248      44.288691\n",
       "min        NaN      -1.408605      -0.848218     -12.088328       0.000000\n",
       "25%        NaN      -0.072580      -0.200881       0.287748      56.497507\n",
       "50%        NaN       0.502360       0.250252       2.515969      91.849972\n",
       "75%        NaN       1.073581       0.700646       4.715088     128.564089\n",
       "max        NaN       2.362331       1.343769      16.003790     185.364347"
      ]
     },
     "metadata": {},
     "output_type": "display_data"
    },
    {
     "data": {
      "text/html": [
       "<div>\n",
       "<style scoped>\n",
       "    .dataframe tbody tr th:only-of-type {\n",
       "        vertical-align: middle;\n",
       "    }\n",
       "\n",
       "    .dataframe tbody tr th {\n",
       "        vertical-align: top;\n",
       "    }\n",
       "\n",
       "    .dataframe thead th {\n",
       "        text-align: right;\n",
       "    }\n",
       "</style>\n",
       "<table border=\"1\" class=\"dataframe\">\n",
       "  <thead>\n",
       "    <tr style=\"text-align: right;\">\n",
       "      <th></th>\n",
       "      <th>id</th>\n",
       "      <th>f0</th>\n",
       "      <th>f1</th>\n",
       "      <th>f2</th>\n",
       "      <th>product</th>\n",
       "    </tr>\n",
       "  </thead>\n",
       "  <tbody>\n",
       "    <tr>\n",
       "      <th>count</th>\n",
       "      <td>100000</td>\n",
       "      <td>100000.000000</td>\n",
       "      <td>100000.000000</td>\n",
       "      <td>100000.000000</td>\n",
       "      <td>100000.000000</td>\n",
       "    </tr>\n",
       "    <tr>\n",
       "      <th>unique</th>\n",
       "      <td>99996</td>\n",
       "      <td>NaN</td>\n",
       "      <td>NaN</td>\n",
       "      <td>NaN</td>\n",
       "      <td>NaN</td>\n",
       "    </tr>\n",
       "    <tr>\n",
       "      <th>top</th>\n",
       "      <td>LHZR0</td>\n",
       "      <td>NaN</td>\n",
       "      <td>NaN</td>\n",
       "      <td>NaN</td>\n",
       "      <td>NaN</td>\n",
       "    </tr>\n",
       "    <tr>\n",
       "      <th>freq</th>\n",
       "      <td>2</td>\n",
       "      <td>NaN</td>\n",
       "      <td>NaN</td>\n",
       "      <td>NaN</td>\n",
       "      <td>NaN</td>\n",
       "    </tr>\n",
       "    <tr>\n",
       "      <th>mean</th>\n",
       "      <td>NaN</td>\n",
       "      <td>1.141296</td>\n",
       "      <td>-4.796579</td>\n",
       "      <td>2.494541</td>\n",
       "      <td>68.825000</td>\n",
       "    </tr>\n",
       "    <tr>\n",
       "      <th>std</th>\n",
       "      <td>NaN</td>\n",
       "      <td>8.965932</td>\n",
       "      <td>5.119872</td>\n",
       "      <td>1.703572</td>\n",
       "      <td>45.944423</td>\n",
       "    </tr>\n",
       "    <tr>\n",
       "      <th>min</th>\n",
       "      <td>NaN</td>\n",
       "      <td>-31.609576</td>\n",
       "      <td>-26.358598</td>\n",
       "      <td>-0.018144</td>\n",
       "      <td>0.000000</td>\n",
       "    </tr>\n",
       "    <tr>\n",
       "      <th>25%</th>\n",
       "      <td>NaN</td>\n",
       "      <td>-6.298551</td>\n",
       "      <td>-8.267985</td>\n",
       "      <td>1.000021</td>\n",
       "      <td>26.953261</td>\n",
       "    </tr>\n",
       "    <tr>\n",
       "      <th>50%</th>\n",
       "      <td>NaN</td>\n",
       "      <td>1.153055</td>\n",
       "      <td>-4.813172</td>\n",
       "      <td>2.011479</td>\n",
       "      <td>57.085625</td>\n",
       "    </tr>\n",
       "    <tr>\n",
       "      <th>75%</th>\n",
       "      <td>NaN</td>\n",
       "      <td>8.621015</td>\n",
       "      <td>-1.332816</td>\n",
       "      <td>3.999904</td>\n",
       "      <td>107.813044</td>\n",
       "    </tr>\n",
       "    <tr>\n",
       "      <th>max</th>\n",
       "      <td>NaN</td>\n",
       "      <td>29.421755</td>\n",
       "      <td>18.734063</td>\n",
       "      <td>5.019721</td>\n",
       "      <td>137.945408</td>\n",
       "    </tr>\n",
       "  </tbody>\n",
       "</table>\n",
       "</div>"
      ],
      "text/plain": [
       "            id             f0             f1             f2        product\n",
       "count   100000  100000.000000  100000.000000  100000.000000  100000.000000\n",
       "unique   99996            NaN            NaN            NaN            NaN\n",
       "top      LHZR0            NaN            NaN            NaN            NaN\n",
       "freq         2            NaN            NaN            NaN            NaN\n",
       "mean       NaN       1.141296      -4.796579       2.494541      68.825000\n",
       "std        NaN       8.965932       5.119872       1.703572      45.944423\n",
       "min        NaN     -31.609576     -26.358598      -0.018144       0.000000\n",
       "25%        NaN      -6.298551      -8.267985       1.000021      26.953261\n",
       "50%        NaN       1.153055      -4.813172       2.011479      57.085625\n",
       "75%        NaN       8.621015      -1.332816       3.999904     107.813044\n",
       "max        NaN      29.421755      18.734063       5.019721     137.945408"
      ]
     },
     "metadata": {},
     "output_type": "display_data"
    },
    {
     "data": {
      "text/html": [
       "<div>\n",
       "<style scoped>\n",
       "    .dataframe tbody tr th:only-of-type {\n",
       "        vertical-align: middle;\n",
       "    }\n",
       "\n",
       "    .dataframe tbody tr th {\n",
       "        vertical-align: top;\n",
       "    }\n",
       "\n",
       "    .dataframe thead th {\n",
       "        text-align: right;\n",
       "    }\n",
       "</style>\n",
       "<table border=\"1\" class=\"dataframe\">\n",
       "  <thead>\n",
       "    <tr style=\"text-align: right;\">\n",
       "      <th></th>\n",
       "      <th>id</th>\n",
       "      <th>f0</th>\n",
       "      <th>f1</th>\n",
       "      <th>f2</th>\n",
       "      <th>product</th>\n",
       "    </tr>\n",
       "  </thead>\n",
       "  <tbody>\n",
       "    <tr>\n",
       "      <th>count</th>\n",
       "      <td>100000</td>\n",
       "      <td>100000.000000</td>\n",
       "      <td>100000.000000</td>\n",
       "      <td>100000.000000</td>\n",
       "      <td>100000.000000</td>\n",
       "    </tr>\n",
       "    <tr>\n",
       "      <th>unique</th>\n",
       "      <td>99996</td>\n",
       "      <td>NaN</td>\n",
       "      <td>NaN</td>\n",
       "      <td>NaN</td>\n",
       "      <td>NaN</td>\n",
       "    </tr>\n",
       "    <tr>\n",
       "      <th>top</th>\n",
       "      <td>Vcm5J</td>\n",
       "      <td>NaN</td>\n",
       "      <td>NaN</td>\n",
       "      <td>NaN</td>\n",
       "      <td>NaN</td>\n",
       "    </tr>\n",
       "    <tr>\n",
       "      <th>freq</th>\n",
       "      <td>2</td>\n",
       "      <td>NaN</td>\n",
       "      <td>NaN</td>\n",
       "      <td>NaN</td>\n",
       "      <td>NaN</td>\n",
       "    </tr>\n",
       "    <tr>\n",
       "      <th>mean</th>\n",
       "      <td>NaN</td>\n",
       "      <td>0.002023</td>\n",
       "      <td>-0.002081</td>\n",
       "      <td>2.495128</td>\n",
       "      <td>95.000000</td>\n",
       "    </tr>\n",
       "    <tr>\n",
       "      <th>std</th>\n",
       "      <td>NaN</td>\n",
       "      <td>1.732045</td>\n",
       "      <td>1.730417</td>\n",
       "      <td>3.473445</td>\n",
       "      <td>44.749921</td>\n",
       "    </tr>\n",
       "    <tr>\n",
       "      <th>min</th>\n",
       "      <td>NaN</td>\n",
       "      <td>-8.760004</td>\n",
       "      <td>-7.084020</td>\n",
       "      <td>-11.970335</td>\n",
       "      <td>0.000000</td>\n",
       "    </tr>\n",
       "    <tr>\n",
       "      <th>25%</th>\n",
       "      <td>NaN</td>\n",
       "      <td>-1.162288</td>\n",
       "      <td>-1.174820</td>\n",
       "      <td>0.130359</td>\n",
       "      <td>59.450441</td>\n",
       "    </tr>\n",
       "    <tr>\n",
       "      <th>50%</th>\n",
       "      <td>NaN</td>\n",
       "      <td>0.009424</td>\n",
       "      <td>-0.009482</td>\n",
       "      <td>2.484236</td>\n",
       "      <td>94.925613</td>\n",
       "    </tr>\n",
       "    <tr>\n",
       "      <th>75%</th>\n",
       "      <td>NaN</td>\n",
       "      <td>1.158535</td>\n",
       "      <td>1.163678</td>\n",
       "      <td>4.858794</td>\n",
       "      <td>130.595027</td>\n",
       "    </tr>\n",
       "    <tr>\n",
       "      <th>max</th>\n",
       "      <td>NaN</td>\n",
       "      <td>7.238262</td>\n",
       "      <td>7.844801</td>\n",
       "      <td>16.739402</td>\n",
       "      <td>190.029838</td>\n",
       "    </tr>\n",
       "  </tbody>\n",
       "</table>\n",
       "</div>"
      ],
      "text/plain": [
       "            id             f0             f1             f2        product\n",
       "count   100000  100000.000000  100000.000000  100000.000000  100000.000000\n",
       "unique   99996            NaN            NaN            NaN            NaN\n",
       "top      Vcm5J            NaN            NaN            NaN            NaN\n",
       "freq         2            NaN            NaN            NaN            NaN\n",
       "mean       NaN       0.002023      -0.002081       2.495128      95.000000\n",
       "std        NaN       1.732045       1.730417       3.473445      44.749921\n",
       "min        NaN      -8.760004      -7.084020     -11.970335       0.000000\n",
       "25%        NaN      -1.162288      -1.174820       0.130359      59.450441\n",
       "50%        NaN       0.009424      -0.009482       2.484236      94.925613\n",
       "75%        NaN       1.158535       1.163678       4.858794     130.595027\n",
       "max        NaN       7.238262       7.844801      16.739402     190.029838"
      ]
     },
     "execution_count": 8,
     "metadata": {},
     "output_type": "execute_result"
    }
   ],
   "source": [
    "display(geo_data_0.describe(include='all'))\n",
    "display(geo_data_1.describe(include='all'))\n",
    "geo_data_2.describe(include='all')"
   ]
  },
  {
   "cell_type": "code",
   "execution_count": 9,
   "metadata": {},
   "outputs": [],
   "source": [
    "#Для одного id разные показатели, поэтому возникает вопрос о корректности данных. Удалим ненадежные данные с дублирующимся названием id, т.к. по условиям задачи значение id должно быть уникально\n",
    "geo_data_0 = geo_data_0[~geo_data_0['id'].isin(geo_data_0[geo_data_0['id'].duplicated()]['id'].to_list())]\n",
    "geo_data_1 = geo_data_1[~geo_data_1['id'].isin(geo_data_1[geo_data_1['id'].duplicated()]['id'].to_list())]\n",
    "geo_data_2 = geo_data_2[~geo_data_2['id'].isin(geo_data_2[geo_data_2['id'].duplicated()]['id'].to_list())]"
   ]
  },
  {
   "cell_type": "code",
   "execution_count": 10,
   "metadata": {},
   "outputs": [
    {
     "data": {
      "image/png": "[encoded data removed]",
      "text/plain": [
       "<Figure size 864x288 with 3 Axes>"
      ]
     },
     "metadata": {
      "needs_background": "light"
     },
     "output_type": "display_data"
    }
   ],
   "source": [
    "plt.rcParams['figure.figsize'] = (12,4)\n",
    "# верхний треугольник корреляционной матриццы\n",
    "matrix = np.triu(geo_data_0.corr())\n",
    "fig, ax = plt.subplots(1,3)\n",
    "sns.heatmap(geo_data_0.corr(), annot = True, cmap = sns.cubehelix_palette(8), cbar=False, mask=matrix, ax=ax[0]) \n",
    "sns.heatmap(geo_data_1.corr(), annot = True, cmap = sns.cubehelix_palette(8), cbar=False, mask=matrix, ax=ax[1])\n",
    "sns.heatmap(geo_data_2.corr(), annot = True, cmap = sns.cubehelix_palette(8), cbar=False, mask=matrix, ax=ax[2])\n",
    "ax[0].set_title('geo_data_0'), ax[1].set_title('geo_data_1'), ax[2].set_title('geo_data_2')\n",
    "plt.suptitle ('Корреляция признаков')\n",
    "fig.show()"
   ]
  },
  {
   "cell_type": "code",
   "execution_count": 11,
   "metadata": {},
   "outputs": [
    {
     "data": {
      "image/png": "[encoded data removed]",
      "text/plain": [
       "<Figure size 864x288 with 3 Axes>"
      ]
     },
     "metadata": {
      "needs_background": "light"
     },
     "output_type": "display_data"
    }
   ],
   "source": [
    "plt.rcParams['figure.figsize'] = (12,4)\n",
    "fig, ax = plt.subplots(1,3)\n",
    "sns.histplot(geo_data_0,  bins = 150, ax=ax[0])\n",
    "sns.histplot(geo_data_1,  bins = 150, ax=ax[1])\n",
    "sns.histplot(geo_data_2,  bins = 150, ax=ax[2])\n",
    "ax[0].set_title('geo_data_0'), ax[1].set_title('geo_data_1'), ax[2].set_title('geo_data_2')\n",
    "plt.suptitle ('Распределение признаков и целевой переменной')\n",
    "fig.show()"
   ]
  },
  {
   "cell_type": "code",
   "execution_count": 12,
   "metadata": {},
   "outputs": [
    {
     "data": {
      "image/png": "[encoded data removed]",
      "text/plain": [
       "<Figure size 864x288 with 3 Axes>"
      ]
     },
     "metadata": {
      "needs_background": "light"
     },
     "output_type": "display_data"
    }
   ],
   "source": [
    "plt.rcParams['figure.figsize'] = (12,4)\n",
    "fig, ax = plt.subplots(1,3)\n",
    "sns.histplot(geo_data_0['product'],  bins = 150, color='salmon', ax=ax[0])\n",
    "sns.histplot(geo_data_1['product'],  bins = 150, color='salmon', ax=ax[1])\n",
    "sns.histplot(geo_data_2['product'],  bins = 150, color='salmon', ax=ax[2])\n",
    "ax[0].set_title('geo_data_0'), ax[1].set_title('geo_data_1'), ax[2].set_title('geo_data_2')\n",
    "plt.suptitle ('Распределение целевой переменной')\n",
    "fig.show()"
   ]
  },
  {
   "cell_type": "code",
   "execution_count": 13,
   "metadata": {},
   "outputs": [
    {
     "data": {
      "image/png": "[encoded data removed]",
      "text/plain": [
       "<Figure size 864x288 with 3 Axes>"
      ]
     },
     "metadata": {
      "needs_background": "light"
     },
     "output_type": "display_data"
    }
   ],
   "source": [
    "plt.rcParams['figure.figsize'] = (12,4)\n",
    "fig, ax = plt.subplots(1,3)\n",
    "sns.histplot(geo_data_0.loc[:, geo_data_0.columns!='product'],  bins = 150, ax=ax[0])\n",
    "sns.histplot(geo_data_1.loc[:, geo_data_1.columns!='product'],  bins = 150, ax=ax[1])\n",
    "sns.histplot(geo_data_2.loc[:, geo_data_2.columns!='product'],  bins = 150, ax=ax[2])\n",
    "ax[0].set_title('geo_data_0'), ax[1].set_title('geo_data_1'), ax[2].set_title('geo_data_2')\n",
    "plt.suptitle ('Распределение признаков')\n",
    "fig.show()"
   ]
  },
  {
   "cell_type": "code",
   "execution_count": 14,
   "metadata": {},
   "outputs": [
    {
     "data": {
      "image/png": "[encoded data removed]",
      "text/plain": [
       "<Figure size 864x288 with 2 Axes>"
      ]
     },
     "metadata": {
      "needs_background": "light"
     },
     "output_type": "display_data"
    }
   ],
   "source": [
    "plt.rcParams['figure.figsize'] = (12,4)\n",
    "fig, ax = plt.subplots(1,2)\n",
    "sns.histplot(geo_data_1['f2'],  bins = 150, color='salmon', ax=ax[0])\n",
    "sns.histplot(geo_data_1['product'], color='salmon', bins = 150, ax=ax[1])\n",
    "ax[0].set_title('geo_data_1'), ax[1].set_title('geo_data_1')\n",
    "plt.suptitle ('Распределение признака f2 и целевой переменной')\n",
    "fig.show()"
   ]
  },
  {
   "cell_type": "code",
   "execution_count": 15,
   "metadata": {},
   "outputs": [
    {
     "data": {
      "text/plain": [
       "0"
      ]
     },
     "metadata": {},
     "output_type": "display_data"
    },
    {
     "data": {
      "text/plain": [
       "99980"
      ]
     },
     "metadata": {},
     "output_type": "display_data"
    }
   ],
   "source": [
    "display(geo_data_1['f2'].duplicated().sum())\n",
    "display(geo_data_1['product'].duplicated().sum())"
   ]
  },
  {
   "cell_type": "markdown",
   "metadata": {},
   "source": [
    "Целевая переменная в регионе geo_data_1 имеет дискретное распределение, в отличие от других регионов. Значения её дублируются в 99,98% случаев. Я бы посоветовал перепроверить данные."
   ]
  },
  {
   "cell_type": "code",
   "execution_count": 33,
   "metadata": {},
   "outputs": [
    {
     "data": {
      "text/html": [
       "<div>\n",
       "<style scoped>\n",
       "    .dataframe tbody tr th:only-of-type {\n",
       "        vertical-align: middle;\n",
       "    }\n",
       "\n",
       "    .dataframe tbody tr th {\n",
       "        vertical-align: top;\n",
       "    }\n",
       "\n",
       "    .dataframe thead th {\n",
       "        text-align: right;\n",
       "    }\n",
       "</style>\n",
       "<table border=\"1\" class=\"dataframe\">\n",
       "  <thead>\n",
       "    <tr style=\"text-align: right;\">\n",
       "      <th></th>\n",
       "      <th>t</th>\n",
       "      <th>p</th>\n",
       "    </tr>\n",
       "  </thead>\n",
       "  <tbody>\n",
       "    <tr>\n",
       "      <th>0</th>\n",
       "      <td>1</td>\n",
       "      <td>2</td>\n",
       "    </tr>\n",
       "    <tr>\n",
       "      <th>1</th>\n",
       "      <td>2</td>\n",
       "      <td>3</td>\n",
       "    </tr>\n",
       "    <tr>\n",
       "      <th>2</th>\n",
       "      <td>3</td>\n",
       "      <td>4</td>\n",
       "    </tr>\n",
       "    <tr>\n",
       "      <th>3</th>\n",
       "      <td>4</td>\n",
       "      <td>5</td>\n",
       "    </tr>\n",
       "    <tr>\n",
       "      <th>4</th>\n",
       "      <td>5</td>\n",
       "      <td>6</td>\n",
       "    </tr>\n",
       "    <tr>\n",
       "      <th>5</th>\n",
       "      <td>6</td>\n",
       "      <td>7</td>\n",
       "    </tr>\n",
       "    <tr>\n",
       "      <th>6</th>\n",
       "      <td>7</td>\n",
       "      <td>8</td>\n",
       "    </tr>\n",
       "    <tr>\n",
       "      <th>7</th>\n",
       "      <td>8</td>\n",
       "      <td>9</td>\n",
       "    </tr>\n",
       "    <tr>\n",
       "      <th>8</th>\n",
       "      <td>9</td>\n",
       "      <td>10</td>\n",
       "    </tr>\n",
       "    <tr>\n",
       "      <th>9</th>\n",
       "      <td>10</td>\n",
       "      <td>11</td>\n",
       "    </tr>\n",
       "  </tbody>\n",
       "</table>\n",
       "</div>"
      ],
      "text/plain": [
       "    t   p\n",
       "0   1   2\n",
       "1   2   3\n",
       "2   3   4\n",
       "3   4   5\n",
       "4   5   6\n",
       "5   6   7\n",
       "6   7   8\n",
       "7   8   9\n",
       "8   9  10\n",
       "9  10  11"
      ]
     },
     "execution_count": 33,
     "metadata": {},
     "output_type": "execute_result"
    }
   ],
   "source": [
    "df= pd.DataFrame({'t' : np.arange(1, 11, 1),\n",
    "                 'p' : np.arange(2, 12, 1)\n",
    "                 })\n",
    "df"
   ]
  },
  {
   "cell_type": "code",
   "execution_count": 35,
   "metadata": {},
   "outputs": [
    {
     "data": {
      "text/html": [
       "<div>\n",
       "<style scoped>\n",
       "    .dataframe tbody tr th:only-of-type {\n",
       "        vertical-align: middle;\n",
       "    }\n",
       "\n",
       "    .dataframe tbody tr th {\n",
       "        vertical-align: top;\n",
       "    }\n",
       "\n",
       "    .dataframe thead th {\n",
       "        text-align: right;\n",
       "    }\n",
       "</style>\n",
       "<table border=\"1\" class=\"dataframe\">\n",
       "  <thead>\n",
       "    <tr style=\"text-align: right;\">\n",
       "      <th></th>\n",
       "      <th>t</th>\n",
       "      <th>p</th>\n",
       "    </tr>\n",
       "  </thead>\n",
       "  <tbody>\n",
       "    <tr>\n",
       "      <th>0</th>\n",
       "      <td>8</td>\n",
       "      <td>2</td>\n",
       "    </tr>\n",
       "    <tr>\n",
       "      <th>1</th>\n",
       "      <td>9</td>\n",
       "      <td>3</td>\n",
       "    </tr>\n",
       "    <tr>\n",
       "      <th>2</th>\n",
       "      <td>1</td>\n",
       "      <td>4</td>\n",
       "    </tr>\n",
       "    <tr>\n",
       "      <th>3</th>\n",
       "      <td>5</td>\n",
       "      <td>5</td>\n",
       "    </tr>\n",
       "    <tr>\n",
       "      <th>4</th>\n",
       "      <td>6</td>\n",
       "      <td>6</td>\n",
       "    </tr>\n",
       "    <tr>\n",
       "      <th>5</th>\n",
       "      <td>10</td>\n",
       "      <td>7</td>\n",
       "    </tr>\n",
       "    <tr>\n",
       "      <th>6</th>\n",
       "      <td>2</td>\n",
       "      <td>8</td>\n",
       "    </tr>\n",
       "    <tr>\n",
       "      <th>7</th>\n",
       "      <td>4</td>\n",
       "      <td>9</td>\n",
       "    </tr>\n",
       "    <tr>\n",
       "      <th>8</th>\n",
       "      <td>7</td>\n",
       "      <td>10</td>\n",
       "    </tr>\n",
       "    <tr>\n",
       "      <th>9</th>\n",
       "      <td>3</td>\n",
       "      <td>11</td>\n",
       "    </tr>\n",
       "  </tbody>\n",
       "</table>\n",
       "</div>"
      ],
      "text/plain": [
       "    t   p\n",
       "0   8   2\n",
       "1   9   3\n",
       "2   1   4\n",
       "3   5   5\n",
       "4   6   6\n",
       "5  10   7\n",
       "6   2   8\n",
       "7   4   9\n",
       "8   7  10\n",
       "9   3  11"
      ]
     },
     "execution_count": 35,
     "metadata": {},
     "output_type": "execute_result"
    }
   ],
   "source": [
    "df2= pd.DataFrame({'t' : [8,9,1,5,6,10,2,4,7,3],\n",
    "                 'p' : np.arange(2, 12, 1)\n",
    "                 })\n",
    "df2"
   ]
  },
  {
   "cell_type": "code",
   "execution_count": 38,
   "metadata": {},
   "outputs": [
    {
     "data": {
      "text/html": [
       "<div>\n",
       "<style scoped>\n",
       "    .dataframe tbody tr th:only-of-type {\n",
       "        vertical-align: middle;\n",
       "    }\n",
       "\n",
       "    .dataframe tbody tr th {\n",
       "        vertical-align: top;\n",
       "    }\n",
       "\n",
       "    .dataframe thead th {\n",
       "        text-align: right;\n",
       "    }\n",
       "</style>\n",
       "<table border=\"1\" class=\"dataframe\">\n",
       "  <thead>\n",
       "    <tr style=\"text-align: right;\">\n",
       "      <th></th>\n",
       "      <th>t</th>\n",
       "      <th>p</th>\n",
       "    </tr>\n",
       "  </thead>\n",
       "  <tbody>\n",
       "    <tr>\n",
       "      <th>t</th>\n",
       "      <td>1.0</td>\n",
       "      <td>1.0</td>\n",
       "    </tr>\n",
       "    <tr>\n",
       "      <th>p</th>\n",
       "      <td>1.0</td>\n",
       "      <td>1.0</td>\n",
       "    </tr>\n",
       "  </tbody>\n",
       "</table>\n",
       "</div>"
      ],
      "text/plain": [
       "     t    p\n",
       "t  1.0  1.0\n",
       "p  1.0  1.0"
      ]
     },
     "execution_count": 38,
     "metadata": {},
     "output_type": "execute_result"
    }
   ],
   "source": [
    "df.corr()"
   ]
  },
  {
   "cell_type": "code",
   "execution_count": 39,
   "metadata": {},
   "outputs": [
    {
     "data": {
      "text/html": [
       "<div>\n",
       "<style scoped>\n",
       "    .dataframe tbody tr th:only-of-type {\n",
       "        vertical-align: middle;\n",
       "    }\n",
       "\n",
       "    .dataframe tbody tr th {\n",
       "        vertical-align: top;\n",
       "    }\n",
       "\n",
       "    .dataframe thead th {\n",
       "        text-align: right;\n",
       "    }\n",
       "</style>\n",
       "<table border=\"1\" class=\"dataframe\">\n",
       "  <thead>\n",
       "    <tr style=\"text-align: right;\">\n",
       "      <th></th>\n",
       "      <th>t</th>\n",
       "      <th>p</th>\n",
       "    </tr>\n",
       "  </thead>\n",
       "  <tbody>\n",
       "    <tr>\n",
       "      <th>t</th>\n",
       "      <td>1.00000</td>\n",
       "      <td>-0.29697</td>\n",
       "    </tr>\n",
       "    <tr>\n",
       "      <th>p</th>\n",
       "      <td>-0.29697</td>\n",
       "      <td>1.00000</td>\n",
       "    </tr>\n",
       "  </tbody>\n",
       "</table>\n",
       "</div>"
      ],
      "text/plain": [
       "         t        p\n",
       "t  1.00000 -0.29697\n",
       "p -0.29697  1.00000"
      ]
     },
     "execution_count": 39,
     "metadata": {},
     "output_type": "execute_result"
    }
   ],
   "source": [
    "df2.corr()"
   ]
  },
  {
   "cell_type": "code",
   "execution_count": 16,
   "metadata": {},
   "outputs": [],
   "source": [
    "# Избавимся от ненужного столбца id\n",
    "geo_data_0 = geo_data_0.drop(['id'], axis=1)\n",
    "geo_data_1 = geo_data_1.drop(['id'], axis=1)\n",
    "geo_data_2 = geo_data_2.drop(['id'], axis=1)"
   ]
  },
  {
   "cell_type": "markdown",
   "metadata": {},
   "source": [
    "#### Вывод:\n",
    "В начальных данных присутствовало 4 количественных признака и один категориальный.  \n",
    "Удален столбец id, который представлял из себя уникальный id скважины, он не давал полезной информации для обучения модели.  \n",
    "Были удалены данные с одинаковыми id. Возможно, данные не корректны, значение id должно быть уникально.     \n",
    "В регионе geo_data_1 признак 'f2' имеет высокий коэффициент корреляции с целевой переменной, равный единице. Это говорит о сильной прямой линейной зависимости.     \n",
    "В других двух регионах этот признак имеет средний коэффициент корреляции с целевой переменной.  \n",
    "Целевая переменная в регионе geo_data_1 имеет дискретное распределение, в отличие от других регионов. Значения её дублируются в 99,98% случаев. Я бы посоветовал перепроверить данные.\n",
    "\n",
    "Посмотрим, как это скажется на прогнозах модели. Скорее всего, для региона geo_data_1 мы получим более точные предсказания."
   ]
  },
  {
   "cell_type": "markdown",
   "metadata": {},
   "source": [
    "## Обучение и проверка модели"
   ]
  },
  {
   "cell_type": "markdown",
   "metadata": {},
   "source": [
    "Обучим и проверим модель для каждого региона:\n",
    "2.1. Разобьем данные на обучающую и валидационную выборки в соотношении 75:25.      \n",
    "2.2. Обучим модель и сделаем предсказания на валидационной выборке.     \n",
    "2.3. Сохраним предсказания и правильные ответы на валидационной выборке.        \n",
    "2.4. Напечатаем на экране средний запас предсказанного сырья и RMSE модели.     \n",
    "2.5. Проанализируем результаты.     "
   ]
  },
  {
   "cell_type": "code",
   "execution_count": 17,
   "metadata": {},
   "outputs": [],
   "source": [
    "# Функция возврата имени переменной\n",
    "def namestr(obj, namespace):\n",
    "    return [name for name in namespace if namespace[name] is obj]"
   ]
  },
  {
   "cell_type": "code",
   "execution_count": 18,
   "metadata": {},
   "outputs": [],
   "source": [
    "# Функция расчета среднего запаса сырья и RMSE\n",
    "def mean_rmse_geo_data (geo_data):    \n",
    "    train_geo_data, test_geo_data = train_test_split(geo_data, test_size=0.25, random_state=12345)\n",
    "    # Разделение на выборки\n",
    "    features_train_geo_data = train_geo_data.drop(['product'], axis=1)\n",
    "    target_train_geo_data = train_geo_data['product']\n",
    "    features_test_geo_data = test_geo_data.drop(['product'], axis=1)\n",
    "    target_test_geo_data = test_geo_data['product']\n",
    "    # Масштабирование признаков\n",
    "    num_features = ['f0','f1','f2']\n",
    "    scaler = MinMaxScaler()\n",
    "    features_train_geo_data[num_features] = scaler.fit_transform(features_train_geo_data[num_features])\n",
    "    features_test_geo_data[num_features] = scaler.transform(features_test_geo_data[num_features])\n",
    "    # Обучение модели\n",
    "    model = LinearRegression()\n",
    "    model.fit(features_train_geo_data, target_train_geo_data)\n",
    "    # Получение результатов\n",
    "    predicted_valid = model.predict(features_test_geo_data)\n",
    "    mse = mean_squared_error(target_test_geo_data, predicted_valid)\n",
    "    print('features_train.shape =', features_train_geo_data.shape,'|', 'target_train.shape =', target_train_geo_data.shape)\n",
    "    print('features_test.shape =', features_test_geo_data.shape,' |', 'target_test.shape =', target_test_geo_data.shape)\n",
    "    print('-' * 70)\n",
    "    print(f'Средний запас предсказанного сырья для {namestr(geo_data,globals())[0]}:', predicted_valid.mean())\n",
    "    print('RMSE =', mse ** 0.5)\n",
    "    predicted_target_geo_data = features_test_geo_data\n",
    "    predicted_target_geo_data['predict'] = predicted_valid\n",
    "    predicted_target_geo_data['target'] = target_test_geo_data\n",
    "    predicted_target_geo_data = predicted_target_geo_data.drop(['f0','f1','f2'], axis=1)\n",
    "    return [predicted_target_geo_data, mse ** 0.5]"
   ]
  },
  {
   "cell_type": "code",
   "execution_count": 19,
   "metadata": {},
   "outputs": [
    {
     "name": "stdout",
     "output_type": "stream",
     "text": [
      "features_train.shape = (74985, 3) | target_train.shape = (74985,)\n",
      "features_test.shape = (24995, 3)  | target_test.shape = (24995,)\n",
      "----------------------------------------------------------------------\n",
      "Средний запас предсказанного сырья для geo_data_0: 92.42384109947358\n",
      "RMSE = 37.716904960382735\n"
     ]
    }
   ],
   "source": [
    "predicted_target_geo_data_0, mean_rmse_geo_data_0 = mean_rmse_geo_data(geo_data_0)"
   ]
  },
  {
   "cell_type": "code",
   "execution_count": 20,
   "metadata": {},
   "outputs": [
    {
     "name": "stdout",
     "output_type": "stream",
     "text": [
      "features_train.shape = (74994, 3) | target_train.shape = (74994,)\n",
      "features_test.shape = (24998, 3)  | target_test.shape = (24998,)\n",
      "----------------------------------------------------------------------\n",
      "Средний запас предсказанного сырья для geo_data_1: 68.98311857983123\n",
      "RMSE = 0.891490139034854\n"
     ]
    }
   ],
   "source": [
    "predicted_target_geo_data_1, mean_rmse_geo_data_1 = mean_rmse_geo_data(geo_data_1)"
   ]
  },
  {
   "cell_type": "code",
   "execution_count": 21,
   "metadata": {},
   "outputs": [
    {
     "name": "stdout",
     "output_type": "stream",
     "text": [
      "features_train.shape = (74994, 3) | target_train.shape = (74994,)\n",
      "features_test.shape = (24998, 3)  | target_test.shape = (24998,)\n",
      "----------------------------------------------------------------------\n",
      "Средний запас предсказанного сырья для geo_data_2: 95.11622302076478\n",
      "RMSE = 39.975543264382345\n"
     ]
    }
   ],
   "source": [
    "predicted_target_geo_data_2, mean_rmse_geo_data_2 = mean_rmse_geo_data(geo_data_2)"
   ]
  },
  {
   "cell_type": "code",
   "execution_count": 22,
   "metadata": {},
   "outputs": [
    {
     "data": {
      "text/html": [
       "<div>\n",
       "<style scoped>\n",
       "    .dataframe tbody tr th:only-of-type {\n",
       "        vertical-align: middle;\n",
       "    }\n",
       "\n",
       "    .dataframe tbody tr th {\n",
       "        vertical-align: top;\n",
       "    }\n",
       "\n",
       "    .dataframe thead th {\n",
       "        text-align: right;\n",
       "    }\n",
       "</style>\n",
       "<table border=\"1\" class=\"dataframe\">\n",
       "  <thead>\n",
       "    <tr style=\"text-align: right;\">\n",
       "      <th></th>\n",
       "      <th>predict</th>\n",
       "      <th>target</th>\n",
       "    </tr>\n",
       "  </thead>\n",
       "  <tbody>\n",
       "    <tr>\n",
       "      <th>6169</th>\n",
       "      <td>62.286613</td>\n",
       "      <td>61.171722</td>\n",
       "    </tr>\n",
       "    <tr>\n",
       "      <th>29916</th>\n",
       "      <td>70.428178</td>\n",
       "      <td>94.192535</td>\n",
       "    </tr>\n",
       "    <tr>\n",
       "      <th>49569</th>\n",
       "      <td>87.349562</td>\n",
       "      <td>137.742601</td>\n",
       "    </tr>\n",
       "  </tbody>\n",
       "</table>\n",
       "</div>"
      ],
      "text/plain": [
       "         predict      target\n",
       "6169   62.286613   61.171722\n",
       "29916  70.428178   94.192535\n",
       "49569  87.349562  137.742601"
      ]
     },
     "execution_count": 22,
     "metadata": {},
     "output_type": "execute_result"
    }
   ],
   "source": [
    "predicted_target_geo_data_0.head(3)"
   ]
  },
  {
   "cell_type": "code",
   "execution_count": 23,
   "metadata": {},
   "outputs": [
    {
     "data": {
      "image/png": "[encoded data removed]",
      "text/plain": [
       "<Figure size 864x288 with 3 Axes>"
      ]
     },
     "metadata": {
      "needs_background": "light"
     },
     "output_type": "display_data"
    }
   ],
   "source": [
    "fig, ax = plt.subplots(1,3)\n",
    "sns.histplot(predicted_target_geo_data_0,  bins = 20, ax=ax[0])\n",
    "sns.histplot(predicted_target_geo_data_1,  bins = 20, ax=ax[1])\n",
    "sns.histplot(predicted_target_geo_data_2,  bins = 20, ax=ax[2])\n",
    "ax[0].set_title('geo_data_0'), ax[1].set_title('geo_data_1'), ax[2].set_title('geo_data_2')\n",
    "plt.suptitle ('Фактический целевой признак и предсказания модели')\n",
    "fig.show()"
   ]
  },
  {
   "cell_type": "markdown",
   "metadata": {},
   "source": [
    "#### Вывод:\n",
    "Самые точные предсказания мы получили для региона geo_data_1, скорее всего это связано с очень сильной корреляцией одного из признаков с таргетом. RMSE для этого региона = 0.9 тыс. баррелей. Средний запас предсказанного сырья для каждой точки в geo_data_1 составляет 69 тыс. баррелей, что меньше чем в других регионах.    \n",
    "Для регионов geo_data_1 и geo_data_1 среднеквадратическая ошибка составила 37.7 и 40 тыс. барелей, а запас предсказанного сырья для каждой точки 92,4 и 95,1 тыс. баррелей соответственно."
   ]
  },
  {
   "cell_type": "markdown",
   "metadata": {},
   "source": [
    "## Подготовка к расчёту прибыли"
   ]
  },
  {
   "cell_type": "markdown",
   "metadata": {},
   "source": [
    "Подготовьтесь к расчёту прибыли:    \n",
    " 3.1. Все ключевые значения для расчётов сохраните в отдельных переменных.  \n",
    " 3.2. Рассчитайте достаточный объём сырья для безубыточной разработки новой скважины. Сравните полученный объём сырья со средним запасом в каждом регионе.  \n",
    " 3.3. Напишите выводы по этапу подготовки расчёта прибыли.  "
   ]
  },
  {
   "cell_type": "markdown",
   "metadata": {},
   "source": [
    "При разведке региона исследуют 500 точек, из которых с помощью машинного обучения выбирают 200 лучших для разработки.\n",
    "Бюджет на разработку скважин в регионе — 10 млрд рублей.    \n",
    "При нынешних ценах один баррель сырья приносит 450 рублей дохода. Доход с каждой единицы продукта составляет 450 тыс. рублей, поскольку объём указан в тысячах баррелей.    \n",
    "После оценки рисков нужно оставить лишь те регионы, в которых вероятность убытков меньше 2.5%. Среди них выбирают регион с наибольшей средней прибылью.     "
   ]
  },
  {
   "cell_type": "code",
   "execution_count": 24,
   "metadata": {},
   "outputs": [
    {
     "name": "stdout",
     "output_type": "stream",
     "text": [
      "Достаточный объём сырья для безубыточной разработки новой скважины = 111.11111111111111\n"
     ]
    }
   ],
   "source": [
    "# Объём сырья для безубыточной разработки новой скважины\n",
    "volume_0_profit = BUDGET / (PRISE * NUMBER_OF_OIL_RIGS)\n",
    "print('Достаточный объём сырья для безубыточной разработки новой скважины =', volume_0_profit)"
   ]
  },
  {
   "cell_type": "code",
   "execution_count": 25,
   "metadata": {},
   "outputs": [],
   "source": [
    "# Создадим функцию для сравнения среднего запаса предсказанного сырья и достаточного объема\n",
    "def cap_obvious(predicted_volume):\n",
    "    if volume_0_profit>predicted_volume['predict'].mean():\n",
    "        print(f'Средний запас предсказанного сырья для {namestr(predicted_volume,globals())[0]} менше достаточного объема на {np.round(abs(volume_0_profit-predicted_volume.mean())[0], 2)} тыс. барелей')\n",
    "    elif volume_0_profit==predicted_volume:\n",
    "        print(f'Средний запас предсказанного сырья для {namestr(predicted_volume,globals())[0]} равен достаточному объему {np.round(volume_0_profit, 2)[0]} тыс. барелей')\n",
    "    else:\n",
    "        print(f'Средний запас предсказанного сырья для {namestr(predicted_volume,globals())[0]} больше достаточного объема на {np.round(abs(volume_0_profit-predicted_volume.mean())[0], 2)} тыс. барелей')"
   ]
  },
  {
   "cell_type": "code",
   "execution_count": 26,
   "metadata": {},
   "outputs": [
    {
     "name": "stdout",
     "output_type": "stream",
     "text": [
      "Средний запас предсказанного сырья для predicted_target_geo_data_0 менше достаточного объема на 18.69 тыс. барелей\n",
      "Средний запас предсказанного сырья для predicted_target_geo_data_1 менше достаточного объема на 42.13 тыс. барелей\n",
      "Средний запас предсказанного сырья для predicted_target_geo_data_2 менше достаточного объема на 15.99 тыс. барелей\n"
     ]
    }
   ],
   "source": [
    "cap_obvious(predicted_target_geo_data_0)\n",
    "cap_obvious(predicted_target_geo_data_1)\n",
    "cap_obvious(predicted_target_geo_data_2)"
   ]
  },
  {
   "cell_type": "markdown",
   "metadata": {},
   "source": [
    "#### Вывод:     \n",
    "Средний запас предсказанного сырья во всех трех регионах меньше достаточного объема"
   ]
  },
  {
   "cell_type": "markdown",
   "metadata": {},
   "source": [
    "## Расчёт прибыли и рисков "
   ]
  },
  {
   "cell_type": "markdown",
   "metadata": {},
   "source": [
    "Напишите функцию для расчёта прибыли по выбранным скважинам и предсказаниям модели:     \n",
    " 4.1. Выберите скважины с максимальными значениями предсказаний.    \n",
    " 4.2. Просуммируйте целевое значение объёма сырья, соответствующее этим предсказаниям.  \n",
    " 4.3. Рассчитайте прибыль для полученного объёма сырья. "
   ]
  },
  {
   "cell_type": "code",
   "execution_count": 27,
   "metadata": {},
   "outputs": [],
   "source": [
    "def profit(predicted_target_geo_data):\n",
    "    predicted_target_geo_data = predicted_target_geo_data.sort_values(by='predict', ascending=False)\n",
    "    profit_region = (predicted_target_geo_data['target'][:NUMBER_OF_OIL_RIGS].sum() * PRISE) - BUDGET\n",
    "    print(f'Прибыль для региона {np.round(profit_region/1000000000, 3)} миллиарда рублей')\n",
    "    return profit_region"
   ]
  },
  {
   "cell_type": "code",
   "execution_count": 28,
   "metadata": {},
   "outputs": [
    {
     "name": "stdout",
     "output_type": "stream",
     "text": [
      "Прибыль для региона 3.136 миллиарда рублей\n",
      "Прибыль для региона 2.415 миллиарда рублей\n",
      "Прибыль для региона 2.466 миллиарда рублей\n"
     ]
    }
   ],
   "source": [
    "profit_geo_data_0 = profit(predicted_target_geo_data_0)\n",
    "profit_geo_data_1 = profit(predicted_target_geo_data_1)\n",
    "profit_geo_data_2 = profit(predicted_target_geo_data_2)"
   ]
  },
  {
   "cell_type": "markdown",
   "metadata": {},
   "source": [
    "Посчитайте риски и прибыль для каждого региона:     \n",
    " 5.1. Примените технику Bootstrap с 1000 выборок, чтобы найти распределение прибыли.    \n",
    " 5.2. Найдите среднюю прибыль, 95%-й доверительный интервал и риск убытков. Убыток — это отрицательная прибыль.     \n",
    " 5.3. Напишите выводы: предложите регион для разработки скважин и обоснуйте выбор.  "
   ]
  },
  {
   "cell_type": "code",
   "execution_count": 29,
   "metadata": {},
   "outputs": [
    {
     "data": {
      "text/html": [
       "<div>\n",
       "<style scoped>\n",
       "    .dataframe tbody tr th:only-of-type {\n",
       "        vertical-align: middle;\n",
       "    }\n",
       "\n",
       "    .dataframe tbody tr th {\n",
       "        vertical-align: top;\n",
       "    }\n",
       "\n",
       "    .dataframe thead th {\n",
       "        text-align: right;\n",
       "    }\n",
       "</style>\n",
       "<table border=\"1\" class=\"dataframe\">\n",
       "  <thead>\n",
       "    <tr style=\"text-align: right;\">\n",
       "      <th></th>\n",
       "      <th>predict</th>\n",
       "      <th>target</th>\n",
       "    </tr>\n",
       "  </thead>\n",
       "  <tbody>\n",
       "    <tr>\n",
       "      <th>6169</th>\n",
       "      <td>62.286613</td>\n",
       "      <td>61.171722</td>\n",
       "    </tr>\n",
       "    <tr>\n",
       "      <th>29916</th>\n",
       "      <td>70.428178</td>\n",
       "      <td>94.192535</td>\n",
       "    </tr>\n",
       "    <tr>\n",
       "      <th>49569</th>\n",
       "      <td>87.349562</td>\n",
       "      <td>137.742601</td>\n",
       "    </tr>\n",
       "  </tbody>\n",
       "</table>\n",
       "</div>"
      ],
      "text/plain": [
       "         predict      target\n",
       "6169   62.286613   61.171722\n",
       "29916  70.428178   94.192535\n",
       "49569  87.349562  137.742601"
      ]
     },
     "execution_count": 29,
     "metadata": {},
     "output_type": "execute_result"
    }
   ],
   "source": [
    "predicted_target_geo_data_0.head(3)"
   ]
  },
  {
   "cell_type": "code",
   "execution_count": 30,
   "metadata": {},
   "outputs": [],
   "source": [
    "def revenue(target, predict, count):\n",
    "    probs_sorted = predict.sort_values(ascending=False)\n",
    "    selected = target[probs_sorted.index][:count]\n",
    "    return PRISE * selected.sum() - BUDGET"
   ]
  },
  {
   "cell_type": "code",
   "execution_count": 31,
   "metadata": {},
   "outputs": [],
   "source": [
    "state = np.random.RandomState(12345)\n",
    "def lower_upper_loss(predicted_target_geo_data):\n",
    "    values = []\n",
    "    target_geo_data = predicted_target_geo_data['target']\n",
    "    predict_geo_data = predicted_target_geo_data['predict']\n",
    "    for i in range(1000):\n",
    "        target_subsample = target_geo_data.sample(n=NUMBER_OF_OIL_RIGS_SELECT, replace=True, random_state=state)\n",
    "        predict_subsample = predict_geo_data[target_subsample.index]\n",
    "        values.append(revenue(target_subsample, predict_subsample, NUMBER_OF_OIL_RIGS))\n",
    "        \n",
    "    values = pd.Series(values)\n",
    "    loss = values[values<0].count() / len(values)\n",
    "    lower = values.quantile(0.025)\n",
    "    upper =  values.quantile(0.975)\n",
    "    mean = values.mean()\n",
    "\n",
    "    print('2,5%-квантиль:', lower)\n",
    "    print('Средняя прибыль:', mean)\n",
    "    print('97,5%-квантиль:',upper)\n",
    "    print('Вероятность убытка: {:.1%}'.format(loss))"
   ]
  },
  {
   "cell_type": "code",
   "execution_count": 32,
   "metadata": {},
   "outputs": [
    {
     "name": "stdout",
     "output_type": "stream",
     "text": [
      "-----------------------------------\n",
      "geo_data_0:\n",
      "2,5%-квантиль: -90234067.10362324\n",
      "Средняя прибыль: 459085613.4113576\n",
      "97,5%-квантиль: 987953883.1101811\n",
      "Вероятность убытка: 4.7%\n",
      "-----------------------------------\n",
      "geo_data_1:\n",
      "2,5%-квантиль: 133791191.22885112\n",
      "Средняя прибыль: 523579383.22678614\n",
      "97,5%-квантиль: 961450161.0437706\n",
      "Вероятность убытка: 0.6%\n",
      "-----------------------------------\n",
      "geo_data_2:\n",
      "2,5%-квантиль: -198355934.11350116\n",
      "Средняя прибыль: 341472005.26126266\n",
      "97,5%-квантиль: 852708580.7650117\n",
      "Вероятность убытка: 11.6%\n",
      "-----------------------------------\n"
     ]
    }
   ],
   "source": [
    "state = np.random.RandomState(12345)\n",
    "print('-' * 35)\n",
    "print('geo_data_0:')\n",
    "lower_upper_loss(predicted_target_geo_data_0)\n",
    "print('-' * 35)\n",
    "print('geo_data_1:')\n",
    "lower_upper_loss(predicted_target_geo_data_1)\n",
    "print('-' * 35)\n",
    "print('geo_data_2:')\n",
    "lower_upper_loss(predicted_target_geo_data_2)\n",
    "print('-' * 35)"
   ]
  },
  {
   "cell_type": "markdown",
   "metadata": {},
   "source": [
    "#### Вывод:\n",
    "Единственный регион, в котором вероятность убытка меньше 2,5%, это регион geo_data_1.       \n",
    "Для разработки месторождения подходит только регион geo_data_1, так как риск получить убыток менее одного процента.     \n",
    "Однако, следует отметить, что целевая переменная в регионе geo_data_1 имеет дискретное распределение, в отличие от других регионов. Значения её дублируются в 99,98% случаев. Рекомендую проверить эти данные для исключения возможных проблем."
   ]
  }
 ],
 "metadata": {
  "ExecuteTimeLog": [
   {
    "duration": 2199,
    "start_time": "2023-02-21T05:38:42.123Z"
   },
   {
    "duration": 1587,
    "start_time": "2023-02-21T05:38:44.324Z"
   },
   {
    "duration": 44,
    "start_time": "2023-02-21T05:38:45.913Z"
   },
   {
    "duration": 31,
    "start_time": "2023-02-21T05:38:45.960Z"
   },
   {
    "duration": 24,
    "start_time": "2023-02-21T05:38:45.993Z"
   },
   {
    "duration": 171,
    "start_time": "2023-02-21T05:38:46.018Z"
   },
   {
    "duration": 366,
    "start_time": "2023-02-21T05:38:46.191Z"
   },
   {
    "duration": 108,
    "start_time": "2023-02-21T05:38:46.559Z"
   },
   {
    "duration": 619,
    "start_time": "2023-02-21T05:38:46.674Z"
   },
   {
    "duration": 14,
    "start_time": "2023-02-21T05:38:47.296Z"
   },
   {
    "duration": 8,
    "start_time": "2023-02-21T05:38:47.312Z"
   },
   {
    "duration": 9,
    "start_time": "2023-02-21T05:38:47.322Z"
   },
   {
    "duration": 234,
    "start_time": "2023-02-21T05:38:47.333Z"
   },
   {
    "duration": 183,
    "start_time": "2023-02-21T05:38:47.570Z"
   },
   {
    "duration": 194,
    "start_time": "2023-02-21T05:38:47.755Z"
   },
   {
    "duration": 100,
    "start_time": "2023-02-21T05:38:47.951Z"
   },
   {
    "duration": 18,
    "start_time": "2023-02-21T05:38:48.053Z"
   },
   {
    "duration": 851,
    "start_time": "2023-02-21T05:38:48.072Z"
   },
   {
    "duration": 4,
    "start_time": "2023-02-21T05:38:48.924Z"
   },
   {
    "duration": 8,
    "start_time": "2023-02-21T05:38:48.929Z"
   },
   {
    "duration": 28,
    "start_time": "2023-02-21T05:38:48.939Z"
   },
   {
    "duration": 25,
    "start_time": "2023-02-21T05:38:48.969Z"
   },
   {
    "duration": 4,
    "start_time": "2023-02-21T05:38:48.996Z"
   },
   {
    "duration": 20,
    "start_time": "2023-02-21T05:38:49.002Z"
   },
   {
    "duration": 8,
    "start_time": "2023-02-21T05:38:49.024Z"
   },
   {
    "duration": 7,
    "start_time": "2023-02-21T05:38:49.034Z"
   },
   {
    "duration": 11,
    "start_time": "2023-02-21T05:38:49.043Z"
   },
   {
    "duration": 4285,
    "start_time": "2023-02-21T05:38:49.058Z"
   },
   {
    "duration": 3,
    "start_time": "2023-02-21T05:41:49.697Z"
   },
   {
    "duration": 14,
    "start_time": "2023-02-21T05:49:24.355Z"
   },
   {
    "duration": 1848,
    "start_time": "2023-02-22T12:49:15.557Z"
   },
   {
    "duration": 4,
    "start_time": "2023-02-22T12:49:17.407Z"
   },
   {
    "duration": 388,
    "start_time": "2023-02-22T12:49:17.412Z"
   },
   {
    "duration": 57,
    "start_time": "2023-02-22T12:49:17.803Z"
   },
   {
    "duration": 22,
    "start_time": "2023-02-22T12:49:17.861Z"
   },
   {
    "duration": 33,
    "start_time": "2023-02-22T12:49:17.885Z"
   },
   {
    "duration": 133,
    "start_time": "2023-02-22T12:49:17.948Z"
   },
   {
    "duration": 243,
    "start_time": "2023-02-22T12:49:18.082Z"
   },
   {
    "duration": 68,
    "start_time": "2023-02-22T12:49:18.327Z"
   },
   {
    "duration": 508,
    "start_time": "2023-02-22T12:49:18.398Z"
   },
   {
    "duration": 4599,
    "start_time": "2023-02-22T12:49:18.908Z"
   },
   {
    "duration": 1219,
    "start_time": "2023-02-22T12:49:23.510Z"
   },
   {
    "duration": 3566,
    "start_time": "2023-02-22T12:49:24.731Z"
   },
   {
    "duration": 666,
    "start_time": "2023-02-22T12:49:28.299Z"
   },
   {
    "duration": 12,
    "start_time": "2023-02-22T12:49:28.967Z"
   },
   {
    "duration": 16,
    "start_time": "2023-02-22T12:49:28.981Z"
   },
   {
    "duration": 5,
    "start_time": "2023-02-22T12:49:28.999Z"
   },
   {
    "duration": 9,
    "start_time": "2023-02-22T12:49:29.006Z"
   },
   {
    "duration": 234,
    "start_time": "2023-02-22T12:49:29.016Z"
   },
   {
    "duration": 34,
    "start_time": "2023-02-22T12:49:29.252Z"
   },
   {
    "duration": 123,
    "start_time": "2023-02-22T12:49:29.349Z"
   },
   {
    "duration": 81,
    "start_time": "2023-02-22T12:49:29.475Z"
   },
   {
    "duration": 798,
    "start_time": "2023-02-22T12:49:29.558Z"
   },
   {
    "duration": 3,
    "start_time": "2023-02-22T12:49:30.358Z"
   },
   {
    "duration": 20,
    "start_time": "2023-02-22T12:49:30.363Z"
   },
   {
    "duration": 30,
    "start_time": "2023-02-22T12:49:30.385Z"
   },
   {
    "duration": 26,
    "start_time": "2023-02-22T12:49:30.417Z"
   },
   {
    "duration": 28,
    "start_time": "2023-02-22T12:49:30.447Z"
   },
   {
    "duration": 18,
    "start_time": "2023-02-22T12:49:30.477Z"
   },
   {
    "duration": 18,
    "start_time": "2023-02-22T12:49:30.497Z"
   },
   {
    "duration": 22,
    "start_time": "2023-02-22T12:49:30.517Z"
   },
   {
    "duration": 3971,
    "start_time": "2023-02-22T12:49:30.541Z"
   },
   {
    "duration": 9,
    "start_time": "2023-02-22T12:50:00.339Z"
   },
   {
    "duration": 4,
    "start_time": "2023-02-22T12:50:16.227Z"
   },
   {
    "duration": 7,
    "start_time": "2023-02-22T12:50:23.475Z"
   },
   {
    "duration": 43,
    "start_time": "2023-02-22T12:51:13.886Z"
   },
   {
    "duration": 9,
    "start_time": "2023-02-22T12:51:18.188Z"
   },
   {
    "duration": 9,
    "start_time": "2023-02-22T12:51:52.732Z"
   },
   {
    "duration": 9,
    "start_time": "2023-02-22T12:51:54.130Z"
   }
  ],
  "kernelspec": {
   "display_name": "Python 3 (ipykernel)",
   "language": "python",
   "name": "python3"
  },
  "language_info": {
   "codemirror_mode": {
    "name": "ipython",
    "version": 3
   },
   "file_extension": ".py",
   "mimetype": "text/x-python",
   "name": "python",
   "nbconvert_exporter": "python",
   "pygments_lexer": "ipython3",
   "version": "3.9.5"
  },
  "toc": {
   "base_numbering": 1,
   "nav_menu": {},
   "number_sections": true,
   "sideBar": true,
   "skip_h1_title": true,
   "title_cell": "Table of Contents",
   "title_sidebar": "Contents",
   "toc_cell": false,
   "toc_position": {},
   "toc_section_display": true,
   "toc_window_display": true
  },
  "vscode": {
   "interpreter": {
    "hash": "7267ec8f842e51d8b1ebea45643215bba17a89236e3558bc385e5e727029c31a"
   }
  }
 },
 "nbformat": 4,
 "nbformat_minor": 2
}
