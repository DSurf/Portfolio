{
 "cells": [
  {
   "cell_type": "markdown",
   "id": "9757b874",
   "metadata": {
    "deletable": false,
    "editable": false,
    "id": "c81daeeb"
   },
   "source": [
    "# Исследование надежности заемщиков\n"
   ]
  },
  {
   "cell_type": "markdown",
   "id": "51aac30d",
   "metadata": {
    "deletable": false,
    "editable": false,
    "id": "827c20bf"
   },
   "source": [
    "На основе данных, предоставленных кредитным отделом банка, мы провели исследование, чтобы изучить влияние семейного положения и количества детей на своевременное погашение кредита.\n",
    "\n",
    "В начале работы провели обзор и обработку данных. Это включало заполнение пропущенных значений, замену типов данных на соответствующие содержанию данных, а также удаление дубликатов.\n",
    "\n",
    "Далее мы приступили к категоризации данных, чтобы взглянуть на различные группы, которые могут оказывать влияние на погашение кредита. После категоризации полученный исходный датафрейм был разделён на три отдельных датафрейма, сфокусированных на семейном статусе, количестве детей и факте погашения кредита.\n",
    "\n",
    "Такой подход позволит нам в дальнейшем проанализировать эти факторы более детально и выявить связи и закономерности между ними.\n",
    "\n"
   ]
  },
  {
   "cell_type": "markdown",
   "id": "555cc5c0",
   "metadata": {
    "deletable": false,
    "editable": false,
    "id": "744d7639"
   },
   "source": [
    "### Откроем таблицу и изучим общую информацию о данных"
   ]
  },
  {
   "cell_type": "code",
   "execution_count": 4,
   "id": "97cc8e99",
   "metadata": {
    "deletable": false,
    "id": "7bcf75c9"
   },
   "outputs": [],
   "source": [
    "import pandas as pd\n",
    "\n",
    "try:\n",
    "    data = pd.read_csv('')\n",
    "except:\n",
    "    data = pd.read_csv('')"
   ]
  },
  {
   "cell_type": "markdown",
   "id": "ed32aac7",
   "metadata": {
    "deletable": false,
    "editable": false,
    "id": "b8038fe3"
   },
   "source": [
    "Выведем первые 20 строчек датафрейма `data` на экран."
   ]
  },
  {
   "cell_type": "code",
   "execution_count": 5,
   "id": "5ca6a995",
   "metadata": {
    "deletable": false,
    "id": "2a7cab99",
    "outputId": "1a8f3ef2-d323-4ec2-ddf7-89670b5944c4"
   },
   "outputs": [
    {
     "data": {
      "text/html": [
       "<div>\n",
       "<style scoped>\n",
       "    .dataframe tbody tr th:only-of-type {\n",
       "        vertical-align: middle;\n",
       "    }\n",
       "\n",
       "    .dataframe tbody tr th {\n",
       "        vertical-align: top;\n",
       "    }\n",
       "\n",
       "    .dataframe thead th {\n",
       "        text-align: right;\n",
       "    }\n",
       "</style>\n",
       "<table border=\"1\" class=\"dataframe\">\n",
       "  <thead>\n",
       "    <tr style=\"text-align: right;\">\n",
       "      <th></th>\n",
       "      <th>children</th>\n",
       "      <th>days_employed</th>\n",
       "      <th>dob_years</th>\n",
       "      <th>education</th>\n",
       "      <th>education_id</th>\n",
       "      <th>family_status</th>\n",
       "      <th>family_status_id</th>\n",
       "      <th>gender</th>\n",
       "      <th>income_type</th>\n",
       "      <th>debt</th>\n",
       "      <th>total_income</th>\n",
       "      <th>purpose</th>\n",
       "    </tr>\n",
       "  </thead>\n",
       "  <tbody>\n",
       "    <tr>\n",
       "      <th>0</th>\n",
       "      <td>1</td>\n",
       "      <td>-8437.673028</td>\n",
       "      <td>42</td>\n",
       "      <td>высшее</td>\n",
       "      <td>0</td>\n",
       "      <td>женат / замужем</td>\n",
       "      <td>0</td>\n",
       "      <td>F</td>\n",
       "      <td>сотрудник</td>\n",
       "      <td>0</td>\n",
       "      <td>253875.639453</td>\n",
       "      <td>покупка жилья</td>\n",
       "    </tr>\n",
       "    <tr>\n",
       "      <th>1</th>\n",
       "      <td>1</td>\n",
       "      <td>-4024.803754</td>\n",
       "      <td>36</td>\n",
       "      <td>среднее</td>\n",
       "      <td>1</td>\n",
       "      <td>женат / замужем</td>\n",
       "      <td>0</td>\n",
       "      <td>F</td>\n",
       "      <td>сотрудник</td>\n",
       "      <td>0</td>\n",
       "      <td>112080.014102</td>\n",
       "      <td>приобретение автомобиля</td>\n",
       "    </tr>\n",
       "    <tr>\n",
       "      <th>2</th>\n",
       "      <td>0</td>\n",
       "      <td>-5623.422610</td>\n",
       "      <td>33</td>\n",
       "      <td>Среднее</td>\n",
       "      <td>1</td>\n",
       "      <td>женат / замужем</td>\n",
       "      <td>0</td>\n",
       "      <td>M</td>\n",
       "      <td>сотрудник</td>\n",
       "      <td>0</td>\n",
       "      <td>145885.952297</td>\n",
       "      <td>покупка жилья</td>\n",
       "    </tr>\n",
       "    <tr>\n",
       "      <th>3</th>\n",
       "      <td>3</td>\n",
       "      <td>-4124.747207</td>\n",
       "      <td>32</td>\n",
       "      <td>среднее</td>\n",
       "      <td>1</td>\n",
       "      <td>женат / замужем</td>\n",
       "      <td>0</td>\n",
       "      <td>M</td>\n",
       "      <td>сотрудник</td>\n",
       "      <td>0</td>\n",
       "      <td>267628.550329</td>\n",
       "      <td>дополнительное образование</td>\n",
       "    </tr>\n",
       "    <tr>\n",
       "      <th>4</th>\n",
       "      <td>0</td>\n",
       "      <td>340266.072047</td>\n",
       "      <td>53</td>\n",
       "      <td>среднее</td>\n",
       "      <td>1</td>\n",
       "      <td>гражданский брак</td>\n",
       "      <td>1</td>\n",
       "      <td>F</td>\n",
       "      <td>пенсионер</td>\n",
       "      <td>0</td>\n",
       "      <td>158616.077870</td>\n",
       "      <td>сыграть свадьбу</td>\n",
       "    </tr>\n",
       "    <tr>\n",
       "      <th>5</th>\n",
       "      <td>0</td>\n",
       "      <td>-926.185831</td>\n",
       "      <td>27</td>\n",
       "      <td>высшее</td>\n",
       "      <td>0</td>\n",
       "      <td>гражданский брак</td>\n",
       "      <td>1</td>\n",
       "      <td>M</td>\n",
       "      <td>компаньон</td>\n",
       "      <td>0</td>\n",
       "      <td>255763.565419</td>\n",
       "      <td>покупка жилья</td>\n",
       "    </tr>\n",
       "    <tr>\n",
       "      <th>6</th>\n",
       "      <td>0</td>\n",
       "      <td>-2879.202052</td>\n",
       "      <td>43</td>\n",
       "      <td>высшее</td>\n",
       "      <td>0</td>\n",
       "      <td>женат / замужем</td>\n",
       "      <td>0</td>\n",
       "      <td>F</td>\n",
       "      <td>компаньон</td>\n",
       "      <td>0</td>\n",
       "      <td>240525.971920</td>\n",
       "      <td>операции с жильем</td>\n",
       "    </tr>\n",
       "    <tr>\n",
       "      <th>7</th>\n",
       "      <td>0</td>\n",
       "      <td>-152.779569</td>\n",
       "      <td>50</td>\n",
       "      <td>СРЕДНЕЕ</td>\n",
       "      <td>1</td>\n",
       "      <td>женат / замужем</td>\n",
       "      <td>0</td>\n",
       "      <td>M</td>\n",
       "      <td>сотрудник</td>\n",
       "      <td>0</td>\n",
       "      <td>135823.934197</td>\n",
       "      <td>образование</td>\n",
       "    </tr>\n",
       "    <tr>\n",
       "      <th>8</th>\n",
       "      <td>2</td>\n",
       "      <td>-6929.865299</td>\n",
       "      <td>35</td>\n",
       "      <td>ВЫСШЕЕ</td>\n",
       "      <td>0</td>\n",
       "      <td>гражданский брак</td>\n",
       "      <td>1</td>\n",
       "      <td>F</td>\n",
       "      <td>сотрудник</td>\n",
       "      <td>0</td>\n",
       "      <td>95856.832424</td>\n",
       "      <td>на проведение свадьбы</td>\n",
       "    </tr>\n",
       "    <tr>\n",
       "      <th>9</th>\n",
       "      <td>0</td>\n",
       "      <td>-2188.756445</td>\n",
       "      <td>41</td>\n",
       "      <td>среднее</td>\n",
       "      <td>1</td>\n",
       "      <td>женат / замужем</td>\n",
       "      <td>0</td>\n",
       "      <td>M</td>\n",
       "      <td>сотрудник</td>\n",
       "      <td>0</td>\n",
       "      <td>144425.938277</td>\n",
       "      <td>покупка жилья для семьи</td>\n",
       "    </tr>\n",
       "    <tr>\n",
       "      <th>10</th>\n",
       "      <td>2</td>\n",
       "      <td>-4171.483647</td>\n",
       "      <td>36</td>\n",
       "      <td>высшее</td>\n",
       "      <td>0</td>\n",
       "      <td>женат / замужем</td>\n",
       "      <td>0</td>\n",
       "      <td>M</td>\n",
       "      <td>компаньон</td>\n",
       "      <td>0</td>\n",
       "      <td>113943.491460</td>\n",
       "      <td>покупка недвижимости</td>\n",
       "    </tr>\n",
       "    <tr>\n",
       "      <th>11</th>\n",
       "      <td>0</td>\n",
       "      <td>-792.701887</td>\n",
       "      <td>40</td>\n",
       "      <td>среднее</td>\n",
       "      <td>1</td>\n",
       "      <td>женат / замужем</td>\n",
       "      <td>0</td>\n",
       "      <td>F</td>\n",
       "      <td>сотрудник</td>\n",
       "      <td>0</td>\n",
       "      <td>77069.234271</td>\n",
       "      <td>покупка коммерческой недвижимости</td>\n",
       "    </tr>\n",
       "    <tr>\n",
       "      <th>12</th>\n",
       "      <td>0</td>\n",
       "      <td>NaN</td>\n",
       "      <td>65</td>\n",
       "      <td>среднее</td>\n",
       "      <td>1</td>\n",
       "      <td>гражданский брак</td>\n",
       "      <td>1</td>\n",
       "      <td>M</td>\n",
       "      <td>пенсионер</td>\n",
       "      <td>0</td>\n",
       "      <td>NaN</td>\n",
       "      <td>сыграть свадьбу</td>\n",
       "    </tr>\n",
       "    <tr>\n",
       "      <th>13</th>\n",
       "      <td>0</td>\n",
       "      <td>-1846.641941</td>\n",
       "      <td>54</td>\n",
       "      <td>неоконченное высшее</td>\n",
       "      <td>2</td>\n",
       "      <td>женат / замужем</td>\n",
       "      <td>0</td>\n",
       "      <td>F</td>\n",
       "      <td>сотрудник</td>\n",
       "      <td>0</td>\n",
       "      <td>130458.228857</td>\n",
       "      <td>приобретение автомобиля</td>\n",
       "    </tr>\n",
       "    <tr>\n",
       "      <th>14</th>\n",
       "      <td>0</td>\n",
       "      <td>-1844.956182</td>\n",
       "      <td>56</td>\n",
       "      <td>высшее</td>\n",
       "      <td>0</td>\n",
       "      <td>гражданский брак</td>\n",
       "      <td>1</td>\n",
       "      <td>F</td>\n",
       "      <td>компаньон</td>\n",
       "      <td>1</td>\n",
       "      <td>165127.911772</td>\n",
       "      <td>покупка жилой недвижимости</td>\n",
       "    </tr>\n",
       "    <tr>\n",
       "      <th>15</th>\n",
       "      <td>1</td>\n",
       "      <td>-972.364419</td>\n",
       "      <td>26</td>\n",
       "      <td>среднее</td>\n",
       "      <td>1</td>\n",
       "      <td>женат / замужем</td>\n",
       "      <td>0</td>\n",
       "      <td>F</td>\n",
       "      <td>сотрудник</td>\n",
       "      <td>0</td>\n",
       "      <td>116820.904450</td>\n",
       "      <td>строительство собственной недвижимости</td>\n",
       "    </tr>\n",
       "    <tr>\n",
       "      <th>16</th>\n",
       "      <td>0</td>\n",
       "      <td>-1719.934226</td>\n",
       "      <td>35</td>\n",
       "      <td>среднее</td>\n",
       "      <td>1</td>\n",
       "      <td>женат / замужем</td>\n",
       "      <td>0</td>\n",
       "      <td>F</td>\n",
       "      <td>сотрудник</td>\n",
       "      <td>0</td>\n",
       "      <td>289202.704229</td>\n",
       "      <td>недвижимость</td>\n",
       "    </tr>\n",
       "    <tr>\n",
       "      <th>17</th>\n",
       "      <td>0</td>\n",
       "      <td>-2369.999720</td>\n",
       "      <td>33</td>\n",
       "      <td>высшее</td>\n",
       "      <td>0</td>\n",
       "      <td>гражданский брак</td>\n",
       "      <td>1</td>\n",
       "      <td>M</td>\n",
       "      <td>сотрудник</td>\n",
       "      <td>0</td>\n",
       "      <td>90410.586745</td>\n",
       "      <td>строительство недвижимости</td>\n",
       "    </tr>\n",
       "    <tr>\n",
       "      <th>18</th>\n",
       "      <td>0</td>\n",
       "      <td>400281.136913</td>\n",
       "      <td>53</td>\n",
       "      <td>среднее</td>\n",
       "      <td>1</td>\n",
       "      <td>вдовец / вдова</td>\n",
       "      <td>2</td>\n",
       "      <td>F</td>\n",
       "      <td>пенсионер</td>\n",
       "      <td>0</td>\n",
       "      <td>56823.777243</td>\n",
       "      <td>на покупку подержанного автомобиля</td>\n",
       "    </tr>\n",
       "    <tr>\n",
       "      <th>19</th>\n",
       "      <td>0</td>\n",
       "      <td>-10038.818549</td>\n",
       "      <td>48</td>\n",
       "      <td>СРЕДНЕЕ</td>\n",
       "      <td>1</td>\n",
       "      <td>в разводе</td>\n",
       "      <td>3</td>\n",
       "      <td>F</td>\n",
       "      <td>сотрудник</td>\n",
       "      <td>0</td>\n",
       "      <td>242831.107982</td>\n",
       "      <td>на покупку своего автомобиля</td>\n",
       "    </tr>\n",
       "  </tbody>\n",
       "</table>\n",
       "</div>"
      ],
      "text/plain": [
       "    children  days_employed  dob_years            education  education_id  \\\n",
       "0          1   -8437.673028         42               высшее             0   \n",
       "1          1   -4024.803754         36              среднее             1   \n",
       "2          0   -5623.422610         33              Среднее             1   \n",
       "3          3   -4124.747207         32              среднее             1   \n",
       "4          0  340266.072047         53              среднее             1   \n",
       "5          0    -926.185831         27               высшее             0   \n",
       "6          0   -2879.202052         43               высшее             0   \n",
       "7          0    -152.779569         50              СРЕДНЕЕ             1   \n",
       "8          2   -6929.865299         35               ВЫСШЕЕ             0   \n",
       "9          0   -2188.756445         41              среднее             1   \n",
       "10         2   -4171.483647         36               высшее             0   \n",
       "11         0    -792.701887         40              среднее             1   \n",
       "12         0            NaN         65              среднее             1   \n",
       "13         0   -1846.641941         54  неоконченное высшее             2   \n",
       "14         0   -1844.956182         56               высшее             0   \n",
       "15         1    -972.364419         26              среднее             1   \n",
       "16         0   -1719.934226         35              среднее             1   \n",
       "17         0   -2369.999720         33               высшее             0   \n",
       "18         0  400281.136913         53              среднее             1   \n",
       "19         0  -10038.818549         48              СРЕДНЕЕ             1   \n",
       "\n",
       "       family_status  family_status_id gender income_type  debt  \\\n",
       "0    женат / замужем                 0      F   сотрудник     0   \n",
       "1    женат / замужем                 0      F   сотрудник     0   \n",
       "2    женат / замужем                 0      M   сотрудник     0   \n",
       "3    женат / замужем                 0      M   сотрудник     0   \n",
       "4   гражданский брак                 1      F   пенсионер     0   \n",
       "5   гражданский брак                 1      M   компаньон     0   \n",
       "6    женат / замужем                 0      F   компаньон     0   \n",
       "7    женат / замужем                 0      M   сотрудник     0   \n",
       "8   гражданский брак                 1      F   сотрудник     0   \n",
       "9    женат / замужем                 0      M   сотрудник     0   \n",
       "10   женат / замужем                 0      M   компаньон     0   \n",
       "11   женат / замужем                 0      F   сотрудник     0   \n",
       "12  гражданский брак                 1      M   пенсионер     0   \n",
       "13   женат / замужем                 0      F   сотрудник     0   \n",
       "14  гражданский брак                 1      F   компаньон     1   \n",
       "15   женат / замужем                 0      F   сотрудник     0   \n",
       "16   женат / замужем                 0      F   сотрудник     0   \n",
       "17  гражданский брак                 1      M   сотрудник     0   \n",
       "18    вдовец / вдова                 2      F   пенсионер     0   \n",
       "19         в разводе                 3      F   сотрудник     0   \n",
       "\n",
       "     total_income                                 purpose  \n",
       "0   253875.639453                           покупка жилья  \n",
       "1   112080.014102                 приобретение автомобиля  \n",
       "2   145885.952297                           покупка жилья  \n",
       "3   267628.550329              дополнительное образование  \n",
       "4   158616.077870                         сыграть свадьбу  \n",
       "5   255763.565419                           покупка жилья  \n",
       "6   240525.971920                       операции с жильем  \n",
       "7   135823.934197                             образование  \n",
       "8    95856.832424                   на проведение свадьбы  \n",
       "9   144425.938277                 покупка жилья для семьи  \n",
       "10  113943.491460                    покупка недвижимости  \n",
       "11   77069.234271       покупка коммерческой недвижимости  \n",
       "12            NaN                         сыграть свадьбу  \n",
       "13  130458.228857                 приобретение автомобиля  \n",
       "14  165127.911772              покупка жилой недвижимости  \n",
       "15  116820.904450  строительство собственной недвижимости  \n",
       "16  289202.704229                            недвижимость  \n",
       "17   90410.586745              строительство недвижимости  \n",
       "18   56823.777243      на покупку подержанного автомобиля  \n",
       "19  242831.107982            на покупку своего автомобиля  "
      ]
     },
     "execution_count": 5,
     "metadata": {},
     "output_type": "execute_result"
    }
   ],
   "source": [
    "data.head(20)"
   ]
  },
  {
   "cell_type": "markdown",
   "id": "a82b2929",
   "metadata": {
    "deletable": false,
    "editable": false,
    "id": "1c12e233"
   },
   "source": [
    "Выведем основную информацию о датафрейме с помощью метода `info()`."
   ]
  },
  {
   "cell_type": "code",
   "execution_count": 6,
   "id": "42c93700",
   "metadata": {
    "deletable": false,
    "id": "2b757bca",
    "outputId": "15376089-8dad-46c9-b520-c05248d43158"
   },
   "outputs": [
    {
     "name": "stdout",
     "output_type": "stream",
     "text": [
      "<class 'pandas.core.frame.DataFrame'>\n",
      "RangeIndex: 21525 entries, 0 to 21524\n",
      "Data columns (total 12 columns):\n",
      " #   Column            Non-Null Count  Dtype  \n",
      "---  ------            --------------  -----  \n",
      " 0   children          21525 non-null  int64  \n",
      " 1   days_employed     19351 non-null  float64\n",
      " 2   dob_years         21525 non-null  int64  \n",
      " 3   education         21525 non-null  object \n",
      " 4   education_id      21525 non-null  int64  \n",
      " 5   family_status     21525 non-null  object \n",
      " 6   family_status_id  21525 non-null  int64  \n",
      " 7   gender            21525 non-null  object \n",
      " 8   income_type       21525 non-null  object \n",
      " 9   debt              21525 non-null  int64  \n",
      " 10  total_income      19351 non-null  float64\n",
      " 11  purpose           21525 non-null  object \n",
      "dtypes: float64(2), int64(5), object(5)\n",
      "memory usage: 2.0+ MB\n"
     ]
    }
   ],
   "source": [
    "data.info()"
   ]
  },
  {
   "cell_type": "markdown",
   "id": "3f6c5414",
   "metadata": {
    "deletable": false,
    "editable": false,
    "id": "333ec665"
   },
   "source": [
    "## Предобработка данных"
   ]
  },
  {
   "cell_type": "markdown",
   "id": "7fff335e",
   "metadata": {
    "deletable": false,
    "editable": false,
    "id": "02d92d53"
   },
   "source": [
    "### Удаление пропусков"
   ]
  },
  {
   "cell_type": "markdown",
   "id": "86716b02",
   "metadata": {
    "deletable": false,
    "editable": false,
    "id": "cd84967c"
   },
   "source": [
    "Выведем количество пропущенных значений для каждого столбца. "
   ]
  },
  {
   "cell_type": "code",
   "execution_count": 7,
   "id": "a38039b7",
   "metadata": {
    "deletable": false,
    "id": "7f9b2309",
    "outputId": "81f4d817-781c-465c-ed15-91ce4446810d"
   },
   "outputs": [
    {
     "data": {
      "text/plain": [
       "children               0\n",
       "days_employed       2174\n",
       "dob_years              0\n",
       "education              0\n",
       "education_id           0\n",
       "family_status          0\n",
       "family_status_id       0\n",
       "gender                 0\n",
       "income_type            0\n",
       "debt                   0\n",
       "total_income        2174\n",
       "purpose                0\n",
       "dtype: int64"
      ]
     },
     "execution_count": 7,
     "metadata": {},
     "output_type": "execute_result"
    }
   ],
   "source": [
    "data.isna().sum()"
   ]
  },
  {
   "cell_type": "markdown",
   "id": "8d911f39",
   "metadata": {
    "deletable": false,
    "editable": false,
    "id": "89da5ece"
   },
   "source": [
    "### Обработка аномальных значений"
   ]
  },
  {
   "cell_type": "markdown",
   "id": "5183cdbc",
   "metadata": {
    "deletable": false,
    "editable": false,
    "id": "db86e27b"
   },
   "source": [
    "На этом этапе задания мы обрабатываем пропущенные значения. Столбец total_income, содержащий данные о доходах, имеет пропуски. Чтобы заполнить эти пропуски, мы используем медианное значение дохода для каждого типа занятости из столбца income_type"
   ]
  },
  {
   "cell_type": "code",
   "execution_count": 8,
   "id": "59ad89ee",
   "metadata": {
    "deletable": false,
    "id": "42006a93"
   },
   "outputs": [],
   "source": [
    "for t in data['income_type'].unique():\n",
    "    data.loc[(data['income_type'] == t) & (data['total_income'].isna()), 'total_income'] = \\\n",
    "    data.loc[(data['income_type'] == t), 'total_income'].median()"
   ]
  },
  {
   "cell_type": "markdown",
   "id": "17543ca9",
   "metadata": {
    "deletable": false,
    "editable": false,
    "id": "57964554"
   },
   "source": [
    "Поработаем с артефактами или аномалиями в данных, которые представляют отрицательное количество дней трудового стажа в столбце days_employed. Хотя для реальных данных это может быть нормально, мы должны их обработать. Для этого заменяем все отрицательные значения на положительные, используя метод abs(). Таким образом, все отрицательные значения станут положительными. "
   ]
  },
  {
   "cell_type": "code",
   "execution_count": 9,
   "id": "bdb0bb15",
   "metadata": {
    "deletable": false,
    "id": "f6f055bf"
   },
   "outputs": [],
   "source": [
    "data['days_employed'] = data['days_employed'].abs()"
   ]
  },
  {
   "cell_type": "markdown",
   "id": "c6e6a777",
   "metadata": {
    "deletable": false,
    "editable": false,
    "id": "6107dd2f"
   },
   "source": [
    "Для каждого типа занятости выведем медианное значение трудового стажа `days_employed` в днях."
   ]
  },
  {
   "cell_type": "code",
   "execution_count": 10,
   "id": "62481c61",
   "metadata": {
    "deletable": false,
    "id": "85a5faf6",
    "outputId": "801ef80e-522b-4668-f34e-565af7432bcf"
   },
   "outputs": [
    {
     "data": {
      "text/plain": [
       "income_type\n",
       "безработный        366413.652744\n",
       "в декрете            3296.759962\n",
       "госслужащий          2689.368353\n",
       "компаньон            1547.382223\n",
       "пенсионер          365213.306266\n",
       "предприниматель       520.848083\n",
       "сотрудник            1574.202821\n",
       "студент               578.751554\n",
       "Name: days_employed, dtype: float64"
      ]
     },
     "execution_count": 10,
     "metadata": {},
     "output_type": "execute_result"
    }
   ],
   "source": [
    "data.groupby('income_type')['days_employed'].agg('median')"
   ]
  },
  {
   "cell_type": "markdown",
   "id": "6b4a5341",
   "metadata": {
    "deletable": false,
    "editable": false,
    "id": "38d1a030"
   },
   "source": [
    "У двух типов (безработные и пенсионеры) получатся аномально большие значения. Исправить такие значения сложно, поэтому оставим их как есть. Тем более этот столбец не понадобится для исследования."
   ]
  },
  {
   "cell_type": "markdown",
   "id": "06134d8d",
   "metadata": {
    "deletable": false,
    "editable": false,
    "id": "d8a9f147"
   },
   "source": [
    "Выведем перечень уникальных значений столбца `children`."
   ]
  },
  {
   "cell_type": "code",
   "execution_count": 11,
   "id": "01ff81c1",
   "metadata": {
    "deletable": false,
    "id": "ef5056eb",
    "outputId": "6975b15c-7f95-4697-d16d-a0c79b657b03"
   },
   "outputs": [
    {
     "data": {
      "text/plain": [
       "array([ 1,  0,  3,  2, -1,  4, 20,  5])"
      ]
     },
     "execution_count": 11,
     "metadata": {},
     "output_type": "execute_result"
    }
   ],
   "source": [
    "data['children'].unique()"
   ]
  },
  {
   "cell_type": "markdown",
   "id": "7f7660d9",
   "metadata": {
    "deletable": false,
    "editable": false,
    "id": "40b9ebf2"
   },
   "source": [
    "В столбце `children` есть два аномальных значения. Удалим строки, в которых встречаются такие аномальные значения из датафрейма `data`."
   ]
  },
  {
   "cell_type": "code",
   "execution_count": 12,
   "id": "a2fb1c3c",
   "metadata": {
    "deletable": false,
    "id": "3ff9801d"
   },
   "outputs": [],
   "source": [
    "data = data[(data['children'] != -1) & (data['children'] != 20)]"
   ]
  },
  {
   "cell_type": "markdown",
   "id": "ec3a863a",
   "metadata": {
    "deletable": false,
    "editable": false,
    "id": "bbc4d0ce"
   },
   "source": [
    "Ещё раз выведем перечень уникальных значений столбца `children`, чтобы убедиться, что артефакты удалены."
   ]
  },
  {
   "cell_type": "code",
   "execution_count": 13,
   "id": "39779f79",
   "metadata": {
    "deletable": false,
    "id": "ad4fa8b7",
    "outputId": "b2097101-d49d-44d9-901b-32a65c9463d1"
   },
   "outputs": [
    {
     "data": {
      "text/plain": [
       "array([1, 0, 3, 2, 4, 5])"
      ]
     },
     "execution_count": 13,
     "metadata": {},
     "output_type": "execute_result"
    }
   ],
   "source": [
    "data['children'].unique()"
   ]
  },
  {
   "cell_type": "markdown",
   "id": "7b6f4ebe",
   "metadata": {
    "deletable": false,
    "editable": false,
    "id": "75440b63"
   },
   "source": [
    "### Удаление пропусков (продолжение)"
   ]
  },
  {
   "cell_type": "markdown",
   "id": "2eab7cb6",
   "metadata": {
    "deletable": false,
    "editable": false,
    "id": "f4ea573f"
   },
   "source": [
    "Заполним пропуски в столбце `days_employed` медианными значениями по каждого типа занятости `income_type`."
   ]
  },
  {
   "cell_type": "code",
   "execution_count": 14,
   "id": "40bd3349",
   "metadata": {
    "deletable": false,
    "id": "af6b1a7e"
   },
   "outputs": [],
   "source": [
    "for t in data['income_type'].unique():\n",
    "    data.loc[(data['income_type'] == t) & (data['days_employed'].isna()), 'days_employed'] = \\\n",
    "    data.loc[(data['income_type'] == t), 'days_employed'].median()"
   ]
  },
  {
   "cell_type": "markdown",
   "id": "e1cccf0a",
   "metadata": {
    "deletable": false,
    "editable": false,
    "id": "2753f40d"
   },
   "source": [
    "Убедимся, что все пропуски заполнены."
   ]
  },
  {
   "cell_type": "code",
   "execution_count": 15,
   "id": "b199d10d",
   "metadata": {
    "deletable": false,
    "id": "55f78bc2",
    "outputId": "8da1e4e1-358e-4e87-98c9-f261bce0a7b2"
   },
   "outputs": [
    {
     "data": {
      "text/plain": [
       "children            0\n",
       "days_employed       0\n",
       "dob_years           0\n",
       "education           0\n",
       "education_id        0\n",
       "family_status       0\n",
       "family_status_id    0\n",
       "gender              0\n",
       "income_type         0\n",
       "debt                0\n",
       "total_income        0\n",
       "purpose             0\n",
       "dtype: int64"
      ]
     },
     "execution_count": 15,
     "metadata": {},
     "output_type": "execute_result"
    }
   ],
   "source": [
    "data.isna().sum()"
   ]
  },
  {
   "cell_type": "markdown",
   "id": "efa7cba2",
   "metadata": {
    "deletable": false,
    "editable": false,
    "id": "ddc81e43"
   },
   "source": [
    "### Изменение типов данных"
   ]
  },
  {
   "cell_type": "markdown",
   "id": "20c7b45f",
   "metadata": {
    "deletable": false,
    "editable": false,
    "id": "42d19d24"
   },
   "source": [
    "Заменим вещественный тип данных в столбце `total_income` на целочисленный с помощью метода `astype()`."
   ]
  },
  {
   "cell_type": "code",
   "execution_count": 16,
   "id": "4700e54d",
   "metadata": {
    "deletable": false,
    "id": "920b65ad"
   },
   "outputs": [],
   "source": [
    "data['total_income'] = data['total_income'].astype(int)"
   ]
  },
  {
   "cell_type": "markdown",
   "id": "c04890dc",
   "metadata": {
    "deletable": false,
    "editable": false,
    "id": "80c420ba"
   },
   "source": [
    "### Обработка дубликатов"
   ]
  },
  {
   "cell_type": "markdown",
   "id": "56c28fe7",
   "metadata": {
    "deletable": false,
    "editable": false
   },
   "source": [
    "Обработаем неявные дубликаты в столбце `education`. В этом столбце есть одни и те же значения, но записанные по-разному: с использованием заглавных и строчных букв. Приведите их к нижнему регистру. Проверем остальные столбцы."
   ]
  },
  {
   "cell_type": "code",
   "execution_count": 17,
   "id": "7acff796",
   "metadata": {
    "deletable": false
   },
   "outputs": [],
   "source": [
    "data['education'] = data['education'].str.lower()"
   ]
  },
  {
   "cell_type": "markdown",
   "id": "aed11171",
   "metadata": {
    "deletable": false,
    "editable": false,
    "id": "dc587695"
   },
   "source": [
    "Выведем на экран количество строк-дубликатов в данных, и удалиим их."
   ]
  },
  {
   "cell_type": "code",
   "execution_count": 18,
   "id": "47409c01",
   "metadata": {
    "deletable": false,
    "id": "3ee445e4",
    "outputId": "9684deba-1934-42d1-99e1-cda61740f822"
   },
   "outputs": [
    {
     "data": {
      "text/plain": [
       "71"
      ]
     },
     "execution_count": 18,
     "metadata": {},
     "output_type": "execute_result"
    }
   ],
   "source": [
    "data.duplicated().sum()"
   ]
  },
  {
   "cell_type": "code",
   "execution_count": 19,
   "id": "74a1ccc9",
   "metadata": {
    "deletable": false,
    "id": "8575fe05"
   },
   "outputs": [],
   "source": [
    "data = data.drop_duplicates()"
   ]
  },
  {
   "cell_type": "markdown",
   "id": "fc18ef57",
   "metadata": {
    "deletable": false,
    "editable": false,
    "id": "9904cf55"
   },
   "source": [
    "### Категоризация данных"
   ]
  },
  {
   "cell_type": "markdown",
   "id": "15b75567",
   "metadata": {
    "deletable": false,
    "editable": false,
    "id": "72fcc8a2"
   },
   "source": [
    "На основании диапазонов, указанных ниже, создадим в датафрейме `data` столбец `total_income_category` с категориями:\n",
    "- 0–30000 — `'E'`;\n",
    "- 30001–50000 — `'D'`;\n",
    "- 50001–200000 — `'C'`;\n",
    "- 200001–1000000 — `'B'`;\n",
    "- 1000001 и выше — `'A'`."
   ]
  },
  {
   "cell_type": "code",
   "execution_count": 20,
   "id": "52839aef",
   "metadata": {
    "deletable": false,
    "id": "e1771346"
   },
   "outputs": [],
   "source": [
    "def categorize_income(income):\n",
    "    try:\n",
    "        if 0 <= income <= 30000:\n",
    "            return 'E'\n",
    "        elif 30001 <= income <= 50000:\n",
    "            return 'D'\n",
    "        elif 50001 <= income <= 200000:\n",
    "            return 'C'\n",
    "        elif 200001 <= income <= 1000000:\n",
    "            return 'B'\n",
    "        elif income >= 1000001:\n",
    "            return 'A'\n",
    "    except:\n",
    "        pass"
   ]
  },
  {
   "cell_type": "code",
   "execution_count": 21,
   "id": "ef081572",
   "metadata": {
    "deletable": false,
    "id": "d5f3586d"
   },
   "outputs": [],
   "source": [
    "data['total_income_category'] = data['total_income'].apply(categorize_income)"
   ]
  },
  {
   "cell_type": "markdown",
   "id": "4a2b6b0f",
   "metadata": {
    "deletable": false,
    "editable": false,
    "id": "dde49b5c"
   },
   "source": [
    "Выведем на экран перечень уникальных целей взятия кредита из столбца `purpose`."
   ]
  },
  {
   "cell_type": "code",
   "execution_count": 22,
   "id": "dc6dfff2",
   "metadata": {
    "deletable": false,
    "id": "f67ce9b3",
    "outputId": "673c12d9-7d7e-4ae0-9812-c622c89dd244"
   },
   "outputs": [
    {
     "data": {
      "text/plain": [
       "array(['покупка жилья', 'приобретение автомобиля',\n",
       "       'дополнительное образование', 'сыграть свадьбу',\n",
       "       'операции с жильем', 'образование', 'на проведение свадьбы',\n",
       "       'покупка жилья для семьи', 'покупка недвижимости',\n",
       "       'покупка коммерческой недвижимости', 'покупка жилой недвижимости',\n",
       "       'строительство собственной недвижимости', 'недвижимость',\n",
       "       'строительство недвижимости', 'на покупку подержанного автомобиля',\n",
       "       'на покупку своего автомобиля',\n",
       "       'операции с коммерческой недвижимостью',\n",
       "       'строительство жилой недвижимости', 'жилье',\n",
       "       'операции со своей недвижимостью', 'автомобили',\n",
       "       'заняться образованием', 'сделка с подержанным автомобилем',\n",
       "       'получение образования', 'автомобиль', 'свадьба',\n",
       "       'получение дополнительного образования', 'покупка своего жилья',\n",
       "       'операции с недвижимостью', 'получение высшего образования',\n",
       "       'свой автомобиль', 'сделка с автомобилем',\n",
       "       'профильное образование', 'высшее образование',\n",
       "       'покупка жилья для сдачи', 'на покупку автомобиля', 'ремонт жилью',\n",
       "       'заняться высшим образованием'], dtype=object)"
      ]
     },
     "execution_count": 22,
     "metadata": {},
     "output_type": "execute_result"
    }
   ],
   "source": [
    "data['purpose'].unique()"
   ]
  },
  {
   "cell_type": "markdown",
   "id": "72c74219",
   "metadata": {
    "deletable": false,
    "editable": false,
    "id": "85d0aef0"
   },
   "source": [
    "Создадим функцию, которая на основании данных из столбца `purpose` сформирует новый столбец `purpose_category`, в который войдут следующие категории:\n",
    "- `'операции с автомобилем'`,\n",
    "- `'операции с недвижимостью'`,\n",
    "- `'проведение свадьбы'`,\n",
    "- `'получение образования'`."
   ]
  },
  {
   "cell_type": "code",
   "execution_count": 23,
   "id": "a413e78a",
   "metadata": {
    "deletable": false,
    "id": "e149fab4"
   },
   "outputs": [],
   "source": [
    "def categorize_purpose(row):\n",
    "    try:\n",
    "        if 'автом' in row:\n",
    "            return 'операции с автомобилем'\n",
    "        elif 'жил' in row or 'недвиж' in row:\n",
    "            return 'операции с недвижимостью'\n",
    "        elif 'свад' in row:\n",
    "            return 'проведение свадьбы'\n",
    "        elif 'образов' in row:\n",
    "            return 'получение образования'\n",
    "    except:\n",
    "        return 'нет категории'"
   ]
  },
  {
   "cell_type": "code",
   "execution_count": 24,
   "id": "6564a5de",
   "metadata": {
    "deletable": false,
    "id": "bf36e69b"
   },
   "outputs": [
    {
     "data": {
      "text/html": [
       "<div>\n",
       "<style scoped>\n",
       "    .dataframe tbody tr th:only-of-type {\n",
       "        vertical-align: middle;\n",
       "    }\n",
       "\n",
       "    .dataframe tbody tr th {\n",
       "        vertical-align: top;\n",
       "    }\n",
       "\n",
       "    .dataframe thead th {\n",
       "        text-align: right;\n",
       "    }\n",
       "</style>\n",
       "<table border=\"1\" class=\"dataframe\">\n",
       "  <thead>\n",
       "    <tr style=\"text-align: right;\">\n",
       "      <th></th>\n",
       "      <th>children</th>\n",
       "      <th>days_employed</th>\n",
       "      <th>dob_years</th>\n",
       "      <th>education</th>\n",
       "      <th>education_id</th>\n",
       "      <th>family_status</th>\n",
       "      <th>family_status_id</th>\n",
       "      <th>gender</th>\n",
       "      <th>income_type</th>\n",
       "      <th>debt</th>\n",
       "      <th>total_income</th>\n",
       "      <th>purpose</th>\n",
       "      <th>total_income_category</th>\n",
       "      <th>purpose_category</th>\n",
       "    </tr>\n",
       "  </thead>\n",
       "  <tbody>\n",
       "    <tr>\n",
       "      <th>0</th>\n",
       "      <td>1</td>\n",
       "      <td>8437.673028</td>\n",
       "      <td>42</td>\n",
       "      <td>высшее</td>\n",
       "      <td>0</td>\n",
       "      <td>женат / замужем</td>\n",
       "      <td>0</td>\n",
       "      <td>F</td>\n",
       "      <td>сотрудник</td>\n",
       "      <td>0</td>\n",
       "      <td>253875</td>\n",
       "      <td>покупка жилья</td>\n",
       "      <td>B</td>\n",
       "      <td>операции с недвижимостью</td>\n",
       "    </tr>\n",
       "    <tr>\n",
       "      <th>1</th>\n",
       "      <td>1</td>\n",
       "      <td>4024.803754</td>\n",
       "      <td>36</td>\n",
       "      <td>среднее</td>\n",
       "      <td>1</td>\n",
       "      <td>женат / замужем</td>\n",
       "      <td>0</td>\n",
       "      <td>F</td>\n",
       "      <td>сотрудник</td>\n",
       "      <td>0</td>\n",
       "      <td>112080</td>\n",
       "      <td>приобретение автомобиля</td>\n",
       "      <td>C</td>\n",
       "      <td>операции с автомобилем</td>\n",
       "    </tr>\n",
       "    <tr>\n",
       "      <th>2</th>\n",
       "      <td>0</td>\n",
       "      <td>5623.422610</td>\n",
       "      <td>33</td>\n",
       "      <td>среднее</td>\n",
       "      <td>1</td>\n",
       "      <td>женат / замужем</td>\n",
       "      <td>0</td>\n",
       "      <td>M</td>\n",
       "      <td>сотрудник</td>\n",
       "      <td>0</td>\n",
       "      <td>145885</td>\n",
       "      <td>покупка жилья</td>\n",
       "      <td>C</td>\n",
       "      <td>операции с недвижимостью</td>\n",
       "    </tr>\n",
       "    <tr>\n",
       "      <th>3</th>\n",
       "      <td>3</td>\n",
       "      <td>4124.747207</td>\n",
       "      <td>32</td>\n",
       "      <td>среднее</td>\n",
       "      <td>1</td>\n",
       "      <td>женат / замужем</td>\n",
       "      <td>0</td>\n",
       "      <td>M</td>\n",
       "      <td>сотрудник</td>\n",
       "      <td>0</td>\n",
       "      <td>267628</td>\n",
       "      <td>дополнительное образование</td>\n",
       "      <td>B</td>\n",
       "      <td>получение образования</td>\n",
       "    </tr>\n",
       "    <tr>\n",
       "      <th>4</th>\n",
       "      <td>0</td>\n",
       "      <td>340266.072047</td>\n",
       "      <td>53</td>\n",
       "      <td>среднее</td>\n",
       "      <td>1</td>\n",
       "      <td>гражданский брак</td>\n",
       "      <td>1</td>\n",
       "      <td>F</td>\n",
       "      <td>пенсионер</td>\n",
       "      <td>0</td>\n",
       "      <td>158616</td>\n",
       "      <td>сыграть свадьбу</td>\n",
       "      <td>C</td>\n",
       "      <td>проведение свадьбы</td>\n",
       "    </tr>\n",
       "    <tr>\n",
       "      <th>...</th>\n",
       "      <td>...</td>\n",
       "      <td>...</td>\n",
       "      <td>...</td>\n",
       "      <td>...</td>\n",
       "      <td>...</td>\n",
       "      <td>...</td>\n",
       "      <td>...</td>\n",
       "      <td>...</td>\n",
       "      <td>...</td>\n",
       "      <td>...</td>\n",
       "      <td>...</td>\n",
       "      <td>...</td>\n",
       "      <td>...</td>\n",
       "      <td>...</td>\n",
       "    </tr>\n",
       "    <tr>\n",
       "      <th>21520</th>\n",
       "      <td>1</td>\n",
       "      <td>4529.316663</td>\n",
       "      <td>43</td>\n",
       "      <td>среднее</td>\n",
       "      <td>1</td>\n",
       "      <td>гражданский брак</td>\n",
       "      <td>1</td>\n",
       "      <td>F</td>\n",
       "      <td>компаньон</td>\n",
       "      <td>0</td>\n",
       "      <td>224791</td>\n",
       "      <td>операции с жильем</td>\n",
       "      <td>B</td>\n",
       "      <td>операции с недвижимостью</td>\n",
       "    </tr>\n",
       "    <tr>\n",
       "      <th>21521</th>\n",
       "      <td>0</td>\n",
       "      <td>343937.404131</td>\n",
       "      <td>67</td>\n",
       "      <td>среднее</td>\n",
       "      <td>1</td>\n",
       "      <td>женат / замужем</td>\n",
       "      <td>0</td>\n",
       "      <td>F</td>\n",
       "      <td>пенсионер</td>\n",
       "      <td>0</td>\n",
       "      <td>155999</td>\n",
       "      <td>сделка с автомобилем</td>\n",
       "      <td>C</td>\n",
       "      <td>операции с автомобилем</td>\n",
       "    </tr>\n",
       "    <tr>\n",
       "      <th>21522</th>\n",
       "      <td>1</td>\n",
       "      <td>2113.346888</td>\n",
       "      <td>38</td>\n",
       "      <td>среднее</td>\n",
       "      <td>1</td>\n",
       "      <td>гражданский брак</td>\n",
       "      <td>1</td>\n",
       "      <td>M</td>\n",
       "      <td>сотрудник</td>\n",
       "      <td>1</td>\n",
       "      <td>89672</td>\n",
       "      <td>недвижимость</td>\n",
       "      <td>C</td>\n",
       "      <td>операции с недвижимостью</td>\n",
       "    </tr>\n",
       "    <tr>\n",
       "      <th>21523</th>\n",
       "      <td>3</td>\n",
       "      <td>3112.481705</td>\n",
       "      <td>38</td>\n",
       "      <td>среднее</td>\n",
       "      <td>1</td>\n",
       "      <td>женат / замужем</td>\n",
       "      <td>0</td>\n",
       "      <td>M</td>\n",
       "      <td>сотрудник</td>\n",
       "      <td>1</td>\n",
       "      <td>244093</td>\n",
       "      <td>на покупку своего автомобиля</td>\n",
       "      <td>B</td>\n",
       "      <td>операции с автомобилем</td>\n",
       "    </tr>\n",
       "    <tr>\n",
       "      <th>21524</th>\n",
       "      <td>2</td>\n",
       "      <td>1984.507589</td>\n",
       "      <td>40</td>\n",
       "      <td>среднее</td>\n",
       "      <td>1</td>\n",
       "      <td>женат / замужем</td>\n",
       "      <td>0</td>\n",
       "      <td>F</td>\n",
       "      <td>сотрудник</td>\n",
       "      <td>0</td>\n",
       "      <td>82047</td>\n",
       "      <td>на покупку автомобиля</td>\n",
       "      <td>C</td>\n",
       "      <td>операции с автомобилем</td>\n",
       "    </tr>\n",
       "  </tbody>\n",
       "</table>\n",
       "<p>21331 rows × 14 columns</p>\n",
       "</div>"
      ],
      "text/plain": [
       "       children  days_employed  dob_years education  education_id  \\\n",
       "0             1    8437.673028         42    высшее             0   \n",
       "1             1    4024.803754         36   среднее             1   \n",
       "2             0    5623.422610         33   среднее             1   \n",
       "3             3    4124.747207         32   среднее             1   \n",
       "4             0  340266.072047         53   среднее             1   \n",
       "...         ...            ...        ...       ...           ...   \n",
       "21520         1    4529.316663         43   среднее             1   \n",
       "21521         0  343937.404131         67   среднее             1   \n",
       "21522         1    2113.346888         38   среднее             1   \n",
       "21523         3    3112.481705         38   среднее             1   \n",
       "21524         2    1984.507589         40   среднее             1   \n",
       "\n",
       "          family_status  family_status_id gender income_type  debt  \\\n",
       "0       женат / замужем                 0      F   сотрудник     0   \n",
       "1       женат / замужем                 0      F   сотрудник     0   \n",
       "2       женат / замужем                 0      M   сотрудник     0   \n",
       "3       женат / замужем                 0      M   сотрудник     0   \n",
       "4      гражданский брак                 1      F   пенсионер     0   \n",
       "...                 ...               ...    ...         ...   ...   \n",
       "21520  гражданский брак                 1      F   компаньон     0   \n",
       "21521   женат / замужем                 0      F   пенсионер     0   \n",
       "21522  гражданский брак                 1      M   сотрудник     1   \n",
       "21523   женат / замужем                 0      M   сотрудник     1   \n",
       "21524   женат / замужем                 0      F   сотрудник     0   \n",
       "\n",
       "       total_income                       purpose total_income_category  \\\n",
       "0            253875                 покупка жилья                     B   \n",
       "1            112080       приобретение автомобиля                     C   \n",
       "2            145885                 покупка жилья                     C   \n",
       "3            267628    дополнительное образование                     B   \n",
       "4            158616               сыграть свадьбу                     C   \n",
       "...             ...                           ...                   ...   \n",
       "21520        224791             операции с жильем                     B   \n",
       "21521        155999          сделка с автомобилем                     C   \n",
       "21522         89672                  недвижимость                     C   \n",
       "21523        244093  на покупку своего автомобиля                     B   \n",
       "21524         82047         на покупку автомобиля                     C   \n",
       "\n",
       "               purpose_category  \n",
       "0      операции с недвижимостью  \n",
       "1        операции с автомобилем  \n",
       "2      операции с недвижимостью  \n",
       "3         получение образования  \n",
       "4            проведение свадьбы  \n",
       "...                         ...  \n",
       "21520  операции с недвижимостью  \n",
       "21521    операции с автомобилем  \n",
       "21522  операции с недвижимостью  \n",
       "21523    операции с автомобилем  \n",
       "21524    операции с автомобилем  \n",
       "\n",
       "[21331 rows x 14 columns]"
      ]
     },
     "execution_count": 24,
     "metadata": {},
     "output_type": "execute_result"
    }
   ],
   "source": [
    "data['purpose_category'] = data['purpose'].apply(categorize_purpose)\n",
    "data\n"
   ]
  },
  {
   "cell_type": "markdown",
   "id": "52d9132a",
   "metadata": {
    "deletable": false,
    "editable": false,
    "id": "09b242bf"
   },
   "source": [
    "### Шаг 3. Исследуем данные"
   ]
  },
  {
   "cell_type": "markdown",
   "id": "bb98dd08",
   "metadata": {
    "deletable": false,
    "editable": false,
    "id": "c5d66278"
   },
   "source": [
    "#### 3.1 Проверим, есть ли зависимость между количеством детей и возвратом кредита в срок."
   ]
  },
  {
   "cell_type": "code",
   "execution_count": 123,
   "id": "c5118835",
   "metadata": {},
   "outputs": [],
   "source": [
    "#создадим функцию table_formatted() для вывода всех таблиц в одном стиле\n",
    "def table_formatted(table):\n",
    "    \n",
    "    table = table.sort_values(by='mean')\n",
    "    table.columns = ['процент_должников:', 'долгов:', 'клиентов:']    \n",
    "    table['процент_должников:'] = (table['процент_должников:'] * 100).round(1)\n",
    "    return table"
   ]
  },
  {
   "cell_type": "code",
   "execution_count": 125,
   "id": "6f18a6b8",
   "metadata": {
    "deletable": false,
    "id": "2cacfc4a"
   },
   "outputs": [
    {
     "data": {
      "text/html": [
       "<div>\n",
       "<style scoped>\n",
       "    .dataframe tbody tr th:only-of-type {\n",
       "        vertical-align: middle;\n",
       "    }\n",
       "\n",
       "    .dataframe tbody tr th {\n",
       "        vertical-align: top;\n",
       "    }\n",
       "\n",
       "    .dataframe thead th {\n",
       "        text-align: right;\n",
       "    }\n",
       "</style>\n",
       "<table border=\"1\" class=\"dataframe\">\n",
       "  <thead>\n",
       "    <tr style=\"text-align: right;\">\n",
       "      <th></th>\n",
       "      <th>процент_должников:</th>\n",
       "      <th>долгов:</th>\n",
       "      <th>клиентов:</th>\n",
       "    </tr>\n",
       "    <tr>\n",
       "      <th>children</th>\n",
       "      <th></th>\n",
       "      <th></th>\n",
       "      <th></th>\n",
       "    </tr>\n",
       "  </thead>\n",
       "  <tbody>\n",
       "    <tr>\n",
       "      <th>5</th>\n",
       "      <td>0.0</td>\n",
       "      <td>0</td>\n",
       "      <td>9</td>\n",
       "    </tr>\n",
       "    <tr>\n",
       "      <th>0</th>\n",
       "      <td>7.5</td>\n",
       "      <td>1063</td>\n",
       "      <td>14091</td>\n",
       "    </tr>\n",
       "    <tr>\n",
       "      <th>3</th>\n",
       "      <td>8.2</td>\n",
       "      <td>27</td>\n",
       "      <td>330</td>\n",
       "    </tr>\n",
       "    <tr>\n",
       "      <th>1</th>\n",
       "      <td>9.2</td>\n",
       "      <td>444</td>\n",
       "      <td>4808</td>\n",
       "    </tr>\n",
       "    <tr>\n",
       "      <th>2</th>\n",
       "      <td>9.5</td>\n",
       "      <td>194</td>\n",
       "      <td>2052</td>\n",
       "    </tr>\n",
       "    <tr>\n",
       "      <th>4</th>\n",
       "      <td>9.8</td>\n",
       "      <td>4</td>\n",
       "      <td>41</td>\n",
       "    </tr>\n",
       "  </tbody>\n",
       "</table>\n",
       "</div>"
      ],
      "text/plain": [
       "          процент_должников:  долгов:  клиентов:\n",
       "children                                        \n",
       "5                        0.0        0          9\n",
       "0                        7.5     1063      14091\n",
       "3                        8.2       27        330\n",
       "1                        9.2      444       4808\n",
       "2                        9.5      194       2052\n",
       "4                        9.8        4         41"
      ]
     },
     "execution_count": 125,
     "metadata": {},
     "output_type": "execute_result"
    }
   ],
   "source": [
    "children_grouped = data.groupby('children')['debt'].agg(['mean','sum','count'])\n",
    "table_formatted(children_grouped)"
   ]
  },
  {
   "cell_type": "code",
   "execution_count": 127,
   "id": "5359298f",
   "metadata": {},
   "outputs": [
    {
     "name": "stdout",
     "output_type": "stream",
     "text": [
      "\n",
      " Должников среди людей с детьми: 9.2% \n",
      " Должников среди людей без детей: 7.5%\n",
      "\n",
      " Разница между гуппами: 1.7%\n"
     ]
    }
   ],
   "source": [
    "with_children = children_grouped.loc[1:5,'sum'].sum() / children_grouped.loc[1:5,'count'].sum()\n",
    "no_children = children_grouped.loc[0,'mean']\n",
    "print('\\n', \n",
    "      f'Должников среди людей с детьми: {with_children:.1%}', \n",
    "      '\\n', \n",
    "      f'Должников среди людей без детей: {no_children:.1%}'\n",
    "     )\n",
    "print(f'\\n Разница между гуппами: {abs(no_children-with_children):.1%}')"
   ]
  },
  {
   "cell_type": "markdown",
   "id": "86946114",
   "metadata": {
    "deletable": false,
    "id": "3a6b99ec"
   },
   "source": [
    "**Вывод:** \n",
    "Среди людей, у которых есть дети, процент должников примерно равный. Из их числа выделяются люди с 3 и 5 детьми. Но так как объем выборки этих групп достаточно мал, примем это за статистическую погрешность.\n",
    "\n",
    "\n",
    "Из этого исследования можно сделать вывод, что должников среди людей без детей меньше чем должников среди людей с детьми."
   ]
  },
  {
   "cell_type": "markdown",
   "id": "ffb8d5d3",
   "metadata": {
    "deletable": false,
    "editable": false,
    "id": "97be82ca"
   },
   "source": [
    "#### 3.2 Проверим, есть ли зависимость между семейным положением и возвратом кредита в срок."
   ]
  },
  {
   "cell_type": "code",
   "execution_count": 128,
   "id": "2ce3f2d6",
   "metadata": {
    "deletable": false,
    "id": "dc3f7ee8"
   },
   "outputs": [
    {
     "data": {
      "text/html": [
       "<div>\n",
       "<style scoped>\n",
       "    .dataframe tbody tr th:only-of-type {\n",
       "        vertical-align: middle;\n",
       "    }\n",
       "\n",
       "    .dataframe tbody tr th {\n",
       "        vertical-align: top;\n",
       "    }\n",
       "\n",
       "    .dataframe thead th {\n",
       "        text-align: right;\n",
       "    }\n",
       "</style>\n",
       "<table border=\"1\" class=\"dataframe\">\n",
       "  <thead>\n",
       "    <tr style=\"text-align: right;\">\n",
       "      <th></th>\n",
       "      <th>процент_должников:</th>\n",
       "      <th>долгов:</th>\n",
       "      <th>клиентов:</th>\n",
       "    </tr>\n",
       "    <tr>\n",
       "      <th>family_status</th>\n",
       "      <th></th>\n",
       "      <th></th>\n",
       "      <th></th>\n",
       "    </tr>\n",
       "  </thead>\n",
       "  <tbody>\n",
       "    <tr>\n",
       "      <th>вдовец / вдова</th>\n",
       "      <td>6.6</td>\n",
       "      <td>63</td>\n",
       "      <td>951</td>\n",
       "    </tr>\n",
       "    <tr>\n",
       "      <th>в разводе</th>\n",
       "      <td>7.1</td>\n",
       "      <td>84</td>\n",
       "      <td>1189</td>\n",
       "    </tr>\n",
       "    <tr>\n",
       "      <th>женат / замужем</th>\n",
       "      <td>7.6</td>\n",
       "      <td>927</td>\n",
       "      <td>12261</td>\n",
       "    </tr>\n",
       "    <tr>\n",
       "      <th>гражданский брак</th>\n",
       "      <td>9.3</td>\n",
       "      <td>385</td>\n",
       "      <td>4134</td>\n",
       "    </tr>\n",
       "    <tr>\n",
       "      <th>Не женат / не замужем</th>\n",
       "      <td>9.8</td>\n",
       "      <td>273</td>\n",
       "      <td>2796</td>\n",
       "    </tr>\n",
       "  </tbody>\n",
       "</table>\n",
       "</div>"
      ],
      "text/plain": [
       "                       процент_должников:  долгов:  клиентов:\n",
       "family_status                                                \n",
       "вдовец / вдова                        6.6       63        951\n",
       "в разводе                             7.1       84       1189\n",
       "женат / замужем                       7.6      927      12261\n",
       "гражданский брак                      9.3      385       4134\n",
       "Не женат / не замужем                 9.8      273       2796"
      ]
     },
     "execution_count": 128,
     "metadata": {},
     "output_type": "execute_result"
    }
   ],
   "source": [
    "family_status_grouped = data.groupby('family_status')['debt'].agg(['mean','sum','count'])\n",
    "table_formatted(family_status_grouped)"
   ]
  },
  {
   "cell_type": "code",
   "execution_count": 129,
   "id": "49778085",
   "metadata": {},
   "outputs": [
    {
     "name": "stdout",
     "output_type": "stream",
     "text": [
      "Должников среди людей состоящих, либо состоявших в браке : 7.5 %\n",
      "Должников среди людей не состоящих в браке: 9.5 %\n"
     ]
    }
   ],
   "source": [
    "print(\n",
    "    'Должников среди людей состоящих, либо состоявших в браке :',\n",
    "    (family_status_sorted.loc[family_status_sorted.index[:3],'sum'].sum() / \\\n",
    "family_status_sorted.loc[family_status_sorted.index[:3],'count'].sum()).round(3) * 100, '%'\n",
    ")\n",
    "print(\n",
    "    'Должников среди людей не состоящих в браке:',\n",
    "    (family_status_sorted.loc[family_status_sorted.index[3:5],'sum'].sum() / \\\n",
    "family_status_sorted.loc[family_status_sorted.index[3:5],'count'].sum()).round(3) * 100, '%'\n",
    ")\n"
   ]
  },
  {
   "cell_type": "markdown",
   "id": "f90fb628",
   "metadata": {
    "deletable": false,
    "id": "1cef7837"
   },
   "source": [
    "**Вывод:** \n",
    "Изучая таблиццу выделим 2 принцципиальные группы\n",
    "\n",
    "1.Самое большое количество должников наблюдается среди людей не состоящих в браке:\n",
    "\n",
    "* гражданский брак\n",
    "* Не женат / не замужем\n",
    "\n",
    "2.Меньшее количество должников наблюдается среди людей состоящих в браке, либо состоявших в браке:\n",
    "\n",
    "* вдовец / вдова\n",
    "* в разводе\n",
    "* женат / замужем\n",
    "\n",
    "После сравнения этих групп выясняется:\n",
    "Процент должников среди людей состоящих/состоявших в браке меньше на 2 %, \n",
    "чем среди людей не состоящих в браке"
   ]
  },
  {
   "cell_type": "markdown",
   "id": "2df712e7",
   "metadata": {
    "deletable": false,
    "editable": false,
    "id": "1e8b2fca"
   },
   "source": [
    "#### 3.3 Проверим, есть ли зависимость между уровнем дохода и возвратом кредита в срок."
   ]
  },
  {
   "cell_type": "code",
   "execution_count": 134,
   "id": "924b6eda",
   "metadata": {
    "deletable": false,
    "id": "cd7e3720"
   },
   "outputs": [
    {
     "data": {
      "text/html": [
       "<div>\n",
       "<style scoped>\n",
       "    .dataframe tbody tr th:only-of-type {\n",
       "        vertical-align: middle;\n",
       "    }\n",
       "\n",
       "    .dataframe tbody tr th {\n",
       "        vertical-align: top;\n",
       "    }\n",
       "\n",
       "    .dataframe thead th {\n",
       "        text-align: right;\n",
       "    }\n",
       "</style>\n",
       "<table border=\"1\" class=\"dataframe\">\n",
       "  <thead>\n",
       "    <tr style=\"text-align: right;\">\n",
       "      <th></th>\n",
       "      <th>процент_должников:</th>\n",
       "      <th>долгов:</th>\n",
       "      <th>клиентов:</th>\n",
       "    </tr>\n",
       "    <tr>\n",
       "      <th>total_income_category</th>\n",
       "      <th></th>\n",
       "      <th></th>\n",
       "      <th></th>\n",
       "    </tr>\n",
       "  </thead>\n",
       "  <tbody>\n",
       "    <tr>\n",
       "      <th>D</th>\n",
       "      <td>6.0</td>\n",
       "      <td>21</td>\n",
       "      <td>349</td>\n",
       "    </tr>\n",
       "    <tr>\n",
       "      <th>B</th>\n",
       "      <td>7.1</td>\n",
       "      <td>354</td>\n",
       "      <td>5014</td>\n",
       "    </tr>\n",
       "    <tr>\n",
       "      <th>A</th>\n",
       "      <td>8.0</td>\n",
       "      <td>2</td>\n",
       "      <td>25</td>\n",
       "    </tr>\n",
       "    <tr>\n",
       "      <th>C</th>\n",
       "      <td>8.5</td>\n",
       "      <td>1353</td>\n",
       "      <td>15921</td>\n",
       "    </tr>\n",
       "    <tr>\n",
       "      <th>E</th>\n",
       "      <td>9.1</td>\n",
       "      <td>2</td>\n",
       "      <td>22</td>\n",
       "    </tr>\n",
       "  </tbody>\n",
       "</table>\n",
       "</div>"
      ],
      "text/plain": [
       "                       процент_должников:  долгов:  клиентов:\n",
       "total_income_category                                        \n",
       "D                                     6.0       21        349\n",
       "B                                     7.1      354       5014\n",
       "A                                     8.0        2         25\n",
       "C                                     8.5     1353      15921\n",
       "E                                     9.1        2         22"
      ]
     },
     "execution_count": 134,
     "metadata": {},
     "output_type": "execute_result"
    }
   ],
   "source": [
    "total_income_category_grouped = data.groupby('total_income_category')['debt'].agg(['mean','sum','count'])\n",
    "table_formatted(total_income_category_grouped)  "
   ]
  },
  {
   "cell_type": "code",
   "execution_count": 132,
   "id": "38dc7225",
   "metadata": {},
   "outputs": [
    {
     "data": {
      "text/html": [
       "<div>\n",
       "<style scoped>\n",
       "    .dataframe tbody tr th:only-of-type {\n",
       "        vertical-align: middle;\n",
       "    }\n",
       "\n",
       "    .dataframe tbody tr th {\n",
       "        vertical-align: top;\n",
       "    }\n",
       "\n",
       "    .dataframe thead th {\n",
       "        text-align: right;\n",
       "    }\n",
       "</style>\n",
       "<table border=\"1\" class=\"dataframe\">\n",
       "  <thead>\n",
       "    <tr style=\"text-align: right;\">\n",
       "      <th></th>\n",
       "      <th>процент_должников:</th>\n",
       "      <th>долгов:</th>\n",
       "      <th>клиентов:</th>\n",
       "    </tr>\n",
       "    <tr>\n",
       "      <th>total_income_category_fair</th>\n",
       "      <th></th>\n",
       "      <th></th>\n",
       "      <th></th>\n",
       "    </tr>\n",
       "  </thead>\n",
       "  <tbody>\n",
       "    <tr>\n",
       "      <th>A</th>\n",
       "      <td>7.1</td>\n",
       "      <td>356</td>\n",
       "      <td>5039</td>\n",
       "    </tr>\n",
       "    <tr>\n",
       "      <th>B</th>\n",
       "      <td>8.4</td>\n",
       "      <td>1376</td>\n",
       "      <td>16292</td>\n",
       "    </tr>\n",
       "  </tbody>\n",
       "</table>\n",
       "</div>"
      ],
      "text/plain": [
       "                            процент_должников:  долгов:  клиентов:\n",
       "total_income_category_fair                                        \n",
       "A                                          7.1      356       5039\n",
       "B                                          8.4     1376      16292"
      ]
     },
     "execution_count": 132,
     "metadata": {},
     "output_type": "execute_result"
    }
   ],
   "source": [
    "# т.к. в 3 группах распределение не достаточно для оценки, разделим клиентов на 2 категории\n",
    "def categorize_income_fair(income):\n",
    "    try:\n",
    "        if 0 <= income <= 200000:\n",
    "            return 'B'\n",
    "        elif income >= 200001:\n",
    "            return 'A'\n",
    "    except:\n",
    "        pass\n",
    "    \n",
    "data['total_income_category_fair'] = data['total_income'].apply(categorize_income_fair)\n",
    "total_income_category_fair_grouped = data.groupby('total_income_category_fair')['debt'].agg(['mean','sum','count'])\n",
    "\n",
    "table_formatted(total_income_category_fair_grouped)"
   ]
  },
  {
   "cell_type": "markdown",
   "id": "31f426bf",
   "metadata": {
    "deletable": false,
    "id": "e8593def"
   },
   "source": [
    "**Вывод:** \n",
    "\n",
    "При раздении клиентов на 5 категорий мы не можем выявить зависимость, так как основной объем выборки приходится только на 2 группы.\n",
    "Зависимость будем определять только по 2 группам с достаточным количеством клиентов. \n",
    "Для этого можно разделить клиентов на 2 группы, с доходом менее/более 200000.\n",
    "\n",
    "Получается, что клиенты с большим уровнем дохода реже допускают просрочки по кредитам."
   ]
  },
  {
   "cell_type": "markdown",
   "id": "0cbfdf5a",
   "metadata": {
    "deletable": false,
    "editable": false,
    "id": "99ecbd1f"
   },
   "source": [
    "#### 3.4 Как разные цели кредита влияют на его возврат в срок?"
   ]
  },
  {
   "cell_type": "code",
   "execution_count": 133,
   "id": "8451cdc7",
   "metadata": {
    "deletable": false,
    "id": "2b687290"
   },
   "outputs": [
    {
     "data": {
      "text/html": [
       "<div>\n",
       "<style scoped>\n",
       "    .dataframe tbody tr th:only-of-type {\n",
       "        vertical-align: middle;\n",
       "    }\n",
       "\n",
       "    .dataframe tbody tr th {\n",
       "        vertical-align: top;\n",
       "    }\n",
       "\n",
       "    .dataframe thead th {\n",
       "        text-align: right;\n",
       "    }\n",
       "</style>\n",
       "<table border=\"1\" class=\"dataframe\">\n",
       "  <thead>\n",
       "    <tr style=\"text-align: right;\">\n",
       "      <th></th>\n",
       "      <th>процент_должников:</th>\n",
       "      <th>долгов:</th>\n",
       "      <th>клиентов:</th>\n",
       "    </tr>\n",
       "    <tr>\n",
       "      <th>purpose_category</th>\n",
       "      <th></th>\n",
       "      <th></th>\n",
       "      <th></th>\n",
       "    </tr>\n",
       "  </thead>\n",
       "  <tbody>\n",
       "    <tr>\n",
       "      <th>операции с недвижимостью</th>\n",
       "      <td>7.3</td>\n",
       "      <td>780</td>\n",
       "      <td>10751</td>\n",
       "    </tr>\n",
       "    <tr>\n",
       "      <th>проведение свадьбы</th>\n",
       "      <td>7.9</td>\n",
       "      <td>183</td>\n",
       "      <td>2313</td>\n",
       "    </tr>\n",
       "    <tr>\n",
       "      <th>получение образования</th>\n",
       "      <td>9.3</td>\n",
       "      <td>369</td>\n",
       "      <td>3988</td>\n",
       "    </tr>\n",
       "    <tr>\n",
       "      <th>операции с автомобилем</th>\n",
       "      <td>9.3</td>\n",
       "      <td>400</td>\n",
       "      <td>4279</td>\n",
       "    </tr>\n",
       "  </tbody>\n",
       "</table>\n",
       "</div>"
      ],
      "text/plain": [
       "                          процент_должников:  долгов:  клиентов:\n",
       "purpose_category                                                \n",
       "операции с недвижимостью                 7.3      780      10751\n",
       "проведение свадьбы                       7.9      183       2313\n",
       "получение образования                    9.3      369       3988\n",
       "операции с автомобилем                   9.3      400       4279"
      ]
     },
     "execution_count": 133,
     "metadata": {},
     "output_type": "execute_result"
    }
   ],
   "source": [
    "purpose_category_grouped = data.groupby('purpose_category')['debt'].agg(['mean','sum','count'])\n",
    "table_formatted(purpose_category_grouped)"
   ]
  },
  {
   "cell_type": "markdown",
   "id": "fce1225a",
   "metadata": {
    "deletable": false,
    "id": "b4bb2ce6"
   },
   "source": [
    "**Вывод:** \n",
    "\n",
    "Люди которые проводят свадьбы и операции с недвижимостью более склонны отдавать кредит в срок, чем люди которые получают образование или проводят операции с автомобилями"
   ]
  },
  {
   "cell_type": "markdown",
   "id": "4059e80e",
   "metadata": {
    "deletable": false,
    "editable": false,
    "id": "6db5255a"
   },
   "source": [
    "### Общий вывод."
   ]
  },
  {
   "cell_type": "markdown",
   "id": "9e6eff2a",
   "metadata": {
    "deletable": false,
    "id": "bad65432"
   },
   "source": [
    "Наличие детей:\n",
    "Среди заемщиков, имеющих детей, процент должников примерно одинаковый, за исключением групп с 3 и 5 детьми, где процент должников незначительно выше. Однако, учитывая малый размер выборки в этих группах, эти различия могут быть связаны с статистической погрешностью. В целом, можно сделать вывод, что процент должников среди заемщиков без детей немного ниже (на 1,7%) по сравнению с заемщиками, у которых есть дети.\n",
    "\n",
    "Семейный статус:\n",
    "Наблюдается наибольшее количество должников среди неженатых/незамужних заемщиков. Меньшее количество должников наблюдается среди заемщиков, находившихся или находящихся в браке. После сравнения этих групп обнаруживается, что процент должников среди заемщиков, находившихся или находящихся в браке, на 2% ниже, чем среди неженатых/незамужних заемщиков.\n",
    "\n",
    "Уровень дохода:\n",
    "При анализе заемщиков по уровню дохода в 5 категориях, нет явной зависимости между уровнем дохода и процентом должников, так как основная часть выборки сосредоточена только в двух категориях. В целом, заемщики с более высоким уровнем дохода реже сталкиваются с просрочками по кредитам. Процент должников среди заемщиков с высоким уровнем дохода ниже на 1,3%.\n",
    "\n",
    "Цели кредитования:\n",
    "Люди, берущие кредиты для проведения свадьбы или операций с недвижимостью, более склонны к своевременному погашению кредита, в сравнении с людьми, берущими кредиты на образование или операции с автомобилями. Разница в проценте должников между этими группами составляет около 2%.\n"
   ]
  },
  {
   "cell_type": "markdown",
   "metadata": {},
   "source": []
  }
 ],
 "metadata": {
  "ExecuteTimeLog": [
   {
    "duration": 471,
    "start_time": "2022-11-24T07:52:29.190Z"
   },
   {
    "duration": 21,
    "start_time": "2022-11-24T07:52:33.446Z"
   },
   {
    "duration": 17,
    "start_time": "2022-11-24T07:52:37.321Z"
   },
   {
    "duration": 12,
    "start_time": "2022-11-24T07:52:45.485Z"
   },
   {
    "duration": 33,
    "start_time": "2022-11-24T07:52:55.396Z"
   },
   {
    "duration": 4,
    "start_time": "2022-11-24T07:53:17.160Z"
   },
   {
    "duration": 674,
    "start_time": "2022-11-24T14:03:57.314Z"
   },
   {
    "duration": 21,
    "start_time": "2022-11-24T14:03:58.497Z"
   },
   {
    "duration": 14,
    "start_time": "2022-11-24T14:04:01.292Z"
   },
   {
    "duration": 10,
    "start_time": "2022-11-24T14:04:02.987Z"
   },
   {
    "duration": 34,
    "start_time": "2022-11-24T14:04:05.103Z"
   },
   {
    "duration": 3,
    "start_time": "2022-11-24T14:04:06.590Z"
   },
   {
    "duration": 9,
    "start_time": "2022-11-24T14:04:07.520Z"
   },
   {
    "duration": 4,
    "start_time": "2022-11-24T14:06:43.664Z"
   },
   {
    "duration": 6,
    "start_time": "2022-11-24T14:06:52.298Z"
   },
   {
    "duration": 4,
    "start_time": "2022-11-24T14:06:54.226Z"
   },
   {
    "duration": 32,
    "start_time": "2022-11-24T14:07:02.787Z"
   },
   {
    "duration": 10,
    "start_time": "2022-11-24T14:07:05.952Z"
   },
   {
    "duration": 4,
    "start_time": "2022-11-24T14:07:21.614Z"
   },
   {
    "duration": 12,
    "start_time": "2022-11-24T14:07:28.795Z"
   },
   {
    "duration": 20,
    "start_time": "2022-11-24T14:07:42.358Z"
   },
   {
    "duration": 17,
    "start_time": "2022-11-24T14:07:46.353Z"
   },
   {
    "duration": 4,
    "start_time": "2022-11-24T14:08:01.993Z"
   },
   {
    "duration": 12,
    "start_time": "2022-11-24T14:08:07.945Z"
   },
   {
    "duration": 6,
    "start_time": "2022-11-24T14:08:33.023Z"
   },
   {
    "duration": 3,
    "start_time": "2022-11-24T14:09:37.547Z"
   },
   {
    "duration": 9,
    "start_time": "2022-11-24T14:09:39.340Z"
   },
   {
    "duration": 24,
    "start_time": "2022-11-24T14:42:09.211Z"
   },
   {
    "duration": 5,
    "start_time": "2022-11-24T14:49:04.409Z"
   },
   {
    "duration": 7,
    "start_time": "2022-11-24T14:49:11.009Z"
   },
   {
    "duration": 59,
    "start_time": "2022-11-24T14:50:58.411Z"
   },
   {
    "duration": 8,
    "start_time": "2022-11-24T14:51:14.603Z"
   },
   {
    "duration": 15,
    "start_time": "2022-11-24T14:53:15.508Z"
   },
   {
    "duration": 10,
    "start_time": "2022-11-24T14:53:43.557Z"
   },
   {
    "duration": 9,
    "start_time": "2022-11-24T14:57:10.539Z"
   },
   {
    "duration": 18,
    "start_time": "2022-11-24T15:00:45.531Z"
   },
   {
    "duration": 16,
    "start_time": "2022-11-24T15:01:30.317Z"
   },
   {
    "duration": 18,
    "start_time": "2022-11-24T15:01:40.296Z"
   },
   {
    "duration": 13,
    "start_time": "2022-11-24T15:03:13.970Z"
   },
   {
    "duration": 42,
    "start_time": "2022-11-24T15:03:34.536Z"
   },
   {
    "duration": 42,
    "start_time": "2022-11-24T15:03:42.550Z"
   },
   {
    "duration": 8,
    "start_time": "2022-11-24T15:04:41.454Z"
   },
   {
    "duration": 11,
    "start_time": "2022-11-24T15:12:33.510Z"
   },
   {
    "duration": 8,
    "start_time": "2022-11-24T15:12:42.170Z"
   },
   {
    "duration": 6,
    "start_time": "2022-11-24T15:38:09.742Z"
   },
   {
    "duration": 994,
    "start_time": "2022-11-24T15:38:59.656Z"
   },
   {
    "duration": 1514,
    "start_time": "2022-11-24T15:39:02.490Z"
   },
   {
    "duration": 11,
    "start_time": "2022-11-24T15:39:11.531Z"
   },
   {
    "duration": 8,
    "start_time": "2022-11-24T15:39:31.420Z"
   },
   {
    "duration": 471,
    "start_time": "2022-11-24T15:40:39.561Z"
   },
   {
    "duration": 10,
    "start_time": "2022-11-24T15:42:04.188Z"
   },
   {
    "duration": 11,
    "start_time": "2022-11-24T15:42:31.926Z"
   },
   {
    "duration": 8,
    "start_time": "2022-11-24T15:43:23.723Z"
   },
   {
    "duration": 12,
    "start_time": "2022-11-24T15:43:54.130Z"
   },
   {
    "duration": 11,
    "start_time": "2022-11-24T15:45:56.053Z"
   },
   {
    "duration": 9,
    "start_time": "2022-11-24T15:46:30.101Z"
   },
   {
    "duration": 9,
    "start_time": "2022-11-24T15:47:31.311Z"
   },
   {
    "duration": 9,
    "start_time": "2022-11-24T15:47:37.879Z"
   },
   {
    "duration": 79,
    "start_time": "2022-11-24T15:57:29.602Z"
   },
   {
    "duration": 53,
    "start_time": "2022-11-24T15:57:51.718Z"
   },
   {
    "duration": 65,
    "start_time": "2022-11-24T15:58:03.592Z"
   },
   {
    "duration": 42,
    "start_time": "2022-11-24T15:58:36.579Z"
   },
   {
    "duration": 43,
    "start_time": "2022-11-24T16:01:43.577Z"
   },
   {
    "duration": 4,
    "start_time": "2022-11-24T18:19:40.659Z"
   },
   {
    "duration": 9,
    "start_time": "2022-11-24T18:20:02.656Z"
   },
   {
    "duration": 8,
    "start_time": "2022-11-24T18:21:38.235Z"
   },
   {
    "duration": 746,
    "start_time": "2022-11-24T18:23:22.240Z"
   },
   {
    "duration": 10,
    "start_time": "2022-11-24T18:23:30.295Z"
   },
   {
    "duration": 10,
    "start_time": "2022-11-24T18:23:38.119Z"
   },
   {
    "duration": 48,
    "start_time": "2022-11-24T18:24:51.530Z"
   },
   {
    "duration": 11,
    "start_time": "2022-11-24T18:25:29.360Z"
   },
   {
    "duration": 14,
    "start_time": "2022-11-24T18:28:14.751Z"
   },
   {
    "duration": 15,
    "start_time": "2022-11-24T18:29:36.805Z"
   },
   {
    "duration": 14,
    "start_time": "2022-11-24T18:29:58.284Z"
   },
   {
    "duration": 11,
    "start_time": "2022-11-24T18:30:26.579Z"
   },
   {
    "duration": 11,
    "start_time": "2022-11-24T18:31:03.778Z"
   },
   {
    "duration": 10,
    "start_time": "2022-11-24T18:34:42.705Z"
   },
   {
    "duration": 10,
    "start_time": "2022-11-24T18:40:45.433Z"
   },
   {
    "duration": 11,
    "start_time": "2022-11-24T18:43:05.035Z"
   },
   {
    "duration": 11,
    "start_time": "2022-11-24T18:43:24.392Z"
   },
   {
    "duration": 5,
    "start_time": "2022-11-24T18:56:15.712Z"
   },
   {
    "duration": 14,
    "start_time": "2022-11-24T18:57:09.669Z"
   },
   {
    "duration": 13,
    "start_time": "2022-11-24T18:57:18.785Z"
   },
   {
    "duration": 16,
    "start_time": "2022-11-24T18:57:24.819Z"
   },
   {
    "duration": 14,
    "start_time": "2022-11-24T18:57:49.574Z"
   },
   {
    "duration": 7,
    "start_time": "2022-11-24T18:58:13.709Z"
   },
   {
    "duration": 8,
    "start_time": "2022-11-24T19:07:19.309Z"
   },
   {
    "duration": 12,
    "start_time": "2022-11-24T19:07:31.536Z"
   },
   {
    "duration": 16,
    "start_time": "2022-11-24T19:09:54.723Z"
   },
   {
    "duration": 11,
    "start_time": "2022-11-24T19:11:01.176Z"
   },
   {
    "duration": 839,
    "start_time": "2022-11-24T19:11:19.873Z"
   },
   {
    "duration": 11,
    "start_time": "2022-11-24T19:11:28.817Z"
   },
   {
    "duration": 12,
    "start_time": "2022-11-24T19:11:35.359Z"
   },
   {
    "duration": 17,
    "start_time": "2022-11-24T19:15:26.711Z"
   },
   {
    "duration": 14,
    "start_time": "2022-11-24T19:18:00.986Z"
   },
   {
    "duration": 16,
    "start_time": "2022-11-24T20:30:58.669Z"
   },
   {
    "duration": 15,
    "start_time": "2022-11-24T20:31:59.994Z"
   },
   {
    "duration": 12,
    "start_time": "2022-11-24T20:32:15.655Z"
   },
   {
    "duration": 12,
    "start_time": "2022-11-24T20:32:24.975Z"
   },
   {
    "duration": 11,
    "start_time": "2022-11-24T20:32:47.308Z"
   },
   {
    "duration": 11,
    "start_time": "2022-11-24T20:32:56.529Z"
   },
   {
    "duration": 14,
    "start_time": "2022-11-24T20:46:57.010Z"
   },
   {
    "duration": 23,
    "start_time": "2022-11-24T20:47:34.496Z"
   },
   {
    "duration": 19,
    "start_time": "2022-11-24T20:48:24.769Z"
   },
   {
    "duration": 11,
    "start_time": "2022-11-24T20:48:29.771Z"
   },
   {
    "duration": 68,
    "start_time": "2022-11-24T20:56:36.259Z"
   },
   {
    "duration": 43,
    "start_time": "2022-11-24T20:57:45.524Z"
   },
   {
    "duration": 9,
    "start_time": "2022-11-24T20:58:25.976Z"
   },
   {
    "duration": 16,
    "start_time": "2022-11-24T21:02:14.764Z"
   },
   {
    "duration": 62,
    "start_time": "2022-11-24T21:02:32.081Z"
   },
   {
    "duration": 70,
    "start_time": "2022-11-24T21:02:45.545Z"
   },
   {
    "duration": 56,
    "start_time": "2022-11-24T21:03:23.459Z"
   },
   {
    "duration": 50,
    "start_time": "2022-11-24T21:04:13.944Z"
   },
   {
    "duration": 17,
    "start_time": "2022-11-24T21:04:25.316Z"
   },
   {
    "duration": 12,
    "start_time": "2022-11-24T21:14:21.591Z"
   },
   {
    "duration": 13,
    "start_time": "2022-11-24T21:14:30.631Z"
   },
   {
    "duration": 11,
    "start_time": "2022-11-24T21:14:58.101Z"
   },
   {
    "duration": 9,
    "start_time": "2022-11-24T21:17:36.130Z"
   },
   {
    "duration": 9,
    "start_time": "2022-11-24T21:17:39.197Z"
   },
   {
    "duration": 12,
    "start_time": "2022-11-24T21:17:47.474Z"
   },
   {
    "duration": 15,
    "start_time": "2022-11-24T21:18:07.731Z"
   },
   {
    "duration": 12,
    "start_time": "2022-11-24T21:20:43.525Z"
   },
   {
    "duration": 17,
    "start_time": "2022-11-24T21:20:50.797Z"
   },
   {
    "duration": 17,
    "start_time": "2022-11-24T21:22:57.273Z"
   },
   {
    "duration": 13,
    "start_time": "2022-11-24T21:23:17.175Z"
   },
   {
    "duration": 13,
    "start_time": "2022-11-24T21:23:34.283Z"
   },
   {
    "duration": 13,
    "start_time": "2022-11-24T21:24:09.139Z"
   },
   {
    "duration": 12,
    "start_time": "2022-11-24T21:24:38.015Z"
   },
   {
    "duration": 12,
    "start_time": "2022-11-24T21:26:01.908Z"
   },
   {
    "duration": 14,
    "start_time": "2022-11-24T21:27:35.935Z"
   },
   {
    "duration": 13,
    "start_time": "2022-11-24T21:27:52.382Z"
   },
   {
    "duration": 12,
    "start_time": "2022-11-24T21:28:30.918Z"
   },
   {
    "duration": 12,
    "start_time": "2022-11-24T21:42:41.834Z"
   },
   {
    "duration": 46,
    "start_time": "2022-11-24T21:44:16.687Z"
   },
   {
    "duration": 121,
    "start_time": "2022-11-24T21:44:24.139Z"
   },
   {
    "duration": 12,
    "start_time": "2022-11-24T21:44:28.233Z"
   },
   {
    "duration": 17,
    "start_time": "2022-11-24T21:44:35.585Z"
   },
   {
    "duration": 64,
    "start_time": "2022-11-24T21:53:42.771Z"
   },
   {
    "duration": 17,
    "start_time": "2022-11-24T21:53:49.300Z"
   },
   {
    "duration": 14,
    "start_time": "2022-11-24T21:53:54.195Z"
   },
   {
    "duration": 16,
    "start_time": "2022-11-24T22:01:18.820Z"
   },
   {
    "duration": 24,
    "start_time": "2022-11-24T22:02:58.296Z"
   },
   {
    "duration": 5,
    "start_time": "2022-11-24T22:03:02.646Z"
   },
   {
    "duration": 5,
    "start_time": "2022-11-24T22:13:05.944Z"
   },
   {
    "duration": 20,
    "start_time": "2022-11-24T22:13:10.987Z"
   },
   {
    "duration": 16,
    "start_time": "2022-11-24T22:31:20.310Z"
   },
   {
    "duration": 886,
    "start_time": "2022-11-24T22:31:35.115Z"
   },
   {
    "duration": 13,
    "start_time": "2022-11-24T22:31:43.784Z"
   },
   {
    "duration": 54,
    "start_time": "2022-11-24T22:33:44.546Z"
   },
   {
    "duration": 18,
    "start_time": "2022-11-24T22:34:07.644Z"
   },
   {
    "duration": 13,
    "start_time": "2022-11-24T23:15:02.368Z"
   },
   {
    "duration": 12,
    "start_time": "2022-11-24T23:15:21.659Z"
   },
   {
    "duration": 15,
    "start_time": "2022-11-24T23:15:32.694Z"
   },
   {
    "duration": 56,
    "start_time": "2022-11-25T08:27:33.729Z"
   },
   {
    "duration": 55,
    "start_time": "2022-11-25T08:27:48.072Z"
   },
   {
    "duration": 7,
    "start_time": "2022-11-25T08:27:55.595Z"
   },
   {
    "duration": 708,
    "start_time": "2022-11-25T08:28:06.723Z"
   },
   {
    "duration": 21,
    "start_time": "2022-11-25T08:28:07.432Z"
   },
   {
    "duration": 14,
    "start_time": "2022-11-25T08:28:07.455Z"
   },
   {
    "duration": 10,
    "start_time": "2022-11-25T08:28:07.471Z"
   },
   {
    "duration": 46,
    "start_time": "2022-11-25T08:28:07.483Z"
   },
   {
    "duration": 3,
    "start_time": "2022-11-25T08:28:07.531Z"
   },
   {
    "duration": 10,
    "start_time": "2022-11-25T08:28:07.536Z"
   },
   {
    "duration": 5,
    "start_time": "2022-11-25T08:28:07.547Z"
   },
   {
    "duration": 8,
    "start_time": "2022-11-25T08:28:07.553Z"
   },
   {
    "duration": 4,
    "start_time": "2022-11-25T08:28:07.564Z"
   },
   {
    "duration": 59,
    "start_time": "2022-11-25T08:28:07.569Z"
   },
   {
    "duration": 10,
    "start_time": "2022-11-25T08:28:07.630Z"
   },
   {
    "duration": 3,
    "start_time": "2022-11-25T08:28:07.642Z"
   },
   {
    "duration": 13,
    "start_time": "2022-11-25T08:28:07.646Z"
   },
   {
    "duration": 18,
    "start_time": "2022-11-25T08:28:07.660Z"
   },
   {
    "duration": 15,
    "start_time": "2022-11-25T08:28:07.679Z"
   },
   {
    "duration": 3,
    "start_time": "2022-11-25T08:28:07.722Z"
   },
   {
    "duration": 23,
    "start_time": "2022-11-25T08:28:07.727Z"
   },
   {
    "duration": 7,
    "start_time": "2022-11-25T08:28:07.752Z"
   },
   {
    "duration": 7,
    "start_time": "2022-11-25T08:28:07.760Z"
   },
   {
    "duration": 37,
    "start_time": "2022-11-25T08:28:07.768Z"
   },
   {
    "duration": 23,
    "start_time": "2022-11-25T08:28:07.806Z"
   },
   {
    "duration": 4,
    "start_time": "2022-11-25T08:28:07.830Z"
   },
   {
    "duration": 21,
    "start_time": "2022-11-25T08:28:07.835Z"
   },
   {
    "duration": 11,
    "start_time": "2022-11-25T08:28:07.858Z"
   },
   {
    "duration": 31,
    "start_time": "2022-11-25T08:28:07.870Z"
   },
   {
    "duration": 4,
    "start_time": "2022-11-25T10:06:52.386Z"
   },
   {
    "duration": 35,
    "start_time": "2022-11-25T10:08:16.683Z"
   },
   {
    "duration": 15,
    "start_time": "2022-11-25T10:10:00.759Z"
   },
   {
    "duration": 14,
    "start_time": "2022-11-25T10:10:26.174Z"
   },
   {
    "duration": 4,
    "start_time": "2022-11-25T10:10:41.993Z"
   },
   {
    "duration": 5,
    "start_time": "2022-11-25T10:11:34.907Z"
   },
   {
    "duration": 6,
    "start_time": "2022-11-25T10:12:47.679Z"
   },
   {
    "duration": 4,
    "start_time": "2022-11-25T10:15:26.627Z"
   },
   {
    "duration": 5,
    "start_time": "2022-11-25T10:16:12.947Z"
   },
   {
    "duration": 4,
    "start_time": "2022-11-25T10:16:26.053Z"
   },
   {
    "duration": 5,
    "start_time": "2022-11-25T10:16:51.706Z"
   },
   {
    "duration": 489,
    "start_time": "2022-11-25T10:17:15.097Z"
   },
   {
    "duration": 412,
    "start_time": "2022-11-25T10:17:32.364Z"
   },
   {
    "duration": 5,
    "start_time": "2022-11-25T10:24:17.306Z"
   },
   {
    "duration": 14,
    "start_time": "2022-11-25T10:30:09.506Z"
   },
   {
    "duration": 3,
    "start_time": "2022-11-25T10:38:03.854Z"
   },
   {
    "duration": 50,
    "start_time": "2022-11-25T10:38:38.309Z"
   },
   {
    "duration": 733,
    "start_time": "2022-11-25T10:38:44.364Z"
   },
   {
    "duration": 788,
    "start_time": "2022-11-25T10:39:10.527Z"
   },
   {
    "duration": 3,
    "start_time": "2022-11-25T10:39:25.442Z"
   },
   {
    "duration": 876,
    "start_time": "2022-11-25T10:39:49.857Z"
   },
   {
    "duration": 7,
    "start_time": "2022-11-25T10:40:20.258Z"
   },
   {
    "duration": 5,
    "start_time": "2022-11-25T10:41:11.874Z"
   },
   {
    "duration": 5,
    "start_time": "2022-11-25T10:41:50.769Z"
   },
   {
    "duration": 43,
    "start_time": "2022-11-25T10:42:06.085Z"
   },
   {
    "duration": 6,
    "start_time": "2022-11-25T10:42:19.067Z"
   },
   {
    "duration": 4,
    "start_time": "2022-11-25T10:43:35.674Z"
   },
   {
    "duration": 5,
    "start_time": "2022-11-25T10:43:55.099Z"
   },
   {
    "duration": 4,
    "start_time": "2022-11-25T10:44:13.710Z"
   },
   {
    "duration": 5,
    "start_time": "2022-11-25T10:44:27.613Z"
   },
   {
    "duration": 5,
    "start_time": "2022-11-25T10:44:32.022Z"
   },
   {
    "duration": 5,
    "start_time": "2022-11-25T10:44:38.188Z"
   },
   {
    "duration": 5,
    "start_time": "2022-11-25T10:44:45.839Z"
   },
   {
    "duration": 9,
    "start_time": "2022-11-25T10:46:13.021Z"
   },
   {
    "duration": 5,
    "start_time": "2022-11-25T10:47:25.142Z"
   },
   {
    "duration": 6,
    "start_time": "2022-11-25T10:47:52.163Z"
   },
   {
    "duration": 7,
    "start_time": "2022-11-25T10:48:10.606Z"
   },
   {
    "duration": 5,
    "start_time": "2022-11-25T10:48:21.452Z"
   },
   {
    "duration": 6,
    "start_time": "2022-11-25T10:48:34.456Z"
   },
   {
    "duration": 4,
    "start_time": "2022-11-25T10:49:07.206Z"
   },
   {
    "duration": 14,
    "start_time": "2022-11-25T10:49:25.109Z"
   },
   {
    "duration": 5,
    "start_time": "2022-11-25T10:49:46.089Z"
   },
   {
    "duration": 6,
    "start_time": "2022-11-25T10:49:58.336Z"
   },
   {
    "duration": 9,
    "start_time": "2022-11-25T11:07:17.937Z"
   },
   {
    "duration": 13,
    "start_time": "2022-11-25T11:07:42.317Z"
   },
   {
    "duration": 6,
    "start_time": "2022-11-25T11:07:48.869Z"
   },
   {
    "duration": 6,
    "start_time": "2022-11-25T11:08:32.112Z"
   },
   {
    "duration": 5,
    "start_time": "2022-11-25T11:08:44.347Z"
   },
   {
    "duration": 6,
    "start_time": "2022-11-25T11:09:02.406Z"
   },
   {
    "duration": 6,
    "start_time": "2022-11-25T11:10:00.584Z"
   },
   {
    "duration": 5,
    "start_time": "2022-11-25T11:10:49.974Z"
   },
   {
    "duration": 6,
    "start_time": "2022-11-25T11:11:55.063Z"
   },
   {
    "duration": 13,
    "start_time": "2022-11-25T11:13:32.232Z"
   },
   {
    "duration": 6,
    "start_time": "2022-11-25T11:13:53.343Z"
   },
   {
    "duration": 7,
    "start_time": "2022-11-25T11:14:35.463Z"
   },
   {
    "duration": 14,
    "start_time": "2022-11-25T11:15:52.732Z"
   },
   {
    "duration": 15,
    "start_time": "2022-11-25T11:16:07.667Z"
   },
   {
    "duration": 13,
    "start_time": "2022-11-25T11:18:45.263Z"
   },
   {
    "duration": 11,
    "start_time": "2022-11-25T11:19:06.719Z"
   },
   {
    "duration": 8,
    "start_time": "2022-11-25T11:19:34.493Z"
   },
   {
    "duration": 15,
    "start_time": "2022-11-25T11:19:46.062Z"
   },
   {
    "duration": 6,
    "start_time": "2022-11-25T11:20:28.885Z"
   },
   {
    "duration": 7,
    "start_time": "2022-11-25T11:20:56.189Z"
   },
   {
    "duration": 8,
    "start_time": "2022-11-25T11:21:14.914Z"
   },
   {
    "duration": 6,
    "start_time": "2022-11-25T11:21:54.883Z"
   },
   {
    "duration": 7,
    "start_time": "2022-11-25T11:23:37.313Z"
   },
   {
    "duration": 7,
    "start_time": "2022-11-25T11:23:52.510Z"
   },
   {
    "duration": 6,
    "start_time": "2022-11-25T11:24:04.393Z"
   },
   {
    "duration": 7,
    "start_time": "2022-11-25T11:30:31.569Z"
   },
   {
    "duration": 7,
    "start_time": "2022-11-25T11:31:17.097Z"
   },
   {
    "duration": 16,
    "start_time": "2022-11-25T12:02:21.890Z"
   },
   {
    "duration": 17,
    "start_time": "2022-11-25T12:02:54.060Z"
   },
   {
    "duration": 26,
    "start_time": "2022-11-25T12:04:44.482Z"
   },
   {
    "duration": 21,
    "start_time": "2022-11-25T12:25:11.035Z"
   },
   {
    "duration": 14,
    "start_time": "2022-11-25T12:26:05.690Z"
   },
   {
    "duration": 21,
    "start_time": "2022-11-25T12:26:44.998Z"
   },
   {
    "duration": 32,
    "start_time": "2022-11-25T12:29:34.910Z"
   },
   {
    "duration": 28,
    "start_time": "2022-11-25T12:30:29.848Z"
   },
   {
    "duration": 23,
    "start_time": "2022-11-25T12:30:59.792Z"
   },
   {
    "duration": 21,
    "start_time": "2022-11-25T12:31:49.429Z"
   },
   {
    "duration": 23,
    "start_time": "2022-11-25T12:32:43.445Z"
   },
   {
    "duration": 810,
    "start_time": "2022-11-25T12:34:12.778Z"
   },
   {
    "duration": 25,
    "start_time": "2022-11-25T12:34:59.988Z"
   },
   {
    "duration": 4,
    "start_time": "2022-11-25T12:38:23.307Z"
   },
   {
    "duration": 15,
    "start_time": "2022-11-25T12:38:43.006Z"
   },
   {
    "duration": 11,
    "start_time": "2022-11-25T12:40:00.338Z"
   },
   {
    "duration": 15,
    "start_time": "2022-11-25T12:42:03.672Z"
   },
   {
    "duration": 12,
    "start_time": "2022-11-25T12:42:11.904Z"
   },
   {
    "duration": 6,
    "start_time": "2022-11-25T12:42:56.938Z"
   },
   {
    "duration": 21,
    "start_time": "2022-11-25T12:44:06.944Z"
   },
   {
    "duration": 23,
    "start_time": "2022-11-25T12:44:54.393Z"
   },
   {
    "duration": 21,
    "start_time": "2022-11-25T12:45:07.431Z"
   },
   {
    "duration": 11,
    "start_time": "2022-11-25T12:46:00.337Z"
   },
   {
    "duration": 3,
    "start_time": "2022-11-25T12:47:44.836Z"
   },
   {
    "duration": 9,
    "start_time": "2022-11-25T12:47:45.979Z"
   },
   {
    "duration": 12,
    "start_time": "2022-11-25T12:48:00.611Z"
   },
   {
    "duration": 3,
    "start_time": "2022-11-25T12:48:18.875Z"
   },
   {
    "duration": 5,
    "start_time": "2022-11-25T12:49:12.347Z"
   },
   {
    "duration": 12,
    "start_time": "2022-11-25T12:49:16.689Z"
   },
   {
    "duration": 7,
    "start_time": "2022-11-25T12:49:31.116Z"
   },
   {
    "duration": 13,
    "start_time": "2022-11-25T12:50:11.907Z"
   },
   {
    "duration": 19,
    "start_time": "2022-11-25T12:50:15.467Z"
   },
   {
    "duration": 17,
    "start_time": "2022-11-25T12:50:37.529Z"
   },
   {
    "duration": 12,
    "start_time": "2022-11-25T12:50:52.994Z"
   },
   {
    "duration": 13,
    "start_time": "2022-11-25T12:51:25.458Z"
   },
   {
    "duration": 88,
    "start_time": "2022-11-26T08:50:05.624Z"
   }
  ],
  "colab": {
   "name": "dpp_template_part2.ipynb",
   "provenance": []
  },
  "kernelspec": {
   "display_name": "Python 3 (ipykernel)",
   "language": "python",
   "name": "python3"
  },
  "language_info": {
   "codemirror_mode": {
    "name": "ipython",
    "version": 3
   },
   "file_extension": ".py",
   "mimetype": "text/x-python",
   "name": "python",
   "nbconvert_exporter": "python",
   "pygments_lexer": "ipython3",
   "version": "3.9.5"
  },
  "toc": {
   "base_numbering": 1,
   "nav_menu": {},
   "number_sections": true,
   "sideBar": true,
   "skip_h1_title": true,
   "title_cell": "Table of Contents",
   "title_sidebar": "Contents",
   "toc_cell": false,
   "toc_position": {},
   "toc_section_display": true,
   "toc_window_display": false
  }
 },
 "nbformat": 4,
 "nbformat_minor": 5
}
