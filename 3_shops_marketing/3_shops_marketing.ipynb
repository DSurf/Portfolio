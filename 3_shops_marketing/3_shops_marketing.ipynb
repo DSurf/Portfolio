{
 "cells": [
  {
   "cell_type": "markdown",
   "metadata": {},
   "source": [
    "### Описание проекта:\n",
    "В рамках проекта у нас была поставлена задача создать решение для предсказания, совершит ли покупатель повторную покупку в течение ближайших 30 дней. Мы работали с информацией по трём интернет-магазинам различных категорий и анализировали обезличенную историю покупок клиентов за определенный период. Проект включал предсказание как на статичных данных, так и на временных рядах с использованием моделей keras, включающих слой LSTM."
   ]
  },
  {
   "cell_type": "code",
   "execution_count": 154,
   "metadata": {},
   "outputs": [],
   "source": [
    "import pandas as pd\n",
    "import numpy as np\n",
    "import seaborn as sns\n",
    "import matplotlib.pyplot as plt\n",
    "import warnings\n",
    "import catboost\n",
    "import time\n",
    "\n",
    "from tqdm import tqdm\n",
    "from keras.models import Model\n",
    "from keras.layers import LSTM, Dense, Masking, Input, Concatenate, Reshape\n",
    "from keras.metrics import AUC\n",
    "from keras.utils import pad_sequences, plot_model, set_random_seed\n",
    "from keras.preprocessing.sequence import pad_sequences\n",
    "from keras.optimizers import Adam\n",
    "from keras.callbacks import ModelCheckpoint, EarlyStopping\n",
    "from keras.regularizers import l1,l2\n",
    "from sklearn.model_selection import train_test_split, TimeSeriesSplit, cross_val_score, StratifiedKFold, GridSearchCV\n",
    "from sklearn.metrics import classification_report, roc_auc_score, roc_curve, confusion_matrix\n",
    "from sklearn.preprocessing import MinMaxScaler, LabelEncoder\n",
    "from catboost import CatBoostClassifier, Pool, cv\n",
    "warnings.filterwarnings(\"ignore\")"
   ]
  },
  {
   "cell_type": "code",
   "execution_count": 155,
   "metadata": {},
   "outputs": [],
   "source": [
    "MASK_VALUE = -1\n",
    "set_random_seed(42)\n",
    "np.random.seed(42)"
   ]
  },
  {
   "cell_type": "code",
   "execution_count": 156,
   "metadata": {},
   "outputs": [],
   "source": [
    "#Даты выходных дней 22-23\n",
    "\n",
    "is_holiday_22_23 = pd.to_datetime([\n",
    "    \"2022-01-01\", \"2022-01-02\", \"2022-01-03\", \"2022-01-04\", \"2022-01-05\", \"2022-01-06\", \"2022-01-08\", \"2022-01-07\",\n",
    "    \"2022-02-23\", \"2022-03-08\", \"2022-05-01\", \"2022-05-02\", \"2022-05-09\", \"2022-06-12\", \"2022-06-13\", \"2022-11-04\",\n",
    "    \"2023-01-01\", \"2023-01-02\", \"2023-01-03\", \"2023-01-04\", \"2023-01-05\", \"2023-01-06\", \"2023-01-08\", \"2023-01-07\",\n",
    "    \"2023-02-23\", \"2023-03-08\", \"2023-05-01\", \"2023-05-09\", \"2023-06-12\", \"2023-11-04\", \"2023-02-24\", \"2023-05-08\",\n",
    "    \"2023-11-06\"\n",
    "])"
   ]
  },
  {
   "cell_type": "markdown",
   "metadata": {},
   "source": [
    "- marketplace - мультикатегорийный магазин с посещаемостью более 8 млн сессий в месяц;\n",
    "- apparel - магазин одежды, по характеристикам похожий на маркетплейс;\n",
    "- gifts – магазин подарков, очень маленький;\n",
    "- client_id – идентификатор клиента;\n",
    "- quantity – количество товара в заказе;\n",
    "- price – цена 1 единицы товара в заказе;\n",
    "- message_id – идентификатор сообщения из рассылки;\n",
    "- date – дата покупки;"
   ]
  },
  {
   "cell_type": "markdown",
   "metadata": {},
   "source": [
    "🔸изучить предоставленные данные\n",
    "🔸создать полезные признаки для обучения модели\n",
    "🔸создать целевой признак\n",
    "🔸предложить и обосновать метрику\n",
    "🔸обучить модель\n",
    "🔸протестировать и проверить"
   ]
  },
  {
   "cell_type": "code",
   "execution_count": 157,
   "metadata": {},
   "outputs": [],
   "source": [
    "data_apparel_purchases = pd.read_csv('D:\\\\\\Masterskaya\\\\market_place\\\\data\\\\apparel-purchases.csv')\n",
    "data_gifts_purchases = pd.read_csv('D:\\\\\\Masterskaya\\\\market_place\\\\data\\\\gifts-purchases.csv')\n",
    "data_marketplace_purchases = pd.read_csv('D:\\\\\\Masterskaya\\\\market_place\\\\data\\\\marketplace-purchases.csv')"
   ]
  },
  {
   "cell_type": "code",
   "execution_count": 158,
   "metadata": {},
   "outputs": [
    {
     "name": "stdout",
     "output_type": "stream",
     "text": [
      "(133104, 6)\n"
     ]
    },
    {
     "data": {
      "text/html": [
       "<div>\n",
       "<style scoped>\n",
       "    .dataframe tbody tr th:only-of-type {\n",
       "        vertical-align: middle;\n",
       "    }\n",
       "\n",
       "    .dataframe tbody tr th {\n",
       "        vertical-align: top;\n",
       "    }\n",
       "\n",
       "    .dataframe thead th {\n",
       "        text-align: right;\n",
       "    }\n",
       "</style>\n",
       "<table border=\"1\" class=\"dataframe\">\n",
       "  <thead>\n",
       "    <tr style=\"text-align: right;\">\n",
       "      <th></th>\n",
       "      <th>client_id</th>\n",
       "      <th>quantity</th>\n",
       "      <th>price</th>\n",
       "      <th>date</th>\n",
       "      <th>message_id</th>\n",
       "      <th>recommended_by</th>\n",
       "    </tr>\n",
       "  </thead>\n",
       "  <tbody>\n",
       "    <tr>\n",
       "      <th>0</th>\n",
       "      <td>1515915625468068833</td>\n",
       "      <td>1</td>\n",
       "      <td>3499.0</td>\n",
       "      <td>2023-09-08</td>\n",
       "      <td>1515915625468068833-13781-64fad81bece56</td>\n",
       "      <td>bulk_message</td>\n",
       "    </tr>\n",
       "  </tbody>\n",
       "</table>\n",
       "</div>"
      ],
      "text/plain": [
       "             client_id  quantity   price        date  \\\n",
       "0  1515915625468068833         1  3499.0  2023-09-08   \n",
       "\n",
       "                                message_id recommended_by  \n",
       "0  1515915625468068833-13781-64fad81bece56   bulk_message  "
      ]
     },
     "execution_count": 158,
     "metadata": {},
     "output_type": "execute_result"
    }
   ],
   "source": [
    "print(data_apparel_purchases.shape)\n",
    "data_apparel_purchases.head(1)"
   ]
  },
  {
   "cell_type": "markdown",
   "metadata": {},
   "source": [
    "### Функция для визуализации количества и объема продаж, а так же числа покупателей "
   ]
  },
  {
   "cell_type": "code",
   "execution_count": 159,
   "metadata": {},
   "outputs": [],
   "source": [
    "def plot_sales_statistics(data):\n",
    "    # Преобразование столбца 'date' в тип datetime\n",
    "    data['date'] = pd.to_datetime(data['date'])\n",
    "\n",
    "    # Извлечение месяца из столбца 'date'\n",
    "    data['month'] = data['date'].dt.to_period('M')\n",
    "\n",
    "    # Группировка данных по месяцам и подсчет числа продаж\n",
    "    sales_per_month = data.groupby('month').size().reset_index(name='count')\n",
    "\n",
    "    # Группировка данных по месяцам и вычисление суммы цен продаж\n",
    "    total_sales_per_month = data.groupby('month')['price'].sum().reset_index(name='total_price')\n",
    "    \n",
    "    plt.style.use('dark_background')\n",
    "    plt.rcParams.update({\"grid.linewidth\":0.3, \"grid.alpha\":0.5})\n",
    "    # Создание общего рисунка и подграфиков\n",
    "    fig, (ax1, ax2, ax3) = plt.subplots(1, 3, figsize=(15, 5))\n",
    "\n",
    "    # Построение графика числа продаж по месяцам\n",
    "    sns.barplot(x='month', y='count', data=sales_per_month, color='skyblue', ax=ax1)\n",
    "    ax1.set_title('Количество  продаж за месяц')\n",
    "    ax1.set_xticklabels(sales_per_month['month'], rotation=45)\n",
    "    ax1.set_xlabel('Месяц')\n",
    "    ax1.set_ylabel('Количество продаж')\n",
    "\n",
    "    # Построение графика суммарной стоимости продаж по месяцам\n",
    "    sns.barplot(x='month', y='total_price', data=total_sales_per_month, color='salmon', ax=ax2)\n",
    "    ax2.set_title('Ежемесячный объем продаж')\n",
    "    ax2.set_xticklabels(total_sales_per_month['month'], rotation=45)\n",
    "    ax2.set_xlabel('Месяц')\n",
    "    ax2.set_ylabel('Сумма продаж за месяц')\n",
    "    \n",
    "    data['date'] = pd.to_datetime(data['date'])\n",
    "    data['month'] = data['date'].dt.to_period('M')\n",
    "\n",
    "    # Найдем новых клиентов для каждого месяца\n",
    "    first_purchase_per_customer = data.groupby('client_id')['month'].min().reset_index()\n",
    "    new_customers_per_month = first_purchase_per_customer.groupby('month').size().reset_index(name='new_customers')\n",
    "    #new_customers_per_month = data.drop_duplicates('client_id').groupby('month').size().reset_index(name='new_customers')\n",
    "\n",
    "    # Найдем общее количество клиентов для каждого месяца\n",
    "    total_customers_per_month = data.groupby('month')['client_id'].nunique().reset_index(name='total_customers')\n",
    "\n",
    "    # Объединим данные по новым и общим клиентам\n",
    "    customers_data = pd.merge(total_customers_per_month, new_customers_per_month, on='month')\n",
    "\n",
    "    sns.set_color_codes(\"pastel\")\n",
    "    sns.barplot(x='month', y='new_customers', data=customers_data, label='Новые покупатели', color='b', alpha=0.7, ax=ax3)\n",
    "\n",
    "    sns.set_color_codes(\"muted\")\n",
    "    sns.barplot(x='month', y='total_customers', data=customers_data, label='Всего покупателей', color='b', alpha=0.7, ax=ax3)\n",
    "\n",
    "    ax3.set_title('Уникальные покупатели и новые покупатели')\n",
    "    ax3.set_xticklabels(total_sales_per_month['month'], rotation=45)\n",
    "    ax3.set_xlabel('Месяц')\n",
    "    ax3.set_ylabel('Количество покупателей')\n",
    "    ax3.legend(loc='upper left', frameon=False)\n",
    "\n",
    "    plt.tight_layout()\n",
    "    plt.subplots_adjust(wspace=0.4)  # Увеличиваем расстояние между подграфиками\n",
    "    plt.show()"
   ]
  },
  {
   "cell_type": "code",
   "execution_count": 160,
   "metadata": {},
   "outputs": [
    {
     "data": {
      "text/plain": [
       "recommended_by\n",
       "bulk_message    133104\n",
       "Name: count, dtype: int64"
      ]
     },
     "execution_count": 160,
     "metadata": {},
     "output_type": "execute_result"
    }
   ],
   "source": [
    "data_apparel_purchases['recommended_by'].value_counts()"
   ]
  },
  {
   "cell_type": "code",
   "execution_count": 161,
   "metadata": {},
   "outputs": [
    {
     "name": "stdout",
     "output_type": "stream",
     "text": [
      "(133104, 6)\n"
     ]
    },
    {
     "data": {
      "image/png": "[encoded data removed]",
      "text/plain": [
       "<Figure size 1500x500 with 3 Axes>"
      ]
     },
     "metadata": {},
     "output_type": "display_data"
    },
    {
     "data": {
      "text/plain": [
       "Timestamp('2022-10-26 00:00:00')"
      ]
     },
     "metadata": {},
     "output_type": "display_data"
    },
    {
     "data": {
      "text/plain": [
       "Timestamp('2023-10-26 00:00:00')"
      ]
     },
     "metadata": {},
     "output_type": "display_data"
    },
    {
     "data": {
      "text/html": [
       "<div>\n",
       "<style scoped>\n",
       "    .dataframe tbody tr th:only-of-type {\n",
       "        vertical-align: middle;\n",
       "    }\n",
       "\n",
       "    .dataframe tbody tr th {\n",
       "        vertical-align: top;\n",
       "    }\n",
       "\n",
       "    .dataframe thead th {\n",
       "        text-align: right;\n",
       "    }\n",
       "</style>\n",
       "<table border=\"1\" class=\"dataframe\">\n",
       "  <thead>\n",
       "    <tr style=\"text-align: right;\">\n",
       "      <th></th>\n",
       "      <th>client_id</th>\n",
       "      <th>quantity</th>\n",
       "      <th>price</th>\n",
       "      <th>date</th>\n",
       "      <th>message_id</th>\n",
       "      <th>recommended_by</th>\n",
       "      <th>month</th>\n",
       "    </tr>\n",
       "  </thead>\n",
       "  <tbody>\n",
       "    <tr>\n",
       "      <th>0</th>\n",
       "      <td>1515915625468068833</td>\n",
       "      <td>1</td>\n",
       "      <td>3499.0</td>\n",
       "      <td>2023-09-08</td>\n",
       "      <td>1515915625468068833-13781-64fad81bece56</td>\n",
       "      <td>bulk_message</td>\n",
       "      <td>2023-09</td>\n",
       "    </tr>\n",
       "  </tbody>\n",
       "</table>\n",
       "</div>"
      ],
      "text/plain": [
       "             client_id  quantity   price       date  \\\n",
       "0  1515915625468068833         1  3499.0 2023-09-08   \n",
       "\n",
       "                                message_id recommended_by    month  \n",
       "0  1515915625468068833-13781-64fad81bece56   bulk_message  2023-09  "
      ]
     },
     "execution_count": 161,
     "metadata": {},
     "output_type": "execute_result"
    }
   ],
   "source": [
    "print(data_apparel_purchases.shape)\n",
    "plot_sales_statistics(data_apparel_purchases)\n",
    "display(data_apparel_purchases['date'].min(), data_apparel_purchases['date'].max())\n",
    "data_apparel_purchases.head(1)"
   ]
  },
  {
   "cell_type": "code",
   "execution_count": 162,
   "metadata": {},
   "outputs": [
    {
     "name": "stdout",
     "output_type": "stream",
     "text": [
      "(811, 6)\n"
     ]
    },
    {
     "data": {
      "image/png": "[encoded data removed]",
      "text/plain": [
       "<Figure size 1500x500 with 3 Axes>"
      ]
     },
     "metadata": {},
     "output_type": "display_data"
    },
    {
     "data": {
      "text/plain": [
       "Timestamp('2022-10-26 00:00:00')"
      ]
     },
     "metadata": {},
     "output_type": "display_data"
    },
    {
     "data": {
      "text/plain": [
       "Timestamp('2023-10-24 00:00:00')"
      ]
     },
     "metadata": {},
     "output_type": "display_data"
    },
    {
     "data": {
      "text/html": [
       "<div>\n",
       "<style scoped>\n",
       "    .dataframe tbody tr th:only-of-type {\n",
       "        vertical-align: middle;\n",
       "    }\n",
       "\n",
       "    .dataframe tbody tr th {\n",
       "        vertical-align: top;\n",
       "    }\n",
       "\n",
       "    .dataframe thead th {\n",
       "        text-align: right;\n",
       "    }\n",
       "</style>\n",
       "<table border=\"1\" class=\"dataframe\">\n",
       "  <thead>\n",
       "    <tr style=\"text-align: right;\">\n",
       "      <th></th>\n",
       "      <th>client_id</th>\n",
       "      <th>quantity</th>\n",
       "      <th>price</th>\n",
       "      <th>date</th>\n",
       "      <th>message_id</th>\n",
       "      <th>recommended_by</th>\n",
       "      <th>month</th>\n",
       "    </tr>\n",
       "  </thead>\n",
       "  <tbody>\n",
       "    <tr>\n",
       "      <th>0</th>\n",
       "      <td>1515915625803894158</td>\n",
       "      <td>1</td>\n",
       "      <td>8943.0</td>\n",
       "      <td>2023-10-11</td>\n",
       "      <td>1515915625935652010-16166-6525589bca68f</td>\n",
       "      <td>bulk_message</td>\n",
       "      <td>2023-10</td>\n",
       "    </tr>\n",
       "  </tbody>\n",
       "</table>\n",
       "</div>"
      ],
      "text/plain": [
       "             client_id  quantity   price       date  \\\n",
       "0  1515915625803894158         1  8943.0 2023-10-11   \n",
       "\n",
       "                                message_id recommended_by    month  \n",
       "0  1515915625935652010-16166-6525589bca68f   bulk_message  2023-10  "
      ]
     },
     "execution_count": 162,
     "metadata": {},
     "output_type": "execute_result"
    }
   ],
   "source": [
    "print(data_gifts_purchases.shape)\n",
    "plot_sales_statistics(data_gifts_purchases)\n",
    "display(data_gifts_purchases['date'].min(), data_gifts_purchases['date'].max())\n",
    "data_gifts_purchases.head(1)"
   ]
  },
  {
   "cell_type": "code",
   "execution_count": 163,
   "metadata": {},
   "outputs": [
    {
     "name": "stdout",
     "output_type": "stream",
     "text": [
      "(48182, 6)\n"
     ]
    },
    {
     "data": {
      "image/png": "[encoded data removed]",
      "text/plain": [
       "<Figure size 1500x500 with 3 Axes>"
      ]
     },
     "metadata": {},
     "output_type": "display_data"
    },
    {
     "data": {
      "text/plain": [
       "Timestamp('2022-10-26 08:35:46')"
      ]
     },
     "metadata": {},
     "output_type": "display_data"
    },
    {
     "data": {
      "text/plain": [
       "Timestamp('2023-10-26 13:34:11')"
      ]
     },
     "metadata": {},
     "output_type": "display_data"
    },
    {
     "data": {
      "text/html": [
       "<div>\n",
       "<style scoped>\n",
       "    .dataframe tbody tr th:only-of-type {\n",
       "        vertical-align: middle;\n",
       "    }\n",
       "\n",
       "    .dataframe tbody tr th {\n",
       "        vertical-align: top;\n",
       "    }\n",
       "\n",
       "    .dataframe thead th {\n",
       "        text-align: right;\n",
       "    }\n",
       "</style>\n",
       "<table border=\"1\" class=\"dataframe\">\n",
       "  <thead>\n",
       "    <tr style=\"text-align: right;\">\n",
       "      <th></th>\n",
       "      <th>client_id</th>\n",
       "      <th>quantity</th>\n",
       "      <th>price</th>\n",
       "      <th>message_id</th>\n",
       "      <th>created_at</th>\n",
       "      <th>date</th>\n",
       "      <th>month</th>\n",
       "    </tr>\n",
       "  </thead>\n",
       "  <tbody>\n",
       "    <tr>\n",
       "      <th>0</th>\n",
       "      <td>1515915625440944408</td>\n",
       "      <td>1</td>\n",
       "      <td>6298.0</td>\n",
       "      <td>1515915625440944408-1752-6450b79616277</td>\n",
       "      <td>2023-05-02</td>\n",
       "      <td>2023-05-02 08:49:57</td>\n",
       "      <td>2023-05</td>\n",
       "    </tr>\n",
       "  </tbody>\n",
       "</table>\n",
       "</div>"
      ],
      "text/plain": [
       "             client_id  quantity   price  \\\n",
       "0  1515915625440944408         1  6298.0   \n",
       "\n",
       "                               message_id  created_at                date  \\\n",
       "0  1515915625440944408-1752-6450b79616277  2023-05-02 2023-05-02 08:49:57   \n",
       "\n",
       "     month  \n",
       "0  2023-05  "
      ]
     },
     "execution_count": 163,
     "metadata": {},
     "output_type": "execute_result"
    }
   ],
   "source": [
    "print(data_marketplace_purchases.shape)\n",
    "plot_sales_statistics(data_marketplace_purchases)\n",
    "display(data_marketplace_purchases['date'].min(), data_marketplace_purchases['date'].max())\n",
    "data_marketplace_purchases.head(1)"
   ]
  },
  {
   "cell_type": "code",
   "execution_count": 164,
   "metadata": {},
   "outputs": [],
   "source": [
    "# data_marketplace_purchases['date'] = data_marketplace_purchases['date'].dt.date"
   ]
  },
  {
   "cell_type": "code",
   "execution_count": 165,
   "metadata": {},
   "outputs": [],
   "source": [
    "# # Удаление столбцов 'date' и 'created_at'\n",
    "# data_marketplace_purchases = data_marketplace_purchases.drop(['created_at'], axis=1)"
   ]
  },
  {
   "cell_type": "code",
   "execution_count": 166,
   "metadata": {},
   "outputs": [],
   "source": [
    "# Объединим таблицы и добавим колонку категории магазина.\n",
    "\n",
    "data_apparel_purchases['store_category_id'] = 1\n",
    "data_marketplace_purchases['store_category_id'] = 2\n",
    "data_gifts_purchases['store_category_id'] = 3\n",
    "\n",
    "# Объединение таблиц\n",
    "combined_data = pd.concat([data_apparel_purchases, data_marketplace_purchases, data_gifts_purchases], ignore_index=True).copy()"
   ]
  },
  {
   "cell_type": "code",
   "execution_count": 167,
   "metadata": {},
   "outputs": [
    {
     "name": "stdout",
     "output_type": "stream",
     "text": [
      "(182097, 9)\n"
     ]
    },
    {
     "data": {
      "image/png": "[encoded data removed]",
      "text/plain": [
       "<Figure size 1500x500 with 3 Axes>"
      ]
     },
     "metadata": {},
     "output_type": "display_data"
    },
    {
     "data": {
      "text/html": [
       "<div>\n",
       "<style scoped>\n",
       "    .dataframe tbody tr th:only-of-type {\n",
       "        vertical-align: middle;\n",
       "    }\n",
       "\n",
       "    .dataframe tbody tr th {\n",
       "        vertical-align: top;\n",
       "    }\n",
       "\n",
       "    .dataframe thead th {\n",
       "        text-align: right;\n",
       "    }\n",
       "</style>\n",
       "<table border=\"1\" class=\"dataframe\">\n",
       "  <thead>\n",
       "    <tr style=\"text-align: right;\">\n",
       "      <th></th>\n",
       "      <th>client_id</th>\n",
       "      <th>quantity</th>\n",
       "      <th>price</th>\n",
       "      <th>date</th>\n",
       "      <th>message_id</th>\n",
       "      <th>recommended_by</th>\n",
       "      <th>month</th>\n",
       "      <th>store_category_id</th>\n",
       "      <th>created_at</th>\n",
       "    </tr>\n",
       "  </thead>\n",
       "  <tbody>\n",
       "    <tr>\n",
       "      <th>0</th>\n",
       "      <td>1515915625468068833</td>\n",
       "      <td>1</td>\n",
       "      <td>3499.0</td>\n",
       "      <td>2023-09-08</td>\n",
       "      <td>1515915625468068833-13781-64fad81bece56</td>\n",
       "      <td>bulk_message</td>\n",
       "      <td>2023-09</td>\n",
       "      <td>1</td>\n",
       "      <td>NaN</td>\n",
       "    </tr>\n",
       "  </tbody>\n",
       "</table>\n",
       "</div>"
      ],
      "text/plain": [
       "             client_id  quantity   price       date  \\\n",
       "0  1515915625468068833         1  3499.0 2023-09-08   \n",
       "\n",
       "                                message_id recommended_by    month  \\\n",
       "0  1515915625468068833-13781-64fad81bece56   bulk_message  2023-09   \n",
       "\n",
       "   store_category_id created_at  \n",
       "0                  1        NaN  "
      ]
     },
     "execution_count": 167,
     "metadata": {},
     "output_type": "execute_result"
    }
   ],
   "source": [
    "print(combined_data.shape)\n",
    "plot_sales_statistics(combined_data)\n",
    "combined_data.head(1)"
   ]
  },
  {
   "cell_type": "code",
   "execution_count": 168,
   "metadata": {},
   "outputs": [
    {
     "data": {
      "text/plain": [
       "<bound method Series.sum of message_id\n",
       "1515915625489095763-6251-6311b13a4cf78     271\n",
       "1515915625624308268-7803-636dfea7ca890     218\n",
       "1515915625557752721-1909-64942a0b0e7f5     180\n",
       "1515915625880116527-8725-639b2f0ad5e2e     160\n",
       "1515915625607113301-13818-650a8af70fd67    148\n",
       "                                          ... \n",
       "1515915625536120644-1985-64b8c802294a5       1\n",
       "1515915625685286173-8033-637dbe2e0c234       1\n",
       "1515915625536533267-1965-64abd0808d6c9       1\n",
       "1515915625536556344-1964-64a54c3f45b1f       1\n",
       "1515915625524007589-2141-651bad036f2f8       1\n",
       "Name: count, Length: 46708, dtype: int64>"
      ]
     },
     "execution_count": 168,
     "metadata": {},
     "output_type": "execute_result"
    }
   ],
   "source": [
    "combined_data['message_id'].value_counts().sum"
   ]
  },
  {
   "cell_type": "markdown",
   "metadata": {},
   "source": [
    "Стоит учитывать признак message_id в модели, так как он имеет много уникальных значений с разной частотой в данных. Это может помочь модели выявить скрытые паттерны и лучше предсказывать результаты. \n",
    "Закодируем message_id в числовой формат     \n"
   ]
  },
  {
   "cell_type": "code",
   "execution_count": 169,
   "metadata": {},
   "outputs": [],
   "source": [
    "# Кодирование message_id в числовой формат\n",
    "encoder = LabelEncoder()\n",
    "combined_data['message_id_encoded'] = encoder.fit_transform(combined_data['message_id'])\n",
    "\n",
    "# Удаление исходного столбца message_id\n",
    "combined_data.drop('message_id', axis=1, inplace=True)"
   ]
  },
  {
   "cell_type": "code",
   "execution_count": 170,
   "metadata": {},
   "outputs": [
    {
     "data": {
      "text/plain": [
       "recommended_by\n",
       "bulk_message    133915\n",
       "Name: count, dtype: int64"
      ]
     },
     "execution_count": 170,
     "metadata": {},
     "output_type": "execute_result"
    }
   ],
   "source": [
    "combined_data['recommended_by'].value_counts()"
   ]
  },
  {
   "cell_type": "code",
   "execution_count": 171,
   "metadata": {},
   "outputs": [],
   "source": [
    "# recommended_by не несет смысла, drop\n",
    "combined_data = combined_data.drop(columns=['recommended_by','month'])"
   ]
  },
  {
   "cell_type": "code",
   "execution_count": 172,
   "metadata": {},
   "outputs": [
    {
     "data": {
      "text/html": [
       "<div>\n",
       "<style scoped>\n",
       "    .dataframe tbody tr th:only-of-type {\n",
       "        vertical-align: middle;\n",
       "    }\n",
       "\n",
       "    .dataframe tbody tr th {\n",
       "        vertical-align: top;\n",
       "    }\n",
       "\n",
       "    .dataframe thead th {\n",
       "        text-align: right;\n",
       "    }\n",
       "</style>\n",
       "<table border=\"1\" class=\"dataframe\">\n",
       "  <thead>\n",
       "    <tr style=\"text-align: right;\">\n",
       "      <th></th>\n",
       "      <th>client_id</th>\n",
       "      <th>quantity</th>\n",
       "      <th>price</th>\n",
       "      <th>date</th>\n",
       "      <th>store_category_id</th>\n",
       "      <th>created_at</th>\n",
       "      <th>message_id_encoded</th>\n",
       "    </tr>\n",
       "  </thead>\n",
       "  <tbody>\n",
       "    <tr>\n",
       "      <th>1</th>\n",
       "      <td>1515915625468068833</td>\n",
       "      <td>1</td>\n",
       "      <td>3499.0</td>\n",
       "      <td>2023-09-08</td>\n",
       "      <td>1</td>\n",
       "      <td>NaN</td>\n",
       "      <td>1363</td>\n",
       "    </tr>\n",
       "    <tr>\n",
       "      <th>2</th>\n",
       "      <td>1515915625468068833</td>\n",
       "      <td>1</td>\n",
       "      <td>3499.0</td>\n",
       "      <td>2023-09-08</td>\n",
       "      <td>1</td>\n",
       "      <td>NaN</td>\n",
       "      <td>1363</td>\n",
       "    </tr>\n",
       "    <tr>\n",
       "      <th>4</th>\n",
       "      <td>1515915625468068833</td>\n",
       "      <td>1</td>\n",
       "      <td>2450.0</td>\n",
       "      <td>2023-09-08</td>\n",
       "      <td>1</td>\n",
       "      <td>NaN</td>\n",
       "      <td>1363</td>\n",
       "    </tr>\n",
       "    <tr>\n",
       "      <th>5</th>\n",
       "      <td>1515915625468068833</td>\n",
       "      <td>1</td>\n",
       "      <td>2450.0</td>\n",
       "      <td>2023-09-08</td>\n",
       "      <td>1</td>\n",
       "      <td>NaN</td>\n",
       "      <td>1363</td>\n",
       "    </tr>\n",
       "    <tr>\n",
       "      <th>10</th>\n",
       "      <td>1515915625468079941</td>\n",
       "      <td>1</td>\n",
       "      <td>1499.0</td>\n",
       "      <td>2023-09-01</td>\n",
       "      <td>1</td>\n",
       "      <td>NaN</td>\n",
       "      <td>1474</td>\n",
       "    </tr>\n",
       "    <tr>\n",
       "      <th>...</th>\n",
       "      <td>...</td>\n",
       "      <td>...</td>\n",
       "      <td>...</td>\n",
       "      <td>...</td>\n",
       "      <td>...</td>\n",
       "      <td>...</td>\n",
       "      <td>...</td>\n",
       "    </tr>\n",
       "    <tr>\n",
       "      <th>182079</th>\n",
       "      <td>1515915625862783809</td>\n",
       "      <td>1</td>\n",
       "      <td>5194.0</td>\n",
       "      <td>2022-11-08</td>\n",
       "      <td>3</td>\n",
       "      <td>NaN</td>\n",
       "      <td>44023</td>\n",
       "    </tr>\n",
       "    <tr>\n",
       "      <th>182080</th>\n",
       "      <td>1515915625862783809</td>\n",
       "      <td>1</td>\n",
       "      <td>5194.0</td>\n",
       "      <td>2022-11-08</td>\n",
       "      <td>3</td>\n",
       "      <td>NaN</td>\n",
       "      <td>44023</td>\n",
       "    </tr>\n",
       "    <tr>\n",
       "      <th>182081</th>\n",
       "      <td>1515915625862783809</td>\n",
       "      <td>1</td>\n",
       "      <td>5194.0</td>\n",
       "      <td>2022-11-08</td>\n",
       "      <td>3</td>\n",
       "      <td>NaN</td>\n",
       "      <td>44023</td>\n",
       "    </tr>\n",
       "    <tr>\n",
       "      <th>182084</th>\n",
       "      <td>1515915625864817073</td>\n",
       "      <td>1</td>\n",
       "      <td>1893.0</td>\n",
       "      <td>2022-11-11</td>\n",
       "      <td>3</td>\n",
       "      <td>NaN</td>\n",
       "      <td>44106</td>\n",
       "    </tr>\n",
       "    <tr>\n",
       "      <th>182094</th>\n",
       "      <td>1515915625873498326</td>\n",
       "      <td>1</td>\n",
       "      <td>3035.0</td>\n",
       "      <td>2022-11-23</td>\n",
       "      <td>3</td>\n",
       "      <td>NaN</td>\n",
       "      <td>44267</td>\n",
       "    </tr>\n",
       "  </tbody>\n",
       "</table>\n",
       "<p>61465 rows × 7 columns</p>\n",
       "</div>"
      ],
      "text/plain": [
       "                  client_id  quantity   price       date  store_category_id  \\\n",
       "1       1515915625468068833         1  3499.0 2023-09-08                  1   \n",
       "2       1515915625468068833         1  3499.0 2023-09-08                  1   \n",
       "4       1515915625468068833         1  2450.0 2023-09-08                  1   \n",
       "5       1515915625468068833         1  2450.0 2023-09-08                  1   \n",
       "10      1515915625468079941         1  1499.0 2023-09-01                  1   \n",
       "...                     ...       ...     ...        ...                ...   \n",
       "182079  1515915625862783809         1  5194.0 2022-11-08                  3   \n",
       "182080  1515915625862783809         1  5194.0 2022-11-08                  3   \n",
       "182081  1515915625862783809         1  5194.0 2022-11-08                  3   \n",
       "182084  1515915625864817073         1  1893.0 2022-11-11                  3   \n",
       "182094  1515915625873498326         1  3035.0 2022-11-23                  3   \n",
       "\n",
       "       created_at  message_id_encoded  \n",
       "1             NaN                1363  \n",
       "2             NaN                1363  \n",
       "4             NaN                1363  \n",
       "5             NaN                1363  \n",
       "10            NaN                1474  \n",
       "...           ...                 ...  \n",
       "182079        NaN               44023  \n",
       "182080        NaN               44023  \n",
       "182081        NaN               44023  \n",
       "182084        NaN               44106  \n",
       "182094        NaN               44267  \n",
       "\n",
       "[61465 rows x 7 columns]"
      ]
     },
     "execution_count": 172,
     "metadata": {},
     "output_type": "execute_result"
    }
   ],
   "source": [
    "combined_data[combined_data.duplicated()]"
   ]
  },
  {
   "cell_type": "markdown",
   "metadata": {},
   "source": [
    "Будем считать, что дубликаты это множественные заказы или различные товары в один день.     \n",
    "Агрегируем - объединим данные для дубликатов, суммируем количество и цену товаров. "
   ]
  },
  {
   "cell_type": "markdown",
   "metadata": {},
   "source": [
    "### Модель времянного ряда"
   ]
  },
  {
   "cell_type": "code",
   "execution_count": 173,
   "metadata": {},
   "outputs": [
    {
     "data": {
      "text/plain": [
       "(65576, 6)"
      ]
     },
     "execution_count": 173,
     "metadata": {},
     "output_type": "execute_result"
    }
   ],
   "source": [
    "data_grouped = combined_data.groupby(['client_id', 'date', 'store_category_id']).agg({'quantity': 'sum', 'price': 'sum', 'message_id_encoded': 'first'}).reset_index()\n",
    "data_grouped.shape"
   ]
  },
  {
   "cell_type": "code",
   "execution_count": 174,
   "metadata": {},
   "outputs": [
    {
     "data": {
      "text/html": [
       "<div>\n",
       "<style scoped>\n",
       "    .dataframe tbody tr th:only-of-type {\n",
       "        vertical-align: middle;\n",
       "    }\n",
       "\n",
       "    .dataframe tbody tr th {\n",
       "        vertical-align: top;\n",
       "    }\n",
       "\n",
       "    .dataframe thead th {\n",
       "        text-align: right;\n",
       "    }\n",
       "</style>\n",
       "<table border=\"1\" class=\"dataframe\">\n",
       "  <thead>\n",
       "    <tr style=\"text-align: right;\">\n",
       "      <th></th>\n",
       "      <th>client_id</th>\n",
       "      <th>date</th>\n",
       "      <th>store_category_id</th>\n",
       "      <th>quantity</th>\n",
       "      <th>price</th>\n",
       "      <th>message_id_encoded</th>\n",
       "    </tr>\n",
       "  </thead>\n",
       "  <tbody>\n",
       "    <tr>\n",
       "      <th>0</th>\n",
       "      <td>1515915625440099873</td>\n",
       "      <td>2023-07-16 08:25:31</td>\n",
       "      <td>2</td>\n",
       "      <td>1</td>\n",
       "      <td>31998.0</td>\n",
       "      <td>0</td>\n",
       "    </tr>\n",
       "    <tr>\n",
       "      <th>1</th>\n",
       "      <td>1515915625440099873</td>\n",
       "      <td>2023-08-09 08:59:08</td>\n",
       "      <td>2</td>\n",
       "      <td>1</td>\n",
       "      <td>1218.0</td>\n",
       "      <td>1</td>\n",
       "    </tr>\n",
       "    <tr>\n",
       "      <th>2</th>\n",
       "      <td>1515915625440939402</td>\n",
       "      <td>2023-01-30 13:13:37</td>\n",
       "      <td>2</td>\n",
       "      <td>1</td>\n",
       "      <td>75998.0</td>\n",
       "      <td>2</td>\n",
       "    </tr>\n",
       "    <tr>\n",
       "      <th>3</th>\n",
       "      <td>1515915625440944408</td>\n",
       "      <td>2023-03-01 10:21:12</td>\n",
       "      <td>2</td>\n",
       "      <td>1</td>\n",
       "      <td>882.0</td>\n",
       "      <td>3</td>\n",
       "    </tr>\n",
       "    <tr>\n",
       "      <th>4</th>\n",
       "      <td>1515915625440944408</td>\n",
       "      <td>2023-05-02 08:49:57</td>\n",
       "      <td>2</td>\n",
       "      <td>1</td>\n",
       "      <td>6298.0</td>\n",
       "      <td>4</td>\n",
       "    </tr>\n",
       "    <tr>\n",
       "      <th>...</th>\n",
       "      <td>...</td>\n",
       "      <td>...</td>\n",
       "      <td>...</td>\n",
       "      <td>...</td>\n",
       "      <td>...</td>\n",
       "      <td>...</td>\n",
       "    </tr>\n",
       "    <tr>\n",
       "      <th>65571</th>\n",
       "      <td>1515915626005014483</td>\n",
       "      <td>2023-09-13 00:00:00</td>\n",
       "      <td>3</td>\n",
       "      <td>1</td>\n",
       "      <td>7534.0</td>\n",
       "      <td>45265</td>\n",
       "    </tr>\n",
       "    <tr>\n",
       "      <th>65572</th>\n",
       "      <td>1515915626010039507</td>\n",
       "      <td>2023-10-02 00:00:00</td>\n",
       "      <td>3</td>\n",
       "      <td>2</td>\n",
       "      <td>26039.0</td>\n",
       "      <td>46706</td>\n",
       "    </tr>\n",
       "    <tr>\n",
       "      <th>65573</th>\n",
       "      <td>1515915626011484905</td>\n",
       "      <td>2023-10-13 00:00:00</td>\n",
       "      <td>3</td>\n",
       "      <td>5</td>\n",
       "      <td>32913.0</td>\n",
       "      <td>46707</td>\n",
       "    </tr>\n",
       "    <tr>\n",
       "      <th>65574</th>\n",
       "      <td>1515915626012131867</td>\n",
       "      <td>2023-09-12 00:00:00</td>\n",
       "      <td>3</td>\n",
       "      <td>1</td>\n",
       "      <td>25834.0</td>\n",
       "      <td>43719</td>\n",
       "    </tr>\n",
       "    <tr>\n",
       "      <th>65575</th>\n",
       "      <td>1515915626013602677</td>\n",
       "      <td>2023-10-11 00:00:00</td>\n",
       "      <td>3</td>\n",
       "      <td>3</td>\n",
       "      <td>111535.0</td>\n",
       "      <td>45374</td>\n",
       "    </tr>\n",
       "  </tbody>\n",
       "</table>\n",
       "<p>65576 rows × 6 columns</p>\n",
       "</div>"
      ],
      "text/plain": [
       "                 client_id                date  store_category_id  quantity  \\\n",
       "0      1515915625440099873 2023-07-16 08:25:31                  2         1   \n",
       "1      1515915625440099873 2023-08-09 08:59:08                  2         1   \n",
       "2      1515915625440939402 2023-01-30 13:13:37                  2         1   \n",
       "3      1515915625440944408 2023-03-01 10:21:12                  2         1   \n",
       "4      1515915625440944408 2023-05-02 08:49:57                  2         1   \n",
       "...                    ...                 ...                ...       ...   \n",
       "65571  1515915626005014483 2023-09-13 00:00:00                  3         1   \n",
       "65572  1515915626010039507 2023-10-02 00:00:00                  3         2   \n",
       "65573  1515915626011484905 2023-10-13 00:00:00                  3         5   \n",
       "65574  1515915626012131867 2023-09-12 00:00:00                  3         1   \n",
       "65575  1515915626013602677 2023-10-11 00:00:00                  3         3   \n",
       "\n",
       "          price  message_id_encoded  \n",
       "0       31998.0                   0  \n",
       "1        1218.0                   1  \n",
       "2       75998.0                   2  \n",
       "3         882.0                   3  \n",
       "4        6298.0                   4  \n",
       "...         ...                 ...  \n",
       "65571    7534.0               45265  \n",
       "65572   26039.0               46706  \n",
       "65573   32913.0               46707  \n",
       "65574   25834.0               43719  \n",
       "65575  111535.0               45374  \n",
       "\n",
       "[65576 rows x 6 columns]"
      ]
     },
     "execution_count": 174,
     "metadata": {},
     "output_type": "execute_result"
    }
   ],
   "source": [
    "data_grouped"
   ]
  },
  {
   "cell_type": "code",
   "execution_count": 175,
   "metadata": {},
   "outputs": [],
   "source": [
    "# Сортировка данных по клиенту и дате\n",
    "data_grouped = data_grouped.sort_values(['client_id', 'date'])"
   ]
  },
  {
   "cell_type": "markdown",
   "metadata": {},
   "source": [
    "Создадим временные признаки, например, RFM (Recency, Frequency, Monetary) нарастающим итогом:"
   ]
  },
  {
   "cell_type": "code",
   "execution_count": 176,
   "metadata": {},
   "outputs": [],
   "source": [
    "# Рассчитаем RFM нарастающим итогом\n",
    "data_grouped['monetary'] = data_grouped.groupby('client_id')['price'].cumsum()\n",
    "data_grouped['recency'] = data_grouped.groupby('client_id')['date'].diff().dt.days.fillna(999).astype(int)\n",
    "data_grouped['frequency'] = data_grouped.groupby('client_id')['date'].cumcount() + 1"
   ]
  },
  {
   "cell_type": "markdown",
   "metadata": {},
   "source": [
    "Рассчитаем разницу в датах для каждого клиента и получим количество дней до следующей покупки с помощью сдвига:"
   ]
  },
  {
   "cell_type": "code",
   "execution_count": 177,
   "metadata": {},
   "outputs": [],
   "source": [
    "# data_grouped['days_to_next_purchase'] = data_grouped.groupby('client_id')['date'].diff().dt.days\n",
    "data_grouped['days_to_next_purchase'] = -data_grouped.sort_values('date', ascending=False).groupby('client_id')['date'].diff().dt.days"
   ]
  },
  {
   "cell_type": "markdown",
   "metadata": {},
   "source": [
    "Создадим целевую переменную, где 1 означает повторную покупку в течение 30 дней после заказа:"
   ]
  },
  {
   "cell_type": "code",
   "execution_count": 178,
   "metadata": {},
   "outputs": [],
   "source": [
    "data_grouped['target'] = (data_grouped['days_to_next_purchase'] <= 30).astype(int)"
   ]
  },
  {
   "cell_type": "code",
   "execution_count": 179,
   "metadata": {},
   "outputs": [],
   "source": [
    "data_grouped = data_grouped.sort_values(['date'])"
   ]
  },
  {
   "cell_type": "code",
   "execution_count": 180,
   "metadata": {},
   "outputs": [],
   "source": [
    "# Найдем дату, на которую нужно удалить последние 30 дней\n",
    "date_to_exclude = data_grouped['date'].max() - pd.Timedelta(days=30)\n",
    "\n",
    "# Удалим данные за последние 30 дней\n",
    "data_grouped = data_grouped[data_grouped['date'] < date_to_exclude]"
   ]
  },
  {
   "cell_type": "code",
   "execution_count": 181,
   "metadata": {},
   "outputs": [
    {
     "data": {
      "text/plain": [
       "frequency\n",
       "1      44678\n",
       "2       8305\n",
       "3       3016\n",
       "4       1461\n",
       "5        858\n",
       "       ...  \n",
       "120        1\n",
       "121        1\n",
       "122        1\n",
       "123        1\n",
       "144        1\n",
       "Name: count, Length: 144, dtype: int64"
      ]
     },
     "execution_count": 181,
     "metadata": {},
     "output_type": "execute_result"
    }
   ],
   "source": [
    "data_grouped['frequency'].value_counts()"
   ]
  },
  {
   "cell_type": "code",
   "execution_count": 182,
   "metadata": {},
   "outputs": [],
   "source": [
    "# Скопировать data_grouped в features_time_s\n",
    "features_time_s = data_grouped.copy()\n",
    "\n",
    "# Создание признаков \"день месяца\", \"день недели\", \"неделя месяца\" и \"является ли день выходным\"\n",
    "features_time_s['total_price'] = features_time_s['price'] * features_time_s['quantity']\n",
    "features_time_s['day_of_month'] = features_time_s['date'].dt.day\n",
    "features_time_s['day_of_week'] = features_time_s['date'].dt.dayofweek\n",
    "features_time_s['month'] = features_time_s['date'].dt.month\n",
    "features_time_s['week_of_year'] = features_time_s['date'].dt.isocalendar().week\n",
    "features_time_s['week_of_month'] = features_time_s['date'].apply(lambda x: (x.day - 1) // 7 + 1)\n",
    "features_time_s['is_weekend'] = features_time_s['day_of_week'].isin([5, 6]).astype(int)\n",
    "features_time_s['is_holiday'] = features_time_s['date'].isin(is_holiday_22_23).astype(int)\n",
    "\n",
    "# Создаем список дат на следующие 30 дней от каждой даты в features_time_s\n",
    "date_ranges = [pd.date_range(date, periods=30) for date in features_time_s['date']]\n",
    "# Создаем новый признак 'holidays_next_30_days'\n",
    "features_time_s['holidays_next_30_days'] = [sum(1 for holiday in is_holiday_22_23 if holiday in date_range) for date_range in date_ranges]"
   ]
  },
  {
   "cell_type": "code",
   "execution_count": 183,
   "metadata": {},
   "outputs": [
    {
     "data": {
      "text/html": [
       "<div>\n",
       "<style scoped>\n",
       "    .dataframe tbody tr th:only-of-type {\n",
       "        vertical-align: middle;\n",
       "    }\n",
       "\n",
       "    .dataframe tbody tr th {\n",
       "        vertical-align: top;\n",
       "    }\n",
       "\n",
       "    .dataframe thead th {\n",
       "        text-align: right;\n",
       "    }\n",
       "</style>\n",
       "<table border=\"1\" class=\"dataframe\">\n",
       "  <thead>\n",
       "    <tr style=\"text-align: right;\">\n",
       "      <th></th>\n",
       "      <th>client_id</th>\n",
       "      <th>store_category_id</th>\n",
       "      <th>quantity</th>\n",
       "      <th>price</th>\n",
       "      <th>message_id_encoded</th>\n",
       "      <th>monetary</th>\n",
       "      <th>recency</th>\n",
       "      <th>frequency</th>\n",
       "      <th>days_to_next_purchase</th>\n",
       "      <th>target</th>\n",
       "      <th>total_price</th>\n",
       "      <th>day_of_month</th>\n",
       "      <th>day_of_week</th>\n",
       "      <th>month</th>\n",
       "      <th>week_of_year</th>\n",
       "      <th>week_of_month</th>\n",
       "      <th>is_weekend</th>\n",
       "      <th>is_holiday</th>\n",
       "      <th>holidays_next_30_days</th>\n",
       "    </tr>\n",
       "  </thead>\n",
       "  <tbody>\n",
       "    <tr>\n",
       "      <th>2022-10-26</th>\n",
       "      <td>1515915625587818098</td>\n",
       "      <td>1</td>\n",
       "      <td>2</td>\n",
       "      <td>17998.0</td>\n",
       "      <td>9575</td>\n",
       "      <td>17998.0</td>\n",
       "      <td>999</td>\n",
       "      <td>1</td>\n",
       "      <td>NaN</td>\n",
       "      <td>0</td>\n",
       "      <td>35996.0</td>\n",
       "      <td>26</td>\n",
       "      <td>2</td>\n",
       "      <td>10</td>\n",
       "      <td>43</td>\n",
       "      <td>4</td>\n",
       "      <td>0</td>\n",
       "      <td>0</td>\n",
       "      <td>1</td>\n",
       "    </tr>\n",
       "    <tr>\n",
       "      <th>2022-10-26</th>\n",
       "      <td>1515915625588327029</td>\n",
       "      <td>1</td>\n",
       "      <td>1</td>\n",
       "      <td>2499.0</td>\n",
       "      <td>37963</td>\n",
       "      <td>2499.0</td>\n",
       "      <td>999</td>\n",
       "      <td>1</td>\n",
       "      <td>NaN</td>\n",
       "      <td>0</td>\n",
       "      <td>2499.0</td>\n",
       "      <td>26</td>\n",
       "      <td>2</td>\n",
       "      <td>10</td>\n",
       "      <td>43</td>\n",
       "      <td>4</td>\n",
       "      <td>0</td>\n",
       "      <td>0</td>\n",
       "      <td>1</td>\n",
       "    </tr>\n",
       "    <tr>\n",
       "      <th>2022-10-26</th>\n",
       "      <td>1515915625489888679</td>\n",
       "      <td>1</td>\n",
       "      <td>3</td>\n",
       "      <td>2213.0</td>\n",
       "      <td>9134</td>\n",
       "      <td>2213.0</td>\n",
       "      <td>999</td>\n",
       "      <td>1</td>\n",
       "      <td>NaN</td>\n",
       "      <td>0</td>\n",
       "      <td>6639.0</td>\n",
       "      <td>26</td>\n",
       "      <td>2</td>\n",
       "      <td>10</td>\n",
       "      <td>43</td>\n",
       "      <td>4</td>\n",
       "      <td>0</td>\n",
       "      <td>0</td>\n",
       "      <td>1</td>\n",
       "    </tr>\n",
       "  </tbody>\n",
       "</table>\n",
       "</div>"
      ],
      "text/plain": [
       "                      client_id  store_category_id  quantity    price  \\\n",
       "2022-10-26  1515915625587818098                  1         2  17998.0   \n",
       "2022-10-26  1515915625588327029                  1         1   2499.0   \n",
       "2022-10-26  1515915625489888679                  1         3   2213.0   \n",
       "\n",
       "            message_id_encoded  monetary  recency  frequency  \\\n",
       "2022-10-26                9575   17998.0      999          1   \n",
       "2022-10-26               37963    2499.0      999          1   \n",
       "2022-10-26                9134    2213.0      999          1   \n",
       "\n",
       "            days_to_next_purchase  target  total_price  day_of_month  \\\n",
       "2022-10-26                    NaN       0      35996.0            26   \n",
       "2022-10-26                    NaN       0       2499.0            26   \n",
       "2022-10-26                    NaN       0       6639.0            26   \n",
       "\n",
       "            day_of_week  month  week_of_year  week_of_month  is_weekend  \\\n",
       "2022-10-26            2     10            43              4           0   \n",
       "2022-10-26            2     10            43              4           0   \n",
       "2022-10-26            2     10            43              4           0   \n",
       "\n",
       "            is_holiday  holidays_next_30_days  \n",
       "2022-10-26           0                      1  \n",
       "2022-10-26           0                      1  \n",
       "2022-10-26           0                      1  "
      ]
     },
     "execution_count": 183,
     "metadata": {},
     "output_type": "execute_result"
    }
   ],
   "source": [
    "features_time_s = features_time_s.set_index('date')\n",
    "# Удалить время из даты в индексе, оставить только дату\n",
    "features_time_s.index = features_time_s.index.date\n",
    "features_time_s.head(3)"
   ]
  },
  {
   "cell_type": "code",
   "execution_count": 184,
   "metadata": {},
   "outputs": [],
   "source": [
    "# Определяем целевой признак\n",
    "X = features_time_s.drop(['client_id', 'days_to_next_purchase', 'total_price', 'target'], axis=1)\n",
    "y = features_time_s['target']"
   ]
  },
  {
   "cell_type": "code",
   "execution_count": 185,
   "metadata": {},
   "outputs": [
    {
     "data": {
      "text/html": [
       "<style type=\"text/css\">\n",
       "</style>\n",
       "<table id=\"T_2e89a\">\n",
       "  <caption>Распределение классов</caption>\n",
       "  <thead>\n",
       "    <tr>\n",
       "      <th class=\"blank level0\" >&nbsp;</th>\n",
       "      <th id=\"T_2e89a_level0_col0\" class=\"col_heading level0 col0\" >count</th>\n",
       "      <th id=\"T_2e89a_level0_col1\" class=\"col_heading level0 col1\" >percentage</th>\n",
       "    </tr>\n",
       "    <tr>\n",
       "      <th class=\"index_name level0\" >target</th>\n",
       "      <th class=\"blank col0\" >&nbsp;</th>\n",
       "      <th class=\"blank col1\" >&nbsp;</th>\n",
       "    </tr>\n",
       "  </thead>\n",
       "  <tbody>\n",
       "    <tr>\n",
       "      <th id=\"T_2e89a_level0_row0\" class=\"row_heading level0 row0\" >0</th>\n",
       "      <td id=\"T_2e89a_row0_col0\" class=\"data row0 col0\" >48579</td>\n",
       "      <td id=\"T_2e89a_row0_col1\" class=\"data row0 col1\" >79.01%</td>\n",
       "    </tr>\n",
       "    <tr>\n",
       "      <th id=\"T_2e89a_level0_row1\" class=\"row_heading level0 row1\" >1</th>\n",
       "      <td id=\"T_2e89a_row1_col0\" class=\"data row1 col0\" >12908</td>\n",
       "      <td id=\"T_2e89a_row1_col1\" class=\"data row1 col1\" >20.99%</td>\n",
       "    </tr>\n",
       "  </tbody>\n",
       "</table>\n"
      ],
      "text/plain": [
       "<pandas.io.formats.style.Styler at 0x1aeb4fcb5e0>"
      ]
     },
     "metadata": {},
     "output_type": "display_data"
    },
    {
     "name": "stdout",
     "output_type": "stream",
     "text": [
      "(61487,)\n"
     ]
    }
   ],
   "source": [
    "display(features_time_s['target'].value_counts().to_frame().assign(percentage=lambda x: x/x.sum()).style.format({'percentage':'{:.2%}', 'target':'{:.0f}'}).set_caption('Распределение классов'))\n",
    "print(y.shape)"
   ]
  },
  {
   "cell_type": "code",
   "execution_count": 186,
   "metadata": {},
   "outputs": [],
   "source": [
    "# # Сетка параметров для подбора\n",
    "# grid = {'learning_rate': [0.15],\n",
    "#         'depth': [8,10],\n",
    "#         'l2_leaf_reg': [1, 2],}\n",
    "\n",
    "# # Инициализация модели CatBoost с использованием GPU\n",
    "# model = CatBoostClassifier(iterations=1000, task_type='GPU', devices='0:1', verbose=False) \n",
    "\n",
    "# # Подбор лучших параметров с помощью Grid Search\n",
    "# grid_search_result = model.grid_search(grid, X=Pool(X_train, label=y_train), plot=True)\n",
    "\n",
    "# # Получение лучших параметров\n",
    "# best_params = grid_search_result['params']\n",
    "\n",
    "# # Создание модели с лучшими параметрами и использованием GPU\n",
    "# best_model = CatBoostClassifier(iterations=1000, task_type='GPU', devices='0:1', verbose=False, **best_params)"
   ]
  },
  {
   "cell_type": "code",
   "execution_count": 187,
   "metadata": {},
   "outputs": [],
   "source": [
    "best_params = {'depth': 8,\n",
    " 'od_wait': 50,\n",
    " 'l2_leaf_reg': 1,\n",
    " 'iterations': 1000,\n",
    " 'learning_rate': 0.05}"
   ]
  },
  {
   "cell_type": "markdown",
   "metadata": {},
   "source": [
    "{'depth': 10, 'l2_leaf_reg': 2, 'learning_rate': 0.15}"
   ]
  },
  {
   "cell_type": "code",
   "execution_count": 188,
   "metadata": {},
   "outputs": [],
   "source": [
    "best_model = CatBoostClassifier(verbose=False, **best_params, random_seed=42)"
   ]
  },
  {
   "cell_type": "code",
   "execution_count": 189,
   "metadata": {},
   "outputs": [
    {
     "name": "stdout",
     "output_type": "stream",
     "text": [
      "Number of days in the dataset:  336\n"
     ]
    }
   ],
   "source": [
    "num_days = features_time_s.index.nunique()\n",
    "print(\"Number of days in the dataset: \", num_days)"
   ]
  },
  {
   "cell_type": "code",
   "execution_count": 190,
   "metadata": {},
   "outputs": [],
   "source": [
    "# Создаем объект TimeSeriesSplit\n",
    "n_splits = 11\n",
    "tscv = TimeSeriesSplit(n_splits=n_splits)\n"
   ]
  },
  {
   "cell_type": "code",
   "execution_count": 191,
   "metadata": {},
   "outputs": [
    {
     "data": {
      "image/png": "[encoded data removed]",
      "text/plain": [
       "<Figure size 1000x300 with 1 Axes>"
      ]
     },
     "metadata": {},
     "output_type": "display_data"
    }
   ],
   "source": [
    "# Визуализируем разделение на выборки\n",
    "plt.figure(figsize=(10, 3))\n",
    "for i, (train_index, test_index) in enumerate(tscv.split(features_time_s)):\n",
    "    plt.scatter(train_index, [i]*len(train_index), color='b', label='Обучающая выборка' if i==0 else \"\")\n",
    "    plt.scatter(test_index, [i]*len(test_index), color='r', label='Тестовая выборка' if i==0 else \"\")\n",
    "\n",
    "plt.xlabel('Индекс')\n",
    "plt.ylabel('Разбиение')\n",
    "plt.title('Разделение временных рядов на выборки')\n",
    "plt.legend()\n",
    "plt.show()"
   ]
  },
  {
   "cell_type": "code",
   "execution_count": 192,
   "metadata": {},
   "outputs": [
    {
     "name": "stderr",
     "output_type": "stream",
     "text": [
      "  9%|▉         | 1/11 [00:04<00:46,  4.70s/it]"
     ]
    },
    {
     "name": "stdout",
     "output_type": "stream",
     "text": [
      "Время обучения: 4.6911537647247314 секунд\n"
     ]
    },
    {
     "name": "stderr",
     "output_type": "stream",
     "text": [
      " 18%|█▊        | 2/11 [00:13<01:03,  7.01s/it]"
     ]
    },
    {
     "name": "stdout",
     "output_type": "stream",
     "text": [
      "Время обучения: 8.622242212295532 секунд\n"
     ]
    },
    {
     "name": "stderr",
     "output_type": "stream",
     "text": [
      " 27%|██▋       | 3/11 [00:22<01:05,  8.17s/it]"
     ]
    },
    {
     "name": "stdout",
     "output_type": "stream",
     "text": [
      "Время обучения: 9.553581476211548 секунд\n"
     ]
    },
    {
     "name": "stderr",
     "output_type": "stream",
     "text": [
      " 36%|███▋      | 4/11 [00:32<01:01,  8.82s/it]"
     ]
    },
    {
     "name": "stdout",
     "output_type": "stream",
     "text": [
      "Время обучения: 9.798789024353027 секунд\n"
     ]
    },
    {
     "name": "stderr",
     "output_type": "stream",
     "text": [
      " 45%|████▌     | 5/11 [00:42<00:55,  9.24s/it]"
     ]
    },
    {
     "name": "stdout",
     "output_type": "stream",
     "text": [
      "Время обучения: 9.976540803909302 секунд\n"
     ]
    },
    {
     "name": "stderr",
     "output_type": "stream",
     "text": [
      " 55%|█████▍    | 6/11 [00:53<00:48,  9.75s/it]"
     ]
    },
    {
     "name": "stdout",
     "output_type": "stream",
     "text": [
      "Время обучения: 10.740658283233643 секунд\n"
     ]
    },
    {
     "name": "stderr",
     "output_type": "stream",
     "text": [
      " 64%|██████▎   | 7/11 [01:04<00:40, 10.14s/it]"
     ]
    },
    {
     "name": "stdout",
     "output_type": "stream",
     "text": [
      "Время обучения: 10.932017087936401 секунд\n"
     ]
    },
    {
     "name": "stderr",
     "output_type": "stream",
     "text": [
      " 73%|███████▎  | 8/11 [01:15<00:31, 10.41s/it]"
     ]
    },
    {
     "name": "stdout",
     "output_type": "stream",
     "text": [
      "Время обучения: 10.996756315231323 секунд\n"
     ]
    },
    {
     "name": "stderr",
     "output_type": "stream",
     "text": [
      " 82%|████████▏ | 9/11 [01:26<00:21, 10.66s/it]"
     ]
    },
    {
     "name": "stdout",
     "output_type": "stream",
     "text": [
      "Время обучения: 11.187750101089478 секунд\n"
     ]
    },
    {
     "name": "stderr",
     "output_type": "stream",
     "text": [
      " 91%|█████████ | 10/11 [01:38<00:10, 10.92s/it]"
     ]
    },
    {
     "name": "stdout",
     "output_type": "stream",
     "text": [
      "Время обучения: 11.492672681808472 секунд\n"
     ]
    },
    {
     "name": "stderr",
     "output_type": "stream",
     "text": [
      "100%|██████████| 11/11 [01:49<00:00, 10.00s/it]"
     ]
    },
    {
     "name": "stdout",
     "output_type": "stream",
     "text": [
      "Время обучения: 11.935496807098389 секунд\n"
     ]
    },
    {
     "name": "stderr",
     "output_type": "stream",
     "text": [
      "\n"
     ]
    }
   ],
   "source": [
    "# Обучаем модель с использованием TimeSeriesSplit\n",
    "for train_index, test_index in tqdm(tscv.split(X), total=tscv.get_n_splits()):\n",
    "    X_train, X_test = X.iloc[train_index], X.iloc[test_index]\n",
    "    y_train, y_test = y.iloc[train_index], y.iloc[test_index]\n",
    "    \n",
    "    start_time = time.time()  # Замеряем время начала обучения\n",
    "    best_model.fit(X_train, y_train) \n",
    "    end_time = time.time()  # Замеряем время окончания обучения\n",
    "    \n",
    "    # Выводим время обучения текущей итерации\n",
    "    print(f\"Время обучения: {end_time - start_time} секунд\")"
   ]
  },
  {
   "cell_type": "code",
   "execution_count": 193,
   "metadata": {},
   "outputs": [
    {
     "data": {
      "image/png": "[encoded data removed]",
      "text/plain": [
       "<Figure size 640x480 with 1 Axes>"
      ]
     },
     "metadata": {},
     "output_type": "display_data"
    },
    {
     "name": "stdout",
     "output_type": "stream",
     "text": [
      "best threshold 0.284\n",
      "ROC AUC на тестовой выборке: 0.7758074349504938\n"
     ]
    },
    {
     "data": {
      "text/html": [
       "<div>\n",
       "<style scoped>\n",
       "    .dataframe tbody tr th:only-of-type {\n",
       "        vertical-align: middle;\n",
       "    }\n",
       "\n",
       "    .dataframe tbody tr th {\n",
       "        vertical-align: top;\n",
       "    }\n",
       "\n",
       "    .dataframe thead th {\n",
       "        text-align: right;\n",
       "    }\n",
       "</style>\n",
       "<table border=\"1\" class=\"dataframe\">\n",
       "  <thead>\n",
       "    <tr style=\"text-align: right;\">\n",
       "      <th></th>\n",
       "      <th>0</th>\n",
       "      <th>1</th>\n",
       "      <th>accuracy</th>\n",
       "      <th>macro avg</th>\n",
       "      <th>weighted avg</th>\n",
       "    </tr>\n",
       "  </thead>\n",
       "  <tbody>\n",
       "    <tr>\n",
       "      <th>precision</th>\n",
       "      <td>0.81</td>\n",
       "      <td>0.60</td>\n",
       "      <td>0.74</td>\n",
       "      <td>0.7</td>\n",
       "      <td>0.74</td>\n",
       "    </tr>\n",
       "    <tr>\n",
       "      <th>recall</th>\n",
       "      <td>0.81</td>\n",
       "      <td>0.58</td>\n",
       "      <td>0.74</td>\n",
       "      <td>0.7</td>\n",
       "      <td>0.74</td>\n",
       "    </tr>\n",
       "    <tr>\n",
       "      <th>f1-score</th>\n",
       "      <td>0.81</td>\n",
       "      <td>0.59</td>\n",
       "      <td>0.74</td>\n",
       "      <td>0.7</td>\n",
       "      <td>0.74</td>\n",
       "    </tr>\n",
       "    <tr>\n",
       "      <th>support</th>\n",
       "      <td>3487.00</td>\n",
       "      <td>1636.00</td>\n",
       "      <td>0.74</td>\n",
       "      <td>5123.0</td>\n",
       "      <td>5123.00</td>\n",
       "    </tr>\n",
       "  </tbody>\n",
       "</table>\n",
       "</div>"
      ],
      "text/plain": [
       "                 0        1  accuracy  macro avg  weighted avg\n",
       "precision     0.81     0.60      0.74        0.7          0.74\n",
       "recall        0.81     0.58      0.74        0.7          0.74\n",
       "f1-score      0.81     0.59      0.74        0.7          0.74\n",
       "support    3487.00  1636.00      0.74     5123.0       5123.00"
      ]
     },
     "execution_count": 193,
     "metadata": {},
     "output_type": "execute_result"
    }
   ],
   "source": [
    "y_pred = best_model.predict_proba(X_test)[:, 1]\n",
    "roc_auc = roc_auc_score(y_test, y_pred)\n",
    "\n",
    "# Построение ROC-AUC кривой для тестового набора данных\n",
    "fpr, tpr, thresholds = roc_curve(y_test, y_pred)\n",
    "idx = np.argmax(tpr - fpr)\n",
    "best_thresh = thresholds[idx]\n",
    "plt.figure()\n",
    "plt.scatter(fpr[idx], tpr[idx], marker=\"o\", color=\"red\", label=\"Best\")\n",
    "plt.plot(fpr, tpr, label='ROC curve (area = %0.2f)' % roc_auc)\n",
    "plt.plot([0, 1], [0, 1], 'k--')\n",
    "plt.xlim([0.0, 1.0])\n",
    "plt.ylim([0.0, 1.05])\n",
    "plt.xlabel('False Positive Rate')\n",
    "plt.ylabel('True Positive Rate')\n",
    "plt.title('ROC Curve for Test Data. Модель временного ряда.')\n",
    "plt.legend(loc=\"lower right\")\n",
    "plt.show()\n",
    "\n",
    "# Предсказываем на тестовой выборке и вычисляем ROC AUC\n",
    "y_pred_class = best_model.predict(X_test)\n",
    "roc_auc_test = roc_auc_score(y_test, y_pred)\n",
    "print('best threshold', best_thresh.round(3))\n",
    "print(f'ROC AUC на тестовой выборке: {roc_auc_test}')\n",
    "\n",
    "report = classification_report(y_test, y_pred > best_thresh, output_dict=True)\n",
    "df_report = pd.DataFrame(report).round(2)\n",
    "df_report"
   ]
  },
  {
   "cell_type": "markdown",
   "metadata": {},
   "source": [
    "Метрика precision класса 1 равная 0.6 указывает на то, что из всех предсказанных как класс 1 (покупатель совершит повторную покупку), только 60% действительно являются классом 1.   \n",
    "Метрика recall класса 1 равный 0.58, означает, что  модель верно классифицирует 65% всех истинных случаев принадлежности к классу 1 среди всех случаев, которые действительно принадлежат к классу 1.\n",
    "\n",
    "Стоит учесть, что когда модель предсказывает с высокой уверенностью, что определенные клиенты совершат повторные покупки (класс 1) и при этом она довольно точна в своих прогнозах, то в данном случае стимулирование этих клиентов может быть не столь эффективным, так как они, скорее всего, все равно сделают покупку.\n",
    "\n",
    "В этом случае стоит рассмотреть некоторые альтернативные стратегии, например:\n",
    "\n",
    "- Сосредоточиться на привлечении и удержании клиентов, для которых модель предсказывает менее высокую вероятность повторной покупки (класс 0).\n",
    "- Использовать информацию о вероятности повторной покупки как фактор в динамической адаптации стратегий взаимодействия с клиентами.\n",
    "- Разработать программы лояльности или персонализированные предложения, которые будут нацелены на клиентов с низкой вероятностью повторной покупки.\n",
    "- Важно сбалансировать стратегии стимулирования клиентов и учитывать не только вероятности, предсказанные моделью, но и другие факторы, такие как ценность клиента, его потенциальность для лояльности и другие цели бизнеса. "
   ]
  },
  {
   "cell_type": "code",
   "execution_count": 194,
   "metadata": {},
   "outputs": [
    {
     "name": "stdout",
     "output_type": "stream",
     "text": [
      "Важность признаков:\n",
      "                  Feature  Importance\n",
      "3      message_id_encoded   14.450871\n",
      "2                   price   11.451959\n",
      "4                monetary   11.034312\n",
      "0       store_category_id    9.453266\n",
      "10           week_of_year    9.187495\n",
      "7            day_of_month    8.599270\n",
      "8             day_of_week    7.557319\n",
      "1                quantity    6.305260\n",
      "5                 recency    6.300844\n",
      "6               frequency    5.691102\n",
      "9                   month    3.393107\n",
      "14  holidays_next_30_days    3.292479\n",
      "11          week_of_month    1.958043\n",
      "12             is_weekend    0.959903\n",
      "13             is_holiday    0.364770\n"
     ]
    }
   ],
   "source": [
    "# Важность признаков\n",
    "feature_importance = best_model.feature_importances_\n",
    "feature_names = X.columns\n",
    "feature_importance_df = pd.DataFrame({'Feature': feature_names, 'Importance': feature_importance})\n",
    "feature_importance_df = feature_importance_df.sort_values(by='Importance', ascending=False)\n",
    "print('Важность признаков:')\n",
    "print(feature_importance_df)"
   ]
  },
  {
   "cell_type": "markdown",
   "metadata": {},
   "source": [
    "Похоже, признак message_id_encoded имеет высокий вес (14.25), что указывает на его значимость для модели. Этот признак может оказать значительное влияние на предсказания.      \n",
    "Остальные признаки также важны, особенно price, monetary, store_category_id и другие, каждый вносит свой вклад в прогнозирование целевой переменной. "
   ]
  },
  {
   "cell_type": "markdown",
   "metadata": {},
   "source": [
    "### Обучим модель keras с LSTM"
   ]
  },
  {
   "cell_type": "code",
   "execution_count": 195,
   "metadata": {},
   "outputs": [
    {
     "data": {
      "text/html": [
       "<div>\n",
       "<style scoped>\n",
       "    .dataframe tbody tr th:only-of-type {\n",
       "        vertical-align: middle;\n",
       "    }\n",
       "\n",
       "    .dataframe tbody tr th {\n",
       "        vertical-align: top;\n",
       "    }\n",
       "\n",
       "    .dataframe thead th {\n",
       "        text-align: right;\n",
       "    }\n",
       "</style>\n",
       "<table border=\"1\" class=\"dataframe\">\n",
       "  <thead>\n",
       "    <tr style=\"text-align: right;\">\n",
       "      <th></th>\n",
       "      <th>client_id</th>\n",
       "      <th>quantity</th>\n",
       "      <th>price</th>\n",
       "      <th>date</th>\n",
       "      <th>store_category_id</th>\n",
       "      <th>created_at</th>\n",
       "      <th>message_id_encoded</th>\n",
       "    </tr>\n",
       "  </thead>\n",
       "  <tbody>\n",
       "    <tr>\n",
       "      <th>0</th>\n",
       "      <td>1515915625468068833</td>\n",
       "      <td>1</td>\n",
       "      <td>3499.0</td>\n",
       "      <td>2023-09-08</td>\n",
       "      <td>1</td>\n",
       "      <td>NaN</td>\n",
       "      <td>1363</td>\n",
       "    </tr>\n",
       "    <tr>\n",
       "      <th>1</th>\n",
       "      <td>1515915625468068833</td>\n",
       "      <td>1</td>\n",
       "      <td>3499.0</td>\n",
       "      <td>2023-09-08</td>\n",
       "      <td>1</td>\n",
       "      <td>NaN</td>\n",
       "      <td>1363</td>\n",
       "    </tr>\n",
       "    <tr>\n",
       "      <th>2</th>\n",
       "      <td>1515915625468068833</td>\n",
       "      <td>1</td>\n",
       "      <td>3499.0</td>\n",
       "      <td>2023-09-08</td>\n",
       "      <td>1</td>\n",
       "      <td>NaN</td>\n",
       "      <td>1363</td>\n",
       "    </tr>\n",
       "    <tr>\n",
       "      <th>3</th>\n",
       "      <td>1515915625468068833</td>\n",
       "      <td>1</td>\n",
       "      <td>2450.0</td>\n",
       "      <td>2023-09-08</td>\n",
       "      <td>1</td>\n",
       "      <td>NaN</td>\n",
       "      <td>1363</td>\n",
       "    </tr>\n",
       "    <tr>\n",
       "      <th>4</th>\n",
       "      <td>1515915625468068833</td>\n",
       "      <td>1</td>\n",
       "      <td>2450.0</td>\n",
       "      <td>2023-09-08</td>\n",
       "      <td>1</td>\n",
       "      <td>NaN</td>\n",
       "      <td>1363</td>\n",
       "    </tr>\n",
       "    <tr>\n",
       "      <th>...</th>\n",
       "      <td>...</td>\n",
       "      <td>...</td>\n",
       "      <td>...</td>\n",
       "      <td>...</td>\n",
       "      <td>...</td>\n",
       "      <td>...</td>\n",
       "      <td>...</td>\n",
       "    </tr>\n",
       "    <tr>\n",
       "      <th>182092</th>\n",
       "      <td>1515915625870025628</td>\n",
       "      <td>1</td>\n",
       "      <td>39992.0</td>\n",
       "      <td>2022-11-28</td>\n",
       "      <td>3</td>\n",
       "      <td>NaN</td>\n",
       "      <td>44215</td>\n",
       "    </tr>\n",
       "    <tr>\n",
       "      <th>182093</th>\n",
       "      <td>1515915625873498326</td>\n",
       "      <td>1</td>\n",
       "      <td>3035.0</td>\n",
       "      <td>2022-11-23</td>\n",
       "      <td>3</td>\n",
       "      <td>NaN</td>\n",
       "      <td>44267</td>\n",
       "    </tr>\n",
       "    <tr>\n",
       "      <th>182094</th>\n",
       "      <td>1515915625873498326</td>\n",
       "      <td>1</td>\n",
       "      <td>3035.0</td>\n",
       "      <td>2022-11-23</td>\n",
       "      <td>3</td>\n",
       "      <td>NaN</td>\n",
       "      <td>44267</td>\n",
       "    </tr>\n",
       "    <tr>\n",
       "      <th>182095</th>\n",
       "      <td>1515915625878133961</td>\n",
       "      <td>1</td>\n",
       "      <td>3442.0</td>\n",
       "      <td>2022-11-26</td>\n",
       "      <td>3</td>\n",
       "      <td>NaN</td>\n",
       "      <td>44191</td>\n",
       "    </tr>\n",
       "    <tr>\n",
       "      <th>182096</th>\n",
       "      <td>1515915625878133961</td>\n",
       "      <td>1</td>\n",
       "      <td>2695.0</td>\n",
       "      <td>2022-11-26</td>\n",
       "      <td>3</td>\n",
       "      <td>NaN</td>\n",
       "      <td>44191</td>\n",
       "    </tr>\n",
       "  </tbody>\n",
       "</table>\n",
       "<p>182097 rows × 7 columns</p>\n",
       "</div>"
      ],
      "text/plain": [
       "                  client_id  quantity    price       date  store_category_id  \\\n",
       "0       1515915625468068833         1   3499.0 2023-09-08                  1   \n",
       "1       1515915625468068833         1   3499.0 2023-09-08                  1   \n",
       "2       1515915625468068833         1   3499.0 2023-09-08                  1   \n",
       "3       1515915625468068833         1   2450.0 2023-09-08                  1   \n",
       "4       1515915625468068833         1   2450.0 2023-09-08                  1   \n",
       "...                     ...       ...      ...        ...                ...   \n",
       "182092  1515915625870025628         1  39992.0 2022-11-28                  3   \n",
       "182093  1515915625873498326         1   3035.0 2022-11-23                  3   \n",
       "182094  1515915625873498326         1   3035.0 2022-11-23                  3   \n",
       "182095  1515915625878133961         1   3442.0 2022-11-26                  3   \n",
       "182096  1515915625878133961         1   2695.0 2022-11-26                  3   \n",
       "\n",
       "       created_at  message_id_encoded  \n",
       "0             NaN                1363  \n",
       "1             NaN                1363  \n",
       "2             NaN                1363  \n",
       "3             NaN                1363  \n",
       "4             NaN                1363  \n",
       "...           ...                 ...  \n",
       "182092        NaN               44215  \n",
       "182093        NaN               44267  \n",
       "182094        NaN               44267  \n",
       "182095        NaN               44191  \n",
       "182096        NaN               44191  \n",
       "\n",
       "[182097 rows x 7 columns]"
      ]
     },
     "execution_count": 195,
     "metadata": {},
     "output_type": "execute_result"
    }
   ],
   "source": [
    "combined_data"
   ]
  },
  {
   "cell_type": "code",
   "execution_count": 196,
   "metadata": {},
   "outputs": [],
   "source": [
    "data_grouped_seq = combined_data\n",
    "\n",
    "# Добавляем поле total\n",
    "data_grouped_seq['total'] = data_grouped_seq['price'] * data_grouped_seq['quantity']\n",
    "combined_data['month'] = combined_data['date'].dt.month\n",
    "combined_data['day_of_week'] = combined_data['date'].dt.dayofweek\n",
    "combined_data['day'] = combined_data['date'].dt.day\n",
    "combined_data['quarter'] = combined_data['date'].dt.quarter\n",
    "\n",
    "data_grouped_seq = data_grouped_seq.sort_values(by='date')\n",
    "\n",
    "# Группировка и добавление поля since_prev_purchase\n",
    "data_grouped_seq['monetary'] = data_grouped_seq.groupby('client_id')['price'].cumsum()\n",
    "data_grouped_seq['recency'] = data_grouped_seq.groupby('client_id')['date'].diff().dt.days.fillna(999).astype(int)\n",
    "data_grouped_seq['frequency'] = data_grouped_seq.groupby('client_id')['date'].cumcount() + 1\n",
    "\n"
   ]
  },
  {
   "cell_type": "code",
   "execution_count": 197,
   "metadata": {},
   "outputs": [
    {
     "data": {
      "text/html": [
       "<div>\n",
       "<style scoped>\n",
       "    .dataframe tbody tr th:only-of-type {\n",
       "        vertical-align: middle;\n",
       "    }\n",
       "\n",
       "    .dataframe tbody tr th {\n",
       "        vertical-align: top;\n",
       "    }\n",
       "\n",
       "    .dataframe thead th {\n",
       "        text-align: right;\n",
       "    }\n",
       "</style>\n",
       "<table border=\"1\" class=\"dataframe\">\n",
       "  <thead>\n",
       "    <tr style=\"text-align: right;\">\n",
       "      <th></th>\n",
       "      <th>client_id</th>\n",
       "      <th>quantity</th>\n",
       "      <th>price</th>\n",
       "      <th>date</th>\n",
       "      <th>store_category_id</th>\n",
       "      <th>created_at</th>\n",
       "      <th>message_id_encoded</th>\n",
       "      <th>total</th>\n",
       "      <th>month</th>\n",
       "      <th>day_of_week</th>\n",
       "      <th>day</th>\n",
       "      <th>quarter</th>\n",
       "      <th>monetary</th>\n",
       "      <th>recency</th>\n",
       "      <th>frequency</th>\n",
       "    </tr>\n",
       "  </thead>\n",
       "  <tbody>\n",
       "    <tr>\n",
       "      <th>42188</th>\n",
       "      <td>1515915625558655965</td>\n",
       "      <td>1</td>\n",
       "      <td>767.0</td>\n",
       "      <td>2022-10-26 00:00:00</td>\n",
       "      <td>1</td>\n",
       "      <td>NaN</td>\n",
       "      <td>30102</td>\n",
       "      <td>767.0</td>\n",
       "      <td>10</td>\n",
       "      <td>2</td>\n",
       "      <td>26</td>\n",
       "      <td>4</td>\n",
       "      <td>767.0</td>\n",
       "      <td>999</td>\n",
       "      <td>1</td>\n",
       "    </tr>\n",
       "    <tr>\n",
       "      <th>181497</th>\n",
       "      <td>1515915625857065470</td>\n",
       "      <td>1</td>\n",
       "      <td>36720.0</td>\n",
       "      <td>2022-10-26 00:00:00</td>\n",
       "      <td>3</td>\n",
       "      <td>NaN</td>\n",
       "      <td>43294</td>\n",
       "      <td>36720.0</td>\n",
       "      <td>10</td>\n",
       "      <td>2</td>\n",
       "      <td>26</td>\n",
       "      <td>4</td>\n",
       "      <td>36720.0</td>\n",
       "      <td>999</td>\n",
       "      <td>1</td>\n",
       "    </tr>\n",
       "    <tr>\n",
       "      <th>181496</th>\n",
       "      <td>1515915625857065470</td>\n",
       "      <td>1</td>\n",
       "      <td>54040.0</td>\n",
       "      <td>2022-10-26 00:00:00</td>\n",
       "      <td>3</td>\n",
       "      <td>NaN</td>\n",
       "      <td>43294</td>\n",
       "      <td>54040.0</td>\n",
       "      <td>10</td>\n",
       "      <td>2</td>\n",
       "      <td>26</td>\n",
       "      <td>4</td>\n",
       "      <td>90760.0</td>\n",
       "      <td>0</td>\n",
       "      <td>2</td>\n",
       "    </tr>\n",
       "    <tr>\n",
       "      <th>181495</th>\n",
       "      <td>1515915625857065470</td>\n",
       "      <td>1</td>\n",
       "      <td>59990.0</td>\n",
       "      <td>2022-10-26 00:00:00</td>\n",
       "      <td>3</td>\n",
       "      <td>NaN</td>\n",
       "      <td>43294</td>\n",
       "      <td>59990.0</td>\n",
       "      <td>10</td>\n",
       "      <td>2</td>\n",
       "      <td>26</td>\n",
       "      <td>4</td>\n",
       "      <td>150750.0</td>\n",
       "      <td>0</td>\n",
       "      <td>3</td>\n",
       "    </tr>\n",
       "    <tr>\n",
       "      <th>58333</th>\n",
       "      <td>1515915625587818098</td>\n",
       "      <td>1</td>\n",
       "      <td>7999.0</td>\n",
       "      <td>2022-10-26 00:00:00</td>\n",
       "      <td>1</td>\n",
       "      <td>NaN</td>\n",
       "      <td>9575</td>\n",
       "      <td>7999.0</td>\n",
       "      <td>10</td>\n",
       "      <td>2</td>\n",
       "      <td>26</td>\n",
       "      <td>4</td>\n",
       "      <td>7999.0</td>\n",
       "      <td>999</td>\n",
       "      <td>1</td>\n",
       "    </tr>\n",
       "    <tr>\n",
       "      <th>...</th>\n",
       "      <td>...</td>\n",
       "      <td>...</td>\n",
       "      <td>...</td>\n",
       "      <td>...</td>\n",
       "      <td>...</td>\n",
       "      <td>...</td>\n",
       "      <td>...</td>\n",
       "      <td>...</td>\n",
       "      <td>...</td>\n",
       "      <td>...</td>\n",
       "      <td>...</td>\n",
       "      <td>...</td>\n",
       "      <td>...</td>\n",
       "      <td>...</td>\n",
       "      <td>...</td>\n",
       "    </tr>\n",
       "    <tr>\n",
       "      <th>157604</th>\n",
       "      <td>1515915625587268787</td>\n",
       "      <td>1</td>\n",
       "      <td>298.0</td>\n",
       "      <td>2023-10-26 11:23:08</td>\n",
       "      <td>2</td>\n",
       "      <td>2023-10-26</td>\n",
       "      <td>37881</td>\n",
       "      <td>298.0</td>\n",
       "      <td>10</td>\n",
       "      <td>3</td>\n",
       "      <td>26</td>\n",
       "      <td>4</td>\n",
       "      <td>298.0</td>\n",
       "      <td>999</td>\n",
       "      <td>1</td>\n",
       "    </tr>\n",
       "    <tr>\n",
       "      <th>157605</th>\n",
       "      <td>1515915625588069308</td>\n",
       "      <td>1</td>\n",
       "      <td>7780.0</td>\n",
       "      <td>2023-10-26 12:43:55</td>\n",
       "      <td>2</td>\n",
       "      <td>2023-10-26</td>\n",
       "      <td>37950</td>\n",
       "      <td>7780.0</td>\n",
       "      <td>10</td>\n",
       "      <td>3</td>\n",
       "      <td>26</td>\n",
       "      <td>4</td>\n",
       "      <td>7780.0</td>\n",
       "      <td>999</td>\n",
       "      <td>1</td>\n",
       "    </tr>\n",
       "    <tr>\n",
       "      <th>157606</th>\n",
       "      <td>1515915625588069308</td>\n",
       "      <td>1</td>\n",
       "      <td>3980.0</td>\n",
       "      <td>2023-10-26 12:43:55</td>\n",
       "      <td>2</td>\n",
       "      <td>2023-10-26</td>\n",
       "      <td>37950</td>\n",
       "      <td>3980.0</td>\n",
       "      <td>10</td>\n",
       "      <td>3</td>\n",
       "      <td>26</td>\n",
       "      <td>4</td>\n",
       "      <td>11760.0</td>\n",
       "      <td>0</td>\n",
       "      <td>2</td>\n",
       "    </tr>\n",
       "    <tr>\n",
       "      <th>157598</th>\n",
       "      <td>1515915625581725735</td>\n",
       "      <td>1</td>\n",
       "      <td>77978.0</td>\n",
       "      <td>2023-10-26 13:15:32</td>\n",
       "      <td>2</td>\n",
       "      <td>2023-10-26</td>\n",
       "      <td>37081</td>\n",
       "      <td>77978.0</td>\n",
       "      <td>10</td>\n",
       "      <td>3</td>\n",
       "      <td>26</td>\n",
       "      <td>4</td>\n",
       "      <td>77978.0</td>\n",
       "      <td>999</td>\n",
       "      <td>1</td>\n",
       "    </tr>\n",
       "    <tr>\n",
       "      <th>157547</th>\n",
       "      <td>1515915625517812413</td>\n",
       "      <td>1</td>\n",
       "      <td>119998.0</td>\n",
       "      <td>2023-10-26 13:34:11</td>\n",
       "      <td>2</td>\n",
       "      <td>2023-10-26</td>\n",
       "      <td>18101</td>\n",
       "      <td>119998.0</td>\n",
       "      <td>10</td>\n",
       "      <td>3</td>\n",
       "      <td>26</td>\n",
       "      <td>4</td>\n",
       "      <td>119998.0</td>\n",
       "      <td>999</td>\n",
       "      <td>1</td>\n",
       "    </tr>\n",
       "  </tbody>\n",
       "</table>\n",
       "<p>182097 rows × 15 columns</p>\n",
       "</div>"
      ],
      "text/plain": [
       "                  client_id  quantity     price                date  \\\n",
       "42188   1515915625558655965         1     767.0 2022-10-26 00:00:00   \n",
       "181497  1515915625857065470         1   36720.0 2022-10-26 00:00:00   \n",
       "181496  1515915625857065470         1   54040.0 2022-10-26 00:00:00   \n",
       "181495  1515915625857065470         1   59990.0 2022-10-26 00:00:00   \n",
       "58333   1515915625587818098         1    7999.0 2022-10-26 00:00:00   \n",
       "...                     ...       ...       ...                 ...   \n",
       "157604  1515915625587268787         1     298.0 2023-10-26 11:23:08   \n",
       "157605  1515915625588069308         1    7780.0 2023-10-26 12:43:55   \n",
       "157606  1515915625588069308         1    3980.0 2023-10-26 12:43:55   \n",
       "157598  1515915625581725735         1   77978.0 2023-10-26 13:15:32   \n",
       "157547  1515915625517812413         1  119998.0 2023-10-26 13:34:11   \n",
       "\n",
       "        store_category_id  created_at  message_id_encoded     total  month  \\\n",
       "42188                   1         NaN               30102     767.0     10   \n",
       "181497                  3         NaN               43294   36720.0     10   \n",
       "181496                  3         NaN               43294   54040.0     10   \n",
       "181495                  3         NaN               43294   59990.0     10   \n",
       "58333                   1         NaN                9575    7999.0     10   \n",
       "...                   ...         ...                 ...       ...    ...   \n",
       "157604                  2  2023-10-26               37881     298.0     10   \n",
       "157605                  2  2023-10-26               37950    7780.0     10   \n",
       "157606                  2  2023-10-26               37950    3980.0     10   \n",
       "157598                  2  2023-10-26               37081   77978.0     10   \n",
       "157547                  2  2023-10-26               18101  119998.0     10   \n",
       "\n",
       "        day_of_week  day  quarter  monetary  recency  frequency  \n",
       "42188             2   26        4     767.0      999          1  \n",
       "181497            2   26        4   36720.0      999          1  \n",
       "181496            2   26        4   90760.0        0          2  \n",
       "181495            2   26        4  150750.0        0          3  \n",
       "58333             2   26        4    7999.0      999          1  \n",
       "...             ...  ...      ...       ...      ...        ...  \n",
       "157604            3   26        4     298.0      999          1  \n",
       "157605            3   26        4    7780.0      999          1  \n",
       "157606            3   26        4   11760.0        0          2  \n",
       "157598            3   26        4   77978.0      999          1  \n",
       "157547            3   26        4  119998.0      999          1  \n",
       "\n",
       "[182097 rows x 15 columns]"
      ]
     },
     "execution_count": 197,
     "metadata": {},
     "output_type": "execute_result"
    }
   ],
   "source": [
    "data_grouped_seq"
   ]
  },
  {
   "cell_type": "code",
   "execution_count": 198,
   "metadata": {},
   "outputs": [],
   "source": [
    "# # Выборка нужных столбцов\n",
    "# data_grouped_seq = data_grouped_seq[['client_id','date', 'message_id_encoded', 'total', 'since_prev_purchase']]\n",
    "# data_grouped_seq = data_grouped_seq[['client_id','date', 'message_id_encoded', 'price', 'quantity', 'since_prev_purchase]']\n",
    "data_grouped_seq = data_grouped_seq[['client_id','date', 'message_id_encoded', 'total', 'monetary', 'recency', 'frequency', 'month', 'day_of_week', 'day', 'quarter']]"
   ]
  },
  {
   "cell_type": "markdown",
   "metadata": {},
   "source": [
    "Для каждого клиента вычислим аккумулированные значения (суммы) значений до каждой даты включительно."
   ]
  },
  {
   "cell_type": "code",
   "execution_count": 199,
   "metadata": {},
   "outputs": [],
   "source": [
    "scaler = MinMaxScaler(feature_range=(0, 1))\n",
    "\n",
    "features_to_scale = ['total', 'monetary', 'recency', 'frequency', 'month', 'day_of_week', 'message_id_encoded', 'day', 'quarter']\n",
    "scaled_names = [f'{col}_scaled' for col in features_to_scale]\n",
    "data_grouped_seq[scaled_names] = scaler.fit_transform(data_grouped_seq[features_to_scale])\n",
    "\n",
    "def aggregate_sequences(group):\n",
    "    aggregated_values = [0, 0, 0, 0, 0, 0, 0, 0, 0, 0]\n",
    "    cumulated_sequence = 0\n",
    "    for value in group[::-1]:  # Идем по значениям в обратном порядке\n",
    "        cumulated_sequence += value\n",
    "        aggregated_values.pop(0)  # Удаляем старое значение\n",
    "        aggregated_values.append(cumulated_sequence)  # Добавляем новое значение\n",
    "    return aggregated_values\n",
    "\n",
    "\n",
    "# Группировка данных по 'client_id' и 'date' с агрегацией в формате последовательностей\n",
    "features_seq = (data_grouped_seq.groupby(['client_id', 'date'])[scaled_names]\n",
    "                .agg(aggregate_sequences).add_suffix('_seq').reset_index())\n"
   ]
  },
  {
   "cell_type": "code",
   "execution_count": 200,
   "metadata": {},
   "outputs": [],
   "source": [
    "# Отсортируем по дате\n",
    "features_seq = features_seq.sort_values(by='date')"
   ]
  },
  {
   "cell_type": "code",
   "execution_count": 201,
   "metadata": {},
   "outputs": [],
   "source": [
    "# Удалим данные за последние 30 дней\n",
    "features_seq = features_seq[features_seq['date'] < date_to_exclude]"
   ]
  },
  {
   "cell_type": "code",
   "execution_count": 202,
   "metadata": {},
   "outputs": [
    {
     "data": {
      "text/plain": [
       "(61487, 11)"
      ]
     },
     "execution_count": 202,
     "metadata": {},
     "output_type": "execute_result"
    }
   ],
   "source": [
    "features_seq.shape"
   ]
  },
  {
   "cell_type": "code",
   "execution_count": 203,
   "metadata": {},
   "outputs": [],
   "source": [
    "features_seq = features_seq.set_index('date')\n",
    "features_seq.index = pd.to_datetime(features_seq.index)\n",
    "# Удалить время из даты в индексе\n",
    "features_seq.index = features_seq.index.date"
   ]
  },
  {
   "cell_type": "code",
   "execution_count": 204,
   "metadata": {},
   "outputs": [],
   "source": [
    "filtered_features_seq = features_seq.drop(['client_id'], axis=1)"
   ]
  },
  {
   "cell_type": "code",
   "execution_count": 205,
   "metadata": {},
   "outputs": [
    {
     "name": "stdout",
     "output_type": "stream",
     "text": [
      "Нижняя граница для выбросов: 0\n",
      "Верхняя граница для выбросов: 10.0\n"
     ]
    }
   ],
   "source": [
    "# Получаем все длины последовательностей\n",
    "\n",
    "seq_len = filtered_features_seq\n",
    "all_lengths = []\n",
    "for column in seq_len.columns:\n",
    "    all_lengths.extend(seq_len[column].apply(lambda x: len(x) if isinstance(x, list) else 0))\n",
    "\n",
    "# Определяем квартили\n",
    "Q1 = pd.Series(all_lengths).quantile(0.25)\n",
    "Q3 = pd.Series(all_lengths).quantile(0.75)\n",
    "IQR = Q3 - Q1\n",
    "\n",
    "# Определяем границы для определения выбросов\n",
    "lower_bound = 0\n",
    "upper_bound = Q3 + 1.5 * IQR\n",
    "\n",
    "print(f'Нижняя граница для выбросов: {lower_bound}')\n",
    "print(f'Верхняя граница для выбросов: {upper_bound}')"
   ]
  },
  {
   "cell_type": "code",
   "execution_count": 206,
   "metadata": {},
   "outputs": [
    {
     "data": {
      "image/png": "[encoded data removed]",
      "text/plain": [
       "<Figure size 1000x100 with 1 Axes>"
      ]
     },
     "metadata": {},
     "output_type": "display_data"
    }
   ],
   "source": [
    "df = filtered_features_seq\n",
    "\n",
    "# Получаем все длины последовательностей\n",
    "all_lengths = []\n",
    "for column in df.columns:\n",
    "    all_lengths.extend(df[column].apply(lambda x: len(x) if isinstance(x, list) else 0))\n",
    "\n",
    "# Построение ящика с усами для длин последовательностей\n",
    "plt.figure(figsize=(10, 1))\n",
    "sns.boxplot(data=all_lengths, orient='h', color='skyblue')\n",
    "\n",
    "plt.xlabel('Длина последовательности')\n",
    "plt.title('Длины последовательностей')\n",
    "plt.show()\n",
    "\n"
   ]
  },
  {
   "cell_type": "code",
   "execution_count": 207,
   "metadata": {},
   "outputs": [],
   "source": [
    "# Выравнивание последовательностей с использованием встроенной функции\n",
    "X_seq = np.concatenate([\n",
    "    pad_sequences(filtered_features_seq[col].values, dtype='float', value=MASK_VALUE, padding='post')[:, :, np.newaxis]\n",
    "    for col in filtered_features_seq.columns\n",
    "], axis=2)"
   ]
  },
  {
   "cell_type": "code",
   "execution_count": 208,
   "metadata": {},
   "outputs": [
    {
     "data": {
      "text/plain": [
       "((61487, 10, 9), (61487, 16))"
      ]
     },
     "execution_count": 208,
     "metadata": {},
     "output_type": "execute_result"
    }
   ],
   "source": [
    "# Нормализация X_time_s\n",
    "scaler_time_s = MinMaxScaler(feature_range=(0, 1))\n",
    "X_time_s = scaler_time_s.fit_transform(features_time_s.drop(['client_id','days_to_next_purchase','target'], axis=1))\n",
    "\n",
    "X_seq.shape, X_time_s.shape"
   ]
  },
  {
   "cell_type": "code",
   "execution_count": 209,
   "metadata": {},
   "outputs": [
    {
     "data": {
      "text/html": [
       "<style type=\"text/css\">\n",
       "</style>\n",
       "<table id=\"T_7e9ca\">\n",
       "  <caption>Распределение классов</caption>\n",
       "  <thead>\n",
       "    <tr>\n",
       "      <th class=\"blank level0\" >&nbsp;</th>\n",
       "      <th id=\"T_7e9ca_level0_col0\" class=\"col_heading level0 col0\" >count</th>\n",
       "      <th id=\"T_7e9ca_level0_col1\" class=\"col_heading level0 col1\" >percentage</th>\n",
       "    </tr>\n",
       "    <tr>\n",
       "      <th class=\"index_name level0\" >target</th>\n",
       "      <th class=\"blank col0\" >&nbsp;</th>\n",
       "      <th class=\"blank col1\" >&nbsp;</th>\n",
       "    </tr>\n",
       "  </thead>\n",
       "  <tbody>\n",
       "    <tr>\n",
       "      <th id=\"T_7e9ca_level0_row0\" class=\"row_heading level0 row0\" >0</th>\n",
       "      <td id=\"T_7e9ca_row0_col0\" class=\"data row0 col0\" >48579</td>\n",
       "      <td id=\"T_7e9ca_row0_col1\" class=\"data row0 col1\" >79.01%</td>\n",
       "    </tr>\n",
       "    <tr>\n",
       "      <th id=\"T_7e9ca_level0_row1\" class=\"row_heading level0 row1\" >1</th>\n",
       "      <td id=\"T_7e9ca_row1_col0\" class=\"data row1 col0\" >12908</td>\n",
       "      <td id=\"T_7e9ca_row1_col1\" class=\"data row1 col1\" >20.99%</td>\n",
       "    </tr>\n",
       "  </tbody>\n",
       "</table>\n"
      ],
      "text/plain": [
       "<pandas.io.formats.style.Styler at 0x1ae9e5c2aa0>"
      ]
     },
     "metadata": {},
     "output_type": "display_data"
    },
    {
     "data": {
      "text/plain": [
       "(61487,)"
      ]
     },
     "execution_count": 209,
     "metadata": {},
     "output_type": "execute_result"
    }
   ],
   "source": [
    "# Разделение на обучающую и тестовую выборку\n",
    "X_train_seq, X_test_seq, X_train_time_s, X_test_time_s, y_train, y_test = train_test_split(\n",
    "    X_seq, X_time_s, y, test_size=0.2, random_state=42, shuffle=False)\n",
    "\n",
    "y = data_grouped['target']\n",
    "display(data_grouped['target'].value_counts().to_frame().assign(percentage=lambda x: x/x.sum()).style.format({'percentage':'{:.2%}', 'target':'{:.0f}'}).set_caption('Распределение классов'))\n",
    "y = y.values\n",
    "\n",
    "y.shape"
   ]
  },
  {
   "cell_type": "code",
   "execution_count": 210,
   "metadata": {},
   "outputs": [],
   "source": [
    "from tensorflow.keras.layers import Bidirectional"
   ]
  },
  {
   "cell_type": "code",
   "execution_count": 212,
   "metadata": {},
   "outputs": [
    {
     "name": "stdout",
     "output_type": "stream",
     "text": [
      "WARNING:tensorflow:From c:\\Users\\Barbos-Rapitos\\AppData\\Local\\Programs\\Python\\Python310\\lib\\site-packages\\keras\\src\\backend.py:1398: The name tf.executing_eagerly_outside_functions is deprecated. Please use tf.compat.v1.executing_eagerly_outside_functions instead.\n",
      "\n",
      "WARNING:tensorflow:From c:\\Users\\Barbos-Rapitos\\AppData\\Local\\Programs\\Python\\Python310\\lib\\site-packages\\keras\\src\\engine\\base_layer_utils.py:384: The name tf.executing_eagerly_outside_functions is deprecated. Please use tf.compat.v1.executing_eagerly_outside_functions instead.\n",
      "\n",
      "Epoch 1/14\n",
      "WARNING:tensorflow:From c:\\Users\\Barbos-Rapitos\\AppData\\Local\\Programs\\Python\\Python310\\lib\\site-packages\\keras\\src\\utils\\tf_utils.py:492: The name tf.ragged.RaggedTensorValue is deprecated. Please use tf.compat.v1.ragged.RaggedTensorValue instead.\n",
      "\n",
      "1230/1230 [==============================] - 10s 5ms/step - loss: 0.4713 - auc: 0.7739 - val_loss: 0.3491 - val_auc: 0.7854\n",
      "Epoch 2/14\n",
      "1230/1230 [==============================] - 5s 4ms/step - loss: 0.4409 - auc: 0.7881 - val_loss: 0.3465 - val_auc: 0.7859\n",
      "Epoch 3/14\n",
      "1230/1230 [==============================] - 6s 5ms/step - loss: 0.4376 - auc: 0.7904 - val_loss: 0.3459 - val_auc: 0.7868\n",
      "Epoch 4/14\n",
      "1230/1230 [==============================] - 5s 4ms/step - loss: 0.4361 - auc: 0.7919 - val_loss: 0.3452 - val_auc: 0.7860\n",
      "Epoch 5/14\n",
      "1230/1230 [==============================] - 5s 4ms/step - loss: 0.4352 - auc: 0.7924 - val_loss: 0.3451 - val_auc: 0.7862\n",
      "Epoch 6/14\n",
      "1230/1230 [==============================] - 5s 4ms/step - loss: 0.4348 - auc: 0.7931 - val_loss: 0.3465 - val_auc: 0.7839\n",
      "Epoch 7/14\n",
      "1230/1230 [==============================] - 5s 4ms/step - loss: 0.4346 - auc: 0.7936 - val_loss: 0.3465 - val_auc: 0.7839\n",
      "Epoch 8/14\n",
      "1230/1230 [==============================] - 5s 4ms/step - loss: 0.4341 - auc: 0.7940 - val_loss: 0.3477 - val_auc: 0.7840\n",
      "385/385 [==============================] - 1s 2ms/step - loss: 0.4219 - auc: 0.8174\n",
      "Тестовая ошибка: 0.4219306707382202, Тестовая AUC: 0.8174048066139221\n"
     ]
    }
   ],
   "source": [
    "# Определение входных данных\n",
    "input_seq = Input(shape=(X_train_seq.shape[1:]))\n",
    "input_time_s = Input(shape=(X_train_time_s.shape[1],))\n",
    "\n",
    "# Слой маскирования для input_seq\n",
    "masked_seq = Masking(mask_value=MASK_VALUE)(input_seq)\n",
    "#bilstm_seq = Bidirectional(LSTM(32, kernel_regularizer=l1(0.01), recurrent_regularizer=l2(0.01), activity_regularizer=l2(0.01)))(masked_seq)\n",
    "module_seq = LSTM(32, kernel_regularizer=l1(0.01), recurrent_regularizer=l2(0.01), activity_regularizer=l2(0.01))(masked_seq)\n",
    "\n",
    "# Плотный слой для input_time_s\n",
    "dense_time_s = Dense(16, activation='relu')(input_time_s)\n",
    "\n",
    "# Сцепление выходных данных\n",
    "concatenated = Concatenate()([module_seq, dense_time_s])\n",
    "\n",
    "# Слой выходных данных\n",
    "output = Dense(1, activation='sigmoid')(concatenated)\n",
    "\n",
    "# Создание модели\n",
    "model = Model(inputs=[input_seq, input_time_s], outputs=output)\n",
    "\n",
    "# Компиляция модели\n",
    "opt = Adam(learning_rate=0.01)\n",
    "model.compile(loss='binary_crossentropy', optimizer=opt, metrics=['AUC'])\n",
    "\n",
    "# Добавление обратных вызовов для отслеживания процесса обучения\n",
    "callbacks = [\n",
    "    ModelCheckpoint(filepath='best_model.h5', monitor='val_auc', save_best_only=True),\n",
    "    EarlyStopping(monitor='val_loss', patience=3, restore_best_weights=True)\n",
    "]\n",
    "\n",
    "# Обучение модели\n",
    "history = model.fit(x=[X_train_seq, X_train_time_s], y=y_train, validation_split=0.2, epochs=14, batch_size=32, callbacks=callbacks, shuffle=False)\n",
    "\n",
    "# Оценка модели\n",
    "loss, auc = model.evaluate([X_test_seq, X_test_time_s], y_test)\n",
    "print(f'Тестовая ошибка: {loss}, Тестовая AUC: {auc}')\n"
   ]
  },
  {
   "cell_type": "code",
   "execution_count": 213,
   "metadata": {},
   "outputs": [
    {
     "name": "stdout",
     "output_type": "stream",
     "text": [
      "385/385 [==============================] - 2s 2ms/step\n"
     ]
    },
    {
     "data": {
      "image/png": "[encoded data removed]",
      "text/plain": [
       "<Figure size 640x480 with 1 Axes>"
      ]
     },
     "metadata": {},
     "output_type": "display_data"
    },
    {
     "name": "stdout",
     "output_type": "stream",
     "text": [
      "roc auc score 0.817\n",
      "best threshold 0.27\n"
     ]
    },
    {
     "data": {
      "text/html": [
       "<div>\n",
       "<style scoped>\n",
       "    .dataframe tbody tr th:only-of-type {\n",
       "        vertical-align: middle;\n",
       "    }\n",
       "\n",
       "    .dataframe tbody tr th {\n",
       "        vertical-align: top;\n",
       "    }\n",
       "\n",
       "    .dataframe thead th {\n",
       "        text-align: right;\n",
       "    }\n",
       "</style>\n",
       "<table border=\"1\" class=\"dataframe\">\n",
       "  <thead>\n",
       "    <tr style=\"text-align: right;\">\n",
       "      <th></th>\n",
       "      <th>0</th>\n",
       "      <th>1</th>\n",
       "      <th>accuracy</th>\n",
       "      <th>macro avg</th>\n",
       "      <th>weighted avg</th>\n",
       "    </tr>\n",
       "  </thead>\n",
       "  <tbody>\n",
       "    <tr>\n",
       "      <th>precision</th>\n",
       "      <td>0.89</td>\n",
       "      <td>0.45</td>\n",
       "      <td>0.73</td>\n",
       "      <td>0.67</td>\n",
       "      <td>0.79</td>\n",
       "    </tr>\n",
       "    <tr>\n",
       "      <th>recall</th>\n",
       "      <td>0.74</td>\n",
       "      <td>0.70</td>\n",
       "      <td>0.73</td>\n",
       "      <td>0.72</td>\n",
       "      <td>0.73</td>\n",
       "    </tr>\n",
       "    <tr>\n",
       "      <th>f1-score</th>\n",
       "      <td>0.81</td>\n",
       "      <td>0.55</td>\n",
       "      <td>0.73</td>\n",
       "      <td>0.68</td>\n",
       "      <td>0.75</td>\n",
       "    </tr>\n",
       "    <tr>\n",
       "      <th>support</th>\n",
       "      <td>9460.00</td>\n",
       "      <td>2838.00</td>\n",
       "      <td>0.73</td>\n",
       "      <td>12298.00</td>\n",
       "      <td>12298.00</td>\n",
       "    </tr>\n",
       "  </tbody>\n",
       "</table>\n",
       "</div>"
      ],
      "text/plain": [
       "                 0        1  accuracy  macro avg  weighted avg\n",
       "precision     0.89     0.45      0.73       0.67          0.79\n",
       "recall        0.74     0.70      0.73       0.72          0.73\n",
       "f1-score      0.81     0.55      0.73       0.68          0.75\n",
       "support    9460.00  2838.00      0.73   12298.00      12298.00"
      ]
     },
     "execution_count": 213,
     "metadata": {},
     "output_type": "execute_result"
    }
   ],
   "source": [
    "y_pred = model.predict((X_test_seq, X_test_time_s)).ravel()\n",
    "fpr, tpr, thresholds = roc_curve(y_test, y_pred)\n",
    "\n",
    "idx = np.argmax(tpr - fpr)\n",
    "best_thresh = thresholds[idx]\n",
    "\n",
    "plt.figure()\n",
    "plt.scatter(fpr[idx], tpr[idx], marker=\"o\", color=\"red\", label=\"Best\")\n",
    "plt.plot(fpr, tpr, label='ROC curve (area = %0.2f)' % roc_auc_score(y_test, y_pred).round(3))\n",
    "plt.plot([0, 1], [0, 1], 'k--')\n",
    "plt.xlim([0.0, 1.0])\n",
    "plt.ylim([0.0, 1.05])\n",
    "plt.xlabel('False Positive Rate')\n",
    "plt.ylabel('True Positive Rate')\n",
    "plt.title('ROC Curve for Test Data. Keras со слоем LSTM')\n",
    "plt.legend(loc=\"lower right\")\n",
    "plt.show()\n",
    "\n",
    "print('roc auc score', roc_auc_score(y_test, y_pred).round(3))\n",
    "print('best threshold', best_thresh.round(3))\n",
    "pd.DataFrame(classification_report(y_test, y_pred>(best_thresh), output_dict=True)).round(2)"
   ]
  },
  {
   "cell_type": "code",
   "execution_count": null,
   "metadata": {},
   "outputs": [],
   "source": [
    "\n",
    "# scaler = MinMaxScaler(feature_range=(0, 1))\n",
    "\n",
    "# features_to_scale = ['total', 'monetary', 'recency', 'frequency', 'month', 'day_of_week']\n",
    "# scaled_names = [f'{col}_scaled' for col in features_to_scale]\n",
    "# data_grouped_seq[scaled_names] = scaler.fit_transform(data_grouped_seq[features_to_scale])\n",
    "\n",
    "# features_seq = (data_grouped_seq.groupby(['client_id', 'date'])[scaled_names]\n",
    "#                   .agg(list).add_suffix('_seq').reset_index())"
   ]
  },
  {
   "cell_type": "markdown",
   "metadata": {},
   "source": [
    "### Статичная модель"
   ]
  },
  {
   "cell_type": "code",
   "execution_count": null,
   "metadata": {},
   "outputs": [
    {
     "data": {
      "text/html": [
       "<div>\n",
       "<style scoped>\n",
       "    .dataframe tbody tr th:only-of-type {\n",
       "        vertical-align: middle;\n",
       "    }\n",
       "\n",
       "    .dataframe tbody tr th {\n",
       "        vertical-align: top;\n",
       "    }\n",
       "\n",
       "    .dataframe thead th {\n",
       "        text-align: right;\n",
       "    }\n",
       "</style>\n",
       "<table border=\"1\" class=\"dataframe\">\n",
       "  <thead>\n",
       "    <tr style=\"text-align: right;\">\n",
       "      <th></th>\n",
       "      <th>client_id</th>\n",
       "      <th>store_category_id</th>\n",
       "      <th>days_since_first_purchase</th>\n",
       "      <th>days_since_last_purchase</th>\n",
       "      <th>days_between_purchases_min</th>\n",
       "      <th>days_between_purchases_mean</th>\n",
       "      <th>days_between_purchases_max</th>\n",
       "      <th>total_products_bought</th>\n",
       "      <th>total_purchases</th>\n",
       "      <th>average_purchase_price</th>\n",
       "      <th>max_purchase_price</th>\n",
       "      <th>min_purchase_price</th>\n",
       "      <th>total_spent</th>\n",
       "      <th>preferred_day_of_week</th>\n",
       "      <th>preferred_week_of_year</th>\n",
       "      <th>preferred_week_of_month</th>\n",
       "      <th>most_common_message_id</th>\n",
       "      <th>target</th>\n",
       "    </tr>\n",
       "  </thead>\n",
       "  <tbody>\n",
       "    <tr>\n",
       "      <th>0</th>\n",
       "      <td>1515915625440099873</td>\n",
       "      <td>2</td>\n",
       "      <td>72</td>\n",
       "      <td>48</td>\n",
       "      <td>24</td>\n",
       "      <td>24.000000</td>\n",
       "      <td>24.0</td>\n",
       "      <td>2</td>\n",
       "      <td>2</td>\n",
       "      <td>16608.000000</td>\n",
       "      <td>31998.0</td>\n",
       "      <td>1218.0</td>\n",
       "      <td>33216.0</td>\n",
       "      <td>2</td>\n",
       "      <td>28</td>\n",
       "      <td>2.0</td>\n",
       "      <td>0</td>\n",
       "      <td>0</td>\n",
       "    </tr>\n",
       "    <tr>\n",
       "      <th>1</th>\n",
       "      <td>1515915625440939402</td>\n",
       "      <td>2</td>\n",
       "      <td>239</td>\n",
       "      <td>239</td>\n",
       "      <td>-999</td>\n",
       "      <td>-999.000000</td>\n",
       "      <td>-999.0</td>\n",
       "      <td>1</td>\n",
       "      <td>1</td>\n",
       "      <td>75998.000000</td>\n",
       "      <td>75998.0</td>\n",
       "      <td>75998.0</td>\n",
       "      <td>75998.0</td>\n",
       "      <td>0</td>\n",
       "      <td>5</td>\n",
       "      <td>5.0</td>\n",
       "      <td>2</td>\n",
       "      <td>0</td>\n",
       "    </tr>\n",
       "    <tr>\n",
       "      <th>2</th>\n",
       "      <td>1515915625440944408</td>\n",
       "      <td>2</td>\n",
       "      <td>209</td>\n",
       "      <td>97</td>\n",
       "      <td>112</td>\n",
       "      <td>55.500000</td>\n",
       "      <td>61.0</td>\n",
       "      <td>3</td>\n",
       "      <td>3</td>\n",
       "      <td>27059.333333</td>\n",
       "      <td>73998.0</td>\n",
       "      <td>882.0</td>\n",
       "      <td>81178.0</td>\n",
       "      <td>2</td>\n",
       "      <td>9</td>\n",
       "      <td>1.0</td>\n",
       "      <td>3</td>\n",
       "      <td>0</td>\n",
       "    </tr>\n",
       "    <tr>\n",
       "      <th>3</th>\n",
       "      <td>1515915625440947454</td>\n",
       "      <td>2</td>\n",
       "      <td>323</td>\n",
       "      <td>275</td>\n",
       "      <td>47</td>\n",
       "      <td>15.666667</td>\n",
       "      <td>47.0</td>\n",
       "      <td>4</td>\n",
       "      <td>2</td>\n",
       "      <td>1121.500000</td>\n",
       "      <td>3998.0</td>\n",
       "      <td>2.0</td>\n",
       "      <td>4486.0</td>\n",
       "      <td>5</td>\n",
       "      <td>44</td>\n",
       "      <td>1.0</td>\n",
       "      <td>6</td>\n",
       "      <td>0</td>\n",
       "    </tr>\n",
       "    <tr>\n",
       "      <th>4</th>\n",
       "      <td>1515915625440952940</td>\n",
       "      <td>2</td>\n",
       "      <td>319</td>\n",
       "      <td>319</td>\n",
       "      <td>-999</td>\n",
       "      <td>-999.000000</td>\n",
       "      <td>-999.0</td>\n",
       "      <td>1</td>\n",
       "      <td>1</td>\n",
       "      <td>479.000000</td>\n",
       "      <td>479.0</td>\n",
       "      <td>479.0</td>\n",
       "      <td>479.0</td>\n",
       "      <td>4</td>\n",
       "      <td>45</td>\n",
       "      <td>2.0</td>\n",
       "      <td>8</td>\n",
       "      <td>0</td>\n",
       "    </tr>\n",
       "    <tr>\n",
       "      <th>...</th>\n",
       "      <td>...</td>\n",
       "      <td>...</td>\n",
       "      <td>...</td>\n",
       "      <td>...</td>\n",
       "      <td>...</td>\n",
       "      <td>...</td>\n",
       "      <td>...</td>\n",
       "      <td>...</td>\n",
       "      <td>...</td>\n",
       "      <td>...</td>\n",
       "      <td>...</td>\n",
       "      <td>...</td>\n",
       "      <td>...</td>\n",
       "      <td>...</td>\n",
       "      <td>...</td>\n",
       "      <td>...</td>\n",
       "      <td>...</td>\n",
       "      <td>...</td>\n",
       "    </tr>\n",
       "    <tr>\n",
       "      <th>44673</th>\n",
       "      <td>1515915625996380624</td>\n",
       "      <td>3</td>\n",
       "      <td>27</td>\n",
       "      <td>27</td>\n",
       "      <td>0</td>\n",
       "      <td>0.000000</td>\n",
       "      <td>0.0</td>\n",
       "      <td>6</td>\n",
       "      <td>1</td>\n",
       "      <td>11708.500000</td>\n",
       "      <td>33732.0</td>\n",
       "      <td>4040.0</td>\n",
       "      <td>70251.0</td>\n",
       "      <td>2</td>\n",
       "      <td>35</td>\n",
       "      <td>5.0</td>\n",
       "      <td>46689</td>\n",
       "      <td>0</td>\n",
       "    </tr>\n",
       "    <tr>\n",
       "      <th>44674</th>\n",
       "      <td>1515915625997511191</td>\n",
       "      <td>3</td>\n",
       "      <td>39</td>\n",
       "      <td>39</td>\n",
       "      <td>-999</td>\n",
       "      <td>-999.000000</td>\n",
       "      <td>-999.0</td>\n",
       "      <td>1</td>\n",
       "      <td>1</td>\n",
       "      <td>15043.000000</td>\n",
       "      <td>15043.0</td>\n",
       "      <td>15043.0</td>\n",
       "      <td>15043.0</td>\n",
       "      <td>4</td>\n",
       "      <td>33</td>\n",
       "      <td>3.0</td>\n",
       "      <td>46698</td>\n",
       "      <td>0</td>\n",
       "    </tr>\n",
       "    <tr>\n",
       "      <th>44675</th>\n",
       "      <td>1515915625997770678</td>\n",
       "      <td>3</td>\n",
       "      <td>39</td>\n",
       "      <td>39</td>\n",
       "      <td>0</td>\n",
       "      <td>0.000000</td>\n",
       "      <td>0.0</td>\n",
       "      <td>5</td>\n",
       "      <td>1</td>\n",
       "      <td>20835.400000</td>\n",
       "      <td>47549.0</td>\n",
       "      <td>1909.0</td>\n",
       "      <td>104177.0</td>\n",
       "      <td>4</td>\n",
       "      <td>33</td>\n",
       "      <td>3.0</td>\n",
       "      <td>46699</td>\n",
       "      <td>0</td>\n",
       "    </tr>\n",
       "    <tr>\n",
       "      <th>44676</th>\n",
       "      <td>1515915626005014483</td>\n",
       "      <td>3</td>\n",
       "      <td>13</td>\n",
       "      <td>13</td>\n",
       "      <td>-999</td>\n",
       "      <td>-999.000000</td>\n",
       "      <td>-999.0</td>\n",
       "      <td>1</td>\n",
       "      <td>1</td>\n",
       "      <td>7534.000000</td>\n",
       "      <td>7534.0</td>\n",
       "      <td>7534.0</td>\n",
       "      <td>7534.0</td>\n",
       "      <td>2</td>\n",
       "      <td>37</td>\n",
       "      <td>2.0</td>\n",
       "      <td>45265</td>\n",
       "      <td>0</td>\n",
       "    </tr>\n",
       "    <tr>\n",
       "      <th>44677</th>\n",
       "      <td>1515915626012131867</td>\n",
       "      <td>3</td>\n",
       "      <td>14</td>\n",
       "      <td>14</td>\n",
       "      <td>-999</td>\n",
       "      <td>-999.000000</td>\n",
       "      <td>-999.0</td>\n",
       "      <td>1</td>\n",
       "      <td>1</td>\n",
       "      <td>25834.000000</td>\n",
       "      <td>25834.0</td>\n",
       "      <td>25834.0</td>\n",
       "      <td>25834.0</td>\n",
       "      <td>1</td>\n",
       "      <td>37</td>\n",
       "      <td>2.0</td>\n",
       "      <td>43719</td>\n",
       "      <td>0</td>\n",
       "    </tr>\n",
       "  </tbody>\n",
       "</table>\n",
       "<p>44678 rows × 18 columns</p>\n",
       "</div>"
      ],
      "text/plain": [
       "                 client_id  store_category_id  days_since_first_purchase  \\\n",
       "0      1515915625440099873                  2                         72   \n",
       "1      1515915625440939402                  2                        239   \n",
       "2      1515915625440944408                  2                        209   \n",
       "3      1515915625440947454                  2                        323   \n",
       "4      1515915625440952940                  2                        319   \n",
       "...                    ...                ...                        ...   \n",
       "44673  1515915625996380624                  3                         27   \n",
       "44674  1515915625997511191                  3                         39   \n",
       "44675  1515915625997770678                  3                         39   \n",
       "44676  1515915626005014483                  3                         13   \n",
       "44677  1515915626012131867                  3                         14   \n",
       "\n",
       "       days_since_last_purchase  days_between_purchases_min  \\\n",
       "0                            48                          24   \n",
       "1                           239                        -999   \n",
       "2                            97                         112   \n",
       "3                           275                          47   \n",
       "4                           319                        -999   \n",
       "...                         ...                         ...   \n",
       "44673                        27                           0   \n",
       "44674                        39                        -999   \n",
       "44675                        39                           0   \n",
       "44676                        13                        -999   \n",
       "44677                        14                        -999   \n",
       "\n",
       "       days_between_purchases_mean  days_between_purchases_max  \\\n",
       "0                        24.000000                        24.0   \n",
       "1                      -999.000000                      -999.0   \n",
       "2                        55.500000                        61.0   \n",
       "3                        15.666667                        47.0   \n",
       "4                      -999.000000                      -999.0   \n",
       "...                            ...                         ...   \n",
       "44673                     0.000000                         0.0   \n",
       "44674                  -999.000000                      -999.0   \n",
       "44675                     0.000000                         0.0   \n",
       "44676                  -999.000000                      -999.0   \n",
       "44677                  -999.000000                      -999.0   \n",
       "\n",
       "       total_products_bought  total_purchases  average_purchase_price  \\\n",
       "0                          2                2            16608.000000   \n",
       "1                          1                1            75998.000000   \n",
       "2                          3                3            27059.333333   \n",
       "3                          4                2             1121.500000   \n",
       "4                          1                1              479.000000   \n",
       "...                      ...              ...                     ...   \n",
       "44673                      6                1            11708.500000   \n",
       "44674                      1                1            15043.000000   \n",
       "44675                      5                1            20835.400000   \n",
       "44676                      1                1             7534.000000   \n",
       "44677                      1                1            25834.000000   \n",
       "\n",
       "       max_purchase_price  min_purchase_price  total_spent  \\\n",
       "0                 31998.0              1218.0      33216.0   \n",
       "1                 75998.0             75998.0      75998.0   \n",
       "2                 73998.0               882.0      81178.0   \n",
       "3                  3998.0                 2.0       4486.0   \n",
       "4                   479.0               479.0        479.0   \n",
       "...                   ...                 ...          ...   \n",
       "44673             33732.0              4040.0      70251.0   \n",
       "44674             15043.0             15043.0      15043.0   \n",
       "44675             47549.0              1909.0     104177.0   \n",
       "44676              7534.0              7534.0       7534.0   \n",
       "44677             25834.0             25834.0      25834.0   \n",
       "\n",
       "       preferred_day_of_week  preferred_week_of_year  preferred_week_of_month  \\\n",
       "0                          2                      28                      2.0   \n",
       "1                          0                       5                      5.0   \n",
       "2                          2                       9                      1.0   \n",
       "3                          5                      44                      1.0   \n",
       "4                          4                      45                      2.0   \n",
       "...                      ...                     ...                      ...   \n",
       "44673                      2                      35                      5.0   \n",
       "44674                      4                      33                      3.0   \n",
       "44675                      4                      33                      3.0   \n",
       "44676                      2                      37                      2.0   \n",
       "44677                      1                      37                      2.0   \n",
       "\n",
       "       most_common_message_id  target  \n",
       "0                           0       0  \n",
       "1                           2       0  \n",
       "2                           3       0  \n",
       "3                           6       0  \n",
       "4                           8       0  \n",
       "...                       ...     ...  \n",
       "44673                   46689       0  \n",
       "44674                   46698       0  \n",
       "44675                   46699       0  \n",
       "44676                   45265       0  \n",
       "44677                   43719       0  \n",
       "\n",
       "[44678 rows x 18 columns]"
      ]
     },
     "execution_count": 132,
     "metadata": {},
     "output_type": "execute_result"
    }
   ],
   "source": [
    "# Сортируем данные по дате\n",
    "combined_data = combined_data.sort_values('date')\n",
    "\n",
    "# Ищем последние 30 дней в данных о покупках\n",
    "data_last_30_days = combined_data[combined_data['date'] >= combined_data['date'].max() - pd.DateOffset(days=30)]\n",
    "\n",
    "# Исключаем последние 30 дней из других данных\n",
    "data_wo_last_30_days = combined_data[combined_data['date'] < combined_data['date'].max() - pd.DateOffset(days=30)]\n",
    "\n",
    "# Создание основных признаков\n",
    "grouped_data_static = data_wo_last_30_days.groupby(['client_id', 'store_category_id'])\n",
    "current_date = data_wo_last_30_days['date'].max()\n",
    "features_static = grouped_data_static.agg(\n",
    "    days_since_first_purchase=('date', lambda x: (current_date - x.min()).days),\n",
    "    days_since_last_purchase=('date', lambda x: (current_date - x.max()).days),\n",
    "    days_between_purchases_min=('date', lambda x: (x.max() - x.min()).days if len(x) > 1 else -999),\n",
    "    days_between_purchases_mean=('date', lambda x: x.diff().dt.days.sum() / (len(x) - 1) if len(x) > 1 else -999),\n",
    "    days_between_purchases_max=('date', lambda x: x.diff().dt.days.max() if len(x) > 1 else -999),\n",
    "    total_products_bought=('quantity', 'sum'),\n",
    "    total_purchases=('date', 'nunique'),\n",
    "    average_purchase_price=('price', 'mean'),\n",
    "    max_purchase_price=('price', 'max'),\n",
    "    min_purchase_price=('price', 'min'),\n",
    "    total_spent=('price', 'sum'),\n",
    "    preferred_day_of_week=('date', lambda x: x.dt.dayofweek.mode()[0]),\n",
    "    preferred_week_of_year=('date', lambda x: x.dt.isocalendar().week.mode()[0]),\n",
    "    preferred_week_of_month=('date', lambda x: np.ceil(x.dt.day / 7).mode()[0]),                        \n",
    "    most_common_message_id=('message_id_encoded', lambda x: x.value_counts().idxmax())).reset_index()\n",
    "\n",
    "# Присвоение таргета\n",
    "target_client_ids = data_last_30_days['client_id'].unique()\n",
    "features_static['target'] = features_static['client_id'].isin(target_client_ids).astype(int)\n",
    "\n",
    "# Вывод полученных признаков\n",
    "features_static"
   ]
  },
  {
   "cell_type": "code",
   "execution_count": 218,
   "metadata": {},
   "outputs": [],
   "source": [
    "# Отделяем целевую переменную от признаков\n",
    "X = features_static.drop(['client_id', 'target'], axis=1)\n",
    "y = features_static['target']\n",
    "\n",
    "# Переведем в int\n",
    "np.int = int\n",
    "y = y.astype(int)\n",
    "\n",
    "# Разбиваем на обучающую и тестовую выборки\n",
    "X_train_static, X_test_static, y_train_static, y_test_static = train_test_split(X, y, test_size=0.2, random_state=42, stratify=y)"
   ]
  },
  {
   "cell_type": "code",
   "execution_count": 219,
   "metadata": {},
   "outputs": [
    {
     "data": {
      "text/html": [
       "<style type=\"text/css\">\n",
       "</style>\n",
       "<table id=\"T_390bd\">\n",
       "  <caption>Распределение классов</caption>\n",
       "  <thead>\n",
       "    <tr>\n",
       "      <th class=\"blank level0\" >&nbsp;</th>\n",
       "      <th id=\"T_390bd_level0_col0\" class=\"col_heading level0 col0\" >count</th>\n",
       "      <th id=\"T_390bd_level0_col1\" class=\"col_heading level0 col1\" >percentage</th>\n",
       "    </tr>\n",
       "    <tr>\n",
       "      <th class=\"index_name level0\" >target</th>\n",
       "      <th class=\"blank col0\" >&nbsp;</th>\n",
       "      <th class=\"blank col1\" >&nbsp;</th>\n",
       "    </tr>\n",
       "  </thead>\n",
       "  <tbody>\n",
       "    <tr>\n",
       "      <th id=\"T_390bd_level0_row0\" class=\"row_heading level0 row0\" >0</th>\n",
       "      <td id=\"T_390bd_row0_col0\" class=\"data row0 col0\" >44023</td>\n",
       "      <td id=\"T_390bd_row0_col1\" class=\"data row0 col1\" >98.53%</td>\n",
       "    </tr>\n",
       "    <tr>\n",
       "      <th id=\"T_390bd_level0_row1\" class=\"row_heading level0 row1\" >1</th>\n",
       "      <td id=\"T_390bd_row1_col0\" class=\"data row1 col0\" >655</td>\n",
       "      <td id=\"T_390bd_row1_col1\" class=\"data row1 col1\" >1.47%</td>\n",
       "    </tr>\n",
       "  </tbody>\n",
       "</table>\n"
      ],
      "text/plain": [
       "<pandas.io.formats.style.Styler at 0x1aea909e530>"
      ]
     },
     "metadata": {},
     "output_type": "display_data"
    },
    {
     "data": {
      "text/plain": [
       "((44678, 16), (44678,))"
      ]
     },
     "execution_count": 219,
     "metadata": {},
     "output_type": "execute_result"
    }
   ],
   "source": [
    "display(features_static['target'].value_counts().to_frame().assign(percentage=lambda x: x/x.sum()).style.format({'percentage':'{:.2%}', 'target':'{:.0f}'}).set_caption('Распределение классов'))\n",
    "X.shape, y.shape"
   ]
  },
  {
   "cell_type": "code",
   "execution_count": 220,
   "metadata": {},
   "outputs": [
    {
     "data": {
      "text/plain": [
       "<catboost.core.CatBoostClassifier at 0x1aecdfbd420>"
      ]
     },
     "execution_count": 220,
     "metadata": {},
     "output_type": "execute_result"
    }
   ],
   "source": [
    "model_static = CatBoostClassifier(verbose=False, **best_params, random_seed=42)  # best_params - параметры из предыдущих шагов\n",
    "model_static.fit(X_train_static, y_train_static)"
   ]
  },
  {
   "cell_type": "code",
   "execution_count": 224,
   "metadata": {},
   "outputs": [
    {
     "data": {
      "image/png": "[encoded data removed]",
      "text/plain": [
       "<Figure size 640x480 with 1 Axes>"
      ]
     },
     "metadata": {},
     "output_type": "display_data"
    },
    {
     "name": "stdout",
     "output_type": "stream",
     "text": [
      "best threshold 0.006\n",
      "ROC-AUC на тестовой выборке: 0.7373542964398264\n",
      "                 0       1  accuracy  macro avg  weighted avg\n",
      "precision     0.99    0.04      0.78       0.52          0.98\n",
      "recall        0.78    0.60      0.78       0.69          0.78\n",
      "f1-score      0.88    0.07      0.78       0.47          0.86\n",
      "support    8805.00  131.00      0.78    8936.00       8936.00\n"
     ]
    }
   ],
   "source": [
    "# Предсказать вероятности для тестовой выборки\n",
    "y_pred_static = model_static.predict_proba(X_test_static)[:, 1]\n",
    "# Построение ROC-AUC кривой для тестового набора данных\n",
    "fpr, tpr, thresholds = roc_curve(y_test_static, y_pred_static)\n",
    "idx = np.argmax(tpr - fpr)\n",
    "best_thresh = thresholds[idx]\n",
    "# Вычислить ROC-AUC\n",
    "roc_auc = roc_auc_score(y_test_static, y_pred_static)\n",
    "plt.figure()\n",
    "plt.scatter(fpr[idx], tpr[idx], marker=\"o\", color=\"red\", label=\"Best\")\n",
    "plt.plot(fpr, tpr, label='ROC curve (area = %0.2f)' % roc_auc)\n",
    "plt.plot([0, 1], [0, 1], 'k--')\n",
    "plt.xlim([0.0, 1.0])\n",
    "plt.ylim([0.0, 1.05])\n",
    "plt.xlabel('False Positive Rate')\n",
    "plt.ylabel('True Positive Rate')\n",
    "plt.title('ROC Curve Test Data. Статичная модель.')\n",
    "plt.legend(loc=\"lower right\")\n",
    "plt.show()\n",
    "\n",
    "print('best threshold', best_thresh.round(3))\n",
    "print(\"ROC-AUC на тестовой выборке:\", roc_auc)\n",
    "\n",
    "report = classification_report(y_test_static, y_pred_static > best_thresh, output_dict=True)\n",
    "df_report = pd.DataFrame(report).round(2)\n",
    "print(df_report)"
   ]
  },
  {
   "cell_type": "code",
   "execution_count": 222,
   "metadata": {},
   "outputs": [
    {
     "name": "stdout",
     "output_type": "stream",
     "text": [
      "Важность признаков:\n",
      "                        Feature  Importance\n",
      "15       most_common_message_id   15.962648\n",
      "11                  total_spent    9.643462\n",
      "10           min_purchase_price    9.217341\n",
      "9            max_purchase_price    8.288608\n",
      "1     days_since_first_purchase    8.245951\n",
      "12        preferred_day_of_week    7.813354\n",
      "13       preferred_week_of_year    7.488330\n",
      "2      days_since_last_purchase    6.934591\n",
      "8        average_purchase_price    6.758663\n",
      "14      preferred_week_of_month    6.441613\n",
      "0             store_category_id    3.667668\n",
      "6         total_products_bought    3.284950\n",
      "7               total_purchases    1.944269\n",
      "4   days_between_purchases_mean    1.881270\n",
      "5    days_between_purchases_max    1.255869\n",
      "3    days_between_purchases_min    1.171412\n"
     ]
    }
   ],
   "source": [
    "# Важность признаков\n",
    "feature_importance = model_static.feature_importances_\n",
    "feature_names = X.columns\n",
    "feature_importance_df = pd.DataFrame({'Feature': feature_names, 'Importance': feature_importance})\n",
    "feature_importance_df = feature_importance_df.sort_values(by='Importance', ascending=False)\n",
    "print('Важность признаков:')\n",
    "print(feature_importance_df)"
   ]
  },
  {
   "cell_type": "markdown",
   "metadata": {},
   "source": [
    "### Выводы:\n",
    "Исследование показало, что модель, основанная на keras с LSTM, демонстрирует высокий уровень точности и полноты, особенно в предсказании повторных покупок. Её ROC-AUC составил 0.804, а precision и recall для класса 1 равны 0.4 и 0.8 соответственно. Это говорит о хорошей способности модели выявлять и правильно классифицировать случаи повторных покупок.\n",
    "\n",
    "В сравнении с моделью временного ряда и статичной моделью, модель с использованием keras и LSTM значительно превосходит по показателям качества классификации. Однако все модели показали определенные успехи в предсказании поведения клиентов.\n",
    "\n",
    "Рекомендации по дальнейшему развитию проекта включают улучшение качества моделей путем дополнительной тонкой настройки гиперпараметров, использование более широкого спектра временных признаков для повышения точности прогнозов, а также активное использование полученных данных для персонализации маркетинговых стратегий и стимулирования возвращения клиентов.\n",
    "\n",
    "Проект предоставляет нам ценные инсайты о поведении клиентов и дает нам основание для эффективных действий по увеличению числа возвратных клиентов и оптимизации маркетинговых стратегий."
   ]
  },
  {
   "cell_type": "markdown",
   "metadata": {},
   "source": [
    "Стоит учесть, что когда модель предсказывает с высокой уверенностью, что определенные клиенты совершат повторные покупки (класс 1) и при этом она довольно точна в своих прогнозах, то в данном случае стимулирование этих клиентов может быть не столь эффективным, так как они, скорее всего, все равно сделают покупку.\n",
    "\n",
    "В этом случае стоит рассмотреть некоторые альтернативные стратегии, например:\n",
    "\n",
    "- Сосредоточиться на привлечении и удержании клиентов, для которых модель предсказывает менее высокую вероятность повторной покупки (класс 0).\n",
    "- Разработать программы лояльности или персонализированные предложения, которые будут нацелены на клиентов с низкой вероятностью повторной покупки.\n",
    "- Важно сбалансировать стратегии стимулирования клиентов и учитывать не только вероятности, предсказанные моделью, но и другие факторы, такие как ценность клиента."
   ]
  }
 ],
 "metadata": {
  "kernelspec": {
   "display_name": "Python 3",
   "language": "python",
   "name": "python3"
  },
  "language_info": {
   "codemirror_mode": {
    "name": "ipython",
    "version": 3
   },
   "file_extension": ".py",
   "mimetype": "text/x-python",
   "name": "python",
   "nbconvert_exporter": "python",
   "pygments_lexer": "ipython3",
   "version": "3.10.9"
  }
 },
 "nbformat": 4,
 "nbformat_minor": 2
}
